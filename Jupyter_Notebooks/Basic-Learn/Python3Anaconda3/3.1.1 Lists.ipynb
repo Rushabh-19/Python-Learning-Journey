{
 "cells": [
  {
   "cell_type": "markdown",
   "id": "08899a83",
   "metadata": {},
   "source": [
    "<center><h1>Lists</h1></center>\n",
    "<li>List are Mutable</li>\n",
    "<li>can hold different types of values</li>\n",
    "<li>enclosed in square brackets</li>"
   ]
  },
  {
   "cell_type": "code",
   "execution_count": 1,
   "id": "529937c6",
   "metadata": {},
   "outputs": [
    {
     "data": {
      "text/plain": [
       "['__add__',\n",
       " '__class__',\n",
       " '__class_getitem__',\n",
       " '__contains__',\n",
       " '__delattr__',\n",
       " '__delitem__',\n",
       " '__dir__',\n",
       " '__doc__',\n",
       " '__eq__',\n",
       " '__format__',\n",
       " '__ge__',\n",
       " '__getattribute__',\n",
       " '__getitem__',\n",
       " '__gt__',\n",
       " '__hash__',\n",
       " '__iadd__',\n",
       " '__imul__',\n",
       " '__init__',\n",
       " '__init_subclass__',\n",
       " '__iter__',\n",
       " '__le__',\n",
       " '__len__',\n",
       " '__lt__',\n",
       " '__mul__',\n",
       " '__ne__',\n",
       " '__new__',\n",
       " '__reduce__',\n",
       " '__reduce_ex__',\n",
       " '__repr__',\n",
       " '__reversed__',\n",
       " '__rmul__',\n",
       " '__setattr__',\n",
       " '__setitem__',\n",
       " '__sizeof__',\n",
       " '__str__',\n",
       " '__subclasshook__',\n",
       " 'append',\n",
       " 'clear',\n",
       " 'copy',\n",
       " 'count',\n",
       " 'extend',\n",
       " 'index',\n",
       " 'insert',\n",
       " 'pop',\n",
       " 'remove',\n",
       " 'reverse',\n",
       " 'sort']"
      ]
     },
     "execution_count": 1,
     "metadata": {},
     "output_type": "execute_result"
    }
   ],
   "source": [
    "dir(list)"
   ]
  },
  {
   "cell_type": "code",
   "execution_count": 2,
   "id": "a74b2d42",
   "metadata": {},
   "outputs": [
    {
     "name": "stdout",
     "output_type": "stream",
     "text": [
      "[]\n"
     ]
    },
    {
     "data": {
      "text/plain": [
       "[]"
      ]
     },
     "execution_count": 2,
     "metadata": {},
     "output_type": "execute_result"
    }
   ],
   "source": [
    "myList = []\n",
    "print(myList)\n",
    "myList"
   ]
  },
  {
   "cell_type": "code",
   "execution_count": 3,
   "id": "641ab8fd",
   "metadata": {},
   "outputs": [
    {
     "data": {
      "text/plain": [
       "[]"
      ]
     },
     "execution_count": 3,
     "metadata": {},
     "output_type": "execute_result"
    }
   ],
   "source": [
    "emptyList = list()\n",
    "emptyList"
   ]
  },
  {
   "cell_type": "code",
   "execution_count": 4,
   "id": "9c615056",
   "metadata": {},
   "outputs": [
    {
     "data": {
      "text/plain": [
       "['Badminton', 'Golf', 'Basketball', 'Tennis']"
      ]
     },
     "execution_count": 4,
     "metadata": {},
     "output_type": "execute_result"
    }
   ],
   "source": [
    "games_list = ['Badminton', 'Golf', 'Basketball', 'Tennis']\n",
    "games_list"
   ]
  },
  {
   "cell_type": "code",
   "execution_count": 5,
   "id": "8cf2b87b",
   "metadata": {},
   "outputs": [
    {
     "data": {
      "text/plain": [
       "list"
      ]
     },
     "execution_count": 5,
     "metadata": {},
     "output_type": "execute_result"
    }
   ],
   "source": [
    "type(games_list)"
   ]
  },
  {
   "cell_type": "code",
   "execution_count": 6,
   "id": "a3c415af",
   "metadata": {},
   "outputs": [
    {
     "data": {
      "text/plain": [
       "2"
      ]
     },
     "execution_count": 6,
     "metadata": {},
     "output_type": "execute_result"
    }
   ],
   "source": [
    "games_list.index('Basketball')"
   ]
  },
  {
   "cell_type": "code",
   "execution_count": 7,
   "id": "fe6842f5",
   "metadata": {
    "scrolled": true
   },
   "outputs": [
    {
     "data": {
      "text/plain": [
       "'Badminton'"
      ]
     },
     "execution_count": 7,
     "metadata": {},
     "output_type": "execute_result"
    }
   ],
   "source": [
    "games_list[0]"
   ]
  },
  {
   "cell_type": "code",
   "execution_count": 8,
   "id": "2b12b010",
   "metadata": {},
   "outputs": [
    {
     "data": {
      "text/plain": [
       "'Tennis'"
      ]
     },
     "execution_count": 8,
     "metadata": {},
     "output_type": "execute_result"
    }
   ],
   "source": [
    "games_list[3]"
   ]
  },
  {
   "cell_type": "code",
   "execution_count": 9,
   "id": "3e665d85",
   "metadata": {},
   "outputs": [
    {
     "ename": "IndexError",
     "evalue": "list index out of range",
     "output_type": "error",
     "traceback": [
      "\u001b[1;31m---------------------------------------------------------------------------\u001b[0m",
      "\u001b[1;31mIndexError\u001b[0m                                Traceback (most recent call last)",
      "\u001b[1;32m~\\AppData\\Local\\Temp\\ipykernel_16884\\4051453407.py\u001b[0m in \u001b[0;36m<module>\u001b[1;34m\u001b[0m\n\u001b[1;32m----> 1\u001b[1;33m \u001b[0mgames_list\u001b[0m\u001b[1;33m[\u001b[0m\u001b[1;36m5\u001b[0m\u001b[1;33m]\u001b[0m\u001b[1;33m\u001b[0m\u001b[1;33m\u001b[0m\u001b[0m\n\u001b[0m",
      "\u001b[1;31mIndexError\u001b[0m: list index out of range"
     ]
    }
   ],
   "source": [
    "games_list[5]"
   ]
  },
  {
   "cell_type": "code",
   "execution_count": 10,
   "id": "a9ca99d0",
   "metadata": {},
   "outputs": [
    {
     "data": {
      "text/plain": [
       "['Badminton', 'Golf', 'Basketball', 'Tennis']"
      ]
     },
     "execution_count": 10,
     "metadata": {},
     "output_type": "execute_result"
    }
   ],
   "source": [
    "games_list"
   ]
  },
  {
   "cell_type": "code",
   "execution_count": 11,
   "id": "5e9fe015",
   "metadata": {},
   "outputs": [
    {
     "data": {
      "text/plain": [
       "'Tennis'"
      ]
     },
     "execution_count": 11,
     "metadata": {},
     "output_type": "execute_result"
    }
   ],
   "source": [
    "games_list[-1]"
   ]
  },
  {
   "cell_type": "markdown",
   "id": "665eaf5d",
   "metadata": {},
   "source": [
    "-1 --> last element"
   ]
  },
  {
   "cell_type": "code",
   "execution_count": 12,
   "id": "d60f5645",
   "metadata": {},
   "outputs": [
    {
     "data": {
      "text/plain": [
       "'Basketball'"
      ]
     },
     "execution_count": 12,
     "metadata": {},
     "output_type": "execute_result"
    }
   ],
   "source": [
    "games_list[-2]"
   ]
  },
  {
   "cell_type": "markdown",
   "id": "e30ae822",
   "metadata": {},
   "source": [
    "-2 --> 2nd Last element and then so on..."
   ]
  },
  {
   "cell_type": "code",
   "execution_count": 13,
   "id": "da48f26e",
   "metadata": {},
   "outputs": [
    {
     "data": {
      "text/plain": [
       "'Golf'"
      ]
     },
     "execution_count": 13,
     "metadata": {},
     "output_type": "execute_result"
    }
   ],
   "source": [
    "games_list[-3]"
   ]
  },
  {
   "cell_type": "code",
   "execution_count": 14,
   "id": "5e8e888d",
   "metadata": {},
   "outputs": [
    {
     "data": {
      "text/plain": [
       "'Badminton'"
      ]
     },
     "execution_count": 14,
     "metadata": {},
     "output_type": "execute_result"
    }
   ],
   "source": [
    "games_list[-4]"
   ]
  },
  {
   "cell_type": "code",
   "execution_count": 15,
   "id": "065c5a29",
   "metadata": {},
   "outputs": [
    {
     "ename": "IndexError",
     "evalue": "list index out of range",
     "output_type": "error",
     "traceback": [
      "\u001b[1;31m---------------------------------------------------------------------------\u001b[0m",
      "\u001b[1;31mIndexError\u001b[0m                                Traceback (most recent call last)",
      "\u001b[1;32m~\\AppData\\Local\\Temp\\ipykernel_16884\\3447270642.py\u001b[0m in \u001b[0;36m<module>\u001b[1;34m\u001b[0m\n\u001b[1;32m----> 1\u001b[1;33m \u001b[0mgames_list\u001b[0m\u001b[1;33m[\u001b[0m\u001b[1;33m-\u001b[0m\u001b[1;36m5\u001b[0m\u001b[1;33m]\u001b[0m\u001b[1;33m\u001b[0m\u001b[1;33m\u001b[0m\u001b[0m\n\u001b[0m",
      "\u001b[1;31mIndexError\u001b[0m: list index out of range"
     ]
    }
   ],
   "source": [
    "games_list[-5]"
   ]
  },
  {
   "cell_type": "code",
   "execution_count": 16,
   "id": "39e58297",
   "metadata": {},
   "outputs": [
    {
     "data": {
      "text/plain": [
       "4"
      ]
     },
     "execution_count": 16,
     "metadata": {},
     "output_type": "execute_result"
    }
   ],
   "source": [
    "len(games_list)"
   ]
  },
  {
   "cell_type": "code",
   "execution_count": 17,
   "id": "14643a05",
   "metadata": {},
   "outputs": [
    {
     "data": {
      "text/plain": [
       "['Soccer', 'Golf', 'Basketball', 'Tennis']"
      ]
     },
     "execution_count": 17,
     "metadata": {},
     "output_type": "execute_result"
    }
   ],
   "source": [
    "games_list[0] = 'Soccer'\n",
    "games_list"
   ]
  },
  {
   "cell_type": "code",
   "execution_count": 18,
   "id": "a04919f6",
   "metadata": {},
   "outputs": [
    {
     "data": {
      "text/plain": [
       "['Soccer', 'Golf', 'Basketball', 'Table Tennis']"
      ]
     },
     "execution_count": 18,
     "metadata": {},
     "output_type": "execute_result"
    }
   ],
   "source": [
    "games_list[3] = 'Table Tennis'\n",
    "games_list"
   ]
  },
  {
   "cell_type": "code",
   "execution_count": 19,
   "id": "3a4f6e38",
   "metadata": {},
   "outputs": [
    {
     "ename": "TypeError",
     "evalue": "list expected at most 1 argument, got 4",
     "output_type": "error",
     "traceback": [
      "\u001b[1;31m---------------------------------------------------------------------------\u001b[0m",
      "\u001b[1;31mTypeError\u001b[0m                                 Traceback (most recent call last)",
      "\u001b[1;32m~\\AppData\\Local\\Temp\\ipykernel_16884\\2039246966.py\u001b[0m in \u001b[0;36m<module>\u001b[1;34m\u001b[0m\n\u001b[1;32m----> 1\u001b[1;33m \u001b[0mfruit_lsit\u001b[0m \u001b[1;33m=\u001b[0m \u001b[0mlist\u001b[0m\u001b[1;33m(\u001b[0m\u001b[1;34m'apple'\u001b[0m\u001b[1;33m,\u001b[0m \u001b[1;34m'banana'\u001b[0m\u001b[1;33m,\u001b[0m \u001b[1;34m'mango'\u001b[0m\u001b[1;33m,\u001b[0m \u001b[1;34m'pears'\u001b[0m\u001b[1;33m)\u001b[0m\u001b[1;33m\u001b[0m\u001b[1;33m\u001b[0m\u001b[0m\n\u001b[0m",
      "\u001b[1;31mTypeError\u001b[0m: list expected at most 1 argument, got 4"
     ]
    }
   ],
   "source": [
    "fruit_lsit = list('apple', 'banana', 'mango', 'pears')"
   ]
  },
  {
   "cell_type": "code",
   "execution_count": 20,
   "id": "13d72388",
   "metadata": {},
   "outputs": [],
   "source": [
    "fruit_list = list(('apple', 'banana', 'mango', 'pears'))"
   ]
  },
  {
   "cell_type": "code",
   "execution_count": 21,
   "id": "35b493ca",
   "metadata": {},
   "outputs": [
    {
     "data": {
      "text/plain": [
       "['apple', 'banana', 'mango', 'pears']"
      ]
     },
     "execution_count": 21,
     "metadata": {},
     "output_type": "execute_result"
    }
   ],
   "source": [
    "fruit_list"
   ]
  },
  {
   "cell_type": "code",
   "execution_count": 22,
   "id": "5c920647",
   "metadata": {},
   "outputs": [
    {
     "data": {
      "text/plain": [
       "['apple', 'banana', 'mango', 'pears']"
      ]
     },
     "execution_count": 22,
     "metadata": {},
     "output_type": "execute_result"
    }
   ],
   "source": [
    "fruit_list = [\"apple\", \"banana\", \"mango\", \"pears\"]\n",
    "fruit_list"
   ]
  },
  {
   "cell_type": "code",
   "execution_count": 23,
   "id": "0a14a144",
   "metadata": {},
   "outputs": [],
   "source": [
    "numberList = [1,2,3,4,5,6,7,8,9,10]"
   ]
  },
  {
   "cell_type": "code",
   "execution_count": 24,
   "id": "8a08873c",
   "metadata": {},
   "outputs": [
    {
     "data": {
      "text/plain": [
       "[1, 2, 3, 4, 5, 6, 7, 8, 9, 10]"
      ]
     },
     "execution_count": 24,
     "metadata": {},
     "output_type": "execute_result"
    }
   ],
   "source": [
    "numberList[0::1]"
   ]
  },
  {
   "cell_type": "code",
   "execution_count": 25,
   "id": "a1814d9f",
   "metadata": {},
   "outputs": [
    {
     "data": {
      "text/plain": [
       "[10, 9, 8, 7, 6, 5, 4, 3, 2, 1]"
      ]
     },
     "execution_count": 25,
     "metadata": {},
     "output_type": "execute_result"
    }
   ],
   "source": [
    "numberList[::-1]"
   ]
  },
  {
   "cell_type": "code",
   "execution_count": 26,
   "id": "7c0aae74",
   "metadata": {},
   "outputs": [
    {
     "data": {
      "text/plain": [
       "[1, 3, 5, 7, 9]"
      ]
     },
     "execution_count": 26,
     "metadata": {},
     "output_type": "execute_result"
    }
   ],
   "source": [
    "numberList[0::2] #Odd List"
   ]
  },
  {
   "cell_type": "code",
   "execution_count": 27,
   "id": "a45d9e88",
   "metadata": {},
   "outputs": [
    {
     "data": {
      "text/plain": [
       "[2, 4, 6, 8, 10]"
      ]
     },
     "execution_count": 27,
     "metadata": {},
     "output_type": "execute_result"
    }
   ],
   "source": [
    "numberList[1::2] #Even List"
   ]
  },
  {
   "cell_type": "code",
   "execution_count": 28,
   "id": "06fe00f0",
   "metadata": {},
   "outputs": [
    {
     "data": {
      "text/plain": [
       "[9, 7, 5, 3, 1]"
      ]
     },
     "execution_count": 28,
     "metadata": {},
     "output_type": "execute_result"
    }
   ],
   "source": [
    "numberList[::-1][1::2]"
   ]
  },
  {
   "cell_type": "code",
   "execution_count": 29,
   "id": "e45d27dd",
   "metadata": {},
   "outputs": [
    {
     "data": {
      "text/plain": [
       "[1, 2, 3, 4, 5, 6, 7, 8, 9, 10]"
      ]
     },
     "execution_count": 29,
     "metadata": {},
     "output_type": "execute_result"
    }
   ],
   "source": [
    "numberList"
   ]
  },
  {
   "cell_type": "code",
   "execution_count": 30,
   "id": "49c0aeea",
   "metadata": {},
   "outputs": [],
   "source": [
    "x = numberList.pop()"
   ]
  },
  {
   "cell_type": "code",
   "execution_count": 31,
   "id": "24f1aa7f",
   "metadata": {},
   "outputs": [
    {
     "data": {
      "text/plain": [
       "10"
      ]
     },
     "execution_count": 31,
     "metadata": {},
     "output_type": "execute_result"
    }
   ],
   "source": [
    "x"
   ]
  },
  {
   "cell_type": "code",
   "execution_count": 32,
   "id": "2473dc02",
   "metadata": {},
   "outputs": [
    {
     "data": {
      "text/plain": [
       "[1, 2, 3, 4, 5, 6, 7, 8, 9]"
      ]
     },
     "execution_count": 32,
     "metadata": {},
     "output_type": "execute_result"
    }
   ],
   "source": [
    "numberList"
   ]
  },
  {
   "cell_type": "code",
   "execution_count": 33,
   "id": "61baae62",
   "metadata": {},
   "outputs": [],
   "source": [
    "numberList.append(x)"
   ]
  },
  {
   "cell_type": "code",
   "execution_count": 34,
   "id": "9e6bb6eb",
   "metadata": {},
   "outputs": [
    {
     "data": {
      "text/plain": [
       "[1, 2, 3, 4, 5, 6, 7, 8, 9, 10]"
      ]
     },
     "execution_count": 34,
     "metadata": {},
     "output_type": "execute_result"
    }
   ],
   "source": [
    "numberList"
   ]
  },
  {
   "cell_type": "code",
   "execution_count": 35,
   "id": "f637839a",
   "metadata": {},
   "outputs": [
    {
     "data": {
      "text/plain": [
       "[1, 2, 99, 3, 4, 5, 6, 7, 8, 9, 10]"
      ]
     },
     "execution_count": 35,
     "metadata": {},
     "output_type": "execute_result"
    }
   ],
   "source": [
    "numberList.insert(2,99)\n",
    "numberList"
   ]
  },
  {
   "cell_type": "code",
   "execution_count": 36,
   "id": "dd0308cd",
   "metadata": {},
   "outputs": [
    {
     "data": {
      "text/plain": [
       "[1, 2, 3, 4, 5, 6, 7, 8, 9, 10]"
      ]
     },
     "execution_count": 36,
     "metadata": {},
     "output_type": "execute_result"
    }
   ],
   "source": [
    "numberList.remove(99)\n",
    "numberList"
   ]
  },
  {
   "cell_type": "code",
   "execution_count": 37,
   "id": "2411fe49",
   "metadata": {},
   "outputs": [],
   "source": [
    "list2 = list((11,12,13,14,15))"
   ]
  },
  {
   "cell_type": "code",
   "execution_count": 38,
   "id": "19e3e6eb",
   "metadata": {},
   "outputs": [
    {
     "data": {
      "text/plain": [
       "[1, 2, 3, 4, 5, 6, 7, 8, 9, 10, 11, 12, 13, 14, 15]"
      ]
     },
     "execution_count": 38,
     "metadata": {},
     "output_type": "execute_result"
    }
   ],
   "source": [
    "nL = numberList + list2\n",
    "nL"
   ]
  },
  {
   "cell_type": "code",
   "execution_count": 39,
   "id": "d8a90a74",
   "metadata": {},
   "outputs": [
    {
     "data": {
      "text/plain": [
       "True"
      ]
     },
     "execution_count": 39,
     "metadata": {},
     "output_type": "execute_result"
    }
   ],
   "source": [
    "5 in nL"
   ]
  },
  {
   "cell_type": "code",
   "execution_count": 40,
   "id": "1a71d361",
   "metadata": {},
   "outputs": [
    {
     "data": {
      "text/plain": [
       "True"
      ]
     },
     "execution_count": 40,
     "metadata": {},
     "output_type": "execute_result"
    }
   ],
   "source": [
    "11 in nL"
   ]
  },
  {
   "cell_type": "code",
   "execution_count": 41,
   "id": "29050ce8",
   "metadata": {},
   "outputs": [
    {
     "data": {
      "text/plain": [
       "False"
      ]
     },
     "execution_count": 41,
     "metadata": {},
     "output_type": "execute_result"
    }
   ],
   "source": [
    "22 in nL"
   ]
  },
  {
   "cell_type": "code",
   "execution_count": 42,
   "id": "9ec854cf",
   "metadata": {},
   "outputs": [
    {
     "data": {
      "text/plain": [
       "True"
      ]
     },
     "execution_count": 42,
     "metadata": {},
     "output_type": "execute_result"
    }
   ],
   "source": [
    "22 not in nL"
   ]
  },
  {
   "cell_type": "code",
   "execution_count": 43,
   "id": "68f72291",
   "metadata": {},
   "outputs": [],
   "source": [
    "nL.clear()"
   ]
  },
  {
   "cell_type": "code",
   "execution_count": 44,
   "id": "95e44236",
   "metadata": {},
   "outputs": [
    {
     "data": {
      "text/plain": [
       "[]"
      ]
     },
     "execution_count": 44,
     "metadata": {},
     "output_type": "execute_result"
    }
   ],
   "source": [
    "nL"
   ]
  },
  {
   "cell_type": "code",
   "execution_count": 45,
   "id": "5f83d35c",
   "metadata": {},
   "outputs": [],
   "source": [
    "del nL"
   ]
  },
  {
   "cell_type": "code",
   "execution_count": 46,
   "id": "e5b0e45a",
   "metadata": {},
   "outputs": [
    {
     "ename": "NameError",
     "evalue": "name 'nL' is not defined",
     "output_type": "error",
     "traceback": [
      "\u001b[1;31m---------------------------------------------------------------------------\u001b[0m",
      "\u001b[1;31mNameError\u001b[0m                                 Traceback (most recent call last)",
      "\u001b[1;32m~\\AppData\\Local\\Temp\\ipykernel_16884\\878353659.py\u001b[0m in \u001b[0;36m<module>\u001b[1;34m\u001b[0m\n\u001b[1;32m----> 1\u001b[1;33m \u001b[0mnL\u001b[0m\u001b[1;33m\u001b[0m\u001b[1;33m\u001b[0m\u001b[0m\n\u001b[0m",
      "\u001b[1;31mNameError\u001b[0m: name 'nL' is not defined"
     ]
    }
   ],
   "source": [
    "nL"
   ]
  },
  {
   "cell_type": "code",
   "execution_count": null,
   "id": "a6baedee",
   "metadata": {},
   "outputs": [],
   "source": []
  },
  {
   "cell_type": "code",
   "execution_count": null,
   "id": "adfca92e",
   "metadata": {},
   "outputs": [],
   "source": []
  },
  {
   "cell_type": "markdown",
   "id": "f6561f09",
   "metadata": {},
   "source": [
    "# Copy Function with Lists"
   ]
  },
  {
   "cell_type": "markdown",
   "id": "120d3822",
   "metadata": {},
   "source": [
    "###### Shallow Copy"
   ]
  },
  {
   "cell_type": "code",
   "execution_count": 47,
   "id": "3ba30156",
   "metadata": {},
   "outputs": [
    {
     "data": {
      "text/plain": [
       "['apple', 'plum', 'mango', 'guava', 'pear']"
      ]
     },
     "execution_count": 47,
     "metadata": {},
     "output_type": "execute_result"
    }
   ],
   "source": [
    "fruit_list = ['apple','plum','mango','guava','pear']\n",
    "fruit_list"
   ]
  },
  {
   "cell_type": "code",
   "execution_count": 48,
   "id": "f37ad2ba",
   "metadata": {},
   "outputs": [
    {
     "data": {
      "text/plain": [
       "['apple', 'plum', 'mango', 'guava', 'pear']"
      ]
     },
     "execution_count": 48,
     "metadata": {},
     "output_type": "execute_result"
    }
   ],
   "source": [
    "fruit_copy = fruit_list\n",
    "fruit_copy"
   ]
  },
  {
   "cell_type": "code",
   "execution_count": 49,
   "id": "f836d672",
   "metadata": {},
   "outputs": [
    {
     "name": "stdout",
     "output_type": "stream",
     "text": [
      "Original List: ['apple', 'plum', 'guava', 'pear']\n",
      "modified List: ['apple', 'plum', 'guava', 'pear']\n"
     ]
    }
   ],
   "source": [
    "fruit_list.remove('mango')\n",
    "\n",
    "print('Original List:',fruit_list )\n",
    "print('modified List:',fruit_copy )"
   ]
  },
  {
   "cell_type": "markdown",
   "id": "5be09e0c",
   "metadata": {},
   "source": [
    "here 2nd copy is the Shallow copy of the first list\n",
    "so if the 1st list is modified the same changes will appear in the 2nd copy i.e. its shallow list"
   ]
  },
  {
   "cell_type": "code",
   "execution_count": null,
   "id": "a3c34295",
   "metadata": {},
   "outputs": [],
   "source": []
  },
  {
   "cell_type": "markdown",
   "id": "57c863b7",
   "metadata": {},
   "source": [
    "###### Deep Copy"
   ]
  },
  {
   "cell_type": "code",
   "execution_count": 50,
   "id": "f83ec944",
   "metadata": {},
   "outputs": [
    {
     "data": {
      "text/plain": [
       "['apple', 'plum', 'mango', 'guava', 'pear']"
      ]
     },
     "execution_count": 50,
     "metadata": {},
     "output_type": "execute_result"
    }
   ],
   "source": [
    "fruit_list = ['apple','plum','mango','guava','pear']\n",
    "fruit_list"
   ]
  },
  {
   "cell_type": "code",
   "execution_count": 51,
   "id": "fa301d23",
   "metadata": {},
   "outputs": [
    {
     "data": {
      "text/plain": [
       "['apple', 'plum', 'mango', 'guava', 'pear']"
      ]
     },
     "execution_count": 51,
     "metadata": {},
     "output_type": "execute_result"
    }
   ],
   "source": [
    "fruit_copy = fruit_list.copy()\n",
    "fruit_copy"
   ]
  },
  {
   "cell_type": "code",
   "execution_count": 52,
   "id": "0bb9efaf",
   "metadata": {},
   "outputs": [
    {
     "name": "stdout",
     "output_type": "stream",
     "text": [
      "Original List: ['Pineapple', 'plum', 'mango', 'guava', 'pear']\n",
      "Modified List: ['apple', 'plum', 'mango', 'guava', 'pear']\n"
     ]
    }
   ],
   "source": [
    "fruit_list[0] = 'Pineapple'\n",
    "\n",
    "print('Original List:',fruit_list)\n",
    "print('Modified List:',fruit_copy)"
   ]
  },
  {
   "cell_type": "code",
   "execution_count": 53,
   "id": "4371f780",
   "metadata": {},
   "outputs": [
    {
     "data": {
      "text/plain": [
       "['Henry', ['1349 West Zenith St', 'Massachusetts']]"
      ]
     },
     "execution_count": 53,
     "metadata": {},
     "output_type": "execute_result"
    }
   ],
   "source": [
    "first_person = ['Henry', ['1349 West Zenith St' , 'Massachusetts']]\n",
    "first_person"
   ]
  },
  {
   "cell_type": "code",
   "execution_count": 54,
   "id": "bf2581d4",
   "metadata": {},
   "outputs": [],
   "source": [
    "second_person = first_person.copy()\n",
    "second_person[0] = 'Mark'"
   ]
  },
  {
   "cell_type": "code",
   "execution_count": 55,
   "id": "a452f85c",
   "metadata": {},
   "outputs": [
    {
     "name": "stdout",
     "output_type": "stream",
     "text": [
      "First Person = ['Henry', ['1349 West Zenith St', 'Massachusetts']]\n",
      "Second Person = ['Mark', ['1349 West Zenith St', 'Massachusetts']]\n"
     ]
    }
   ],
   "source": [
    "print('First Person =', first_person)\n",
    "print('Second Person =', second_person)"
   ]
  },
  {
   "cell_type": "code",
   "execution_count": 56,
   "id": "939254bf",
   "metadata": {},
   "outputs": [],
   "source": [
    "second_person[1][0] = 'Brookline Avenue'"
   ]
  },
  {
   "cell_type": "code",
   "execution_count": 57,
   "id": "79fc31fe",
   "metadata": {},
   "outputs": [
    {
     "name": "stdout",
     "output_type": "stream",
     "text": [
      "First Person = ['Henry', ['Brookline Avenue', 'Massachusetts']]\n",
      "Second Person = ['Mark', ['Brookline Avenue', 'Massachusetts']]\n"
     ]
    }
   ],
   "source": [
    "print('First Person =', first_person)\n",
    "print('Second Person =', second_person)"
   ]
  },
  {
   "cell_type": "markdown",
   "id": "710f746f",
   "metadata": {},
   "source": [
    "Well here the main Copy was also modified. It is because .copy on the List Object we get a first level copy. But we did not get a recursive copy of all nested lists or nested object. because of this, when we modified the original copy, it did not affected/reflected on its copies. So in a sense we can say that .copy does not creates a True Deep Copy."
   ]
  },
  {
   "cell_type": "markdown",
   "id": "14e8e42b",
   "metadata": {},
   "source": [
    "###### to Create a True Deep Copy\n",
    "+ use a Method call deepcopy with resides in Library name 'copy'."
   ]
  },
  {
   "cell_type": "code",
   "execution_count": 58,
   "id": "fedfbb60",
   "metadata": {},
   "outputs": [],
   "source": [
    "from copy import deepcopy"
   ]
  },
  {
   "cell_type": "code",
   "execution_count": 59,
   "id": "07debb40",
   "metadata": {},
   "outputs": [
    {
     "data": {
      "text/plain": [
       "['Henry', ['1349 West Zenith St', 'Massachusetts']]"
      ]
     },
     "execution_count": 59,
     "metadata": {},
     "output_type": "execute_result"
    }
   ],
   "source": [
    "first_person = ['Henry', ['1349 West Zenith St' , 'Massachusetts']]\n",
    "first_person"
   ]
  },
  {
   "cell_type": "code",
   "execution_count": 60,
   "id": "9738f084",
   "metadata": {},
   "outputs": [
    {
     "data": {
      "text/plain": [
       "['Henry', ['1349 West Zenith St', 'Massachusetts']]"
      ]
     },
     "execution_count": 60,
     "metadata": {},
     "output_type": "execute_result"
    }
   ],
   "source": [
    "second_person = deepcopy(first_person)\n",
    "second_person"
   ]
  },
  {
   "cell_type": "code",
   "execution_count": 61,
   "id": "8303c9db",
   "metadata": {},
   "outputs": [],
   "source": [
    "second_person[0] = 'Mark'\n",
    "second_person[1][0] = 'Brookline Avenue'"
   ]
  },
  {
   "cell_type": "code",
   "execution_count": 62,
   "id": "4f287f21",
   "metadata": {},
   "outputs": [
    {
     "name": "stdout",
     "output_type": "stream",
     "text": [
      "First Person: ['Henry', ['1349 West Zenith St', 'Massachusetts']]\n",
      "Second Person: ['Mark', ['Brookline Avenue', 'Massachusetts']]\n"
     ]
    }
   ],
   "source": [
    "print(\"First Person:\",first_person)\n",
    "print(\"Second Person:\",second_person)"
   ]
  },
  {
   "cell_type": "code",
   "execution_count": null,
   "id": "dcd8bffd",
   "metadata": {},
   "outputs": [],
   "source": []
  }
 ],
 "metadata": {
  "kernelspec": {
   "display_name": "Python 3 (ipykernel)",
   "language": "python",
   "name": "python3"
  },
  "language_info": {
   "codemirror_mode": {
    "name": "ipython",
    "version": 3
   },
   "file_extension": ".py",
   "mimetype": "text/x-python",
   "name": "python",
   "nbconvert_exporter": "python",
   "pygments_lexer": "ipython3",
   "version": "3.9.13"
  }
 },
 "nbformat": 4,
 "nbformat_minor": 5
}
