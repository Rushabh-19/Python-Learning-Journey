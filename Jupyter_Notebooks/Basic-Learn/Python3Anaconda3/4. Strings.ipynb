{
 "cells": [
  {
   "cell_type": "markdown",
   "id": "8118dc65",
   "metadata": {},
   "source": [
    "<center><h1>Strings</h1></center>"
   ]
  },
  {
   "cell_type": "code",
   "execution_count": 2,
   "id": "8ce20e59",
   "metadata": {},
   "outputs": [
    {
     "data": {
      "text/plain": [
       "'Python allows you to define strings using single quotes.'"
      ]
     },
     "execution_count": 2,
     "metadata": {},
     "output_type": "execute_result"
    }
   ],
   "source": [
    "string_1 = 'Python allows you to define strings using single quotes.'\n",
    "string_1"
   ]
  },
  {
   "cell_type": "code",
   "execution_count": 3,
   "id": "85af9821",
   "metadata": {},
   "outputs": [
    {
     "data": {
      "text/plain": [
       "'Python allows you to define strings using single quotes.'"
      ]
     },
     "execution_count": 3,
     "metadata": {},
     "output_type": "execute_result"
    }
   ],
   "source": [
    "string_2 = \"Python allows you to define strings using single quotes.\"\n",
    "string_2"
   ]
  },
  {
   "cell_type": "code",
   "execution_count": 7,
   "id": "76ad3ec6",
   "metadata": {},
   "outputs": [
    {
     "ename": "SyntaxError",
     "evalue": "EOL while scanning string literal (3048433284.py, line 1)",
     "output_type": "error",
     "traceback": [
      "\u001b[1;36m  File \u001b[1;32m\"C:\\Users\\r.girish.parmar\\AppData\\Local\\Temp\\ipykernel_9972\\3048433284.py\"\u001b[1;36m, line \u001b[1;32m1\u001b[0m\n\u001b[1;33m    multiline_string = 'Strings cannot span multiple\u001b[0m\n\u001b[1;37m                                                     ^\u001b[0m\n\u001b[1;31mSyntaxError\u001b[0m\u001b[1;31m:\u001b[0m EOL while scanning string literal\n"
     ]
    }
   ],
   "source": [
    "multiline_string = 'Strings cannot span multiple \n",
    "lines when enclosed in single quotes'\n",
    "multiline_string"
   ]
  },
  {
   "cell_type": "code",
   "execution_count": 8,
   "id": "13565ccc",
   "metadata": {},
   "outputs": [
    {
     "ename": "SyntaxError",
     "evalue": "EOL while scanning string literal (3550652832.py, line 1)",
     "output_type": "error",
     "traceback": [
      "\u001b[1;36m  File \u001b[1;32m\"C:\\Users\\r.girish.parmar\\AppData\\Local\\Temp\\ipykernel_9972\\3550652832.py\"\u001b[1;36m, line \u001b[1;32m1\u001b[0m\n\u001b[1;33m    multiline_string = \"Strings cannot span multiple\u001b[0m\n\u001b[1;37m                                                     ^\u001b[0m\n\u001b[1;31mSyntaxError\u001b[0m\u001b[1;31m:\u001b[0m EOL while scanning string literal\n"
     ]
    }
   ],
   "source": [
    "multiline_string = \"Strings cannot span multiple \n",
    "lines when enclosed in double quotes\"\n",
    "multiline_string"
   ]
  },
  {
   "cell_type": "code",
   "execution_count": 9,
   "id": "363a4276",
   "metadata": {},
   "outputs": [
    {
     "data": {
      "text/plain": [
       "'Strings cannot span multiple \\nlines when enclosed in triple quotes'"
      ]
     },
     "execution_count": 9,
     "metadata": {},
     "output_type": "execute_result"
    }
   ],
   "source": [
    "multiline_string = \"\"\"Strings cannot span multiple \n",
    "lines when enclosed in triple quotes\"\"\"\n",
    "multiline_string"
   ]
  },
  {
   "cell_type": "markdown",
   "id": "f39190d5",
   "metadata": {},
   "source": [
    "note the escape character \\n which shows that from that point onward is the new Line"
   ]
  },
  {
   "cell_type": "code",
   "execution_count": 11,
   "id": "a8a7ce97",
   "metadata": {},
   "outputs": [
    {
     "data": {
      "text/plain": [
       "'Strings cannot span multiple \\nlines when enclosed in triple quotes'"
      ]
     },
     "execution_count": 11,
     "metadata": {},
     "output_type": "execute_result"
    }
   ],
   "source": [
    "multiline_string = '''Strings cannot span multiple \n",
    "lines when enclosed in triple quotes'''\n",
    "multiline_string"
   ]
  },
  {
   "cell_type": "markdown",
   "id": "3b3941df",
   "metadata": {},
   "source": [
    "we can use trple single quotes or triple double quotes as long as we use same type of quotes both ends"
   ]
  },
  {
   "cell_type": "code",
   "execution_count": 12,
   "id": "276939d8",
   "metadata": {},
   "outputs": [],
   "source": [
    "nicely_formatted_string = \"\"\"\n",
    "Triples quotes are useful because \n",
    "you can format and display your strings nicely in code \n",
    "you can include 'single quotes' and \"double quotes\" \n",
    "within the string \n",
    "\"\"\""
   ]
  },
  {
   "cell_type": "code",
   "execution_count": 13,
   "id": "c4760a70",
   "metadata": {},
   "outputs": [
    {
     "data": {
      "text/plain": [
       "'\\nTriples quotes are useful because \\nyou can format and display your strings nicely in code \\nyou can include \\'single quotes\\' and \"double quotes\" \\nwithin the string \\n'"
      ]
     },
     "execution_count": 13,
     "metadata": {},
     "output_type": "execute_result"
    }
   ],
   "source": [
    "nicely_formatted_string"
   ]
  },
  {
   "cell_type": "code",
   "execution_count": 14,
   "id": "e85594e8",
   "metadata": {},
   "outputs": [
    {
     "name": "stdout",
     "output_type": "stream",
     "text": [
      "\n",
      "Triples quotes are useful because \n",
      "you can format and display your strings nicely in code \n",
      "you can include 'single quotes' and \"double quotes\" \n",
      "within the string \n",
      "\n"
     ]
    }
   ],
   "source": [
    "print(nicely_formatted_string)"
   ]
  },
  {
   "cell_type": "markdown",
   "id": "7683918f",
   "metadata": {},
   "source": [
    "<center><h3>Escaping characters in Strings</h3></center>\n",
    "Escaping can be performed using \\, ', \""
   ]
  },
  {
   "cell_type": "code",
   "execution_count": 21,
   "id": "b5397795",
   "metadata": {
    "scrolled": true
   },
   "outputs": [
    {
     "data": {
      "text/plain": [
       "\"This happened to be Jack's basketball bat\""
      ]
     },
     "execution_count": 21,
     "metadata": {},
     "output_type": "execute_result"
    }
   ],
   "source": [
    "some_string = 'This happened to be Jack\\'s basketball bat'\n",
    "some_string"
   ]
  },
  {
   "cell_type": "code",
   "execution_count": 22,
   "id": "956c0754",
   "metadata": {},
   "outputs": [
    {
     "data": {
      "text/plain": [
       "'He said \"What are you doing?\" to that stranger'"
      ]
     },
     "execution_count": 22,
     "metadata": {},
     "output_type": "execute_result"
    }
   ],
   "source": [
    "some_string = \"He said \\\"What are you doing?\\\" to that stranger\"\n",
    "some_string"
   ]
  },
  {
   "cell_type": "code",
   "execution_count": 23,
   "id": "97017f07",
   "metadata": {},
   "outputs": [
    {
     "data": {
      "text/plain": [
       "\"This happened to be Jack's basketball bat\""
      ]
     },
     "execution_count": 23,
     "metadata": {},
     "output_type": "execute_result"
    }
   ],
   "source": [
    "some_string = \"This happened to be Jack's basketball bat\"\n",
    "some_string"
   ]
  },
  {
   "cell_type": "code",
   "execution_count": 24,
   "id": "a0a9f814",
   "metadata": {},
   "outputs": [
    {
     "data": {
      "text/plain": [
       "'He said \"What are you doing?\" to that stranger'"
      ]
     },
     "execution_count": 24,
     "metadata": {},
     "output_type": "execute_result"
    }
   ],
   "source": [
    "some_string = 'He said \"What are you doing?\" to that stranger'\n",
    "some_string"
   ]
  },
  {
   "cell_type": "markdown",
   "id": "979f74c0",
   "metadata": {},
   "source": [
    "Here when we use Double Quotes as a dilimiter, we can safely use Single quote in the String\n",
    "and when we use Single Quotes as a dilimiter, we can safely use Double quote in the String."
   ]
  },
  {
   "cell_type": "code",
   "execution_count": 25,
   "id": "61b9aad0",
   "metadata": {},
   "outputs": [
    {
     "name": "stdout",
     "output_type": "stream",
     "text": [
      "C:\\Users\\OneDrive\n"
     ]
    }
   ],
   "source": [
    "print ('C:\\\\Users\\\\OneDrive')"
   ]
  },
  {
   "cell_type": "code",
   "execution_count": 26,
   "id": "c48125c1",
   "metadata": {},
   "outputs": [
    {
     "name": "stdout",
     "output_type": "stream",
     "text": [
      "Did you watch the game last night?\t I stayed up to watch the end!\n"
     ]
    }
   ],
   "source": [
    "some_text = \"Did you watch the game last night?\\t I stayed up to watch the end!\"\n",
    "print(some_text)"
   ]
  },
  {
   "cell_type": "code",
   "execution_count": 27,
   "id": "f925e846",
   "metadata": {},
   "outputs": [
    {
     "data": {
      "text/plain": [
       "'Did you watch the game last night?\\t I stayed up to watch the end!'"
      ]
     },
     "execution_count": 27,
     "metadata": {},
     "output_type": "execute_result"
    }
   ],
   "source": [
    "some_text"
   ]
  },
  {
   "cell_type": "code",
   "execution_count": 29,
   "id": "580d77a9",
   "metadata": {},
   "outputs": [
    {
     "data": {
      "text/plain": [
       "'I love watching Basketball on TV - Yesterday I watched for 2 hours'"
      ]
     },
     "execution_count": 29,
     "metadata": {},
     "output_type": "execute_result"
    }
   ],
   "source": [
    "fav_sport = 'Basketball'\n",
    "time_spend = 2\n",
    "\"I love watching {} on TV - Yesterday I watched for {} hours\".format(fav_sport, time_spend)"
   ]
  },
  {
   "cell_type": "markdown",
   "id": "f0b486f7",
   "metadata": {},
   "source": [
    "Using .format() which replaces {} in the String "
   ]
  },
  {
   "cell_type": "code",
   "execution_count": 33,
   "id": "b146adfa",
   "metadata": {},
   "outputs": [
    {
     "data": {
      "text/plain": [
       "'I love watching Soccer on TV - Yesterday I watched for 3 hours'"
      ]
     },
     "execution_count": 33,
     "metadata": {},
     "output_type": "execute_result"
    }
   ],
   "source": [
    "fav_sport = 'Soccer'\n",
    "time_spend = 3\n",
    "\"I love watching %s on TV - Yesterday I watched for %d hours\" % (fav_sport, time_spend)"
   ]
  },
  {
   "cell_type": "markdown",
   "id": "e24619a5",
   "metadata": {},
   "source": [
    "Using % which replaces %s, %f, %d, ..."
   ]
  },
  {
   "cell_type": "code",
   "execution_count": 34,
   "id": "b5e98a14",
   "metadata": {},
   "outputs": [
    {
     "data": {
      "text/plain": [
       "'I love watching Hockey on TV - Yesterday I watched for 2.5 hours'"
      ]
     },
     "execution_count": 34,
     "metadata": {},
     "output_type": "execute_result"
    }
   ],
   "source": [
    "fav_sport = 'Hockey'\n",
    "time_spend = 2.5\n",
    "f\"I love watching {fav_sport} on TV - Yesterday I watched for {time_spend} hours\""
   ]
  },
  {
   "cell_type": "markdown",
   "id": "ea93d3cf",
   "metadata": {},
   "source": [
    "Using f in preceding of the String and putting var in curly barces."
   ]
  },
  {
   "cell_type": "markdown",
   "id": "5e87c6c0",
   "metadata": {},
   "source": []
  },
  {
   "cell_type": "markdown",
   "id": "6002e607",
   "metadata": {},
   "source": [
    "# String as Sequence and String Functions"
   ]
  },
  {
   "cell_type": "code",
   "execution_count": 1,
   "id": "098ec398",
   "metadata": {},
   "outputs": [
    {
     "data": {
      "text/plain": [
       "'James Bond'"
      ]
     },
     "execution_count": 1,
     "metadata": {},
     "output_type": "execute_result"
    }
   ],
   "source": [
    "name = 'James Bond'\n",
    "name"
   ]
  },
  {
   "cell_type": "code",
   "execution_count": 2,
   "id": "b9635180",
   "metadata": {},
   "outputs": [
    {
     "data": {
      "text/plain": [
       "'J'"
      ]
     },
     "execution_count": 2,
     "metadata": {},
     "output_type": "execute_result"
    }
   ],
   "source": [
    "name[0]"
   ]
  },
  {
   "cell_type": "code",
   "execution_count": 3,
   "id": "5f9c4057",
   "metadata": {},
   "outputs": [
    {
     "data": {
      "text/plain": [
       "'e'"
      ]
     },
     "execution_count": 3,
     "metadata": {},
     "output_type": "execute_result"
    }
   ],
   "source": [
    "name[3]"
   ]
  },
  {
   "cell_type": "code",
   "execution_count": 4,
   "id": "a4645b65",
   "metadata": {},
   "outputs": [
    {
     "ename": "TypeError",
     "evalue": "'str' object does not support item assignment",
     "output_type": "error",
     "traceback": [
      "\u001b[1;31m---------------------------------------------------------------------------\u001b[0m",
      "\u001b[1;31mTypeError\u001b[0m                                 Traceback (most recent call last)",
      "\u001b[1;32m~\\AppData\\Local\\Temp\\ipykernel_8560\\3181134531.py\u001b[0m in \u001b[0;36m<module>\u001b[1;34m\u001b[0m\n\u001b[1;32m----> 1\u001b[1;33m \u001b[0mname\u001b[0m\u001b[1;33m[\u001b[0m\u001b[1;36m0\u001b[0m\u001b[1;33m]\u001b[0m \u001b[1;33m=\u001b[0m \u001b[1;34m'K'\u001b[0m\u001b[1;33m\u001b[0m\u001b[1;33m\u001b[0m\u001b[0m\n\u001b[0m",
      "\u001b[1;31mTypeError\u001b[0m: 'str' object does not support item assignment"
     ]
    }
   ],
   "source": [
    "name[0] = 'K'"
   ]
  },
  {
   "cell_type": "markdown",
   "id": "2644b9d3",
   "metadata": {},
   "source": [
    "gives traceback coz, String are not mutable"
   ]
  },
  {
   "cell_type": "code",
   "execution_count": 12,
   "id": "5b42f718",
   "metadata": {},
   "outputs": [],
   "source": [
    "a,b,c,d,e,f,g,h,i,j = name"
   ]
  },
  {
   "cell_type": "code",
   "execution_count": 13,
   "id": "16a461a3",
   "metadata": {},
   "outputs": [
    {
     "data": {
      "text/plain": [
       "'J'"
      ]
     },
     "execution_count": 13,
     "metadata": {},
     "output_type": "execute_result"
    }
   ],
   "source": [
    "a"
   ]
  },
  {
   "cell_type": "code",
   "execution_count": 14,
   "id": "075a6699",
   "metadata": {},
   "outputs": [
    {
     "data": {
      "text/plain": [
       "'a'"
      ]
     },
     "execution_count": 14,
     "metadata": {},
     "output_type": "execute_result"
    }
   ],
   "source": [
    "b"
   ]
  },
  {
   "cell_type": "code",
   "execution_count": 15,
   "id": "bbc85d7b",
   "metadata": {},
   "outputs": [
    {
     "data": {
      "text/plain": [
       "'m'"
      ]
     },
     "execution_count": 15,
     "metadata": {},
     "output_type": "execute_result"
    }
   ],
   "source": [
    "c"
   ]
  },
  {
   "cell_type": "code",
   "execution_count": 16,
   "id": "af6e3df6",
   "metadata": {},
   "outputs": [
    {
     "data": {
      "text/plain": [
       "'e'"
      ]
     },
     "execution_count": 16,
     "metadata": {},
     "output_type": "execute_result"
    }
   ],
   "source": [
    "d"
   ]
  },
  {
   "cell_type": "code",
   "execution_count": 17,
   "id": "e78e5d90",
   "metadata": {},
   "outputs": [
    {
     "data": {
      "text/plain": [
       "'s'"
      ]
     },
     "execution_count": 17,
     "metadata": {},
     "output_type": "execute_result"
    }
   ],
   "source": [
    "e"
   ]
  },
  {
   "cell_type": "code",
   "execution_count": 18,
   "id": "733d6ca7",
   "metadata": {},
   "outputs": [
    {
     "data": {
      "text/plain": [
       "' '"
      ]
     },
     "execution_count": 18,
     "metadata": {},
     "output_type": "execute_result"
    }
   ],
   "source": [
    "f"
   ]
  },
  {
   "cell_type": "code",
   "execution_count": 19,
   "id": "26011b3c",
   "metadata": {},
   "outputs": [
    {
     "data": {
      "text/plain": [
       "'B'"
      ]
     },
     "execution_count": 19,
     "metadata": {},
     "output_type": "execute_result"
    }
   ],
   "source": [
    "g"
   ]
  },
  {
   "cell_type": "code",
   "execution_count": 20,
   "id": "91631377",
   "metadata": {},
   "outputs": [
    {
     "data": {
      "text/plain": [
       "'o'"
      ]
     },
     "execution_count": 20,
     "metadata": {},
     "output_type": "execute_result"
    }
   ],
   "source": [
    "h"
   ]
  },
  {
   "cell_type": "code",
   "execution_count": 21,
   "id": "07a8480a",
   "metadata": {},
   "outputs": [
    {
     "data": {
      "text/plain": [
       "'n'"
      ]
     },
     "execution_count": 21,
     "metadata": {},
     "output_type": "execute_result"
    }
   ],
   "source": [
    "i"
   ]
  },
  {
   "cell_type": "code",
   "execution_count": 22,
   "id": "36c0df14",
   "metadata": {},
   "outputs": [
    {
     "data": {
      "text/plain": [
       "'d'"
      ]
     },
     "execution_count": 22,
     "metadata": {},
     "output_type": "execute_result"
    }
   ],
   "source": [
    "j"
   ]
  },
  {
   "cell_type": "code",
   "execution_count": 23,
   "id": "fc8c1222",
   "metadata": {},
   "outputs": [
    {
     "ename": "ValueError",
     "evalue": "too many values to unpack (expected 4)",
     "output_type": "error",
     "traceback": [
      "\u001b[1;31m---------------------------------------------------------------------------\u001b[0m",
      "\u001b[1;31mValueError\u001b[0m                                Traceback (most recent call last)",
      "\u001b[1;32m~\\AppData\\Local\\Temp\\ipykernel_8560\\2525212034.py\u001b[0m in \u001b[0;36m<module>\u001b[1;34m\u001b[0m\n\u001b[1;32m----> 1\u001b[1;33m \u001b[0ma\u001b[0m\u001b[1;33m,\u001b[0m\u001b[0mb\u001b[0m\u001b[1;33m,\u001b[0m\u001b[0mc\u001b[0m\u001b[1;33m,\u001b[0m\u001b[0md\u001b[0m \u001b[1;33m=\u001b[0m \u001b[0mname\u001b[0m\u001b[1;33m\u001b[0m\u001b[1;33m\u001b[0m\u001b[0m\n\u001b[0m",
      "\u001b[1;31mValueError\u001b[0m: too many values to unpack (expected 4)"
     ]
    }
   ],
   "source": [
    "a,b,c,d = name "
   ]
  },
  {
   "cell_type": "markdown",
   "id": "12888340",
   "metadata": {},
   "source": [
    "gives traceback coz left side dont have the same number of var to store all character in 'name'"
   ]
  },
  {
   "cell_type": "code",
   "execution_count": 24,
   "id": "78f8cfa0",
   "metadata": {},
   "outputs": [],
   "source": [
    "a,b,c,d,_,_,_,_,_,_ = name"
   ]
  },
  {
   "cell_type": "code",
   "execution_count": 25,
   "id": "f118e847",
   "metadata": {},
   "outputs": [
    {
     "data": {
      "text/plain": [
       "'J'"
      ]
     },
     "execution_count": 25,
     "metadata": {},
     "output_type": "execute_result"
    }
   ],
   "source": [
    "a"
   ]
  },
  {
   "cell_type": "code",
   "execution_count": 26,
   "id": "ec8dcc91",
   "metadata": {},
   "outputs": [
    {
     "data": {
      "text/plain": [
       "'a'"
      ]
     },
     "execution_count": 26,
     "metadata": {},
     "output_type": "execute_result"
    }
   ],
   "source": [
    "b"
   ]
  },
  {
   "cell_type": "code",
   "execution_count": 27,
   "id": "9de0c902",
   "metadata": {},
   "outputs": [
    {
     "data": {
      "text/plain": [
       "'James'"
      ]
     },
     "execution_count": 27,
     "metadata": {},
     "output_type": "execute_result"
    }
   ],
   "source": [
    "name[:5]"
   ]
  },
  {
   "cell_type": "code",
   "execution_count": 28,
   "id": "02940c54",
   "metadata": {},
   "outputs": [
    {
     "data": {
      "text/plain": [
       "'Bond'"
      ]
     },
     "execution_count": 28,
     "metadata": {},
     "output_type": "execute_result"
    }
   ],
   "source": [
    "name[6:]"
   ]
  },
  {
   "cell_type": "code",
   "execution_count": 29,
   "id": "ae68ffa7",
   "metadata": {},
   "outputs": [
    {
     "data": {
      "text/plain": [
       "'es B'"
      ]
     },
     "execution_count": 29,
     "metadata": {},
     "output_type": "execute_result"
    }
   ],
   "source": [
    "name[3:7]"
   ]
  },
  {
   "cell_type": "code",
   "execution_count": 30,
   "id": "5ccef0e3",
   "metadata": {},
   "outputs": [
    {
     "data": {
      "text/plain": [
       "'JmsBn'"
      ]
     },
     "execution_count": 30,
     "metadata": {},
     "output_type": "execute_result"
    }
   ],
   "source": [
    "name[::2]"
   ]
  },
  {
   "cell_type": "code",
   "execution_count": 31,
   "id": "9ec38ef3",
   "metadata": {},
   "outputs": [
    {
     "data": {
      "text/plain": [
       "'dnoB semaJ'"
      ]
     },
     "execution_count": 31,
     "metadata": {},
     "output_type": "execute_result"
    }
   ],
   "source": [
    "name[::-1]"
   ]
  },
  {
   "cell_type": "code",
   "execution_count": null,
   "id": "c3621643",
   "metadata": {},
   "outputs": [],
   "source": []
  },
  {
   "cell_type": "code",
   "execution_count": 32,
   "id": "c4358b54",
   "metadata": {},
   "outputs": [
    {
     "data": {
      "text/plain": [
       "True"
      ]
     },
     "execution_count": 32,
     "metadata": {},
     "output_type": "execute_result"
    }
   ],
   "source": [
    "name.startswith('Jam')"
   ]
  },
  {
   "cell_type": "code",
   "execution_count": 33,
   "id": "afeb813a",
   "metadata": {},
   "outputs": [
    {
     "data": {
      "text/plain": [
       "True"
      ]
     },
     "execution_count": 33,
     "metadata": {},
     "output_type": "execute_result"
    }
   ],
   "source": [
    "name.endswith('Bond')"
   ]
  },
  {
   "cell_type": "code",
   "execution_count": 34,
   "id": "13064dfc",
   "metadata": {},
   "outputs": [
    {
     "data": {
      "text/plain": [
       "False"
      ]
     },
     "execution_count": 34,
     "metadata": {},
     "output_type": "execute_result"
    }
   ],
   "source": [
    "name.endswith('bond')"
   ]
  },
  {
   "cell_type": "code",
   "execution_count": 35,
   "id": "00ed3f70",
   "metadata": {},
   "outputs": [
    {
     "data": {
      "text/plain": [
       "False"
      ]
     },
     "execution_count": 35,
     "metadata": {},
     "output_type": "execute_result"
    }
   ],
   "source": [
    "name.startswith('jam')"
   ]
  },
  {
   "cell_type": "code",
   "execution_count": 36,
   "id": "38b4b283",
   "metadata": {},
   "outputs": [
    {
     "data": {
      "text/plain": [
       "1"
      ]
     },
     "execution_count": 36,
     "metadata": {},
     "output_type": "execute_result"
    }
   ],
   "source": [
    "name.count('J')"
   ]
  },
  {
   "cell_type": "code",
   "execution_count": 37,
   "id": "f79e5df8",
   "metadata": {},
   "outputs": [
    {
     "data": {
      "text/plain": [
       "'james bond'"
      ]
     },
     "execution_count": 37,
     "metadata": {},
     "output_type": "execute_result"
    }
   ],
   "source": [
    "name.lower()"
   ]
  },
  {
   "cell_type": "code",
   "execution_count": 38,
   "id": "cdd6c843",
   "metadata": {},
   "outputs": [
    {
     "data": {
      "text/plain": [
       "'JAMES BOND'"
      ]
     },
     "execution_count": 38,
     "metadata": {},
     "output_type": "execute_result"
    }
   ],
   "source": [
    "name.upper()"
   ]
  },
  {
   "cell_type": "code",
   "execution_count": 40,
   "id": "ada12999",
   "metadata": {},
   "outputs": [
    {
     "data": {
      "text/plain": [
       "'James bond'"
      ]
     },
     "execution_count": 40,
     "metadata": {},
     "output_type": "execute_result"
    }
   ],
   "source": [
    "name.capitalize()"
   ]
  },
  {
   "cell_type": "code",
   "execution_count": null,
   "id": "321d53f0",
   "metadata": {},
   "outputs": [],
   "source": []
  }
 ],
 "metadata": {
  "kernelspec": {
   "display_name": "Python 3 (ipykernel)",
   "language": "python",
   "name": "python3"
  },
  "language_info": {
   "codemirror_mode": {
    "name": "ipython",
    "version": 3
   },
   "file_extension": ".py",
   "mimetype": "text/x-python",
   "name": "python",
   "nbconvert_exporter": "python",
   "pygments_lexer": "ipython3",
   "version": "3.9.13"
  }
 },
 "nbformat": 4,
 "nbformat_minor": 5
}
