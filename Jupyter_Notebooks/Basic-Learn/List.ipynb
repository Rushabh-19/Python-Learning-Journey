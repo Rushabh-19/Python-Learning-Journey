{
 "cells": [
  {
   "cell_type": "markdown",
   "id": "302ef538",
   "metadata": {},
   "source": [
    "<center><h1>List</h1></center>"
   ]
  },
  {
   "cell_type": "code",
   "execution_count": 12,
   "id": "97dd8f66",
   "metadata": {},
   "outputs": [],
   "source": [
    "l1 = [1 , [2 , 3] , 4 , 5, 6]"
   ]
  },
  {
   "cell_type": "code",
   "execution_count": 2,
   "id": "a0430ba8",
   "metadata": {},
   "outputs": [
    {
     "name": "stdout",
     "output_type": "stream",
     "text": [
      "1\n",
      "[2, 3]\n",
      "4\n",
      "5\n"
     ]
    }
   ],
   "source": [
    "for i in l1:\n",
    "    print (i)"
   ]
  },
  {
   "cell_type": "code",
   "execution_count": 3,
   "id": "875a993c",
   "metadata": {},
   "outputs": [
    {
     "name": "stdout",
     "output_type": "stream",
     "text": [
      "[2, 3]\n"
     ]
    }
   ],
   "source": [
    "print(l1[1])"
   ]
  },
  {
   "cell_type": "code",
   "execution_count": 4,
   "id": "c4f67222",
   "metadata": {},
   "outputs": [
    {
     "name": "stdout",
     "output_type": "stream",
     "text": [
      "3\n"
     ]
    }
   ],
   "source": [
    "print(l1[1][1])"
   ]
  },
  {
   "cell_type": "code",
   "execution_count": 5,
   "id": "31573adb",
   "metadata": {},
   "outputs": [],
   "source": [
    "l2 = ['red', 'green', 'blue', ['yellow', 'cyan', 'magnite', ['white']]]"
   ]
  },
  {
   "cell_type": "code",
   "execution_count": 9,
   "id": "f5346ee4",
   "metadata": {},
   "outputs": [
    {
     "name": "stdout",
     "output_type": "stream",
     "text": [
      "range(0, 4)\n"
     ]
    }
   ],
   "source": [
    "print(range(4))"
   ]
  },
  {
   "cell_type": "code",
   "execution_count": 10,
   "id": "3b0d9588",
   "metadata": {},
   "outputs": [
    {
     "name": "stdout",
     "output_type": "stream",
     "text": [
      "0\n",
      "1\n",
      "2\n",
      "3\n"
     ]
    }
   ],
   "source": [
    "for i in range(4): print(i)"
   ]
  },
  {
   "cell_type": "code",
   "execution_count": 13,
   "id": "0629ac39",
   "metadata": {},
   "outputs": [
    {
     "name": "stdout",
     "output_type": "stream",
     "text": [
      "0\n",
      "1\n",
      "2\n",
      "3\n",
      "4\n"
     ]
    }
   ],
   "source": [
    "for i in range(len(l1)): print(i)"
   ]
  },
  {
   "cell_type": "code",
   "execution_count": 14,
   "id": "ec35a769",
   "metadata": {},
   "outputs": [],
   "source": [
    "friends = ['josep' , 'glenn' , 'sally']"
   ]
  },
  {
   "cell_type": "code",
   "execution_count": 20,
   "id": "9ffccbf6",
   "metadata": {},
   "outputs": [
    {
     "name": "stdout",
     "output_type": "stream",
     "text": [
      "josep\n",
      "glenn\n",
      "sally\n"
     ]
    }
   ],
   "source": [
    "for friend in friends:\n",
    "    print(friend)"
   ]
  },
  {
   "cell_type": "code",
   "execution_count": 21,
   "id": "2eed0a9a",
   "metadata": {},
   "outputs": [
    {
     "name": "stdout",
     "output_type": "stream",
     "text": [
      "josep\n",
      "glenn\n",
      "sally\n"
     ]
    }
   ],
   "source": [
    "for i in range(len(friends)):\n",
    "    print (friends[i])"
   ]
  },
  {
   "cell_type": "markdown",
   "id": "52f27571",
   "metadata": {},
   "source": [
    "###### concatination of list\n",
    "'+' operator"
   ]
  },
  {
   "cell_type": "code",
   "execution_count": 1,
   "id": "b1c4f887",
   "metadata": {},
   "outputs": [],
   "source": [
    "a = [1,2,3]\n",
    "b = [4,5,6]"
   ]
  },
  {
   "cell_type": "code",
   "execution_count": 2,
   "id": "a4541a36",
   "metadata": {},
   "outputs": [
    {
     "data": {
      "text/plain": [
       "[1, 2, 3, 4, 5, 6]"
      ]
     },
     "execution_count": 2,
     "metadata": {},
     "output_type": "execute_result"
    }
   ],
   "source": [
    "a+b"
   ]
  },
  {
   "cell_type": "markdown",
   "id": "bc4bdf51",
   "metadata": {},
   "source": [
    "###### Slicing can be done on List i.e. we can use slicing operator</br>\n",
    "[ a : b ] --> from a to b but not including b"
   ]
  },
  {
   "cell_type": "code",
   "execution_count": 3,
   "id": "46b6ea00",
   "metadata": {},
   "outputs": [],
   "source": [
    "c = a + b"
   ]
  },
  {
   "cell_type": "code",
   "execution_count": 4,
   "id": "f448625e",
   "metadata": {},
   "outputs": [
    {
     "data": {
      "text/plain": [
       "[1, 2, 3, 4, 5, 6]"
      ]
     },
     "execution_count": 4,
     "metadata": {},
     "output_type": "execute_result"
    }
   ],
   "source": [
    "c"
   ]
  },
  {
   "cell_type": "code",
   "execution_count": 6,
   "id": "1f1542ec",
   "metadata": {},
   "outputs": [
    {
     "data": {
      "text/plain": [
       "[2, 3]"
      ]
     },
     "execution_count": 6,
     "metadata": {},
     "output_type": "execute_result"
    }
   ],
   "source": [
    "c[1:3]"
   ]
  },
  {
   "cell_type": "code",
   "execution_count": 7,
   "id": "b6d65034",
   "metadata": {},
   "outputs": [
    {
     "data": {
      "text/plain": [
       "[1, 2, 3, 4]"
      ]
     },
     "execution_count": 7,
     "metadata": {},
     "output_type": "execute_result"
    }
   ],
   "source": [
    "c[:4]"
   ]
  },
  {
   "cell_type": "code",
   "execution_count": 8,
   "id": "82c73508",
   "metadata": {},
   "outputs": [
    {
     "data": {
      "text/plain": [
       "[5, 6]"
      ]
     },
     "execution_count": 8,
     "metadata": {},
     "output_type": "execute_result"
    }
   ],
   "source": [
    "c[4:]"
   ]
  },
  {
   "cell_type": "code",
   "execution_count": 9,
   "id": "d8e91ef8",
   "metadata": {},
   "outputs": [
    {
     "data": {
      "text/plain": [
       "[1, 2, 3, 4, 5, 6]"
      ]
     },
     "execution_count": 9,
     "metadata": {},
     "output_type": "execute_result"
    }
   ],
   "source": [
    "c[:]"
   ]
  },
  {
   "cell_type": "markdown",
   "id": "1e27120e",
   "metadata": {},
   "source": [
    "##### Methods"
   ]
  },
  {
   "cell_type": "code",
   "execution_count": 10,
   "id": "a1e863c4",
   "metadata": {},
   "outputs": [
    {
     "data": {
      "text/plain": [
       "['__add__',\n",
       " '__class__',\n",
       " '__class_getitem__',\n",
       " '__contains__',\n",
       " '__delattr__',\n",
       " '__delitem__',\n",
       " '__dir__',\n",
       " '__doc__',\n",
       " '__eq__',\n",
       " '__format__',\n",
       " '__ge__',\n",
       " '__getattribute__',\n",
       " '__getitem__',\n",
       " '__gt__',\n",
       " '__hash__',\n",
       " '__iadd__',\n",
       " '__imul__',\n",
       " '__init__',\n",
       " '__init_subclass__',\n",
       " '__iter__',\n",
       " '__le__',\n",
       " '__len__',\n",
       " '__lt__',\n",
       " '__mul__',\n",
       " '__ne__',\n",
       " '__new__',\n",
       " '__reduce__',\n",
       " '__reduce_ex__',\n",
       " '__repr__',\n",
       " '__reversed__',\n",
       " '__rmul__',\n",
       " '__setattr__',\n",
       " '__setitem__',\n",
       " '__sizeof__',\n",
       " '__str__',\n",
       " '__subclasshook__',\n",
       " 'append',\n",
       " 'clear',\n",
       " 'copy',\n",
       " 'count',\n",
       " 'extend',\n",
       " 'index',\n",
       " 'insert',\n",
       " 'pop',\n",
       " 'remove',\n",
       " 'reverse',\n",
       " 'sort']"
      ]
     },
     "execution_count": 10,
     "metadata": {},
     "output_type": "execute_result"
    }
   ],
   "source": [
    "dir(list)"
   ]
  },
  {
   "cell_type": "markdown",
   "id": "5c1c1480",
   "metadata": {},
   "source": [
    "most frequently used:\n",
    "+ 'append'\n",
    "+ 'clear'\n",
    "+ 'copy'\n",
    "+ 'count'\n",
    "+ 'extend'\n",
    "+ 'index'\n",
    "+ 'insert'\n",
    "+ 'pop'\n",
    "+ 'remove'\n",
    "+ 'reverse'\n",
    "+ 'sort'\n",
    "+ 'len'"
   ]
  },
  {
   "cell_type": "code",
   "execution_count": 21,
   "id": "fdf8c1d4",
   "metadata": {},
   "outputs": [
    {
     "data": {
      "text/plain": [
       "[1, 2, 3, 4, 5, 6]"
      ]
     },
     "execution_count": 21,
     "metadata": {},
     "output_type": "execute_result"
    }
   ],
   "source": [
    "c"
   ]
  },
  {
   "cell_type": "code",
   "execution_count": 23,
   "id": "10825c19",
   "metadata": {},
   "outputs": [
    {
     "data": {
      "text/plain": [
       "True"
      ]
     },
     "execution_count": 23,
     "metadata": {},
     "output_type": "execute_result"
    }
   ],
   "source": [
    "1 in c"
   ]
  },
  {
   "cell_type": "code",
   "execution_count": 24,
   "id": "75d2749b",
   "metadata": {},
   "outputs": [
    {
     "data": {
      "text/plain": [
       "True"
      ]
     },
     "execution_count": 24,
     "metadata": {},
     "output_type": "execute_result"
    }
   ],
   "source": [
    "4 in c"
   ]
  },
  {
   "cell_type": "code",
   "execution_count": 25,
   "id": "2ceebd64",
   "metadata": {},
   "outputs": [
    {
     "data": {
      "text/plain": [
       "False"
      ]
     },
     "execution_count": 25,
     "metadata": {},
     "output_type": "execute_result"
    }
   ],
   "source": [
    "2 not in c"
   ]
  },
  {
   "cell_type": "code",
   "execution_count": 26,
   "id": "ca4828b8",
   "metadata": {},
   "outputs": [
    {
     "data": {
      "text/plain": [
       "True"
      ]
     },
     "execution_count": 26,
     "metadata": {},
     "output_type": "execute_result"
    }
   ],
   "source": [
    "7 not in c"
   ]
  },
  {
   "cell_type": "code",
   "execution_count": 28,
   "id": "d55d5118",
   "metadata": {},
   "outputs": [],
   "source": [
    "friends = ['joseph' , 'glenn' , 'sally']"
   ]
  },
  {
   "cell_type": "code",
   "execution_count": 29,
   "id": "a14a76e2",
   "metadata": {},
   "outputs": [],
   "source": [
    "friends.sort()"
   ]
  },
  {
   "cell_type": "code",
   "execution_count": 30,
   "id": "32905c3a",
   "metadata": {},
   "outputs": [
    {
     "data": {
      "text/plain": [
       "['glenn', 'joseph', 'sally']"
      ]
     },
     "execution_count": 30,
     "metadata": {},
     "output_type": "execute_result"
    }
   ],
   "source": [
    "friends"
   ]
  },
  {
   "cell_type": "code",
   "execution_count": 31,
   "id": "ae0b9130",
   "metadata": {},
   "outputs": [
    {
     "data": {
      "text/plain": [
       "3"
      ]
     },
     "execution_count": 31,
     "metadata": {},
     "output_type": "execute_result"
    }
   ],
   "source": [
    "len(friends)"
   ]
  },
  {
   "cell_type": "code",
   "execution_count": 32,
   "id": "3fd26ad0",
   "metadata": {},
   "outputs": [
    {
     "data": {
      "text/plain": [
       "[1, 2, 3, 4, 5, 6]"
      ]
     },
     "execution_count": 32,
     "metadata": {},
     "output_type": "execute_result"
    }
   ],
   "source": [
    "c"
   ]
  },
  {
   "cell_type": "markdown",
   "id": "8c756ddd",
   "metadata": {},
   "source": [
    "#to find max, min, sum of list"
   ]
  },
  {
   "cell_type": "code",
   "execution_count": 38,
   "id": "1233886f",
   "metadata": {},
   "outputs": [
    {
     "data": {
      "text/plain": [
       "6"
      ]
     },
     "execution_count": 38,
     "metadata": {},
     "output_type": "execute_result"
    }
   ],
   "source": [
    "len(c)"
   ]
  },
  {
   "cell_type": "code",
   "execution_count": 39,
   "id": "14ba623e",
   "metadata": {},
   "outputs": [
    {
     "data": {
      "text/plain": [
       "6"
      ]
     },
     "execution_count": 39,
     "metadata": {},
     "output_type": "execute_result"
    }
   ],
   "source": [
    "max(c)"
   ]
  },
  {
   "cell_type": "code",
   "execution_count": 40,
   "id": "c52a274e",
   "metadata": {},
   "outputs": [
    {
     "data": {
      "text/plain": [
       "1"
      ]
     },
     "execution_count": 40,
     "metadata": {},
     "output_type": "execute_result"
    }
   ],
   "source": [
    "min(c)"
   ]
  },
  {
   "cell_type": "code",
   "execution_count": 42,
   "id": "ff275be0",
   "metadata": {},
   "outputs": [
    {
     "data": {
      "text/plain": [
       "21"
      ]
     },
     "execution_count": 42,
     "metadata": {},
     "output_type": "execute_result"
    }
   ],
   "source": [
    "sum(c)"
   ]
  },
  {
   "cell_type": "code",
   "execution_count": 43,
   "id": "b670df49",
   "metadata": {},
   "outputs": [
    {
     "data": {
      "text/plain": [
       "3.5"
      ]
     },
     "execution_count": 43,
     "metadata": {},
     "output_type": "execute_result"
    }
   ],
   "source": [
    "avg = sum(c)/len(c)\n",
    "avg"
   ]
  },
  {
   "cell_type": "code",
   "execution_count": 55,
   "id": "69afef62",
   "metadata": {},
   "outputs": [
    {
     "name": "stdout",
     "output_type": "stream",
     "text": [
      "Enter Number: 3\n",
      "Enter Number: 9\n",
      "Enter Number: 5\n",
      "Enter Number: Done\n",
      "Average:  5.666666666666667\n"
     ]
    }
   ],
   "source": [
    "nList = list()\n",
    "\n",
    "while True:\n",
    "    n = input('Enter Number: ')\n",
    "    if n.lower() == 'done': break\n",
    "    n = float(n)\n",
    "    nList.append(n)\n",
    "\n",
    "print('Average: ', sum(nList)/len(nList))"
   ]
  },
  {
   "cell_type": "markdown",
   "id": "d517acf8",
   "metadata": {},
   "source": [
    "##### Lists and Strings"
   ]
  },
  {
   "cell_type": "code",
   "execution_count": 56,
   "id": "4f6eb229",
   "metadata": {},
   "outputs": [
    {
     "name": "stdout",
     "output_type": "stream",
     "text": [
      "Sat\n",
      "Fri\n",
      "Fri\n",
      "Fri\n",
      "Fri\n",
      "Fri\n",
      "Fri\n",
      "Fri\n",
      "Fri\n",
      "Fri\n",
      "Fri\n",
      "Fri\n",
      "Fri\n",
      "Fri\n",
      "Fri\n",
      "Fri\n",
      "Fri\n",
      "Fri\n",
      "Fri\n",
      "Fri\n",
      "Fri\n",
      "Thu\n",
      "Thu\n",
      "Thu\n",
      "Thu\n",
      "Thu\n",
      "Thu\n"
     ]
    }
   ],
   "source": [
    "fh1 = open('mbox-short.txt')\n",
    "for line in fh1:\n",
    "    line = line.rstrip()\n",
    "    if not line.startswith('From '):continue \n",
    "    print(line.split()[2])"
   ]
  },
  {
   "cell_type": "markdown",
   "id": "f7433d30",
   "metadata": {},
   "source": [
    "here line.split()[2] can be interpretted as\n",
    " 1. let x = line.split() --> converted to list of words from line with separator as \" \"(white space)\n",
    " 2. x[2]"
   ]
  },
  {
   "cell_type": "markdown",
   "id": "e5efd560",
   "metadata": {},
   "source": [
    "##### Double Split Pattern"
   ]
  },
  {
   "cell_type": "code",
   "execution_count": 57,
   "id": "959f2ece",
   "metadata": {},
   "outputs": [],
   "source": [
    "line = \"From stephen.marquard@uct.ac.za Sat Jan  5 09:14:16 2008\""
   ]
  },
  {
   "cell_type": "code",
   "execution_count": 58,
   "id": "04f45855",
   "metadata": {},
   "outputs": [],
   "source": [
    "words = line.split()"
   ]
  },
  {
   "cell_type": "code",
   "execution_count": 59,
   "id": "31c4161f",
   "metadata": {},
   "outputs": [
    {
     "data": {
      "text/plain": [
       "['From', 'stephen.marquard@uct.ac.za', 'Sat', 'Jan', '5', '09:14:16', '2008']"
      ]
     },
     "execution_count": 59,
     "metadata": {},
     "output_type": "execute_result"
    }
   ],
   "source": [
    "words"
   ]
  },
  {
   "cell_type": "code",
   "execution_count": 60,
   "id": "e91d695a",
   "metadata": {},
   "outputs": [
    {
     "data": {
      "text/plain": [
       "'stephen.marquard@uct.ac.za'"
      ]
     },
     "execution_count": 60,
     "metadata": {},
     "output_type": "execute_result"
    }
   ],
   "source": [
    "words[1]"
   ]
  },
  {
   "cell_type": "code",
   "execution_count": 64,
   "id": "1de2fce7",
   "metadata": {},
   "outputs": [],
   "source": [
    "pieces = words[1].split('@')"
   ]
  },
  {
   "cell_type": "code",
   "execution_count": 65,
   "id": "7f4964ea",
   "metadata": {},
   "outputs": [
    {
     "data": {
      "text/plain": [
       "['stephen.marquard', 'uct.ac.za']"
      ]
     },
     "execution_count": 65,
     "metadata": {},
     "output_type": "execute_result"
    }
   ],
   "source": [
    "pieces"
   ]
  },
  {
   "cell_type": "code",
   "execution_count": 67,
   "id": "208bf799",
   "metadata": {},
   "outputs": [
    {
     "name": "stdout",
     "output_type": "stream",
     "text": [
      "uct.ac.za\n"
     ]
    }
   ],
   "source": [
    "print(pieces[1])"
   ]
  },
  {
   "cell_type": "markdown",
   "id": "5920c956",
   "metadata": {},
   "source": [
    "###### we can also write its as"
   ]
  },
  {
   "cell_type": "code",
   "execution_count": 68,
   "id": "b46b1029",
   "metadata": {},
   "outputs": [
    {
     "data": {
      "text/plain": [
       "'uct.ac.za'"
      ]
     },
     "execution_count": 68,
     "metadata": {},
     "output_type": "execute_result"
    }
   ],
   "source": [
    "line.split()[1].split('@')[1]"
   ]
  },
  {
   "cell_type": "code",
   "execution_count": null,
   "id": "d4c9e102",
   "metadata": {},
   "outputs": [],
   "source": []
  },
  {
   "cell_type": "code",
   "execution_count": null,
   "id": "1117bd3d",
   "metadata": {},
   "outputs": [],
   "source": []
  },
  {
   "cell_type": "code",
   "execution_count": 75,
   "id": "3426f960",
   "metadata": {},
   "outputs": [],
   "source": [
    "friends = [ 'Joseph', 'Glenn', 'Sally' , 'helly' , 'kelly']"
   ]
  },
  {
   "cell_type": "code",
   "execution_count": 82,
   "id": "c3cc2a1f",
   "metadata": {},
   "outputs": [
    {
     "data": {
      "text/plain": [
       "['kelly']"
      ]
     },
     "execution_count": 82,
     "metadata": {},
     "output_type": "execute_result"
    }
   ],
   "source": [
    "friends[-1:]"
   ]
  },
  {
   "cell_type": "code",
   "execution_count": 83,
   "id": "e701ab92",
   "metadata": {},
   "outputs": [
    {
     "data": {
      "text/plain": [
       "['helly', 'kelly']"
      ]
     },
     "execution_count": 83,
     "metadata": {},
     "output_type": "execute_result"
    }
   ],
   "source": [
    "friends[-2:]"
   ]
  },
  {
   "cell_type": "code",
   "execution_count": 84,
   "id": "4b08a3f5",
   "metadata": {},
   "outputs": [
    {
     "data": {
      "text/plain": [
       "['Sally', 'helly', 'kelly']"
      ]
     },
     "execution_count": 84,
     "metadata": {},
     "output_type": "execute_result"
    }
   ],
   "source": [
    "friends[-3:]"
   ]
  },
  {
   "cell_type": "code",
   "execution_count": 85,
   "id": "6882286e",
   "metadata": {},
   "outputs": [
    {
     "data": {
      "text/plain": [
       "['Joseph', 'Glenn', 'Sally', 'helly']"
      ]
     },
     "execution_count": 85,
     "metadata": {},
     "output_type": "execute_result"
    }
   ],
   "source": [
    "friends[:-1]"
   ]
  },
  {
   "cell_type": "code",
   "execution_count": 86,
   "id": "df81d6d3",
   "metadata": {},
   "outputs": [
    {
     "data": {
      "text/plain": [
       "['Joseph', 'Glenn', 'Sally']"
      ]
     },
     "execution_count": 86,
     "metadata": {},
     "output_type": "execute_result"
    }
   ],
   "source": [
    "friends[:-2]"
   ]
  },
  {
   "cell_type": "code",
   "execution_count": 87,
   "id": "bb070b01",
   "metadata": {},
   "outputs": [
    {
     "data": {
      "text/plain": [
       "['Joseph', 'Glenn']"
      ]
     },
     "execution_count": 87,
     "metadata": {},
     "output_type": "execute_result"
    }
   ],
   "source": [
    "friends[:-3]"
   ]
  },
  {
   "cell_type": "code",
   "execution_count": 88,
   "id": "9b5deb90",
   "metadata": {},
   "outputs": [],
   "source": [
    "friends.reverse()"
   ]
  },
  {
   "cell_type": "code",
   "execution_count": 89,
   "id": "3ae8e2e7",
   "metadata": {},
   "outputs": [
    {
     "data": {
      "text/plain": [
       "['kelly', 'helly', 'Sally', 'Glenn', 'Joseph']"
      ]
     },
     "execution_count": 89,
     "metadata": {},
     "output_type": "execute_result"
    }
   ],
   "source": [
    "friends"
   ]
  },
  {
   "cell_type": "code",
   "execution_count": 90,
   "id": "05fb2a87",
   "metadata": {},
   "outputs": [],
   "source": [
    "friends.reverse()"
   ]
  },
  {
   "cell_type": "code",
   "execution_count": 91,
   "id": "8486cc87",
   "metadata": {},
   "outputs": [
    {
     "data": {
      "text/plain": [
       "['Joseph', 'Glenn', 'Sally', 'helly', 'kelly']"
      ]
     },
     "execution_count": 91,
     "metadata": {},
     "output_type": "execute_result"
    }
   ],
   "source": [
    "friends"
   ]
  },
  {
   "cell_type": "code",
   "execution_count": 93,
   "id": "3ddc24dd",
   "metadata": {},
   "outputs": [
    {
     "data": {
      "text/plain": [
       "5"
      ]
     },
     "execution_count": 93,
     "metadata": {},
     "output_type": "execute_result"
    }
   ],
   "source": [
    "len(friends)"
   ]
  },
  {
   "cell_type": "code",
   "execution_count": 95,
   "id": "2b5818fb",
   "metadata": {},
   "outputs": [
    {
     "data": {
      "text/plain": [
       "6"
      ]
     },
     "execution_count": 95,
     "metadata": {},
     "output_type": "execute_result"
    }
   ],
   "source": [
    "len(friends[0])"
   ]
  },
  {
   "cell_type": "code",
   "execution_count": 97,
   "id": "9c5813cc",
   "metadata": {},
   "outputs": [
    {
     "data": {
      "text/plain": [
       "[0, 1, 2, 3, 4]"
      ]
     },
     "execution_count": 97,
     "metadata": {},
     "output_type": "execute_result"
    }
   ],
   "source": [
    "x = list(range(5))\n",
    "x"
   ]
  },
  {
   "cell_type": "code",
   "execution_count": 99,
   "id": "41f177b3",
   "metadata": {},
   "outputs": [],
   "source": [
    "friends.sort()"
   ]
  },
  {
   "cell_type": "code",
   "execution_count": 100,
   "id": "16c3c0ef",
   "metadata": {},
   "outputs": [
    {
     "data": {
      "text/plain": [
       "['Glenn', 'Joseph', 'Sally', 'helly', 'kelly']"
      ]
     },
     "execution_count": 100,
     "metadata": {},
     "output_type": "execute_result"
    }
   ],
   "source": [
    "friends"
   ]
  },
  {
   "cell_type": "code",
   "execution_count": null,
   "id": "ca66f70b",
   "metadata": {},
   "outputs": [],
   "source": []
  },
  {
   "cell_type": "code",
   "execution_count": null,
   "id": "c0e53198",
   "metadata": {},
   "outputs": [],
   "source": []
  },
  {
   "cell_type": "code",
   "execution_count": null,
   "id": "e855d6b8",
   "metadata": {},
   "outputs": [],
   "source": []
  },
  {
   "cell_type": "code",
   "execution_count": 123,
   "id": "29baa33e",
   "metadata": {
    "scrolled": true
   },
   "outputs": [
    {
     "data": {
      "text/plain": [
       "['Arise',\n",
       " 'But',\n",
       " 'It',\n",
       " 'Juliet',\n",
       " 'Who',\n",
       " 'already',\n",
       " 'and',\n",
       " 'breaks',\n",
       " 'east',\n",
       " 'envious',\n",
       " 'fair',\n",
       " 'grief',\n",
       " 'is',\n",
       " 'kill',\n",
       " 'light',\n",
       " 'moon',\n",
       " 'pale',\n",
       " 'sick',\n",
       " 'soft',\n",
       " 'sun',\n",
       " 'the',\n",
       " 'through',\n",
       " 'what',\n",
       " 'window',\n",
       " 'with',\n",
       " 'yonder']"
      ]
     },
     "execution_count": 123,
     "metadata": {},
     "output_type": "execute_result"
    }
   ],
   "source": [
    "\n",
    "fh = open('romeo.txt')\n",
    "lst = list()\n",
    "for line in fh:\n",
    "    line = line.rstrip()\n",
    "    words = line.split()\n",
    "    for word in words : \n",
    "        if word not in lst: lst.append(word)\n",
    "lst.sort()\n",
    "lst"
   ]
  },
  {
   "cell_type": "code",
   "execution_count": null,
   "id": "24bdef92",
   "metadata": {},
   "outputs": [],
   "source": []
  },
  {
   "cell_type": "code",
   "execution_count": null,
   "id": "c6ec6c80",
   "metadata": {},
   "outputs": [],
   "source": []
  },
  {
   "cell_type": "code",
   "execution_count": null,
   "id": "bc5bfebd",
   "metadata": {},
   "outputs": [],
   "source": []
  },
  {
   "cell_type": "code",
   "execution_count": null,
   "id": "f62c50ef",
   "metadata": {},
   "outputs": [],
   "source": []
  },
  {
   "cell_type": "code",
   "execution_count": 137,
   "id": "a9f8afe7",
   "metadata": {},
   "outputs": [
    {
     "name": "stdout",
     "output_type": "stream",
     "text": [
      "stephen.marquard@uct.ac.za\n",
      "louis@media.berkeley.edu\n",
      "zqian@umich.edu\n",
      "rjlowe@iupui.edu\n",
      "zqian@umich.edu\n",
      "rjlowe@iupui.edu\n",
      "cwen@iupui.edu\n",
      "cwen@iupui.edu\n",
      "gsilver@umich.edu\n",
      "gsilver@umich.edu\n",
      "zqian@umich.edu\n",
      "gsilver@umich.edu\n",
      "wagnermr@iupui.edu\n",
      "zqian@umich.edu\n",
      "antranig@caret.cam.ac.uk\n",
      "gopal.ramasammycook@gmail.com\n",
      "david.horwitz@uct.ac.za\n",
      "david.horwitz@uct.ac.za\n",
      "david.horwitz@uct.ac.za\n",
      "david.horwitz@uct.ac.za\n",
      "stephen.marquard@uct.ac.za\n",
      "louis@media.berkeley.edu\n",
      "louis@media.berkeley.edu\n",
      "ray@media.berkeley.edu\n",
      "cwen@iupui.edu\n",
      "cwen@iupui.edu\n",
      "cwen@iupui.edu\n",
      "27\n"
     ]
    }
   ],
   "source": [
    "fh = open ('mbox-short.txt')\n",
    "lst = list()\n",
    "for lines in fh:\n",
    "    lines = lines.rstrip()\n",
    "    if not lines.startswith('From '): continue\n",
    "    linesPieces = lines.split()\n",
    "    userName = linesPieces[1]\n",
    "    lst.append(userName)\n",
    "    print(userName)\n",
    "print(len(lst))"
   ]
  },
  {
   "cell_type": "code",
   "execution_count": null,
   "id": "f8890f4e",
   "metadata": {},
   "outputs": [],
   "source": []
  },
  {
   "cell_type": "code",
   "execution_count": null,
   "id": "899a30b1",
   "metadata": {},
   "outputs": [],
   "source": []
  },
  {
   "cell_type": "code",
   "execution_count": 177,
   "id": "9b123700",
   "metadata": {},
   "outputs": [
    {
     "name": "stdout",
     "output_type": "stream",
     "text": [
      "stephen.marquard@uct.ac.za 7\n",
      "louis@media.berkeley.edu 7\n",
      "zqian@umich.edu 7\n",
      "rjlowe@iupui.edu 7\n",
      "zqian@umich.edu 7\n",
      "rjlowe@iupui.edu 7\n",
      "cwen@iupui.edu 7\n",
      "cwen@iupui.edu 7\n",
      "gsilver@umich.edu 7\n",
      "gsilver@umich.edu 7\n",
      "zqian@umich.edu 7\n",
      "gsilver@umich.edu 7\n",
      "wagnermr@iupui.edu 7\n",
      "zqian@umich.edu 7\n",
      "antranig@caret.cam.ac.uk 7\n",
      "gopal.ramasammycook@gmail.com 7\n",
      "david.horwitz@uct.ac.za 7\n",
      "david.horwitz@uct.ac.za 7\n",
      "david.horwitz@uct.ac.za 7\n",
      "david.horwitz@uct.ac.za 7\n",
      "stephen.marquard@uct.ac.za 7\n",
      "louis@media.berkeley.edu 7\n",
      "louis@media.berkeley.edu 7\n",
      "ray@media.berkeley.edu 7\n",
      "cwen@iupui.edu 7\n",
      "cwen@iupui.edu 7\n",
      "cwen@iupui.edu 7\n",
      "27\n"
     ]
    }
   ],
   "source": [
    "han = open('mbox-short.txt')\n",
    "c = 0\n",
    "\n",
    "for line in han:\n",
    "    line = line.rstrip()\n",
    "    wds = line.split()\n",
    "    #guardian in a compound statement\n",
    "    \n",
    "    #it will first check len(wds) if its true then will ignore the 2nds condition\n",
    "    #if we flip both statements, we will get a traceback since if wds[0] gets true it will ignore len(wds) which will\n",
    "    #                                   later on cause the traceback of out of index....\n",
    "    \n",
    "    if len(wds) < 3 or wds[0] != 'From':\n",
    "        continue\n",
    "    print(wds[1] , len(wds))\n",
    "    c+=1\n",
    "print(c)"
   ]
  },
  {
   "cell_type": "code",
   "execution_count": null,
   "id": "6a14ca90",
   "metadata": {},
   "outputs": [],
   "source": []
  }
 ],
 "metadata": {
  "kernelspec": {
   "display_name": "Python 3 (ipykernel)",
   "language": "python",
   "name": "python3"
  },
  "language_info": {
   "codemirror_mode": {
    "name": "ipython",
    "version": 3
   },
   "file_extension": ".py",
   "mimetype": "text/x-python",
   "name": "python",
   "nbconvert_exporter": "python",
   "pygments_lexer": "ipython3",
   "version": "3.9.13"
  }
 },
 "nbformat": 4,
 "nbformat_minor": 5
}
