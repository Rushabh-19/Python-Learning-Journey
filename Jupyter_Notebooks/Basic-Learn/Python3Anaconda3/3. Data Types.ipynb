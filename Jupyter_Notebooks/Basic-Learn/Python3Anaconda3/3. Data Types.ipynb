{
 "cells": [
  {
   "cell_type": "markdown",
   "id": "420dd630",
   "metadata": {},
   "source": [
    "<center>\n",
    "    <h1>Data Types</h1>\n",
    "</center>"
   ]
  },
  {
   "cell_type": "code",
   "execution_count": 1,
   "id": "c8318b0d",
   "metadata": {},
   "outputs": [
    {
     "data": {
      "text/plain": [
       "str"
      ]
     },
     "execution_count": 1,
     "metadata": {},
     "output_type": "execute_result"
    }
   ],
   "source": [
    "some_string = \"This is some string\"\n",
    "type(some_string)"
   ]
  },
  {
   "cell_type": "code",
   "execution_count": 2,
   "id": "6695de95",
   "metadata": {},
   "outputs": [
    {
     "name": "stdout",
     "output_type": "stream",
     "text": [
      "<class 'str'>\n"
     ]
    }
   ],
   "source": [
    "print (type(some_string))"
   ]
  },
  {
   "cell_type": "code",
   "execution_count": 3,
   "id": "771eaecc",
   "metadata": {},
   "outputs": [
    {
     "data": {
      "text/plain": [
       "int"
      ]
     },
     "execution_count": 3,
     "metadata": {},
     "output_type": "execute_result"
    }
   ],
   "source": [
    "some_number = 4\n",
    "type(some_number)"
   ]
  },
  {
   "cell_type": "code",
   "execution_count": 4,
   "id": "b17a6ada",
   "metadata": {},
   "outputs": [
    {
     "name": "stdout",
     "output_type": "stream",
     "text": [
      "<class 'int'>\n"
     ]
    }
   ],
   "source": [
    "print (type(some_number))"
   ]
  },
  {
   "cell_type": "code",
   "execution_count": 5,
   "id": "37a5c398",
   "metadata": {},
   "outputs": [
    {
     "data": {
      "text/plain": [
       "float"
      ]
     },
     "execution_count": 5,
     "metadata": {},
     "output_type": "execute_result"
    }
   ],
   "source": [
    "some_float = 4.4\n",
    "type(some_float)"
   ]
  },
  {
   "cell_type": "code",
   "execution_count": 6,
   "id": "af75b27b",
   "metadata": {},
   "outputs": [
    {
     "name": "stdout",
     "output_type": "stream",
     "text": [
      "<class 'float'>\n"
     ]
    }
   ],
   "source": [
    "print(type(some_float))"
   ]
  },
  {
   "cell_type": "code",
   "execution_count": 8,
   "id": "bfc0a632",
   "metadata": {},
   "outputs": [
    {
     "data": {
      "text/plain": [
       "complex"
      ]
     },
     "execution_count": 8,
     "metadata": {},
     "output_type": "execute_result"
    }
   ],
   "source": [
    "some_complex_number = 20j\n",
    "type(some_complex_number)"
   ]
  },
  {
   "cell_type": "code",
   "execution_count": 9,
   "id": "b211d97b",
   "metadata": {},
   "outputs": [
    {
     "name": "stdout",
     "output_type": "stream",
     "text": [
      "<class 'complex'>\n"
     ]
    }
   ],
   "source": [
    "print (type(some_complex_number))"
   ]
  },
  {
   "cell_type": "code",
   "execution_count": 11,
   "id": "44572623",
   "metadata": {},
   "outputs": [
    {
     "data": {
      "text/plain": [
       "bool"
      ]
     },
     "execution_count": 11,
     "metadata": {},
     "output_type": "execute_result"
    }
   ],
   "source": [
    "some_boolean = True\n",
    "type(some_boolean)"
   ]
  },
  {
   "cell_type": "code",
   "execution_count": 12,
   "id": "08fc0fad",
   "metadata": {},
   "outputs": [
    {
     "name": "stdout",
     "output_type": "stream",
     "text": [
      "<class 'bool'>\n"
     ]
    }
   ],
   "source": [
    "print (type(some_boolean))"
   ]
  },
  {
   "cell_type": "code",
   "execution_count": 13,
   "id": "66f67ba1",
   "metadata": {},
   "outputs": [
    {
     "data": {
      "text/plain": [
       "b'\\x00\\x00\\x00\\x00\\x00\\x00\\x00\\x00\\x00\\x00'"
      ]
     },
     "execution_count": 13,
     "metadata": {},
     "output_type": "execute_result"
    }
   ],
   "source": [
    "some_bytes = bytes(10)\n",
    "some_bytes"
   ]
  },
  {
   "cell_type": "code",
   "execution_count": 14,
   "id": "0dea2ff7",
   "metadata": {},
   "outputs": [
    {
     "data": {
      "text/plain": [
       "bytes"
      ]
     },
     "execution_count": 14,
     "metadata": {},
     "output_type": "execute_result"
    }
   ],
   "source": [
    "type(some_bytes)"
   ]
  },
  {
   "cell_type": "markdown",
   "id": "fc16ea4c",
   "metadata": {},
   "source": [
    "<h4>there are 3 binary types supported by Python:</h4>\n",
    "<ol>\n",
    "    <li>bytes\n",
    "        <ul>\n",
    "            <li>value is preceeded by lower case 'b' showing that its a binary number.</li>\n",
    "            <li>each individual byte is preceeded by an escape characters \\x \n",
    "                which shows that each of this is a hexadecimal.</li>\n",
    "            <li>not mutable.</li>\n",
    "        </ul>\n",
    "    </li>\n",
    "    <li>bytearray\n",
    "        <ul>\n",
    "            <li>difference between bytes and bytearray is that bytearray is mutable.</li>\n",
    "            <li>can be treated as a sequence of unsigned integers, each in the range of 0 to 255.</li>\n",
    "            <li>enclosed by a pair of parentheses and that in turn is preceded by the word 'bytearray'.</li>\n",
    "        </ul>\n",
    "    </li>\n",
    "    <li>memoryview \n",
    "        <ul>\n",
    "            <li>can be constructed off a bytes or a bytearray object or indeed of pretty much any object at all.</li>           \n",
    "                <li>comes handy when working with very large object and where its very efficient to create copies of those objects.</li>\n",
    "        </ul>\n",
    "    </li>\n",
    "</ol>\n",
    "<h5>we can index this 3 types using square brackets, so that we can reach into the sequence in the order to access individual bytes.</h5>"
   ]
  },
  {
   "cell_type": "code",
   "execution_count": 15,
   "id": "6b6813a4",
   "metadata": {},
   "outputs": [
    {
     "data": {
      "text/plain": [
       "bytearray(b'\\x00\\x00\\x00\\x00\\x00\\x00\\x00\\x00\\x00\\x00')"
      ]
     },
     "execution_count": 15,
     "metadata": {},
     "output_type": "execute_result"
    }
   ],
   "source": [
    "some_bytes = bytearray(10)\n",
    "some_bytes"
   ]
  },
  {
   "cell_type": "code",
   "execution_count": 16,
   "id": "6903ee77",
   "metadata": {},
   "outputs": [
    {
     "data": {
      "text/plain": [
       "bytearray"
      ]
     },
     "execution_count": 16,
     "metadata": {},
     "output_type": "execute_result"
    }
   ],
   "source": [
    "type(some_bytes)"
   ]
  },
  {
   "cell_type": "code",
   "execution_count": 17,
   "id": "7de420af",
   "metadata": {},
   "outputs": [
    {
     "data": {
      "text/plain": [
       "<memory at 0x000001D12D612340>"
      ]
     },
     "execution_count": 17,
     "metadata": {},
     "output_type": "execute_result"
    }
   ],
   "source": [
    "some_memoryview = memoryview(bytes(10))\n",
    "some_memoryview"
   ]
  },
  {
   "cell_type": "markdown",
   "id": "6f78ae1b",
   "metadata": {},
   "source": [
    "<li>memoryview(bytes(10)) - as the way of representing all of the bytes that make up an object as a binary type. Here we can see that we created a memory view of a bytes sequence and when we print it out, we get is pretty much a memory location</li>"
   ]
  },
  {
   "cell_type": "code",
   "execution_count": 18,
   "id": "c6c48bae",
   "metadata": {},
   "outputs": [
    {
     "data": {
      "text/plain": [
       "memoryview"
      ]
     },
     "execution_count": 18,
     "metadata": {},
     "output_type": "execute_result"
    }
   ],
   "source": [
    "type(some_memoryview)"
   ]
  },
  {
   "cell_type": "code",
   "execution_count": null,
   "id": "eac785b6",
   "metadata": {},
   "outputs": [],
   "source": []
  },
  {
   "cell_type": "markdown",
   "id": "2ee9fa0d",
   "metadata": {},
   "source": [
    "<center><h1>Conversion of Data Types</h1></center>"
   ]
  },
  {
   "cell_type": "code",
   "execution_count": 1,
   "id": "0cfda459",
   "metadata": {},
   "outputs": [
    {
     "data": {
      "text/plain": [
       "str"
      ]
     },
     "execution_count": 1,
     "metadata": {},
     "output_type": "execute_result"
    }
   ],
   "source": [
    "some_string = \"1001\"\n",
    "type(some_string)"
   ]
  },
  {
   "cell_type": "code",
   "execution_count": 2,
   "id": "f39041e4",
   "metadata": {},
   "outputs": [
    {
     "data": {
      "text/plain": [
       "1001"
      ]
     },
     "execution_count": 2,
     "metadata": {},
     "output_type": "execute_result"
    }
   ],
   "source": [
    "some_int = int (some_string)\n",
    "some_int"
   ]
  },
  {
   "cell_type": "code",
   "execution_count": 3,
   "id": "c812b5d2",
   "metadata": {},
   "outputs": [
    {
     "data": {
      "text/plain": [
       "int"
      ]
     },
     "execution_count": 3,
     "metadata": {},
     "output_type": "execute_result"
    }
   ],
   "source": [
    "type(some_int)"
   ]
  },
  {
   "cell_type": "code",
   "execution_count": 4,
   "id": "9306e595",
   "metadata": {},
   "outputs": [
    {
     "data": {
      "text/plain": [
       "1001.0"
      ]
     },
     "execution_count": 4,
     "metadata": {},
     "output_type": "execute_result"
    }
   ],
   "source": [
    "some_float = float(some_string)\n",
    "some_float"
   ]
  },
  {
   "cell_type": "code",
   "execution_count": 5,
   "id": "63ee0bd6",
   "metadata": {},
   "outputs": [
    {
     "data": {
      "text/plain": [
       "float"
      ]
     },
     "execution_count": 5,
     "metadata": {},
     "output_type": "execute_result"
    }
   ],
   "source": [
    "type(some_float)"
   ]
  },
  {
   "cell_type": "code",
   "execution_count": 6,
   "id": "743662e6",
   "metadata": {},
   "outputs": [
    {
     "data": {
      "text/plain": [
       "'10000'"
      ]
     },
     "execution_count": 6,
     "metadata": {},
     "output_type": "execute_result"
    }
   ],
   "source": [
    "another_string = str(10000)\n",
    "another_string"
   ]
  },
  {
   "cell_type": "code",
   "execution_count": 7,
   "id": "69e21e33",
   "metadata": {},
   "outputs": [
    {
     "data": {
      "text/plain": [
       "str"
      ]
     },
     "execution_count": 7,
     "metadata": {},
     "output_type": "execute_result"
    }
   ],
   "source": [
    "type(another_string)"
   ]
  },
  {
   "cell_type": "code",
   "execution_count": 8,
   "id": "7ba33105",
   "metadata": {},
   "outputs": [
    {
     "data": {
      "text/plain": [
       "'10000.464'"
      ]
     },
     "execution_count": 8,
     "metadata": {},
     "output_type": "execute_result"
    }
   ],
   "source": [
    "yet_another_string = str(10000.464)\n",
    "yet_another_string"
   ]
  },
  {
   "cell_type": "code",
   "execution_count": 9,
   "id": "4c298586",
   "metadata": {},
   "outputs": [
    {
     "data": {
      "text/plain": [
       "str"
      ]
     },
     "execution_count": 9,
     "metadata": {},
     "output_type": "execute_result"
    }
   ],
   "source": [
    "type(yet_another_string)"
   ]
  },
  {
   "cell_type": "code",
   "execution_count": 10,
   "id": "be94217c",
   "metadata": {},
   "outputs": [
    {
     "data": {
      "text/plain": [
       "'False'"
      ]
     },
     "execution_count": 10,
     "metadata": {},
     "output_type": "execute_result"
    }
   ],
   "source": [
    "boolean_string = str(False)\n",
    "boolean_string"
   ]
  },
  {
   "cell_type": "code",
   "execution_count": 11,
   "id": "de7fe8a9",
   "metadata": {},
   "outputs": [
    {
     "data": {
      "text/plain": [
       "str"
      ]
     },
     "execution_count": 11,
     "metadata": {},
     "output_type": "execute_result"
    }
   ],
   "source": [
    "type(boolean_string)"
   ]
  },
  {
   "cell_type": "code",
   "execution_count": null,
   "id": "fea0f246",
   "metadata": {},
   "outputs": [],
   "source": []
  },
  {
   "cell_type": "code",
   "execution_count": null,
   "id": "26675e7c",
   "metadata": {},
   "outputs": [],
   "source": []
  },
  {
   "cell_type": "code",
   "execution_count": null,
   "id": "3e3caf66",
   "metadata": {},
   "outputs": [],
   "source": []
  }
 ],
 "metadata": {
  "kernelspec": {
   "display_name": "Python 3 (ipykernel)",
   "language": "python",
   "name": "python3"
  },
  "language_info": {
   "codemirror_mode": {
    "name": "ipython",
    "version": 3
   },
   "file_extension": ".py",
   "mimetype": "text/x-python",
   "name": "python",
   "nbconvert_exporter": "python",
   "pygments_lexer": "ipython3",
   "version": "3.9.13"
  }
 },
 "nbformat": 4,
 "nbformat_minor": 5
}
