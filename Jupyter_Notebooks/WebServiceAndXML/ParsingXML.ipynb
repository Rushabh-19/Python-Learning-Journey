{
 "cells": [
  {
   "cell_type": "markdown",
   "id": "ebe35745-03e3-49a4-ab15-cb727d496af0",
   "metadata": {},
   "source": [
    "Pasrsing XML\n",
    "==="
   ]
  },
  {
   "cell_type": "code",
   "execution_count": 5,
   "id": "47b31565-89c4-4b20-be1e-8fe50b01304c",
   "metadata": {},
   "outputs": [
    {
     "name": "stdout",
     "output_type": "stream",
     "text": [
      "Name: Ryuu\n",
      "email Attr hide: yes\n",
      "phone Attr type: intl\n"
     ]
    }
   ],
   "source": [
    "import xml.etree.ElementTree as ET\n",
    "data ='''\n",
    "<person>\n",
    "   <name>Ryuu</name>\n",
    "   <phone type=\"intl\">\n",
    "      +00 000 000 0000\n",
    "   </phone>\n",
    "   <email hide=\"yes\"/>\n",
    "</person>\n",
    "'''\n",
    "\n",
    "tree = ET.fromstring(data) #this will make the data formate into a tree structure\n",
    "print ('Name:', tree.find('name').text) #extracting text of specified element\n",
    "print ('email Attr hide:' , tree.find('email').get('hide')) #Extracting the Attribute of the Element\n",
    "print ('phone Attr type:' , tree.find('phone').get('type'))"
   ]
  },
  {
   "cell_type": "code",
   "execution_count": 19,
   "id": "c2c84652-45cd-4602-a0eb-66e7859d30a4",
   "metadata": {},
   "outputs": [
    {
     "name": "stdout",
     "output_type": "stream",
     "text": [
      "Users count: 2\n",
      "\n",
      "Name: one\n",
      "ID 001\n",
      "Attribute x: 2\n",
      "\n",
      "Name: seven\n",
      "ID 009\n",
      "Attribute x: 7\n",
      "\n"
     ]
    }
   ],
   "source": [
    "import xml.etree.ElementTree as ET\n",
    "data ='''\n",
    "<stuff>\n",
    "   <users>\n",
    "       <user x=\"2\">\n",
    "          <id>001</id>\n",
    "          <name>one</name>\n",
    "       </user>\n",
    "       <user x=\"7\">\n",
    "          <id>009</id>\n",
    "          <name>seven</name>\n",
    "       </user>\n",
    "   </users>\n",
    "</stuff>\n",
    "'''\n",
    "stuff = ET.fromstring(data)\n",
    "lst = stuff.findall('users/user') #gonna find all the user tags under the users tag and save the data as a list\n",
    "# means its save the whole child tree data as an element in the list \n",
    "print ('Users count:',len(lst))\n",
    "print()\n",
    "for item in lst: # here are iterating each of the child tree data from the list\n",
    "    print ('Name:', item.find('name').text)\n",
    "    print ('ID', item.find('id').text)\n",
    "    print ('Attribute x:', item.get('x'))\n",
    "    print()"
   ]
  },
  {
   "cell_type": "code",
   "execution_count": null,
   "id": "2cff6bf9-8f26-4a5e-b689-7528b5b05d7e",
   "metadata": {},
   "outputs": [],
   "source": []
  }
 ],
 "metadata": {
  "kernelspec": {
   "display_name": "Python 3 (ipykernel)",
   "language": "python",
   "name": "python3"
  },
  "language_info": {
   "codemirror_mode": {
    "name": "ipython",
    "version": 3
   },
   "file_extension": ".py",
   "mimetype": "text/x-python",
   "name": "python",
   "nbconvert_exporter": "python",
   "pygments_lexer": "ipython3",
   "version": "3.9.13"
  }
 },
 "nbformat": 4,
 "nbformat_minor": 5
}
