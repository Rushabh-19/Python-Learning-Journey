{
 "cells": [
  {
   "cell_type": "markdown",
   "id": "c2a27ef1",
   "metadata": {},
   "source": [
    "<center><h1>Lists</h1></center>\n",
    "<li>List are Mutable</li>\n",
    "<li>can hold different types of values</li>\n",
    "<li>enclosed in square brackets</li>"
   ]
  },
  {
   "cell_type": "code",
   "execution_count": 3,
   "id": "5a4632f2",
   "metadata": {},
   "outputs": [
    {
     "data": {
      "text/plain": [
       "[3, 5, 7, 9]"
      ]
     },
     "execution_count": 3,
     "metadata": {},
     "output_type": "execute_result"
    }
   ],
   "source": [
    "number_list = [3,5,7,9]\n",
    "number_list"
   ]
  },
  {
   "cell_type": "code",
   "execution_count": 4,
   "id": "420477e4",
   "metadata": {
    "scrolled": true
   },
   "outputs": [
    {
     "data": {
      "text/plain": [
       "list"
      ]
     },
     "execution_count": 4,
     "metadata": {},
     "output_type": "execute_result"
    }
   ],
   "source": [
    "type(number_list)"
   ]
  },
  {
   "cell_type": "code",
   "execution_count": 5,
   "id": "3841aeb9",
   "metadata": {},
   "outputs": [
    {
     "data": {
      "text/plain": [
       "int"
      ]
     },
     "execution_count": 5,
     "metadata": {},
     "output_type": "execute_result"
    }
   ],
   "source": [
    "type(number_list[2])"
   ]
  },
  {
   "cell_type": "code",
   "execution_count": 6,
   "id": "b77bf1b6",
   "metadata": {},
   "outputs": [
    {
     "data": {
      "text/plain": [
       "list"
      ]
     },
     "execution_count": 6,
     "metadata": {},
     "output_type": "execute_result"
    }
   ],
   "source": [
    "mixed_list = [4, 2.3, \"this is string\", True]\n",
    "type(mixed_list)"
   ]
  },
  {
   "cell_type": "code",
   "execution_count": 7,
   "id": "db74eaae",
   "metadata": {},
   "outputs": [
    {
     "data": {
      "text/plain": [
       "str"
      ]
     },
     "execution_count": 7,
     "metadata": {},
     "output_type": "execute_result"
    }
   ],
   "source": [
    "type(mixed_list[2])"
   ]
  },
  {
   "cell_type": "code",
   "execution_count": 8,
   "id": "558fe464",
   "metadata": {},
   "outputs": [
    {
     "data": {
      "text/plain": [
       "float"
      ]
     },
     "execution_count": 8,
     "metadata": {},
     "output_type": "execute_result"
    }
   ],
   "source": [
    "type(mixed_list[1])"
   ]
  },
  {
   "cell_type": "code",
   "execution_count": 9,
   "id": "cf8dc363",
   "metadata": {},
   "outputs": [
    {
     "data": {
      "text/plain": [
       "bool"
      ]
     },
     "execution_count": 9,
     "metadata": {},
     "output_type": "execute_result"
    }
   ],
   "source": [
    "type(mixed_list[3])"
   ]
  },
  {
   "cell_type": "markdown",
   "id": "8980b7c1",
   "metadata": {},
   "source": [
    "<center><h1>Tuple</h1></center>\n",
    "<li>enclosed in round brackets or parentheses.</li>\n",
    "<li>can hold different types of values</li>\n",
    "<li>Tuple are Immutable.</li>\n",
    "<li>Individual values in the tuples are often refered as fields.</li>"
   ]
  },
  {
   "cell_type": "code",
   "execution_count": 10,
   "id": "cbad5898",
   "metadata": {},
   "outputs": [
    {
     "data": {
      "text/plain": [
       "('Jane', 34, 5600, True)"
      ]
     },
     "execution_count": 10,
     "metadata": {},
     "output_type": "execute_result"
    }
   ],
   "source": [
    "record=(\"Jane\", 34, 5600, True)\n",
    "record"
   ]
  },
  {
   "cell_type": "code",
   "execution_count": 11,
   "id": "e26aa760",
   "metadata": {},
   "outputs": [
    {
     "data": {
      "text/plain": [
       "tuple"
      ]
     },
     "execution_count": 11,
     "metadata": {},
     "output_type": "execute_result"
    }
   ],
   "source": [
    "type(record)"
   ]
  },
  {
   "cell_type": "code",
   "execution_count": 12,
   "id": "be361651",
   "metadata": {},
   "outputs": [
    {
     "data": {
      "text/plain": [
       "str"
      ]
     },
     "execution_count": 12,
     "metadata": {},
     "output_type": "execute_result"
    }
   ],
   "source": [
    "type(record[0])"
   ]
  },
  {
   "cell_type": "code",
   "execution_count": 13,
   "id": "e141ec66",
   "metadata": {},
   "outputs": [
    {
     "data": {
      "text/plain": [
       "bool"
      ]
     },
     "execution_count": 13,
     "metadata": {},
     "output_type": "execute_result"
    }
   ],
   "source": [
    "type(record[3])"
   ]
  },
  {
   "cell_type": "markdown",
   "id": "d21b0297",
   "metadata": {},
   "source": [
    "<center><h1>range function</h1></center>\n",
    "<li>we can create a sequence using the range function in python.\n",
    "<li>Range is a <b>Built-In Function</b> type and a <b>Generator </b>function. "
   ]
  },
  {
   "cell_type": "code",
   "execution_count": 14,
   "id": "cd6d0862",
   "metadata": {},
   "outputs": [
    {
     "data": {
      "text/plain": [
       "range(0, 4)"
      ]
     },
     "execution_count": 14,
     "metadata": {},
     "output_type": "execute_result"
    }
   ],
   "source": [
    "range_of_numbers = range(4)\n",
    "range_of_numbers"
   ]
  },
  {
   "cell_type": "code",
   "execution_count": 15,
   "id": "ac49640c",
   "metadata": {},
   "outputs": [
    {
     "data": {
      "text/plain": [
       "range"
      ]
     },
     "execution_count": 15,
     "metadata": {},
     "output_type": "execute_result"
    }
   ],
   "source": [
    "type (range_of_numbers)"
   ]
  },
  {
   "cell_type": "markdown",
   "id": "f88fcf3d",
   "metadata": {},
   "source": [
    "<center><h1>Sets</h1></center>\n",
    "<li>curly Braces</li>\n",
    "<li>It is unordered and unIndexed</li>"
   ]
  },
  {
   "cell_type": "code",
   "execution_count": 16,
   "id": "8b44cf6b",
   "metadata": {},
   "outputs": [
    {
     "data": {
      "text/plain": [
       "{'blue', 'green', 'red'}"
      ]
     },
     "execution_count": 16,
     "metadata": {},
     "output_type": "execute_result"
    }
   ],
   "source": [
    "colors= {\"red\", \"green\", \"blue\"}\n",
    "colors"
   ]
  },
  {
   "cell_type": "markdown",
   "id": "6f6d3d15",
   "metadata": {},
   "source": [
    "as we can see that the printed value is not as the same order as we entered while defining the set"
   ]
  },
  {
   "cell_type": "code",
   "execution_count": 17,
   "id": "4d2403bf",
   "metadata": {},
   "outputs": [
    {
     "data": {
      "text/plain": [
       "set"
      ]
     },
     "execution_count": 17,
     "metadata": {},
     "output_type": "execute_result"
    }
   ],
   "source": [
    "type(colors)"
   ]
  },
  {
   "cell_type": "code",
   "execution_count": 18,
   "id": "8be6d765",
   "metadata": {},
   "outputs": [
    {
     "data": {
      "text/plain": [
       "{1, 2.5, 6, 7.8}"
      ]
     },
     "execution_count": 18,
     "metadata": {},
     "output_type": "execute_result"
    }
   ],
   "source": [
    "numbers = {1,2.5,6,7.8}\n",
    "numbers"
   ]
  },
  {
   "cell_type": "markdown",
   "id": "bbda9001",
   "metadata": {},
   "source": [
    " here the order is preserved. So from this we can say not to rely on the order when working with sets are it can or cannot  preserve the order in which we have defined it...\n"
   ]
  }
 ],
 "metadata": {
  "kernelspec": {
   "display_name": "Python 3 (ipykernel)",
   "language": "python",
   "name": "python3"
  },
  "language_info": {
   "codemirror_mode": {
    "name": "ipython",
    "version": 3
   },
   "file_extension": ".py",
   "mimetype": "text/x-python",
   "name": "python",
   "nbconvert_exporter": "python",
   "pygments_lexer": "ipython3",
   "version": "3.9.13"
  }
 },
 "nbformat": 4,
 "nbformat_minor": 5
}
