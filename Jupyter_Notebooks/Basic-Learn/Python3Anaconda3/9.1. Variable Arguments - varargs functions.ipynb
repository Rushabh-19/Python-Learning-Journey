{
 "cells": [
  {
   "cell_type": "markdown",
   "id": "41281121",
   "metadata": {},
   "source": [
    "###### some classic examples of varargs functions."
   ]
  },
  {
   "cell_type": "code",
   "execution_count": 1,
   "id": "808208a9",
   "metadata": {},
   "outputs": [
    {
     "name": "stdout",
     "output_type": "stream",
     "text": [
      "\n"
     ]
    }
   ],
   "source": [
    "print()"
   ]
  },
  {
   "cell_type": "code",
   "execution_count": 2,
   "id": "aad5ae91",
   "metadata": {},
   "outputs": [
    {
     "name": "stdout",
     "output_type": "stream",
     "text": [
      "Python\n"
     ]
    }
   ],
   "source": [
    "print('Python')"
   ]
  },
  {
   "cell_type": "code",
   "execution_count": 3,
   "id": "4e66aab9",
   "metadata": {},
   "outputs": [
    {
     "name": "stdout",
     "output_type": "stream",
     "text": [
      "Python Java\n"
     ]
    }
   ],
   "source": [
    "print('Python','Java')"
   ]
  },
  {
   "cell_type": "code",
   "execution_count": 4,
   "id": "04ecd92c",
   "metadata": {},
   "outputs": [
    {
     "name": "stdout",
     "output_type": "stream",
     "text": [
      "Python Java C++\n"
     ]
    }
   ],
   "source": [
    "print('Python' , 'Java' , 'C++')"
   ]
  },
  {
   "cell_type": "markdown",
   "id": "41d3597a",
   "metadata": {},
   "source": []
  },
  {
   "cell_type": "code",
   "execution_count": 5,
   "id": "e3478bd6",
   "metadata": {},
   "outputs": [],
   "source": [
    "def display(*args):\n",
    "    print(args)"
   ]
  },
  {
   "cell_type": "markdown",
   "id": "8dd1ad58",
   "metadata": {},
   "source": [
    "here the key point to note is the astrisk sign(*) "
   ]
  },
  {
   "cell_type": "code",
   "execution_count": 6,
   "id": "3e53dd74",
   "metadata": {},
   "outputs": [
    {
     "name": "stdout",
     "output_type": "stream",
     "text": [
      "()\n"
     ]
    }
   ],
   "source": [
    "display()"
   ]
  },
  {
   "cell_type": "code",
   "execution_count": 7,
   "id": "7fb20407",
   "metadata": {},
   "outputs": [
    {
     "data": {
      "text/plain": [
       "function"
      ]
     },
     "execution_count": 7,
     "metadata": {},
     "output_type": "execute_result"
    }
   ],
   "source": [
    "type(display)"
   ]
  },
  {
   "cell_type": "code",
   "execution_count": 8,
   "id": "a73f5767",
   "metadata": {},
   "outputs": [
    {
     "name": "stdout",
     "output_type": "stream",
     "text": [
      "('Python',)\n"
     ]
    }
   ],
   "source": [
    "display('Python')"
   ]
  },
  {
   "cell_type": "code",
   "execution_count": 9,
   "id": "34c86260",
   "metadata": {
    "scrolled": false
   },
   "outputs": [
    {
     "name": "stdout",
     "output_type": "stream",
     "text": [
      "('Python', 'Java')\n"
     ]
    }
   ],
   "source": [
    "display('Python' , 'Java')"
   ]
  },
  {
   "cell_type": "code",
   "execution_count": 10,
   "id": "4ba2cbca",
   "metadata": {},
   "outputs": [
    {
     "name": "stdout",
     "output_type": "stream",
     "text": [
      "('Python', 'Java', 'C++')\n"
     ]
    }
   ],
   "source": [
    "display ('Python' , 'Java' , 'C++')"
   ]
  },
  {
   "cell_type": "markdown",
   "id": "cf45cb81",
   "metadata": {},
   "source": [
    "here display is taking multiple arguments and putting them in a Tuple. this is called <b>Packing</b>."
   ]
  },
  {
   "cell_type": "code",
   "execution_count": null,
   "id": "b47dbc46",
   "metadata": {},
   "outputs": [],
   "source": []
  },
  {
   "cell_type": "code",
   "execution_count": 11,
   "id": "c1b0ad6b",
   "metadata": {},
   "outputs": [
    {
     "name": "stdout",
     "output_type": "stream",
     "text": [
      "(['Python', 'Java', 'C++', 'Javascript', 'C##'],)\n"
     ]
    }
   ],
   "source": [
    "language_list = ['Python' , 'Java' , 'C++' , 'Javascript' , 'C##']\n",
    "\n",
    "display(language_list)"
   ]
  },
  {
   "cell_type": "markdown",
   "id": "3fb3b18a",
   "metadata": {},
   "source": [
    "as we can see that the function make a tuple and the list is made as the first element of the tuple"
   ]
  },
  {
   "cell_type": "markdown",
   "id": "605b375c",
   "metadata": {},
   "source": [
    "now lets use the astrisk as shown in below"
   ]
  },
  {
   "cell_type": "code",
   "execution_count": 12,
   "id": "aacc9c83",
   "metadata": {},
   "outputs": [
    {
     "name": "stdout",
     "output_type": "stream",
     "text": [
      "('Python', 'Java', 'C++', 'Javascript', 'C##')\n"
     ]
    }
   ],
   "source": [
    "display(*language_list)"
   ]
  },
  {
   "cell_type": "markdown",
   "id": "195ed2c5",
   "metadata": {},
   "source": [
    "here all the elements of the list are stored as the elements of tuple and not as the single element of list in tuple."
   ]
  },
  {
   "cell_type": "markdown",
   "id": "154c60ef",
   "metadata": {},
   "source": [
    "this is called <b>unpacking</b>"
   ]
  },
  {
   "cell_type": "markdown",
   "id": "31b7ab9f",
   "metadata": {},
   "source": [
    "this unpacking works on both list and tuples"
   ]
  },
  {
   "cell_type": "code",
   "execution_count": 13,
   "id": "413b3c71",
   "metadata": {},
   "outputs": [
    {
     "name": "stdout",
     "output_type": "stream",
     "text": [
      "('Python', 'Java', 'C++', 'Javascript', 'C##')\n"
     ]
    }
   ],
   "source": [
    "language_list = ('Python' , 'Java' , 'C++' , 'Javascript' , 'C##')\n",
    "\n",
    "display(*language_list)"
   ]
  },
  {
   "cell_type": "code",
   "execution_count": null,
   "id": "6367a0cd",
   "metadata": {},
   "outputs": [],
   "source": []
  },
  {
   "cell_type": "code",
   "execution_count": null,
   "id": "3bfaf37b",
   "metadata": {},
   "outputs": [],
   "source": []
  },
  {
   "cell_type": "code",
   "execution_count": null,
   "id": "6b2b2064",
   "metadata": {},
   "outputs": [],
   "source": []
  },
  {
   "cell_type": "code",
   "execution_count": 14,
   "id": "44d6bc6a",
   "metadata": {},
   "outputs": [],
   "source": [
    "department_employee_mapping = {}    #making an empty SET {}"
   ]
  },
  {
   "cell_type": "code",
   "execution_count": 15,
   "id": "37514689",
   "metadata": {},
   "outputs": [],
   "source": [
    "def add_employee_to_department(department , *employees):\n",
    "    if department not in department_employee_mapping:\n",
    "        #making an empty list for the key i.e. department\n",
    "        department_employee_mapping[department] = []   \n",
    "                 \n",
    "    for employee in employees:\n",
    "        department_employee_mapping[department].append(employee)"
   ]
  },
  {
   "cell_type": "code",
   "execution_count": 16,
   "id": "11b23014",
   "metadata": {},
   "outputs": [
    {
     "data": {
      "text/plain": [
       "{'sales': []}"
      ]
     },
     "execution_count": 16,
     "metadata": {},
     "output_type": "execute_result"
    }
   ],
   "source": [
    "add_employee_to_department('sales')\n",
    "department_employee_mapping"
   ]
  },
  {
   "cell_type": "markdown",
   "id": "7f9f8615",
   "metadata": {},
   "source": [
    "as we can see that we have only passed one argument. the first argument is mapped to 'department'"
   ]
  },
  {
   "cell_type": "markdown",
   "id": "30172fdd",
   "metadata": {},
   "source": [
    "since there were no later arguments passed so only a Key('department') is created and have an empty list since no employee name arguments were passed."
   ]
  },
  {
   "cell_type": "markdown",
   "id": "47f3a0c6",
   "metadata": {},
   "source": [
    "now we will pass the employees for this department named 'sales'"
   ]
  },
  {
   "cell_type": "code",
   "execution_count": 17,
   "id": "bcbd6c4b",
   "metadata": {},
   "outputs": [
    {
     "data": {
      "text/plain": [
       "{'sales': ['elise', 'irene', 'gerg']}"
      ]
     },
     "execution_count": 17,
     "metadata": {},
     "output_type": "execute_result"
    }
   ],
   "source": [
    "add_employee_to_department('sales' , 'elise' , 'irene' , 'gerg')\n",
    "department_employee_mapping"
   ]
  },
  {
   "cell_type": "markdown",
   "id": "fe14a98e",
   "metadata": {},
   "source": [
    "as we can see that the 'sales' department now have employees list."
   ]
  },
  {
   "cell_type": "markdown",
   "id": "8f2e17bd",
   "metadata": {},
   "source": [
    "to know the number of employees in the sales department ..."
   ]
  },
  {
   "cell_type": "code",
   "execution_count": 18,
   "id": "78aca4f6",
   "metadata": {},
   "outputs": [
    {
     "data": {
      "text/plain": [
       "3"
      ]
     },
     "execution_count": 18,
     "metadata": {},
     "output_type": "execute_result"
    }
   ],
   "source": [
    "len(department_employee_mapping['sales'])"
   ]
  },
  {
   "cell_type": "code",
   "execution_count": null,
   "id": "44bad06f",
   "metadata": {},
   "outputs": [],
   "source": []
  },
  {
   "cell_type": "code",
   "execution_count": null,
   "id": "8caaf6ba",
   "metadata": {},
   "outputs": [],
   "source": []
  },
  {
   "cell_type": "markdown",
   "id": "d253f320",
   "metadata": {},
   "source": [
    "lets add one more department"
   ]
  },
  {
   "cell_type": "code",
   "execution_count": 19,
   "id": "d0757415",
   "metadata": {},
   "outputs": [
    {
     "data": {
      "text/plain": [
       "{'sales': ['elise', 'irene', 'gerg'],\n",
       " 'engineering': ['olga', 'tim', 'steven', 'roderick']}"
      ]
     },
     "execution_count": 19,
     "metadata": {},
     "output_type": "execute_result"
    }
   ],
   "source": [
    "add_employee_to_department('engineering' , 'olga' , 'tim' , 'steven' , 'roderick')\n",
    "department_employee_mapping"
   ]
  },
  {
   "cell_type": "markdown",
   "id": "f1048fd1",
   "metadata": {},
   "source": [
    "now lets try to pass only name of employees as arugment and see the output"
   ]
  },
  {
   "cell_type": "code",
   "execution_count": 20,
   "id": "e852c950",
   "metadata": {},
   "outputs": [
    {
     "data": {
      "text/plain": [
       "{'sales': ['elise', 'irene', 'gerg'],\n",
       " 'engineering': ['olga', 'tim', 'steven', 'roderick'],\n",
       " 'olga': ['tim', 'steven', 'roderick']}"
      ]
     },
     "execution_count": 20,
     "metadata": {},
     "output_type": "execute_result"
    }
   ],
   "source": [
    "add_employee_to_department('olga' , 'tim' , 'steven' , 'roderick')\n",
    "department_employee_mapping"
   ]
  },
  {
   "cell_type": "markdown",
   "id": "1696b778",
   "metadata": {},
   "source": [
    "as we can see that the first argument is automatically taken as department."
   ]
  },
  {
   "cell_type": "markdown",
   "id": "984ed935",
   "metadata": {},
   "source": [
    "this is because the first argument is mapped to the Department."
   ]
  },
  {
   "cell_type": "code",
   "execution_count": null,
   "id": "a20130d9",
   "metadata": {},
   "outputs": [],
   "source": []
  },
  {
   "cell_type": "code",
   "execution_count": 21,
   "id": "a652e650",
   "metadata": {},
   "outputs": [],
   "source": [
    "department_employee_mapping = {}    #making an empty SET {}"
   ]
  },
  {
   "cell_type": "code",
   "execution_count": 22,
   "id": "b76aa882",
   "metadata": {},
   "outputs": [],
   "source": [
    "def add_employee_to_department(*employees , department):\n",
    "    if department not in department_employee_mapping:\n",
    "        #making an empty list for the key i.e. department\n",
    "        department_employee_mapping[department] = []   #making an empty list for the new department\n",
    "                 \n",
    "    for employee in employees:\n",
    "        department_employee_mapping[department].append(employee) #adding employees in the department list "
   ]
  },
  {
   "cell_type": "markdown",
   "id": "754cba79",
   "metadata": {},
   "source": [
    "here we have just interchanged the position of the argumnets in the defination"
   ]
  },
  {
   "cell_type": "code",
   "execution_count": null,
   "id": "39f90e97",
   "metadata": {},
   "outputs": [],
   "source": []
  },
  {
   "cell_type": "code",
   "execution_count": 23,
   "id": "b17c1d4b",
   "metadata": {},
   "outputs": [
    {
     "ename": "TypeError",
     "evalue": "add_employee_to_department() missing 1 required keyword-only argument: 'department'",
     "output_type": "error",
     "traceback": [
      "\u001b[1;31m---------------------------------------------------------------------------\u001b[0m",
      "\u001b[1;31mTypeError\u001b[0m                                 Traceback (most recent call last)",
      "\u001b[1;32m~\\AppData\\Local\\Temp\\ipykernel_10972\\2032884190.py\u001b[0m in \u001b[0;36m<module>\u001b[1;34m\u001b[0m\n\u001b[1;32m----> 1\u001b[1;33m \u001b[0madd_employee_to_department\u001b[0m\u001b[1;33m(\u001b[0m\u001b[1;34m'sales'\u001b[0m \u001b[1;33m,\u001b[0m \u001b[1;34m'elise'\u001b[0m \u001b[1;33m,\u001b[0m \u001b[1;34m'irene'\u001b[0m \u001b[1;33m,\u001b[0m \u001b[1;34m'gerg'\u001b[0m\u001b[1;33m)\u001b[0m\u001b[1;33m\u001b[0m\u001b[1;33m\u001b[0m\u001b[0m\n\u001b[0m\u001b[0;32m      2\u001b[0m \u001b[0mdepartment_employee_mapping\u001b[0m\u001b[1;33m\u001b[0m\u001b[1;33m\u001b[0m\u001b[0m\n",
      "\u001b[1;31mTypeError\u001b[0m: add_employee_to_department() missing 1 required keyword-only argument: 'department'"
     ]
    }
   ],
   "source": [
    "add_employee_to_department('sales' , 'elise' , 'irene' , 'gerg')\n",
    "department_employee_mapping"
   ]
  },
  {
   "cell_type": "markdown",
   "id": "eac0ff02",
   "metadata": {},
   "source": [
    "we got error for missing the 'department' argument. This is because we have used the vararg in first argument and to define the 'department' arg, we have to pass it using keyword argument."
   ]
  },
  {
   "cell_type": "code",
   "execution_count": null,
   "id": "aeceb0cd",
   "metadata": {},
   "outputs": [],
   "source": []
  },
  {
   "cell_type": "code",
   "execution_count": 24,
   "id": "b8524a07",
   "metadata": {},
   "outputs": [
    {
     "data": {
      "text/plain": [
       "{'sales': ['elise', 'irene', 'gerg']}"
      ]
     },
     "execution_count": 24,
     "metadata": {},
     "output_type": "execute_result"
    }
   ],
   "source": [
    "add_employee_to_department('elise' , 'irene' , 'gerg' , department = 'sales')\n",
    "department_employee_mapping"
   ]
  },
  {
   "cell_type": "code",
   "execution_count": null,
   "id": "c53fe6c6",
   "metadata": {},
   "outputs": [],
   "source": []
  },
  {
   "cell_type": "code",
   "execution_count": 25,
   "id": "e05903ce",
   "metadata": {},
   "outputs": [
    {
     "ename": "SyntaxError",
     "evalue": "positional argument follows keyword argument (4224194842.py, line 1)",
     "output_type": "error",
     "traceback": [
      "\u001b[1;36m  File \u001b[1;32m\"C:\\Users\\r.girish.parmar\\AppData\\Local\\Temp\\ipykernel_10972\\4224194842.py\"\u001b[1;36m, line \u001b[1;32m1\u001b[0m\n\u001b[1;33m    add_employee_to_department(department = 'sales' , 'elise' , 'irene' , 'gerg')\u001b[0m\n\u001b[1;37m                                                                                ^\u001b[0m\n\u001b[1;31mSyntaxError\u001b[0m\u001b[1;31m:\u001b[0m positional argument follows keyword argument\n"
     ]
    }
   ],
   "source": [
    "add_employee_to_department(department = 'sales' , 'elise' , 'irene' , 'gerg')\n",
    "department_employee_mapping"
   ]
  },
  {
   "cell_type": "code",
   "execution_count": 26,
   "id": "b39e5a03",
   "metadata": {},
   "outputs": [
    {
     "data": {
      "text/plain": [
       "{'sales': ['elise', 'irene', 'gerg']}"
      ]
     },
     "execution_count": 26,
     "metadata": {},
     "output_type": "execute_result"
    }
   ],
   "source": [
    "department_employee_mapping"
   ]
  },
  {
   "cell_type": "code",
   "execution_count": 27,
   "id": "51cfffc3",
   "metadata": {},
   "outputs": [
    {
     "data": {
      "text/plain": [
       "{'sales': ['elise', 'irene', 'gerg'],\n",
       " 'engineering': ['olga', 'tim', 'steven', 'roderick']}"
      ]
     },
     "execution_count": 27,
     "metadata": {},
     "output_type": "execute_result"
    }
   ],
   "source": [
    "add_employee_to_department('olga' , 'tim' , 'steven' , 'roderick', department = 'engineering')\n",
    "department_employee_mapping"
   ]
  },
  {
   "cell_type": "code",
   "execution_count": 28,
   "id": "75e8cac5",
   "metadata": {},
   "outputs": [
    {
     "data": {
      "text/plain": [
       "'irene'"
      ]
     },
     "execution_count": 28,
     "metadata": {},
     "output_type": "execute_result"
    }
   ],
   "source": [
    "department_employee_mapping['sales'][1]"
   ]
  },
  {
   "cell_type": "code",
   "execution_count": 29,
   "id": "570cb54f",
   "metadata": {},
   "outputs": [
    {
     "data": {
      "text/plain": [
       "list"
      ]
     },
     "execution_count": 29,
     "metadata": {},
     "output_type": "execute_result"
    }
   ],
   "source": [
    "type(department_employee_mapping['sales'])"
   ]
  },
  {
   "cell_type": "code",
   "execution_count": null,
   "id": "aaf2bc7b",
   "metadata": {},
   "outputs": [],
   "source": []
  }
 ],
 "metadata": {
  "kernelspec": {
   "display_name": "Python 3 (ipykernel)",
   "language": "python",
   "name": "python3"
  },
  "language_info": {
   "codemirror_mode": {
    "name": "ipython",
    "version": 3
   },
   "file_extension": ".py",
   "mimetype": "text/x-python",
   "name": "python",
   "nbconvert_exporter": "python",
   "pygments_lexer": "ipython3",
   "version": "3.9.13"
  }
 },
 "nbformat": 4,
 "nbformat_minor": 5
}
