{
 "cells": [
  {
   "cell_type": "code",
   "execution_count": 1,
   "id": "0d2c5366",
   "metadata": {},
   "outputs": [],
   "source": [
    "def intro():\n",
    "    print('this is the intro function.')\n",
    "    print('Here \\'def\\' is the keyword used for defining function.')"
   ]
  },
  {
   "cell_type": "markdown",
   "id": "d40a0a86",
   "metadata": {},
   "source": [
    "for calling function we have to simply use the function name."
   ]
  },
  {
   "cell_type": "code",
   "execution_count": 2,
   "id": "19834b49",
   "metadata": {},
   "outputs": [
    {
     "name": "stdout",
     "output_type": "stream",
     "text": [
      "this is the intro function.\n",
      "Here 'def' is the keyword used for defining function.\n"
     ]
    }
   ],
   "source": [
    "intro()"
   ]
  },
  {
   "cell_type": "code",
   "execution_count": null,
   "id": "ac9f31e7",
   "metadata": {},
   "outputs": [],
   "source": []
  },
  {
   "cell_type": "code",
   "execution_count": 4,
   "id": "91545f95",
   "metadata": {},
   "outputs": [
    {
     "name": "stdout",
     "output_type": "stream",
     "text": [
      "what does this print?\n",
      "In the function hello\n"
     ]
    }
   ],
   "source": [
    "def hello():\n",
    "    print('In the function hello')\n",
    "\n",
    "print('what does this print?')\n",
    "\n",
    "hello()"
   ]
  },
  {
   "cell_type": "code",
   "execution_count": null,
   "id": "c3674540",
   "metadata": {},
   "outputs": [],
   "source": []
  },
  {
   "cell_type": "code",
   "execution_count": 5,
   "id": "a2ad5950",
   "metadata": {},
   "outputs": [
    {
     "data": {
      "text/plain": [
       "<function __main__.hello()>"
      ]
     },
     "execution_count": 5,
     "metadata": {},
     "output_type": "execute_result"
    }
   ],
   "source": [
    "hello"
   ]
  },
  {
   "cell_type": "code",
   "execution_count": 9,
   "id": "0a739e32",
   "metadata": {},
   "outputs": [],
   "source": [
    "some_function = hello"
   ]
  },
  {
   "cell_type": "code",
   "execution_count": 10,
   "id": "e311af6d",
   "metadata": {},
   "outputs": [
    {
     "data": {
      "text/plain": [
       "<function __main__.hello()>"
      ]
     },
     "execution_count": 10,
     "metadata": {},
     "output_type": "execute_result"
    }
   ],
   "source": [
    "some_function"
   ]
  },
  {
   "cell_type": "code",
   "execution_count": 11,
   "id": "b700f74d",
   "metadata": {},
   "outputs": [
    {
     "name": "stdout",
     "output_type": "stream",
     "text": [
      "In the function hello\n"
     ]
    }
   ],
   "source": [
    "some_function()"
   ]
  },
  {
   "cell_type": "markdown",
   "id": "74a69098",
   "metadata": {},
   "source": [
    "A function acts as a variable or an Object"
   ]
  },
  {
   "cell_type": "code",
   "execution_count": null,
   "id": "0a5fcd0e",
   "metadata": {},
   "outputs": [],
   "source": []
  },
  {
   "cell_type": "code",
   "execution_count": null,
   "id": "84b859dd",
   "metadata": {},
   "outputs": [],
   "source": []
  },
  {
   "cell_type": "markdown",
   "id": "96ef009d",
   "metadata": {},
   "source": [
    "## Passing Values using Input Arguments"
   ]
  },
  {
   "cell_type": "code",
   "execution_count": 2,
   "id": "16644691",
   "metadata": {},
   "outputs": [],
   "source": [
    "def function_with_error():\n",
    "    result = 'a' + 2\n",
    "    print (result)"
   ]
  },
  {
   "cell_type": "code",
   "execution_count": 6,
   "id": "2bb9e90e",
   "metadata": {},
   "outputs": [
    {
     "ename": "TypeError",
     "evalue": "can only concatenate str (not \"int\") to str",
     "output_type": "error",
     "traceback": [
      "\u001b[1;31m---------------------------------------------------------------------------\u001b[0m",
      "\u001b[1;31mTypeError\u001b[0m                                 Traceback (most recent call last)",
      "\u001b[1;32m~\\AppData\\Local\\Temp\\ipykernel_14636\\1918558945.py\u001b[0m in \u001b[0;36m<module>\u001b[1;34m\u001b[0m\n\u001b[1;32m----> 1\u001b[1;33m \u001b[0mfunction_with_error\u001b[0m\u001b[1;33m(\u001b[0m\u001b[1;33m)\u001b[0m\u001b[1;33m\u001b[0m\u001b[1;33m\u001b[0m\u001b[0m\n\u001b[0m",
      "\u001b[1;32m~\\AppData\\Local\\Temp\\ipykernel_14636\\258262191.py\u001b[0m in \u001b[0;36mfunction_with_error\u001b[1;34m()\u001b[0m\n\u001b[0;32m      1\u001b[0m \u001b[1;32mdef\u001b[0m \u001b[0mfunction_with_error\u001b[0m\u001b[1;33m(\u001b[0m\u001b[1;33m)\u001b[0m\u001b[1;33m:\u001b[0m\u001b[1;33m\u001b[0m\u001b[1;33m\u001b[0m\u001b[0m\n\u001b[1;32m----> 2\u001b[1;33m     \u001b[0mresult\u001b[0m \u001b[1;33m=\u001b[0m \u001b[1;34m'a'\u001b[0m \u001b[1;33m+\u001b[0m \u001b[1;36m2\u001b[0m\u001b[1;33m\u001b[0m\u001b[1;33m\u001b[0m\u001b[0m\n\u001b[0m\u001b[0;32m      3\u001b[0m     \u001b[0mprint\u001b[0m \u001b[1;33m(\u001b[0m\u001b[0mresult\u001b[0m\u001b[1;33m)\u001b[0m\u001b[1;33m\u001b[0m\u001b[1;33m\u001b[0m\u001b[0m\n",
      "\u001b[1;31mTypeError\u001b[0m: can only concatenate str (not \"int\") to str"
     ]
    }
   ],
   "source": [
    "function_with_error()"
   ]
  },
  {
   "cell_type": "code",
   "execution_count": 7,
   "id": "ec438a29",
   "metadata": {},
   "outputs": [
    {
     "name": "stdout",
     "output_type": "stream",
     "text": [
      "Hello Alan\n",
      "Wellcome Aboard!\n"
     ]
    }
   ],
   "source": [
    "def greeting(name):\n",
    "    print (f'Hello {name}')\n",
    "    print ('Wellcome Aboard!')\n",
    "\n",
    "greeting('Alan')"
   ]
  },
  {
   "cell_type": "code",
   "execution_count": 8,
   "id": "54c1cf0d",
   "metadata": {},
   "outputs": [
    {
     "name": "stdout",
     "output_type": "stream",
     "text": [
      "Hello Anna\n",
      "Wellcome Aboard!\n"
     ]
    }
   ],
   "source": [
    "greeting('Anna')"
   ]
  },
  {
   "cell_type": "code",
   "execution_count": 9,
   "id": "c0782587",
   "metadata": {},
   "outputs": [
    {
     "name": "stdout",
     "output_type": "stream",
     "text": [
      "Hello Alex\n",
      "Wellcome Aboard!\n"
     ]
    }
   ],
   "source": [
    "greeting('Alex')"
   ]
  },
  {
   "cell_type": "code",
   "execution_count": 12,
   "id": "60f94e42",
   "metadata": {},
   "outputs": [
    {
     "name": "stdout",
     "output_type": "stream",
     "text": [
      "Hello Evan Westerly\n",
      "Wellcome Aboard!\n"
     ]
    }
   ],
   "source": [
    "def greeting_full_name(fname , lname):\n",
    "    print (f'Hello {fname} {lname}')\n",
    "    print ('Wellcome Aboard!')\n",
    "\n",
    "greeting_full_name('Evan' , 'Westerly')"
   ]
  },
  {
   "cell_type": "code",
   "execution_count": 13,
   "id": "8351b4e9",
   "metadata": {},
   "outputs": [
    {
     "name": "stdout",
     "output_type": "stream",
     "text": [
      "Hello Anna Smith\n",
      "Wellcome Aboard!\n"
     ]
    }
   ],
   "source": [
    "greeting_full_name('Anna' , 'Smith')"
   ]
  },
  {
   "cell_type": "code",
   "execution_count": 14,
   "id": "f5555794",
   "metadata": {},
   "outputs": [
    {
     "ename": "TypeError",
     "evalue": "greeting_full_name() missing 1 required positional argument: 'lname'",
     "output_type": "error",
     "traceback": [
      "\u001b[1;31m---------------------------------------------------------------------------\u001b[0m",
      "\u001b[1;31mTypeError\u001b[0m                                 Traceback (most recent call last)",
      "\u001b[1;32m~\\AppData\\Local\\Temp\\ipykernel_14636\\202338667.py\u001b[0m in \u001b[0;36m<module>\u001b[1;34m\u001b[0m\n\u001b[1;32m----> 1\u001b[1;33m \u001b[0mgreeting_full_name\u001b[0m\u001b[1;33m(\u001b[0m\u001b[1;34m'Alex'\u001b[0m\u001b[1;33m)\u001b[0m\u001b[1;33m\u001b[0m\u001b[1;33m\u001b[0m\u001b[0m\n\u001b[0m",
      "\u001b[1;31mTypeError\u001b[0m: greeting_full_name() missing 1 required positional argument: 'lname'"
     ]
    }
   ],
   "source": [
    "greeting_full_name('Alex')"
   ]
  },
  {
   "cell_type": "code",
   "execution_count": null,
   "id": "f8f108e8",
   "metadata": {},
   "outputs": [],
   "source": []
  },
  {
   "cell_type": "code",
   "execution_count": 20,
   "id": "29c3b580",
   "metadata": {},
   "outputs": [],
   "source": [
    "def divisible_by_5(some_number):\n",
    "    if some_number % 5 == 0:\n",
    "        print(f'{some_number} is divisible by 5')\n",
    "    else:\n",
    "        print(f'{some_number} is not divisible by 5')"
   ]
  },
  {
   "cell_type": "code",
   "execution_count": 21,
   "id": "bbb6dee2",
   "metadata": {},
   "outputs": [
    {
     "name": "stdout",
     "output_type": "stream",
     "text": [
      "4 is not divisible by 5\n"
     ]
    }
   ],
   "source": [
    "divisible_by_5(4)"
   ]
  },
  {
   "cell_type": "code",
   "execution_count": 22,
   "id": "9203e594",
   "metadata": {},
   "outputs": [
    {
     "name": "stdout",
     "output_type": "stream",
     "text": [
      "45 is divisible by 5\n"
     ]
    }
   ],
   "source": [
    "divisible_by_5(45)"
   ]
  },
  {
   "cell_type": "code",
   "execution_count": 23,
   "id": "bb6076fa",
   "metadata": {},
   "outputs": [
    {
     "name": "stdout",
     "output_type": "stream",
     "text": [
      "100 is divisible by 5\n"
     ]
    }
   ],
   "source": [
    "divisible_by_5(100)"
   ]
  },
  {
   "cell_type": "code",
   "execution_count": 24,
   "id": "909354ea",
   "metadata": {},
   "outputs": [
    {
     "name": "stdout",
     "output_type": "stream",
     "text": [
      "11.5 is not divisible by 5\n"
     ]
    }
   ],
   "source": [
    "divisible_by_5(11.5)"
   ]
  },
  {
   "cell_type": "code",
   "execution_count": 25,
   "id": "d007a1b3",
   "metadata": {},
   "outputs": [
    {
     "name": "stdout",
     "output_type": "stream",
     "text": [
      "55.5 is not divisible by 5\n"
     ]
    }
   ],
   "source": [
    "divisible_by_5(55.5)"
   ]
  },
  {
   "cell_type": "code",
   "execution_count": 26,
   "id": "6d5fcb0d",
   "metadata": {},
   "outputs": [
    {
     "name": "stdout",
     "output_type": "stream",
     "text": [
      "100.0 is divisible by 5\n"
     ]
    }
   ],
   "source": [
    "divisible_by_5(100.0)"
   ]
  },
  {
   "cell_type": "code",
   "execution_count": 27,
   "id": "03481cee",
   "metadata": {},
   "outputs": [
    {
     "ename": "TypeError",
     "evalue": "not all arguments converted during string formatting",
     "output_type": "error",
     "traceback": [
      "\u001b[1;31m---------------------------------------------------------------------------\u001b[0m",
      "\u001b[1;31mTypeError\u001b[0m                                 Traceback (most recent call last)",
      "\u001b[1;32m~\\AppData\\Local\\Temp\\ipykernel_14636\\1521134906.py\u001b[0m in \u001b[0;36m<module>\u001b[1;34m\u001b[0m\n\u001b[1;32m----> 1\u001b[1;33m \u001b[0mdivisible_by_5\u001b[0m\u001b[1;33m(\u001b[0m\u001b[1;34m'Eleven'\u001b[0m\u001b[1;33m)\u001b[0m\u001b[1;33m\u001b[0m\u001b[1;33m\u001b[0m\u001b[0m\n\u001b[0m",
      "\u001b[1;32m~\\AppData\\Local\\Temp\\ipykernel_14636\\501755467.py\u001b[0m in \u001b[0;36mdivisible_by_5\u001b[1;34m(some_number)\u001b[0m\n\u001b[0;32m      1\u001b[0m \u001b[1;32mdef\u001b[0m \u001b[0mdivisible_by_5\u001b[0m\u001b[1;33m(\u001b[0m\u001b[0msome_number\u001b[0m\u001b[1;33m)\u001b[0m\u001b[1;33m:\u001b[0m\u001b[1;33m\u001b[0m\u001b[1;33m\u001b[0m\u001b[0m\n\u001b[1;32m----> 2\u001b[1;33m     \u001b[1;32mif\u001b[0m \u001b[0msome_number\u001b[0m \u001b[1;33m%\u001b[0m \u001b[1;36m5\u001b[0m \u001b[1;33m==\u001b[0m \u001b[1;36m0\u001b[0m\u001b[1;33m:\u001b[0m\u001b[1;33m\u001b[0m\u001b[1;33m\u001b[0m\u001b[0m\n\u001b[0m\u001b[0;32m      3\u001b[0m         \u001b[0mprint\u001b[0m\u001b[1;33m(\u001b[0m\u001b[1;34mf'{some_number} is divisible by 5'\u001b[0m\u001b[1;33m)\u001b[0m\u001b[1;33m\u001b[0m\u001b[1;33m\u001b[0m\u001b[0m\n\u001b[0;32m      4\u001b[0m     \u001b[1;32melse\u001b[0m\u001b[1;33m:\u001b[0m\u001b[1;33m\u001b[0m\u001b[1;33m\u001b[0m\u001b[0m\n\u001b[0;32m      5\u001b[0m         \u001b[0mprint\u001b[0m\u001b[1;33m(\u001b[0m\u001b[1;34mf'{some_number} is not divisible by 5'\u001b[0m\u001b[1;33m)\u001b[0m\u001b[1;33m\u001b[0m\u001b[1;33m\u001b[0m\u001b[0m\n",
      "\u001b[1;31mTypeError\u001b[0m: not all arguments converted during string formatting"
     ]
    }
   ],
   "source": [
    "divisible_by_5('Eleven')"
   ]
  },
  {
   "cell_type": "code",
   "execution_count": null,
   "id": "0f5d62ff",
   "metadata": {},
   "outputs": [],
   "source": []
  },
  {
   "cell_type": "code",
   "execution_count": 28,
   "id": "13dc9ece",
   "metadata": {},
   "outputs": [],
   "source": [
    "def print_times(some_string , num_times):\n",
    "    '''\n",
    "        Prints the specified string the specified number of times\n",
    "        \n",
    "        The first argument is the string that you want to be printed, \n",
    "        the second argument is the number of times that you wanted to \n",
    "        print the string.\n",
    "        \n",
    "        Parameter/Arguments (both required):\n",
    "        some_string(str): The string that you wanted to be printed.\n",
    "        num_times(int): The number of times the string should be printed.\n",
    "        \n",
    "        Return:\n",
    "        No Return value\n",
    "    '''\n",
    "    \n",
    "    for i in range (num_times):\n",
    "        print (some_string)"
   ]
  },
  {
   "cell_type": "code",
   "execution_count": 29,
   "id": "9ebc78a6",
   "metadata": {},
   "outputs": [
    {
     "name": "stdout",
     "output_type": "stream",
     "text": [
      "Hello World!\n",
      "Hello World!\n",
      "Hello World!\n",
      "Hello World!\n",
      "Hello World!\n"
     ]
    }
   ],
   "source": [
    "print_times('Hello World!' , 5)"
   ]
  },
  {
   "cell_type": "code",
   "execution_count": null,
   "id": "f580ed3d",
   "metadata": {},
   "outputs": [],
   "source": []
  },
  {
   "cell_type": "code",
   "execution_count": null,
   "id": "a5ad9fbb",
   "metadata": {},
   "outputs": [],
   "source": []
  },
  {
   "cell_type": "markdown",
   "id": "20106b70",
   "metadata": {},
   "source": [
    "## Return Keyword"
   ]
  },
  {
   "cell_type": "code",
   "execution_count": 30,
   "id": "b1b82514",
   "metadata": {},
   "outputs": [],
   "source": [
    "def square(x):\n",
    "    y = x*x\n",
    "    print('Square:', y)"
   ]
  },
  {
   "cell_type": "code",
   "execution_count": 31,
   "id": "bf31404b",
   "metadata": {},
   "outputs": [
    {
     "name": "stdout",
     "output_type": "stream",
     "text": [
      "Square: 64\n"
     ]
    }
   ],
   "source": [
    "square(8)"
   ]
  },
  {
   "cell_type": "code",
   "execution_count": 32,
   "id": "afe77cd3",
   "metadata": {},
   "outputs": [
    {
     "name": "stdout",
     "output_type": "stream",
     "text": [
      "Square: 64\n",
      "None\n"
     ]
    }
   ],
   "source": [
    "result = square(8)\n",
    "print(result)"
   ]
  },
  {
   "cell_type": "markdown",
   "id": "5348bd7b",
   "metadata": {},
   "source": [
    "we get 'None' in the print because the function have no return type. i.e. It doesnt return any value.We can say that the function square(x) is same as the one shown below"
   ]
  },
  {
   "cell_type": "code",
   "execution_count": 33,
   "id": "b407f1b3",
   "metadata": {},
   "outputs": [],
   "source": [
    "def square(x):\n",
    "    y = x*x\n",
    "    print('Square:', y)\n",
    "    return None"
   ]
  },
  {
   "cell_type": "code",
   "execution_count": 35,
   "id": "da562073",
   "metadata": {},
   "outputs": [
    {
     "name": "stdout",
     "output_type": "stream",
     "text": [
      "Square: 49\n",
      "None\n"
     ]
    }
   ],
   "source": [
    "result = square(7)\n",
    "print(result)"
   ]
  },
  {
   "cell_type": "code",
   "execution_count": 36,
   "id": "1eba4904",
   "metadata": {},
   "outputs": [
    {
     "data": {
      "text/plain": [
       "function"
      ]
     },
     "execution_count": 36,
     "metadata": {},
     "output_type": "execute_result"
    }
   ],
   "source": [
    "type(square)"
   ]
  },
  {
   "cell_type": "code",
   "execution_count": 37,
   "id": "14c60c37",
   "metadata": {},
   "outputs": [
    {
     "data": {
      "text/plain": [
       "NoneType"
      ]
     },
     "execution_count": 37,
     "metadata": {},
     "output_type": "execute_result"
    }
   ],
   "source": [
    "type(result)"
   ]
  },
  {
   "cell_type": "code",
   "execution_count": 38,
   "id": "9459c828",
   "metadata": {},
   "outputs": [],
   "source": [
    "def square(x):\n",
    "    \n",
    "    y = x*x\n",
    "    \n",
    "    print('Square:', y)\n",
    "    \n",
    "    return"
   ]
  },
  {
   "cell_type": "code",
   "execution_count": 39,
   "id": "3e11a505",
   "metadata": {},
   "outputs": [
    {
     "name": "stdout",
     "output_type": "stream",
     "text": [
      "Square: 49\n",
      "None\n"
     ]
    },
    {
     "data": {
      "text/plain": [
       "NoneType"
      ]
     },
     "execution_count": 39,
     "metadata": {},
     "output_type": "execute_result"
    }
   ],
   "source": [
    "result = square (7)\n",
    "\n",
    "print (result)\n",
    "\n",
    "type(result)"
   ]
  },
  {
   "cell_type": "code",
   "execution_count": null,
   "id": "bf7d0e26",
   "metadata": {},
   "outputs": [],
   "source": []
  },
  {
   "cell_type": "code",
   "execution_count": 40,
   "id": "14409c8f",
   "metadata": {},
   "outputs": [],
   "source": [
    "def square(x):\n",
    "    y = x* x\n",
    "    return y"
   ]
  },
  {
   "cell_type": "code",
   "execution_count": 41,
   "id": "7196942f",
   "metadata": {},
   "outputs": [
    {
     "name": "stdout",
     "output_type": "stream",
     "text": [
      "49\n"
     ]
    },
    {
     "data": {
      "text/plain": [
       "int"
      ]
     },
     "execution_count": 41,
     "metadata": {},
     "output_type": "execute_result"
    }
   ],
   "source": [
    "result = square (7)\n",
    "\n",
    "print (result)\n",
    "\n",
    "type(result)"
   ]
  },
  {
   "cell_type": "code",
   "execution_count": 42,
   "id": "cd445b35",
   "metadata": {},
   "outputs": [
    {
     "name": "stdout",
     "output_type": "stream",
     "text": [
      "121\n"
     ]
    },
    {
     "data": {
      "text/plain": [
       "int"
      ]
     },
     "execution_count": 42,
     "metadata": {},
     "output_type": "execute_result"
    }
   ],
   "source": [
    "result = square (11)\n",
    "\n",
    "print (result)\n",
    "\n",
    "type(result)"
   ]
  },
  {
   "cell_type": "code",
   "execution_count": 43,
   "id": "10d084d9",
   "metadata": {},
   "outputs": [
    {
     "name": "stdout",
     "output_type": "stream",
     "text": [
      "127.69000000000001\n"
     ]
    },
    {
     "data": {
      "text/plain": [
       "float"
      ]
     },
     "execution_count": 43,
     "metadata": {},
     "output_type": "execute_result"
    }
   ],
   "source": [
    "result = square (11.3)\n",
    "\n",
    "print (result)\n",
    "\n",
    "type(result)"
   ]
  },
  {
   "cell_type": "code",
   "execution_count": null,
   "id": "c7e0f23f",
   "metadata": {},
   "outputs": [],
   "source": []
  },
  {
   "cell_type": "code",
   "execution_count": null,
   "id": "5cd168e7",
   "metadata": {},
   "outputs": [],
   "source": [
    "s"
   ]
  },
  {
   "cell_type": "code",
   "execution_count": 46,
   "id": "1a672122",
   "metadata": {},
   "outputs": [],
   "source": [
    "def calculator(n1,n2):\n",
    "    \n",
    "    add = n1+n2\n",
    "    sub = n1-n2\n",
    "    mul = n1*n2\n",
    "    div = n1/n2\n",
    "    \n",
    "    return add,sub,mul,div"
   ]
  },
  {
   "cell_type": "code",
   "execution_count": 48,
   "id": "c8f1dc5f",
   "metadata": {},
   "outputs": [
    {
     "data": {
      "text/plain": [
       "(105, 95, 500, 20.0)"
      ]
     },
     "execution_count": 48,
     "metadata": {},
     "output_type": "execute_result"
    }
   ],
   "source": [
    "add_result , sub_result , mul_result , div_result = calculator(100,5)\n",
    "add_result , sub_result , mul_result , div_result"
   ]
  },
  {
   "cell_type": "code",
   "execution_count": 49,
   "id": "bcde59ac",
   "metadata": {},
   "outputs": [
    {
     "data": {
      "text/plain": [
       "105"
      ]
     },
     "execution_count": 49,
     "metadata": {},
     "output_type": "execute_result"
    }
   ],
   "source": [
    "add_result , _ , _ , _= calculator(100,5)\n",
    "add_result"
   ]
  },
  {
   "cell_type": "code",
   "execution_count": 50,
   "id": "103e272b",
   "metadata": {},
   "outputs": [
    {
     "data": {
      "text/plain": [
       "(105, 500)"
      ]
     },
     "execution_count": 50,
     "metadata": {},
     "output_type": "execute_result"
    }
   ],
   "source": [
    "add_result , _ , mul_result , _ = calculator(100,5)\n",
    "add_result, mul_result"
   ]
  },
  {
   "cell_type": "code",
   "execution_count": 58,
   "id": "e03dcbfa",
   "metadata": {},
   "outputs": [],
   "source": [
    "def positive_or_negative(num):\n",
    "    if num > 0:\n",
    "        return 'Positive'\n",
    "    elif num < 0:\n",
    "        return 'negativee'\n",
    "    else:\n",
    "        pass #return None"
   ]
  },
  {
   "cell_type": "code",
   "execution_count": 59,
   "id": "e5a66fa5",
   "metadata": {},
   "outputs": [
    {
     "data": {
      "text/plain": [
       "'Positive'"
      ]
     },
     "execution_count": 59,
     "metadata": {},
     "output_type": "execute_result"
    }
   ],
   "source": [
    "positive_or_negative(22)"
   ]
  },
  {
   "cell_type": "code",
   "execution_count": 60,
   "id": "eeb2972e",
   "metadata": {},
   "outputs": [
    {
     "data": {
      "text/plain": [
       "'negativee'"
      ]
     },
     "execution_count": 60,
     "metadata": {},
     "output_type": "execute_result"
    }
   ],
   "source": [
    "positive_or_negative(-2)"
   ]
  },
  {
   "cell_type": "code",
   "execution_count": 61,
   "id": "fa53cc02",
   "metadata": {},
   "outputs": [],
   "source": [
    "positive_or_negative(0)"
   ]
  },
  {
   "cell_type": "code",
   "execution_count": 62,
   "id": "8ac83e26",
   "metadata": {},
   "outputs": [
    {
     "name": "stdout",
     "output_type": "stream",
     "text": [
      "Positive\n"
     ]
    }
   ],
   "source": [
    "result = positive_or_negative(20)\n",
    "print (result)"
   ]
  },
  {
   "cell_type": "code",
   "execution_count": 63,
   "id": "e80de4a1",
   "metadata": {},
   "outputs": [
    {
     "name": "stdout",
     "output_type": "stream",
     "text": [
      "None\n"
     ]
    }
   ],
   "source": [
    "result = positive_or_negative(0)\n",
    "print (result)"
   ]
  },
  {
   "cell_type": "code",
   "execution_count": null,
   "id": "4c168184",
   "metadata": {},
   "outputs": [],
   "source": []
  },
  {
   "cell_type": "code",
   "execution_count": null,
   "id": "5fb5bb07",
   "metadata": {},
   "outputs": [],
   "source": []
  },
  {
   "cell_type": "code",
   "execution_count": 64,
   "id": "60030f59",
   "metadata": {},
   "outputs": [],
   "source": [
    "def create_list (some_string:str , num_times:int) -> list:\n",
    "    '''\n",
    "        Returns a list containing the specified string the specified\n",
    "        number of times\n",
    "        The first argument is the string you want printed, the second\n",
    "        argument is the number of times you want to the string printed \n",
    "        \n",
    "        Parameters (both required):\n",
    "        some_string(str): The string to be printed\n",
    "        num_times(int): the number of time the string should be printed\n",
    "        \n",
    "        Returns:\n",
    "        A list containing the specified string the specified number of times\n",
    "    '''\n",
    "    \n",
    "    return [some_string for i in range(num_times)]\n"
   ]
  },
  {
   "cell_type": "code",
   "execution_count": 65,
   "id": "2e924bea",
   "metadata": {},
   "outputs": [
    {
     "data": {
      "text/plain": [
       "['Hello', 'Hello', 'Hello', 'Hello', 'Hello']"
      ]
     },
     "execution_count": 65,
     "metadata": {},
     "output_type": "execute_result"
    }
   ],
   "source": [
    "lst = create_list ('Hello' , 5)\n",
    "lst"
   ]
  },
  {
   "cell_type": "code",
   "execution_count": 70,
   "id": "cc438205",
   "metadata": {},
   "outputs": [
    {
     "data": {
      "text/plain": [
       "5"
      ]
     },
     "execution_count": 70,
     "metadata": {},
     "output_type": "execute_result"
    }
   ],
   "source": [
    "len(lst)"
   ]
  },
  {
   "cell_type": "code",
   "execution_count": 73,
   "id": "d2f87c54",
   "metadata": {},
   "outputs": [
    {
     "name": "stdout",
     "output_type": "stream",
     "text": [
      "Hello\n",
      "Hello\n",
      "Hello\n",
      "Hello\n",
      "Hello\n"
     ]
    }
   ],
   "source": [
    "for i in lst:\n",
    "    print (i)"
   ]
  },
  {
   "cell_type": "code",
   "execution_count": 75,
   "id": "641f348a",
   "metadata": {},
   "outputs": [
    {
     "data": {
      "text/plain": [
       "[5, 5, 5, 5]"
      ]
     },
     "execution_count": 75,
     "metadata": {},
     "output_type": "execute_result"
    }
   ],
   "source": [
    "result = create_list(5,4)\n",
    "result"
   ]
  },
  {
   "cell_type": "code",
   "execution_count": null,
   "id": "e1019e30",
   "metadata": {},
   "outputs": [],
   "source": []
  },
  {
   "cell_type": "code",
   "execution_count": null,
   "id": "11c6421f",
   "metadata": {},
   "outputs": [],
   "source": []
  },
  {
   "cell_type": "markdown",
   "id": "a3f606d5",
   "metadata": {},
   "source": [
    "## using Positional, Keyword and Default Arguments"
   ]
  },
  {
   "cell_type": "code",
   "execution_count": 77,
   "id": "703a02a3",
   "metadata": {},
   "outputs": [],
   "source": [
    "def order_food(name , food):\n",
    "    print(f'my name is {name} and I have ordered {food}')"
   ]
  },
  {
   "cell_type": "code",
   "execution_count": 78,
   "id": "bb46f538",
   "metadata": {},
   "outputs": [
    {
     "name": "stdout",
     "output_type": "stream",
     "text": [
      "my name is Tony and I have ordered Pizza\n"
     ]
    }
   ],
   "source": [
    "order_food('Tony','Pizza')"
   ]
  },
  {
   "cell_type": "code",
   "execution_count": 79,
   "id": "a0523cbe",
   "metadata": {},
   "outputs": [
    {
     "ename": "TypeError",
     "evalue": "order_food() missing 1 required positional argument: 'food'",
     "output_type": "error",
     "traceback": [
      "\u001b[1;31m---------------------------------------------------------------------------\u001b[0m",
      "\u001b[1;31mTypeError\u001b[0m                                 Traceback (most recent call last)",
      "\u001b[1;32m~\\AppData\\Local\\Temp\\ipykernel_14636\\3388939745.py\u001b[0m in \u001b[0;36m<module>\u001b[1;34m\u001b[0m\n\u001b[1;32m----> 1\u001b[1;33m \u001b[0morder_food\u001b[0m \u001b[1;33m(\u001b[0m\u001b[1;34m'Alex'\u001b[0m\u001b[1;33m)\u001b[0m\u001b[1;33m\u001b[0m\u001b[1;33m\u001b[0m\u001b[0m\n\u001b[0m",
      "\u001b[1;31mTypeError\u001b[0m: order_food() missing 1 required positional argument: 'food'"
     ]
    }
   ],
   "source": [
    "order_food ('Alex')"
   ]
  },
  {
   "cell_type": "markdown",
   "id": "dbbacc1c",
   "metadata": {},
   "source": [
    "    positional argument 'food' is missing...."
   ]
  },
  {
   "cell_type": "markdown",
   "id": "9d0bfc3e",
   "metadata": {},
   "source": [
    "by default when we invoke a function the values that are passed in the function are mapped according to the input arguments based on their positions."
   ]
  },
  {
   "cell_type": "code",
   "execution_count": 81,
   "id": "d0fcafd1",
   "metadata": {},
   "outputs": [],
   "source": [
    "def create_student_record (name , age , major , university , gpa):\n",
    "    return {\n",
    "        'name' : name,\n",
    "        'age' : age,\n",
    "        'major' : major,\n",
    "        'university' : university,\n",
    "        'gpa' : gpa\n",
    "    }"
   ]
  },
  {
   "cell_type": "markdown",
   "id": "1cafddea",
   "metadata": {},
   "source": [
    "this function will return a dictionay which have keys name , age , major , university and gpa which are associated each of the input arguments "
   ]
  },
  {
   "cell_type": "markdown",
   "id": "c3c0d560",
   "metadata": {},
   "source": [
    "this is great way to check the mapping of the input arguments to the formal arguments of the function"
   ]
  },
  {
   "cell_type": "code",
   "execution_count": 83,
   "id": "aca39b61",
   "metadata": {
    "scrolled": true
   },
   "outputs": [
    {
     "data": {
      "text/plain": [
       "{'name': 'Sonia ',\n",
       " 'age': 23,\n",
       " 'major': 'Computer Science ',\n",
       " 'university': ' Columbia University ',\n",
       " 'gpa': 3.8}"
      ]
     },
     "execution_count": 83,
     "metadata": {},
     "output_type": "execute_result"
    }
   ],
   "source": [
    "student_1 = create_student_record( \"Sonia \", 23, \"Computer Science \", \" Columbia University \" , 3.8 )\n",
    "student_1"
   ]
  },
  {
   "cell_type": "code",
   "execution_count": null,
   "id": "ac77e4a5",
   "metadata": {},
   "outputs": [],
   "source": []
  },
  {
   "cell_type": "code",
   "execution_count": null,
   "id": "bb144b29",
   "metadata": {},
   "outputs": [],
   "source": []
  },
  {
   "cell_type": "code",
   "execution_count": 86,
   "id": "ba732da5",
   "metadata": {},
   "outputs": [
    {
     "data": {
      "text/plain": [
       "{'name': 'Jonas ',\n",
       " 'age': 'Computer Science ',\n",
       " 'major': 23,\n",
       " 'university': 3.4,\n",
       " 'gpa': ' Columbia University '}"
      ]
     },
     "execution_count": 86,
     "metadata": {},
     "output_type": "execute_result"
    }
   ],
   "source": [
    "student_2 = create_student_record( \"Jonas \", \"Computer Science \", 23 , 3.4 , \" Columbia University \")\n",
    "student_2"
   ]
  },
  {
   "cell_type": "markdown",
   "id": "72597f02",
   "metadata": {},
   "source": [
    "here we can see that the age , major , gpa are not mapped correctly since we have passed the argument in different order"
   ]
  },
  {
   "cell_type": "markdown",
   "id": "34e009c3",
   "metadata": {},
   "source": [
    "    this is an example of simple and incorrect invocation of a function based on Positional Argument specification."
   ]
  },
  {
   "cell_type": "markdown",
   "id": "946d80e7",
   "metadata": {},
   "source": [
    "student_1 and student_2 definations, in both we have used the positional Arguments, its just that the order in student_2 happened to be wrong"
   ]
  },
  {
   "cell_type": "markdown",
   "id": "77d5febd",
   "metadata": {},
   "source": [
    "and this is where the keyword Argument come in handy"
   ]
  },
  {
   "cell_type": "code",
   "execution_count": null,
   "id": "5e61ce9a",
   "metadata": {},
   "outputs": [],
   "source": []
  },
  {
   "cell_type": "code",
   "execution_count": 89,
   "id": "62ec596e",
   "metadata": {},
   "outputs": [
    {
     "data": {
      "text/plain": [
       "{'name': 'Jonas',\n",
       " 'age': 23,\n",
       " 'major': 'Computer Science ',\n",
       " 'university': ' Columbia University ',\n",
       " 'gpa': 3.4}"
      ]
     },
     "execution_count": 89,
     "metadata": {},
     "output_type": "execute_result"
    }
   ],
   "source": [
    "student_2 = create_student_record( name =\"Jonas\", major = \"Computer Science \",\n",
    "                                  age = 23 , gpa = 3.4 , \n",
    "                                  university = \" Columbia University \")\n",
    "student_2"
   ]
  },
  {
   "cell_type": "code",
   "execution_count": 90,
   "id": "6c11b364",
   "metadata": {},
   "outputs": [
    {
     "data": {
      "text/plain": [
       "{'name': 'Nick',\n",
       " 'age': 22,\n",
       " 'major': 'Computer Science',\n",
       " 'university': 'Columbia University',\n",
       " 'gpa': 3.4}"
      ]
     },
     "execution_count": 90,
     "metadata": {},
     "output_type": "execute_result"
    }
   ],
   "source": [
    "student_3 = create_student_record( name =\"Nick\", gpa = 3.4 , major = 'Computer Science' , university = 'Columbia University' , age = 22)\n",
    "student_3"
   ]
  },
  {
   "cell_type": "markdown",
   "id": "2137bfca",
   "metadata": {},
   "source": [
    "the only thing we should be careful is that the names or the keywords which we specify while invoking the function are exactly the same as those which were used while defining the function. If we violate the contract we are getting an error"
   ]
  },
  {
   "cell_type": "code",
   "execution_count": 91,
   "id": "2d67c181",
   "metadata": {},
   "outputs": [
    {
     "ename": "TypeError",
     "evalue": "create_student_record() got an unexpected keyword argument 'minor'",
     "output_type": "error",
     "traceback": [
      "\u001b[1;31m---------------------------------------------------------------------------\u001b[0m",
      "\u001b[1;31mTypeError\u001b[0m                                 Traceback (most recent call last)",
      "\u001b[1;32m~\\AppData\\Local\\Temp\\ipykernel_14636\\187646462.py\u001b[0m in \u001b[0;36m<module>\u001b[1;34m\u001b[0m\n\u001b[1;32m----> 1\u001b[1;33m student_3 = create_student_record( name =\"Nick\", gpa = 3.4 , major = 'Computer Science' ,\n\u001b[0m\u001b[0;32m      2\u001b[0m                                   \u001b[0muniversity\u001b[0m \u001b[1;33m=\u001b[0m \u001b[1;34m'Columbia University'\u001b[0m \u001b[1;33m,\u001b[0m \u001b[0mage\u001b[0m \u001b[1;33m=\u001b[0m \u001b[1;36m22\u001b[0m\u001b[1;33m,\u001b[0m\u001b[1;33m\u001b[0m\u001b[1;33m\u001b[0m\u001b[0m\n\u001b[0;32m      3\u001b[0m                                  minor = 'Philosophy')\n\u001b[0;32m      4\u001b[0m \u001b[0mstudent_3\u001b[0m\u001b[1;33m\u001b[0m\u001b[1;33m\u001b[0m\u001b[0m\n",
      "\u001b[1;31mTypeError\u001b[0m: create_student_record() got an unexpected keyword argument 'minor'"
     ]
    }
   ],
   "source": [
    "student_3 = create_student_record( name =\"Nick\", gpa = 3.4 , major = 'Computer Science' ,\n",
    "                                  university = 'Columbia University' , age = 22,\n",
    "                                 minor = 'Philosophy')\n",
    "student_3"
   ]
  },
  {
   "cell_type": "code",
   "execution_count": null,
   "id": "46e38d3b",
   "metadata": {},
   "outputs": [],
   "source": []
  },
  {
   "cell_type": "code",
   "execution_count": 95,
   "id": "08fb7ce5",
   "metadata": {},
   "outputs": [
    {
     "data": {
      "text/plain": [
       "{'name': 'Peter',\n",
       " 'age': 22,\n",
       " 'major': 'Electrical Engineering',\n",
       " 'university': 'Columbia University',\n",
       " 'gpa': 3.9}"
      ]
     },
     "execution_count": 95,
     "metadata": {},
     "output_type": "execute_result"
    }
   ],
   "source": [
    "student_4 = create_student_record( \"Peter\", 22 ,'Electrical Engineering' , \n",
    "                                  gpa = 3.9 , university = 'Columbia University')\n",
    "student_4"
   ]
  },
  {
   "cell_type": "markdown",
   "id": "334d88ba",
   "metadata": {},
   "source": [
    "here first 3 are the positional Argument and then we passed other 2 as the keyword arguments as we specify gpa = 3.9 and university = 'Columbia University'"
   ]
  },
  {
   "cell_type": "markdown",
   "id": "1a54e0a6",
   "metadata": {},
   "source": [
    "As we can see that it clealy works"
   ]
  },
  {
   "cell_type": "markdown",
   "id": "1a9af4a0",
   "metadata": {},
   "source": [
    "So it is possible to mix Positional and Keyword Arguments"
   ]
  },
  {
   "cell_type": "markdown",
   "id": "a2739688",
   "metadata": {},
   "source": [
    "now lets try swapping around the order"
   ]
  },
  {
   "cell_type": "code",
   "execution_count": 96,
   "id": "ef875353",
   "metadata": {},
   "outputs": [
    {
     "ename": "SyntaxError",
     "evalue": "positional argument follows keyword argument (4284596924.py, line 2)",
     "output_type": "error",
     "traceback": [
      "\u001b[1;36m  File \u001b[1;32m\"C:\\Users\\r.girish.parmar\\AppData\\Local\\Temp\\ipykernel_14636\\4284596924.py\"\u001b[1;36m, line \u001b[1;32m2\u001b[0m\n\u001b[1;33m    3.9 , 'Columbia University')\u001b[0m\n\u001b[1;37m                               ^\u001b[0m\n\u001b[1;31mSyntaxError\u001b[0m\u001b[1;31m:\u001b[0m positional argument follows keyword argument\n"
     ]
    }
   ],
   "source": [
    "student_4 = create_student_record( name = \"Peter\",age = 22 ,major = 'Electrical Engineering' , \n",
    "                                  3.9 , 'Columbia University')\n",
    "student_4"
   ]
  },
  {
   "cell_type": "markdown",
   "id": "0e45151c",
   "metadata": {},
   "source": [
    "    So from this we can say that it is possible to mix the Arguments but only if the Positional Arguments comes before the Keyword Arguments."
   ]
  },
  {
   "cell_type": "code",
   "execution_count": null,
   "id": "5ec506d5",
   "metadata": {},
   "outputs": [],
   "source": []
  },
  {
   "cell_type": "code",
   "execution_count": 100,
   "id": "aa26a8eb",
   "metadata": {},
   "outputs": [],
   "source": [
    "def create_student_record (name , age , gpa , major= 'Computer Science' , \n",
    "                             university = 'Princeton'):\n",
    "    return {\n",
    "        'name' : name,\n",
    "        'age' : age,\n",
    "        'gpa' : gpa,\n",
    "        'major' : major,\n",
    "        'university' : university\n",
    "    }"
   ]
  },
  {
   "cell_type": "markdown",
   "id": "450d4aea",
   "metadata": {},
   "source": [
    "    here it is rule that the arguments with default value are to be on the right most side when defining the parameter i.e. defining the function as we can see above"
   ]
  },
  {
   "cell_type": "code",
   "execution_count": 107,
   "id": "34ff6f4f",
   "metadata": {},
   "outputs": [
    {
     "data": {
      "text/plain": [
       "{'name': 'Suri',\n",
       " 'age': 22,\n",
       " 'gpa': 3.4,\n",
       " 'major': 'Computer Science',\n",
       " 'university': 'Princeton'}"
      ]
     },
     "execution_count": 107,
     "metadata": {},
     "output_type": "execute_result"
    }
   ],
   "source": [
    "student_1 = create_student_record(\"Suri\" , 22 , 3.4)\n",
    "student_1"
   ]
  },
  {
   "cell_type": "code",
   "execution_count": 108,
   "id": "7bb3ec7c",
   "metadata": {},
   "outputs": [
    {
     "data": {
      "text/plain": [
       "{'name': 'Katie',\n",
       " 'age': 20,\n",
       " 'gpa': 3.8,\n",
       " 'major': 'English',\n",
       " 'university': 'Princeton'}"
      ]
     },
     "execution_count": 108,
     "metadata": {},
     "output_type": "execute_result"
    }
   ],
   "source": [
    "student_2 = create_student_record(\"Katie\" , 20 , 3.8 , 'English')\n",
    "student_2"
   ]
  },
  {
   "cell_type": "code",
   "execution_count": 109,
   "id": "b9de3dcf",
   "metadata": {},
   "outputs": [
    {
     "data": {
      "text/plain": [
       "{'name': 'Tom',\n",
       " 'age': 20,\n",
       " 'gpa': 3.8,\n",
       " 'major': 'Chemistry',\n",
       " 'university': 'Cornell'}"
      ]
     },
     "execution_count": 109,
     "metadata": {},
     "output_type": "execute_result"
    }
   ],
   "source": [
    "student_3 = create_student_record(\"Tom\" , 20 , 3.8 , 'Chemistry' , 'Cornell')\n",
    "student_3"
   ]
  },
  {
   "cell_type": "code",
   "execution_count": 110,
   "id": "c81877c6",
   "metadata": {},
   "outputs": [
    {
     "ename": "TypeError",
     "evalue": "create_student_record() missing 1 required positional argument: 'name'",
     "output_type": "error",
     "traceback": [
      "\u001b[1;31m---------------------------------------------------------------------------\u001b[0m",
      "\u001b[1;31mTypeError\u001b[0m                                 Traceback (most recent call last)",
      "\u001b[1;32m~\\AppData\\Local\\Temp\\ipykernel_14636\\3890734261.py\u001b[0m in \u001b[0;36m<module>\u001b[1;34m\u001b[0m\n\u001b[1;32m----> 1\u001b[1;33m \u001b[0mstudent_3\u001b[0m \u001b[1;33m=\u001b[0m \u001b[0mcreate_student_record\u001b[0m\u001b[1;33m(\u001b[0m\u001b[0mage\u001b[0m \u001b[1;33m=\u001b[0m \u001b[1;36m20\u001b[0m \u001b[1;33m,\u001b[0m \u001b[0mgpa\u001b[0m \u001b[1;33m=\u001b[0m \u001b[1;36m3.8\u001b[0m \u001b[1;33m,\u001b[0m \u001b[0mmajor\u001b[0m \u001b[1;33m=\u001b[0m \u001b[1;34m'Chemistry'\u001b[0m \u001b[1;33m,\u001b[0m\u001b[0muniversity\u001b[0m \u001b[1;33m=\u001b[0m \u001b[1;34m'Cornell'\u001b[0m\u001b[1;33m)\u001b[0m\u001b[1;33m\u001b[0m\u001b[1;33m\u001b[0m\u001b[0m\n\u001b[0m\u001b[0;32m      2\u001b[0m \u001b[0mstudent_3\u001b[0m\u001b[1;33m\u001b[0m\u001b[1;33m\u001b[0m\u001b[0m\n",
      "\u001b[1;31mTypeError\u001b[0m: create_student_record() missing 1 required positional argument: 'name'"
     ]
    }
   ],
   "source": [
    "student_3 = create_student_record(age = 20 , gpa = 3.8 , major = 'Chemistry' ,university = 'Cornell')\n",
    "student_3"
   ]
  },
  {
   "cell_type": "markdown",
   "id": "c2139450",
   "metadata": {},
   "source": [
    "from this we can se=ay that we cannot omit arguments if they do not have any default values"
   ]
  },
  {
   "cell_type": "code",
   "execution_count": 111,
   "id": "ffc7cb58",
   "metadata": {},
   "outputs": [
    {
     "ename": "SyntaxError",
     "evalue": "non-default argument follows default argument (4230489638.py, line 2)",
     "output_type": "error",
     "traceback": [
      "\u001b[1;36m  File \u001b[1;32m\"C:\\Users\\r.girish.parmar\\AppData\\Local\\Temp\\ipykernel_14636\\4230489638.py\"\u001b[1;36m, line \u001b[1;32m2\u001b[0m\n\u001b[1;33m    name , age , gpa):\u001b[0m\n\u001b[1;37m           ^\u001b[0m\n\u001b[1;31mSyntaxError\u001b[0m\u001b[1;31m:\u001b[0m non-default argument follows default argument\n"
     ]
    }
   ],
   "source": [
    "def create_student_record (major= 'Computer Science' , university = 'Princeton',\n",
    "                           name , age , gpa):\n",
    "    return {\n",
    "        'name' : name,\n",
    "        'age' : age,\n",
    "        'gpa' : gpa,\n",
    "        'major' : major,\n",
    "        'university' : university\n",
    "    }"
   ]
  },
  {
   "cell_type": "code",
   "execution_count": 112,
   "id": "2b928705",
   "metadata": {},
   "outputs": [],
   "source": [
    "def create_student_record (name = 'Alice' , age = 22, gpa = 3.5, major= 'Computer Science' , \n",
    "                             university = 'Princeton'):\n",
    "    return {\n",
    "        'name' : name,\n",
    "        'age' : age,\n",
    "        'gpa' : gpa,\n",
    "        'major' : major,\n",
    "        'university' : university\n",
    "    }"
   ]
  },
  {
   "cell_type": "code",
   "execution_count": 113,
   "id": "ca5b5a2d",
   "metadata": {},
   "outputs": [
    {
     "data": {
      "text/plain": [
       "{'name': 'Alice',\n",
       " 'age': 22,\n",
       " 'gpa': 3.5,\n",
       " 'major': 'Computer Science',\n",
       " 'university': 'Princeton'}"
      ]
     },
     "execution_count": 113,
     "metadata": {},
     "output_type": "execute_result"
    }
   ],
   "source": [
    "student_1 = create_student_record()\n",
    "student_1"
   ]
  },
  {
   "cell_type": "code",
   "execution_count": null,
   "id": "9e04b8ab",
   "metadata": {},
   "outputs": [],
   "source": []
  }
 ],
 "metadata": {
  "kernelspec": {
   "display_name": "Python 3 (ipykernel)",
   "language": "python",
   "name": "python3"
  },
  "language_info": {
   "codemirror_mode": {
    "name": "ipython",
    "version": 3
   },
   "file_extension": ".py",
   "mimetype": "text/x-python",
   "name": "python",
   "nbconvert_exporter": "python",
   "pygments_lexer": "ipython3",
   "version": "3.9.13"
  }
 },
 "nbformat": 4,
 "nbformat_minor": 5
}
