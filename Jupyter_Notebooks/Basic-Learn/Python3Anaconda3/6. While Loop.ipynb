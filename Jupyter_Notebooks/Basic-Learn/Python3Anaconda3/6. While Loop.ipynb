{
 "cells": [
  {
   "cell_type": "code",
   "execution_count": 2,
   "id": "11ac2598",
   "metadata": {},
   "outputs": [
    {
     "name": "stdout",
     "output_type": "stream",
     "text": [
      "The sum upto 20 is 210\n"
     ]
    }
   ],
   "source": [
    "sum_upto = 20\n",
    "i = 0\n",
    "total = 0\n",
    "\n",
    "while i <= sum_upto:\n",
    "    total += i\n",
    "    i += 1\n",
    "print (f'The sum upto {sum_upto} is {total}')"
   ]
  },
  {
   "cell_type": "code",
   "execution_count": 6,
   "id": "3c475ab7",
   "metadata": {},
   "outputs": [
    {
     "name": "stdout",
     "output_type": "stream",
     "text": [
      "Please Enter number 1: 32\n",
      "Please Enter number 2: 33\n",
      "Please Enter number 3: 44\n",
      "Please Enter number 4: -1\n",
      "the Average of 3 numbers is 36.333333333333336\n"
     ]
    }
   ],
   "source": [
    "current_num = 0\n",
    "count = 0\n",
    "total = 0 \n",
    "\n",
    "while current_num >= 0:\n",
    "    current_num = int(input(f'Please Enter number {count+1}: '))\n",
    "    if current_num >= 0:\n",
    "        total += current_num\n",
    "        count += 1\n",
    "print (f'the Average of {count} numbers is {total/count}')"
   ]
  },
  {
   "cell_type": "code",
   "execution_count": null,
   "id": "0501e33e",
   "metadata": {},
   "outputs": [],
   "source": []
  }
 ],
 "metadata": {
  "kernelspec": {
   "display_name": "Python 3 (ipykernel)",
   "language": "python",
   "name": "python3"
  },
  "language_info": {
   "codemirror_mode": {
    "name": "ipython",
    "version": 3
   },
   "file_extension": ".py",
   "mimetype": "text/x-python",
   "name": "python",
   "nbconvert_exporter": "python",
   "pygments_lexer": "ipython3",
   "version": "3.9.13"
  }
 },
 "nbformat": 4,
 "nbformat_minor": 5
}
