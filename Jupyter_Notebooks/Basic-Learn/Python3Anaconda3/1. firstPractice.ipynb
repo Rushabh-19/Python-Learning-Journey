{
 "cells": [
  {
   "cell_type": "code",
   "execution_count": 1,
   "id": "d00ad6a2",
   "metadata": {},
   "outputs": [
    {
     "name": "stdout",
     "output_type": "stream",
     "text": [
      "Hello!\n"
     ]
    }
   ],
   "source": [
    "print('Hello!')"
   ]
  },
  {
   "cell_type": "code",
   "execution_count": 4,
   "id": "64128fcc",
   "metadata": {},
   "outputs": [
    {
     "name": "stdout",
     "output_type": "stream",
     "text": [
      "If condition is TRUE\n"
     ]
    }
   ],
   "source": [
    "iA = 'Hello'\n",
    "if iA == 'Hello':\n",
    "    print ('If condition is TRUE')\n",
    "else:\n",
    "    print ('If condition is FALSE')"
   ]
  },
  {
   "cell_type": "code",
   "execution_count": 5,
   "id": "bb73680b",
   "metadata": {},
   "outputs": [],
   "source": [
    "fName= 'Rushabh'\n",
    "lName= 'Parmar'"
   ]
  },
  {
   "cell_type": "code",
   "execution_count": 6,
   "id": "413f31d9",
   "metadata": {},
   "outputs": [
    {
     "data": {
      "text/plain": [
       "'RushabhParmar'"
      ]
     },
     "execution_count": 6,
     "metadata": {},
     "output_type": "execute_result"
    }
   ],
   "source": [
    "fName + lName"
   ]
  },
  {
   "cell_type": "code",
   "execution_count": 7,
   "id": "ca4e5c63",
   "metadata": {},
   "outputs": [
    {
     "data": {
      "text/plain": [
       "'Rushabh Parmar'"
      ]
     },
     "execution_count": 7,
     "metadata": {},
     "output_type": "execute_result"
    }
   ],
   "source": [
    "fName + ' ' +lName "
   ]
  },
  {
   "cell_type": "code",
   "execution_count": 11,
   "id": "4ae2ff87",
   "metadata": {},
   "outputs": [],
   "source": [
    "salary1 = salary2 = salary3 = 10000"
   ]
  },
  {
   "cell_type": "code",
   "execution_count": 13,
   "id": "afcfe689",
   "metadata": {},
   "outputs": [
    {
     "data": {
      "text/plain": [
       "10000"
      ]
     },
     "execution_count": 13,
     "metadata": {},
     "output_type": "execute_result"
    }
   ],
   "source": [
    "salary1"
   ]
  },
  {
   "cell_type": "code",
   "execution_count": 14,
   "id": "7e941e2f",
   "metadata": {},
   "outputs": [
    {
     "data": {
      "text/plain": [
       "10000"
      ]
     },
     "execution_count": 14,
     "metadata": {},
     "output_type": "execute_result"
    }
   ],
   "source": [
    "salary2"
   ]
  },
  {
   "cell_type": "code",
   "execution_count": 15,
   "id": "724d3903",
   "metadata": {},
   "outputs": [
    {
     "data": {
      "text/plain": [
       "10000"
      ]
     },
     "execution_count": 15,
     "metadata": {},
     "output_type": "execute_result"
    }
   ],
   "source": [
    "salary3"
   ]
  },
  {
   "cell_type": "code",
   "execution_count": 16,
   "id": "b73e3b23",
   "metadata": {},
   "outputs": [
    {
     "data": {
      "text/plain": [
       "True"
      ]
     },
     "execution_count": 16,
     "metadata": {},
     "output_type": "execute_result"
    }
   ],
   "source": [
    "salary1 == salary2"
   ]
  },
  {
   "cell_type": "code",
   "execution_count": 18,
   "id": "87b3d2f0",
   "metadata": {},
   "outputs": [
    {
     "data": {
      "text/plain": [
       "12000"
      ]
     },
     "execution_count": 18,
     "metadata": {},
     "output_type": "execute_result"
    }
   ],
   "source": [
    "salary1 = salary1 + 1000\n",
    "salary1"
   ]
  },
  {
   "cell_type": "code",
   "execution_count": 20,
   "id": "1b3a660b",
   "metadata": {},
   "outputs": [
    {
     "data": {
      "text/plain": [
       "12544.000000000004"
      ]
     },
     "execution_count": 20,
     "metadata": {},
     "output_type": "execute_result"
    }
   ],
   "source": [
    "salary2 = salary2 * 1.12\n",
    "salary2"
   ]
  },
  {
   "cell_type": "code",
   "execution_count": 22,
   "id": "4b889098",
   "metadata": {},
   "outputs": [
    {
     "data": {
      "text/plain": [
       "9409.0"
      ]
     },
     "execution_count": 22,
     "metadata": {},
     "output_type": "execute_result"
    }
   ],
   "source": [
    "salary3 = salary3 - salary3 * 0.03\n",
    "salary3"
   ]
  },
  {
   "cell_type": "code",
   "execution_count": 23,
   "id": "a74f2629",
   "metadata": {},
   "outputs": [],
   "source": [
    "salary1 = salary2 = salary3 = 10000"
   ]
  },
  {
   "cell_type": "code",
   "execution_count": 24,
   "id": "f98b62be",
   "metadata": {},
   "outputs": [
    {
     "data": {
      "text/plain": [
       "11000"
      ]
     },
     "execution_count": 24,
     "metadata": {},
     "output_type": "execute_result"
    }
   ],
   "source": [
    "salary1 = salary1 + 1000\n",
    "salary1"
   ]
  },
  {
   "cell_type": "code",
   "execution_count": 25,
   "id": "5ec7a120",
   "metadata": {},
   "outputs": [
    {
     "data": {
      "text/plain": [
       "11200.000000000002"
      ]
     },
     "execution_count": 25,
     "metadata": {},
     "output_type": "execute_result"
    }
   ],
   "source": [
    "salary2 = salary2 * 1.12\n",
    "salary2"
   ]
  },
  {
   "cell_type": "code",
   "execution_count": 26,
   "id": "2b441955",
   "metadata": {},
   "outputs": [
    {
     "data": {
      "text/plain": [
       "9700.0"
      ]
     },
     "execution_count": 26,
     "metadata": {},
     "output_type": "execute_result"
    }
   ],
   "source": [
    "salary3 = salary3 - salary3 * 0.03\n",
    "salary3"
   ]
  },
  {
   "cell_type": "code",
   "execution_count": 27,
   "id": "06de37bc",
   "metadata": {},
   "outputs": [
    {
     "data": {
      "text/plain": [
       "False"
      ]
     },
     "execution_count": 27,
     "metadata": {},
     "output_type": "execute_result"
    }
   ],
   "source": [
    "salary1 == salary2"
   ]
  },
  {
   "cell_type": "code",
   "execution_count": 28,
   "id": "9dbc6f05",
   "metadata": {},
   "outputs": [],
   "source": [
    "my_int, my_float, my_bool, my_string = 12, 3.2, False, \"Hello World!\""
   ]
  },
  {
   "cell_type": "code",
   "execution_count": 32,
   "id": "682356a4",
   "metadata": {},
   "outputs": [
    {
     "data": {
      "text/plain": [
       "(int, float, bool, str)"
      ]
     },
     "execution_count": 32,
     "metadata": {},
     "output_type": "execute_result"
    }
   ],
   "source": [
    "type(my_int), type(my_float),type(my_bool), type(my_string)"
   ]
  },
  {
   "cell_type": "code",
   "execution_count": 33,
   "id": "ccf44a95",
   "metadata": {},
   "outputs": [
    {
     "name": "stdout",
     "output_type": "stream",
     "text": [
      "the final result is: 15.2\n"
     ]
    }
   ],
   "source": [
    "result = my_int + my_float\n",
    "print(\"the final result is:\", result)"
   ]
  },
  {
   "cell_type": "code",
   "execution_count": 34,
   "id": "450027be",
   "metadata": {},
   "outputs": [
    {
     "name": "stdout",
     "output_type": "stream",
     "text": [
      "the final result is: 12\n"
     ]
    }
   ],
   "source": [
    "result = my_int + my_bool\n",
    "print(\"the final result is:\", result)"
   ]
  },
  {
   "cell_type": "code",
   "execution_count": 35,
   "id": "2378a53e",
   "metadata": {
    "scrolled": true
   },
   "outputs": [
    {
     "name": "stdout",
     "output_type": "stream",
     "text": [
      "the final result is: 13\n"
     ]
    }
   ],
   "source": [
    "result = my_int + True\n",
    "print(\"the final result is:\", result)"
   ]
  },
  {
   "cell_type": "code",
   "execution_count": 36,
   "id": "b1892344",
   "metadata": {},
   "outputs": [
    {
     "ename": "TypeError",
     "evalue": "unsupported operand type(s) for +: 'int' and 'str'",
     "output_type": "error",
     "traceback": [
      "\u001b[1;31m---------------------------------------------------------------------------\u001b[0m",
      "\u001b[1;31mTypeError\u001b[0m                                 Traceback (most recent call last)",
      "\u001b[1;32m~\\AppData\\Local\\Temp\\ipykernel_17560\\2490166438.py\u001b[0m in \u001b[0;36m<module>\u001b[1;34m\u001b[0m\n\u001b[1;32m----> 1\u001b[1;33m \u001b[0mresult\u001b[0m \u001b[1;33m=\u001b[0m \u001b[0mmy_int\u001b[0m \u001b[1;33m+\u001b[0m \u001b[0mmy_string\u001b[0m\u001b[1;33m\u001b[0m\u001b[1;33m\u001b[0m\u001b[0m\n\u001b[0m\u001b[0;32m      2\u001b[0m \u001b[0mprint\u001b[0m\u001b[1;33m(\u001b[0m\u001b[1;34m\"the final result is:\"\u001b[0m\u001b[1;33m,\u001b[0m \u001b[0mresult\u001b[0m\u001b[1;33m)\u001b[0m\u001b[1;33m\u001b[0m\u001b[1;33m\u001b[0m\u001b[0m\n",
      "\u001b[1;31mTypeError\u001b[0m: unsupported operand type(s) for +: 'int' and 'str'"
     ]
    }
   ],
   "source": [
    "result = my_int + my_string\n",
    "print(\"the final result is:\", result)"
   ]
  },
  {
   "cell_type": "code",
   "execution_count": 37,
   "id": "9167ebcc",
   "metadata": {},
   "outputs": [
    {
     "ename": "NameError",
     "evalue": "name 'number' is not defined",
     "output_type": "error",
     "traceback": [
      "\u001b[1;31m---------------------------------------------------------------------------\u001b[0m",
      "\u001b[1;31mNameError\u001b[0m                                 Traceback (most recent call last)",
      "\u001b[1;32m~\\AppData\\Local\\Temp\\ipykernel_17560\\3707508766.py\u001b[0m in \u001b[0;36m<module>\u001b[1;34m\u001b[0m\n\u001b[1;32m----> 1\u001b[1;33m \u001b[0mnumber\u001b[0m\u001b[1;33m\u001b[0m\u001b[1;33m\u001b[0m\u001b[0m\n\u001b[0m",
      "\u001b[1;31mNameError\u001b[0m: name 'number' is not defined"
     ]
    }
   ],
   "source": [
    "number"
   ]
  },
  {
   "cell_type": "code",
   "execution_count": 59,
   "id": "fa0ac2d6",
   "metadata": {},
   "outputs": [
    {
     "data": {
      "text/plain": [
       "10"
      ]
     },
     "execution_count": 59,
     "metadata": {},
     "output_type": "execute_result"
    }
   ],
   "source": [
    "number = 10\n",
    "number"
   ]
  },
  {
   "cell_type": "code",
   "execution_count": 60,
   "id": "0f83d715",
   "metadata": {},
   "outputs": [
    {
     "data": {
      "text/plain": [
       "110"
      ]
     },
     "execution_count": 60,
     "metadata": {},
     "output_type": "execute_result"
    }
   ],
   "source": [
    "number += 100\n",
    "number"
   ]
  },
  {
   "cell_type": "code",
   "execution_count": 61,
   "id": "dc72b51f",
   "metadata": {},
   "outputs": [
    {
     "data": {
      "text/plain": [
       "1100"
      ]
     },
     "execution_count": 61,
     "metadata": {},
     "output_type": "execute_result"
    }
   ],
   "source": [
    "number *= 10\n",
    "number"
   ]
  },
  {
   "cell_type": "code",
   "execution_count": 62,
   "id": "3ab15e95",
   "metadata": {},
   "outputs": [
    {
     "data": {
      "text/plain": [
       "100.0"
      ]
     },
     "execution_count": 62,
     "metadata": {},
     "output_type": "execute_result"
    }
   ],
   "source": [
    "number /= 11 \n",
    "number\n",
    "#here number = 1100 so 1100/11 = 100"
   ]
  },
  {
   "cell_type": "code",
   "execution_count": 63,
   "id": "928e746e",
   "metadata": {},
   "outputs": [
    {
     "data": {
      "text/plain": [
       "82.0"
      ]
     },
     "execution_count": 63,
     "metadata": {},
     "output_type": "execute_result"
    }
   ],
   "source": [
    "number -= 18\n",
    "number"
   ]
  },
  {
   "cell_type": "code",
   "execution_count": 64,
   "id": "bf3b7290",
   "metadata": {},
   "outputs": [
    {
     "data": {
      "text/plain": [
       "20.0"
      ]
     },
     "execution_count": 64,
     "metadata": {},
     "output_type": "execute_result"
    }
   ],
   "source": [
    "number //=4\n",
    "#integer division or floor division\n",
    "\n",
    "number\n",
    "#82/4 = 20.5 so Floor int is 20"
   ]
  },
  {
   "cell_type": "code",
   "execution_count": 65,
   "id": "f923d4d2",
   "metadata": {},
   "outputs": [
    {
     "data": {
      "text/plain": [
       "2.0"
      ]
     },
     "execution_count": 65,
     "metadata": {},
     "output_type": "execute_result"
    }
   ],
   "source": [
    "number %= 3\n",
    "number\n"
   ]
  },
  {
   "cell_type": "code",
   "execution_count": 66,
   "id": "7ae0300f",
   "metadata": {},
   "outputs": [
    {
     "data": {
      "text/plain": [
       "16.0"
      ]
     },
     "execution_count": 66,
     "metadata": {},
     "output_type": "execute_result"
    }
   ],
   "source": [
    "number **= 4\n",
    "number \n",
    "# ** means number power to 4\n",
    "# number =2 so 2 power 4 is 16"
   ]
  },
  {
   "cell_type": "code",
   "execution_count": 68,
   "id": "1ebb8d4d",
   "metadata": {},
   "outputs": [
    {
     "data": {
      "text/plain": [
       "'Hello'"
      ]
     },
     "execution_count": 68,
     "metadata": {},
     "output_type": "execute_result"
    }
   ],
   "source": [
    "iA"
   ]
  },
  {
   "cell_type": "code",
   "execution_count": 69,
   "id": "d6928df8",
   "metadata": {},
   "outputs": [
    {
     "ename": "NameError",
     "evalue": "name 'iA' is not defined",
     "output_type": "error",
     "traceback": [
      "\u001b[1;31m---------------------------------------------------------------------------\u001b[0m",
      "\u001b[1;31mNameError\u001b[0m                                 Traceback (most recent call last)",
      "\u001b[1;32m~\\AppData\\Local\\Temp\\ipykernel_17560\\2516929605.py\u001b[0m in \u001b[0;36m<module>\u001b[1;34m\u001b[0m\n\u001b[0;32m      1\u001b[0m \u001b[1;32mdel\u001b[0m \u001b[0miA\u001b[0m\u001b[1;33m\u001b[0m\u001b[1;33m\u001b[0m\u001b[0m\n\u001b[1;32m----> 2\u001b[1;33m \u001b[0miA\u001b[0m\u001b[1;33m\u001b[0m\u001b[1;33m\u001b[0m\u001b[0m\n\u001b[0m",
      "\u001b[1;31mNameError\u001b[0m: name 'iA' is not defined"
     ]
    }
   ],
   "source": [
    "del iA\n",
    "iA"
   ]
  },
  {
   "cell_type": "code",
   "execution_count": 5,
   "id": "54168cb3",
   "metadata": {},
   "outputs": [
    {
     "name": "stdout",
     "output_type": "stream",
     "text": [
      "the ' red ' color is in the List of colors\n",
      "the ' blue ' color is in the List of colors\n",
      "the ' yellow ' color is in the List of colors\n",
      "the ' white ' color is in the List of colors\n",
      "the ' black ' color is in the List of colors\n"
     ]
    }
   ],
   "source": [
    "colors = ['red', 'blue', 'yellow', 'white', 'black']\n",
    "\n",
    "for color in colors:\n",
    "    print ('the \\' %s \\' color is in the List of colors' %(color))"
   ]
  },
  {
   "cell_type": "code",
   "execution_count": 9,
   "id": "186a0c9b",
   "metadata": {},
   "outputs": [
    {
     "name": "stdout",
     "output_type": "stream",
     "text": [
      "Hello  Sandip\n"
     ]
    }
   ],
   "source": [
    "def greet(name):\n",
    "    #here name is nonlocal variable\n",
    "    def greetFirstName():\n",
    "        # This is the nested function\n",
    "        print(\"Hello \",name)\n",
    "    return greetFirstName\n",
    "printFirstName = greet(\"Sandip\")\n",
    "printFirstName()"
   ]
  },
  {
   "cell_type": "code",
   "execution_count": 1,
   "id": "7c4a3308",
   "metadata": {},
   "outputs": [],
   "source": [
    "keys_set = {1,2,3,4,5}"
   ]
  },
  {
   "cell_type": "code",
   "execution_count": 3,
   "id": "3684d054",
   "metadata": {},
   "outputs": [
    {
     "data": {
      "text/plain": [
       "False"
      ]
     },
     "execution_count": 3,
     "metadata": {},
     "output_type": "execute_result"
    }
   ],
   "source": [
    "7 in keys_set"
   ]
  },
  {
   "cell_type": "code",
   "execution_count": 4,
   "id": "755601f8",
   "metadata": {},
   "outputs": [
    {
     "ename": "",
     "evalue": "",
     "output_type": "error",
     "traceback": [
      "\u001b[1;31mThe Kernel crashed while executing code in the current cell or a previous cell. \n",
      "\u001b[1;31mPlease review the code in the cell(s) to identify a possible cause of the failure. \n",
      "\u001b[1;31mClick <a href='https://aka.ms/vscodeJupyterKernelCrash'>here</a> for more info. \n",
      "\u001b[1;31mView Jupyter <a href='command:jupyter.viewOutput'>log</a> for further details."
     ]
    }
   ],
   "source": [
    "import time"
   ]
  },
  {
   "cell_type": "code",
   "execution_count": null,
   "id": "3c9ce865",
   "metadata": {},
   "outputs": [],
   "source": []
  }
 ],
 "metadata": {
  "kernelspec": {
   "display_name": "base",
   "language": "python",
   "name": "python3"
  },
  "language_info": {
   "codemirror_mode": {
    "name": "ipython",
    "version": 3
   },
   "file_extension": ".py",
   "mimetype": "text/x-python",
   "name": "python",
   "nbconvert_exporter": "python",
   "pygments_lexer": "ipython3",
   "version": "3.12.0"
  },
  "vscode": {
   "interpreter": {
    "hash": "3c06e3e46abf38078fe4dac36a0085ec2b134ebbd73dd076183d243eeca6918f"
   }
  }
 },
 "nbformat": 4,
 "nbformat_minor": 5
}
