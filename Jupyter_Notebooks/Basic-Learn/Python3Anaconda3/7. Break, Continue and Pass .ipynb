{
 "cells": [
  {
   "cell_type": "code",
   "execution_count": 1,
   "id": "cfa205a6",
   "metadata": {},
   "outputs": [
    {
     "name": "stdout",
     "output_type": "stream",
     "text": [
      "labrador\n",
      "golden retriever\n",
      "greyhound\n"
     ]
    }
   ],
   "source": [
    "dogs = ['labrador' , 'golden retriever' , 'pug' , 'greyhound' , 'bulldog' , 'cocker' , 'spainel']\n",
    "\n",
    "for dog in dogs:\n",
    "    \n",
    "    if dog == 'pug':\n",
    "        continue     # this is take the control to the start of for Loop\n",
    "    \n",
    "    if dog == 'bulldog':\n",
    "        break        # this will make the loop to end i.e. exit from loop\n",
    "    \n",
    "    print (dog)"
   ]
  },
  {
   "cell_type": "code",
   "execution_count": 2,
   "id": "00bb4677",
   "metadata": {},
   "outputs": [
    {
     "name": "stdout",
     "output_type": "stream",
     "text": [
      "j\n",
      "we are in the pass block\n",
      "m\n",
      "we are in the pass block\n",
      "s\n",
      " \n",
      "b\n",
      "we are in the pass block\n",
      "n\n",
      "d\n",
      "Finally Done\n"
     ]
    }
   ],
   "source": [
    "for letter in 'james bond':\n",
    "    if letter in ['a','e','i','o','u']:\n",
    "        pass           \n",
    "        #this pass statement does nothing \n",
    "        #even if we remove it from the code \n",
    "        #it will make no change in Output\n",
    "        print (\"we are in the pass block\")\n",
    "    else:\n",
    "        print (letter)\n",
    "\n",
    "print ('Finally Done')"
   ]
  },
  {
   "cell_type": "code",
   "execution_count": 6,
   "id": "5e0c8b8e",
   "metadata": {},
   "outputs": [
    {
     "name": "stdout",
     "output_type": "stream",
     "text": [
      "1\n",
      "Hello\n",
      "Complete Iteration: 1\n",
      "\n",
      "2\n",
      "Hello\n",
      "Complete Iteration: 2\n",
      "\n",
      "3\n",
      "Hello\n",
      "Complete Iteration: 3\n",
      "\n",
      "4\n",
      "Hello\n",
      "Complete Iteration: 4\n",
      "\n",
      "5\n",
      "Complete Iteration: 5\n",
      "\n",
      "6\n",
      "Complete Iteration: 6\n",
      "\n",
      "7\n",
      "Complete Iteration: 7\n",
      "\n"
     ]
    }
   ],
   "source": [
    "for i in range(1,8):\n",
    "    print (i)\n",
    "    if i > 4:\n",
    "        pass\n",
    "    else:\n",
    "        print (\"Hello\")\n",
    "    print ('Complete Iteration:', i , end='\\n\\n')"
   ]
  },
  {
   "cell_type": "code",
   "execution_count": null,
   "id": "62834d45",
   "metadata": {},
   "outputs": [],
   "source": []
  }
 ],
 "metadata": {
  "kernelspec": {
   "display_name": "Python 3 (ipykernel)",
   "language": "python",
   "name": "python3"
  },
  "language_info": {
   "codemirror_mode": {
    "name": "ipython",
    "version": 3
   },
   "file_extension": ".py",
   "mimetype": "text/x-python",
   "name": "python",
   "nbconvert_exporter": "python",
   "pygments_lexer": "ipython3",
   "version": "3.9.13"
  }
 },
 "nbformat": 4,
 "nbformat_minor": 5
}
