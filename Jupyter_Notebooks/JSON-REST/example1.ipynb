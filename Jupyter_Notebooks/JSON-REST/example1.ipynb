{
 "cells": [
  {
   "cell_type": "markdown",
   "id": "c25ce6fe-fcd5-4886-8a1c-e9c6ae1d5b84",
   "metadata": {},
   "source": [
    "##### Data as a dictionary"
   ]
  },
  {
   "cell_type": "code",
   "execution_count": 7,
   "id": "86833d2f-a8b1-45bb-b831-aa03eff33ec1",
   "metadata": {},
   "outputs": [
    {
     "name": "stdout",
     "output_type": "stream",
     "text": [
      "Name: Chuck\n",
      "Phone - number: +1 734 303 4456\n",
      "Email - Hide: yes\n"
     ]
    }
   ],
   "source": [
    "import json\n",
    "\n",
    "data = '''\n",
    "{\n",
    "  \"name\" : \"Chuck\",\n",
    "  \"phone\" : {\n",
    "    \"type\" : \"intl\",\n",
    "    \"number\" : \"+1 734 303 4456\"\n",
    "   },\n",
    "   \"email\" : {\n",
    "     \"hide\" : \"yes\"\n",
    "   }\n",
    "}\n",
    "'''\n",
    "\n",
    "info = json.loads(data)\n",
    "print('Name:', info[\"name\"])\n",
    "print('Phone - number:', info[\"phone\"][\"number\"])\n",
    "print('Email - Hide:', info[\"email\"][\"hide\"])\n"
   ]
  },
  {
   "cell_type": "code",
   "execution_count": null,
   "id": "da7a1540-3606-4234-b1c8-f62163c8b22e",
   "metadata": {},
   "outputs": [],
   "source": []
  },
  {
   "cell_type": "markdown",
   "id": "d7f23bdb-490c-44a2-bba6-54d166984cd1",
   "metadata": {},
   "source": [
    "##### Data as a List"
   ]
  },
  {
   "cell_type": "code",
   "execution_count": 11,
   "id": "40fac105-07f5-4c6c-9b2b-a3dce3eb211e",
   "metadata": {},
   "outputs": [
    {
     "name": "stdout",
     "output_type": "stream",
     "text": [
      "User count: 2\n",
      "\n",
      "Name Chuck\n",
      "Id 001\n",
      "Attribute 2\n",
      "\n",
      "Name Brent\n",
      "Id 009\n",
      "Attribute 7\n",
      "\n"
     ]
    }
   ],
   "source": [
    "import json\n",
    "\n",
    "data = '''\n",
    "[\n",
    "  { \"id\" : \"001\",\n",
    "    \"x\" : \"2\",\n",
    "    \"name\" : \"Chuck\"\n",
    "  } ,\n",
    "  { \"id\" : \"009\",\n",
    "    \"x\" : \"7\",\n",
    "    \"name\" : \"Brent\"\n",
    "  }\n",
    "]\n",
    "'''\n",
    "\n",
    "info = json.loads(data)\n",
    "print('User count:', len(info),end=\"\\n\\n\")\n",
    "\n",
    "for item in info:\n",
    "    print('Name', item['name'])\n",
    "    print('Id', item['id'])\n",
    "    print('Attribute', item['x'])\n",
    "    print()\n"
   ]
  },
  {
   "cell_type": "code",
   "execution_count": null,
   "id": "e8c857ec-fe85-4c0f-b6bd-24fea1128d53",
   "metadata": {},
   "outputs": [],
   "source": []
  },
  {
   "cell_type": "code",
   "execution_count": null,
   "id": "f132ce94-8feb-439d-9a04-8c5263e904bf",
   "metadata": {},
   "outputs": [],
   "source": []
  }
 ],
 "metadata": {
  "kernelspec": {
   "display_name": "Python 3 (ipykernel)",
   "language": "python",
   "name": "python3"
  },
  "language_info": {
   "codemirror_mode": {
    "name": "ipython",
    "version": 3
   },
   "file_extension": ".py",
   "mimetype": "text/x-python",
   "name": "python",
   "nbconvert_exporter": "python",
   "pygments_lexer": "ipython3",
   "version": "3.9.13"
  }
 },
 "nbformat": 4,
 "nbformat_minor": 5
}
