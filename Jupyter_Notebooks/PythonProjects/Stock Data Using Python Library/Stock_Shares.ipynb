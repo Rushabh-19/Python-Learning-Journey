{
 "cells": [
  {
   "cell_type": "markdown",
   "id": "89d517c2",
   "metadata": {},
   "source": [
    "## Stock shares\n",
    "\n",
    "A company's \n",
    "<a href='https://www.investopedia.com/terms/s/stock.asp'>stock</a>\n",
    " share is a piece of the company; more precisely:\n",
    "\n",
    "A stock (also known as equity) is a security that represents the ownership of a fraction of a \n",
    "<a href='https://www.investopedia.com/terms/c/corporation.asp'>corporation</a>\n",
    ". This\n",
    "entitles the owner of the stock to a proportion of the corporation's \n",
    "<a href='https://www.investopedia.com/terms/c/core-assets.asp'>assets</a>\n",
    " and profits equal to how much stock they own. Units of stock are called \"shares.\" \n",
    "<a href='https://www.investopedia.com/terms/s/stock.asp'>[1]<a>\n",
    "\n",
    "\n",
    "An investor can buy a stock and sell it later. If the stock price increases, the investor profits, If it decreases,\n",
    "the investor with incur a loss.  Determining the stock price is complex; it depends on the number of outstanding shares, the size of the company's future profits, and much more. People trade stocks throughout the day. The <b>stock ticker</b> is a report of the price of a certain stock, updated continuously throughout the trading session by the various <b>stock</b> market exchanges. In this lab, you will use the  <i><u>y-finance API</u></i> to obtain the stock ticker and extract information about the stock. You will then be asked questions about your results.  \n",
    "\n",
    "    \n",
    "You are a data scientist working for a hedge fund; it's your job to determine any suspicious stock activity. In this lab you will extract stock data using a Python library. We will use the yfinance library, it allows us to extract data for stocks returning data in a pandas dataframe. You will use the lab to extract.\n"
   ]
  },
  {
   "cell_type": "markdown",
   "id": "bd916216",
   "metadata": {},
   "source": [
    "#### Tabel of Contents\n",
    "- Using yfinance to Extract Stock Info\n",
    "- Using yfinance to Extract Historical Share Price Data\n",
    "- Using yfinance to Extract Historical Dividends Data\n",
    "- Exercise"
   ]
  },
  {
   "cell_type": "code",
   "execution_count": 1,
   "id": "bc5a36fd",
   "metadata": {},
   "outputs": [
    {
     "name": "stdout",
     "output_type": "stream",
     "text": [
      "Requirement already satisfied: yfinance in c:\\users\\19081\\appdata\\local\\programs\\python\\python311\\lib\\site-packages (0.2.30)\n",
      "Requirement already satisfied: pandas>=1.3.0 in c:\\users\\19081\\appdata\\local\\programs\\python\\python311\\lib\\site-packages (from yfinance) (2.0.1)\n",
      "Requirement already satisfied: numpy>=1.16.5 in c:\\users\\19081\\appdata\\local\\programs\\python\\python311\\lib\\site-packages (from yfinance) (1.24.1)\n",
      "Requirement already satisfied: requests>=2.31 in c:\\users\\19081\\appdata\\local\\programs\\python\\python311\\lib\\site-packages (from yfinance) (2.31.0)\n",
      "Requirement already satisfied: multitasking>=0.0.7 in c:\\users\\19081\\appdata\\local\\programs\\python\\python311\\lib\\site-packages (from yfinance) (0.0.11)\n",
      "Requirement already satisfied: lxml>=4.9.1 in c:\\users\\19081\\appdata\\local\\programs\\python\\python311\\lib\\site-packages (from yfinance) (4.9.3)\n",
      "Requirement already satisfied: appdirs>=1.4.4 in c:\\users\\19081\\appdata\\local\\programs\\python\\python311\\lib\\site-packages (from yfinance) (1.4.4)\n",
      "Requirement already satisfied: pytz>=2022.5 in c:\\users\\19081\\appdata\\local\\programs\\python\\python311\\lib\\site-packages (from yfinance) (2023.3)\n",
      "Requirement already satisfied: frozendict>=2.3.4 in c:\\users\\19081\\appdata\\local\\programs\\python\\python311\\lib\\site-packages (from yfinance) (2.3.8)\n",
      "Requirement already satisfied: peewee>=3.16.2 in c:\\users\\19081\\appdata\\local\\programs\\python\\python311\\lib\\site-packages (from yfinance) (3.16.3)\n",
      "Requirement already satisfied: beautifulsoup4>=4.11.1 in c:\\users\\19081\\appdata\\local\\programs\\python\\python311\\lib\\site-packages (from yfinance) (4.11.1)\n",
      "Requirement already satisfied: html5lib>=1.1 in c:\\users\\19081\\appdata\\local\\programs\\python\\python311\\lib\\site-packages (from yfinance) (1.1)\n",
      "Requirement already satisfied: soupsieve>1.2 in c:\\users\\19081\\appdata\\local\\programs\\python\\python311\\lib\\site-packages (from beautifulsoup4>=4.11.1->yfinance) (2.3.2.post1)\n",
      "Requirement already satisfied: six>=1.9 in c:\\users\\19081\\appdata\\local\\programs\\python\\python311\\lib\\site-packages (from html5lib>=1.1->yfinance) (1.16.0)\n",
      "Requirement already satisfied: webencodings in c:\\users\\19081\\appdata\\local\\programs\\python\\python311\\lib\\site-packages (from html5lib>=1.1->yfinance) (0.5.1)\n",
      "Requirement already satisfied: python-dateutil>=2.8.2 in c:\\users\\19081\\appdata\\local\\programs\\python\\python311\\lib\\site-packages (from pandas>=1.3.0->yfinance) (2.8.2)\n",
      "Requirement already satisfied: tzdata>=2022.1 in c:\\users\\19081\\appdata\\local\\programs\\python\\python311\\lib\\site-packages (from pandas>=1.3.0->yfinance) (2023.3)\n",
      "Requirement already satisfied: charset-normalizer<4,>=2 in c:\\users\\19081\\appdata\\local\\programs\\python\\python311\\lib\\site-packages (from requests>=2.31->yfinance) (3.1.0)\n",
      "Requirement already satisfied: idna<4,>=2.5 in c:\\users\\19081\\appdata\\local\\programs\\python\\python311\\lib\\site-packages (from requests>=2.31->yfinance) (3.4)\n",
      "Requirement already satisfied: urllib3<3,>=1.21.1 in c:\\users\\19081\\appdata\\local\\programs\\python\\python311\\lib\\site-packages (from requests>=2.31->yfinance) (1.26.15)\n",
      "Requirement already satisfied: certifi>=2017.4.17 in c:\\users\\19081\\appdata\\local\\programs\\python\\python311\\lib\\site-packages (from requests>=2.31->yfinance) (2022.12.7)\n"
     ]
    },
    {
     "name": "stderr",
     "output_type": "stream",
     "text": [
      "\n",
      "[notice] A new release of pip is available: 23.1.2 -> 23.2.1\n",
      "[notice] To update, run: python.exe -m pip install --upgrade pip\n"
     ]
    }
   ],
   "source": [
    "!pip install yfinance"
   ]
  },
  {
   "cell_type": "code",
   "execution_count": 2,
   "id": "fe1ca321",
   "metadata": {},
   "outputs": [],
   "source": [
    "import yfinance as yf\n",
    "import pandas as pd"
   ]
  },
  {
   "cell_type": "markdown",
   "id": "2622bfd5",
   "metadata": {},
   "source": [
    "### Using yfinance Lib to extract Stock Data"
   ]
  },
  {
   "cell_type": "code",
   "execution_count": 3,
   "id": "330f769e",
   "metadata": {},
   "outputs": [],
   "source": [
    "apple = yf.Ticker(\"AAPL\") "
   ]
  },
  {
   "cell_type": "code",
   "execution_count": 4,
   "id": "fd17d8f7",
   "metadata": {},
   "outputs": [
    {
     "data": {
      "text/plain": [
       "yfinance.ticker.Ticker"
      ]
     },
     "execution_count": 4,
     "metadata": {},
     "output_type": "execute_result"
    }
   ],
   "source": [
    "type(apple)"
   ]
  },
  {
   "cell_type": "markdown",
   "id": "df160267",
   "metadata": {},
   "source": [
    "here Ticker symbol for Apple is APPL"
   ]
  },
  {
   "cell_type": "markdown",
   "id": "204ed83c",
   "metadata": {},
   "source": [
    "### Stock Info"
   ]
  },
  {
   "cell_type": "markdown",
   "id": "f864b066",
   "metadata": {},
   "source": [
    "Now we can access functions and variables to extract the type of data we need."
   ]
  },
  {
   "cell_type": "markdown",
   "id": "75d66f2c",
   "metadata": {},
   "source": [
    "Using the attribute  <code>info</code> we can extract information about the stock as a Python dictionary."
   ]
  },
  {
   "cell_type": "code",
   "execution_count": 5,
   "id": "799c09a7",
   "metadata": {},
   "outputs": [
    {
     "data": {
      "text/plain": [
       "{'address1': 'One Apple Park Way',\n",
       " 'city': 'Cupertino',\n",
       " 'state': 'CA',\n",
       " 'zip': '95014',\n",
       " 'country': 'United States',\n",
       " 'phone': '408 996 1010',\n",
       " 'website': 'https://www.apple.com',\n",
       " 'industry': 'Consumer Electronics',\n",
       " 'industryKey': 'consumer-electronics',\n",
       " 'industryDisp': 'Consumer Electronics',\n",
       " 'sector': 'Technology',\n",
       " 'sectorKey': 'technology',\n",
       " 'sectorDisp': 'Technology',\n",
       " 'longBusinessSummary': 'Apple Inc. designs, manufactures, and markets smartphones, personal computers, tablets, wearables, and accessories worldwide. The company offers iPhone, a line of smartphones; Mac, a line of personal computers; iPad, a line of multi-purpose tablets; and wearables, home, and accessories comprising AirPods, Apple TV, Apple Watch, Beats products, and HomePod. It also provides AppleCare support and cloud services; and operates various platforms, including the App Store that allow customers to discover and download applications and digital content, such as books, music, video, games, and podcasts. In addition, the company offers various services, such as Apple Arcade, a game subscription service; Apple Fitness+, a personalized fitness service; Apple Music, which offers users a curated listening experience with on-demand radio stations; Apple News+, a subscription news and magazine service; Apple TV+, which offers exclusive original content; Apple Card, a co-branded credit card; and Apple Pay, a cashless payment service, as well as licenses its intellectual property. The company serves consumers, and small and mid-sized businesses; and the education, enterprise, and government markets. It distributes third-party applications for its products through the App Store. The company also sells its products through its retail and online stores, and direct sales force; and third-party cellular network carriers, wholesalers, retailers, and resellers. Apple Inc. was incorporated in 1977 and is headquartered in Cupertino, California.',\n",
       " 'fullTimeEmployees': 164000,\n",
       " 'companyOfficers': [{'maxAge': 1,\n",
       "   'name': 'Mr. Timothy D. Cook',\n",
       "   'age': 61,\n",
       "   'title': 'CEO & Director',\n",
       "   'yearBorn': 1961,\n",
       "   'fiscalYear': 2022,\n",
       "   'totalPay': 16425933,\n",
       "   'exercisedValue': 0,\n",
       "   'unexercisedValue': 0},\n",
       "  {'maxAge': 1,\n",
       "   'name': 'Mr. Luca  Maestri',\n",
       "   'age': 59,\n",
       "   'title': 'CFO & Sr. VP',\n",
       "   'yearBorn': 1963,\n",
       "   'fiscalYear': 2022,\n",
       "   'totalPay': 5019783,\n",
       "   'exercisedValue': 0,\n",
       "   'unexercisedValue': 0},\n",
       "  {'maxAge': 1,\n",
       "   'name': 'Mr. Jeffrey E. Williams',\n",
       "   'age': 58,\n",
       "   'title': 'Chief Operating Officer',\n",
       "   'yearBorn': 1964,\n",
       "   'fiscalYear': 2022,\n",
       "   'totalPay': 5018337,\n",
       "   'exercisedValue': 0,\n",
       "   'unexercisedValue': 0},\n",
       "  {'maxAge': 1,\n",
       "   'name': 'Ms. Katherine L. Adams',\n",
       "   'age': 58,\n",
       "   'title': 'Sr. VP, Gen. Counsel & Sec.',\n",
       "   'yearBorn': 1964,\n",
       "   'fiscalYear': 2022,\n",
       "   'totalPay': 5015208,\n",
       "   'exercisedValue': 0,\n",
       "   'unexercisedValue': 0},\n",
       "  {'maxAge': 1,\n",
       "   'name': \"Ms. Deirdre  O'Brien\",\n",
       "   'age': 55,\n",
       "   'title': 'Sr. VP of Retail',\n",
       "   'yearBorn': 1967,\n",
       "   'fiscalYear': 2022,\n",
       "   'totalPay': 5019783,\n",
       "   'exercisedValue': 0,\n",
       "   'unexercisedValue': 0},\n",
       "  {'maxAge': 1,\n",
       "   'name': 'Mr. Chris  Kondo',\n",
       "   'title': 'Sr. Director of Corp. Accounting',\n",
       "   'exercisedValue': 0,\n",
       "   'unexercisedValue': 0},\n",
       "  {'maxAge': 1,\n",
       "   'name': 'Mr. James  Wilson',\n",
       "   'title': 'Chief Technology Officer',\n",
       "   'exercisedValue': 0,\n",
       "   'unexercisedValue': 0},\n",
       "  {'maxAge': 1,\n",
       "   'name': 'Ms. Mary  Demby',\n",
       "   'title': 'Chief Information Officer',\n",
       "   'exercisedValue': 0,\n",
       "   'unexercisedValue': 0},\n",
       "  {'maxAge': 1,\n",
       "   'name': 'Ms. Nancy  Paxton',\n",
       "   'title': 'Sr. Director of Investor Relations & Treasury',\n",
       "   'exercisedValue': 0,\n",
       "   'unexercisedValue': 0},\n",
       "  {'maxAge': 1,\n",
       "   'name': 'Mr. Greg  Joswiak',\n",
       "   'title': 'Sr. VP of Worldwide Marketing',\n",
       "   'exercisedValue': 0,\n",
       "   'unexercisedValue': 0}],\n",
       " 'auditRisk': 4,\n",
       " 'boardRisk': 1,\n",
       " 'compensationRisk': 5,\n",
       " 'shareHolderRightsRisk': 1,\n",
       " 'overallRisk': 1,\n",
       " 'governanceEpochDate': 1695859200,\n",
       " 'compensationAsOfEpochDate': 1672444800,\n",
       " 'maxAge': 86400,\n",
       " 'priceHint': 2,\n",
       " 'previousClose': 170.69,\n",
       " 'open': 172.02,\n",
       " 'dayLow': 170.341,\n",
       " 'dayHigh': 173.07,\n",
       " 'regularMarketPreviousClose': 170.69,\n",
       " 'regularMarketOpen': 172.02,\n",
       " 'regularMarketDayLow': 170.341,\n",
       " 'regularMarketDayHigh': 173.07,\n",
       " 'dividendRate': 0.96,\n",
       " 'dividendYield': 0.0056,\n",
       " 'exDividendDate': 1691712000,\n",
       " 'payoutRatio': 0.156,\n",
       " 'fiveYearAvgDividendYield': 0.85,\n",
       " 'beta': 1.274896,\n",
       " 'trailingPE': 28.726511,\n",
       " 'forwardPE': 25.980274,\n",
       " 'volume': 49152786,\n",
       " 'regularMarketVolume': 49152786,\n",
       " 'averageVolume': 58032222,\n",
       " 'averageVolume10days': 58302360,\n",
       " 'averageDailyVolume10Day': 58302360,\n",
       " 'bid': 171.3,\n",
       " 'ask': 171.36,\n",
       " 'bidSize': 1200,\n",
       " 'askSize': 1400,\n",
       " 'marketCap': 2676731412480,\n",
       " 'fiftyTwoWeekLow': 124.17,\n",
       " 'fiftyTwoWeekHigh': 198.23,\n",
       " 'priceToSalesTrailing12Months': 6.9718714,\n",
       " 'fiftyDayAverage': 181.2658,\n",
       " 'twoHundredDayAverage': 166.22205,\n",
       " 'trailingAnnualDividendRate': 0.93,\n",
       " 'trailingAnnualDividendYield': 0.0054484736,\n",
       " 'currency': 'USD',\n",
       " 'enterpriseValue': 2723534864384,\n",
       " 'profitMargins': 0.24681,\n",
       " 'floatShares': 15617034345,\n",
       " 'sharesOutstanding': 15634199552,\n",
       " 'sharesShort': 107325921,\n",
       " 'sharesShortPriorMonth': 88852352,\n",
       " 'sharesShortPreviousMonthDate': 1692057600,\n",
       " 'dateShortInterest': 1694736000,\n",
       " 'sharesPercentSharesOut': 0.0069,\n",
       " 'heldPercentInsiders': 0.00071999995,\n",
       " 'heldPercentInstitutions': 0.61317,\n",
       " 'shortRatio': 1.72,\n",
       " 'shortPercentOfFloat': 0.0069,\n",
       " 'impliedSharesOutstanding': 15634199552,\n",
       " 'bookValue': 3.852,\n",
       " 'priceToBook': 44.44704,\n",
       " 'lastFiscalYearEnd': 1663977600,\n",
       " 'nextFiscalYearEnd': 1695513600,\n",
       " 'mostRecentQuarter': 1688169600,\n",
       " 'earningsQuarterlyGrowth': 0.023,\n",
       " 'netIncomeToCommon': 94760001536,\n",
       " 'trailingEps': 5.96,\n",
       " 'forwardEps': 6.59,\n",
       " 'pegRatio': 3.8,\n",
       " 'lastSplitFactor': '4:1',\n",
       " 'lastSplitDate': 1598832000,\n",
       " 'enterpriseToRevenue': 7.094,\n",
       " 'enterpriseToEbitda': 21.972,\n",
       " '52WeekChange': 0.20189536,\n",
       " 'SandP52WeekChange': 0.16572833,\n",
       " 'lastDividendValue': 0.24,\n",
       " 'lastDividendDate': 1691712000,\n",
       " 'exchange': 'NMS',\n",
       " 'quoteType': 'EQUITY',\n",
       " 'symbol': 'AAPL',\n",
       " 'underlyingSymbol': 'AAPL',\n",
       " 'shortName': 'Apple Inc.',\n",
       " 'longName': 'Apple Inc.',\n",
       " 'firstTradeDateEpochUtc': 345479400,\n",
       " 'timeZoneFullName': 'America/New_York',\n",
       " 'timeZoneShortName': 'EDT',\n",
       " 'uuid': '8b10e4ae-9eeb-3684-921a-9ab27e4d87aa',\n",
       " 'messageBoardId': 'finmb_24937',\n",
       " 'gmtOffSetMilliseconds': -14400000,\n",
       " 'currentPrice': 171.21,\n",
       " 'targetHighPrice': 240.0,\n",
       " 'targetLowPrice': 149.0,\n",
       " 'targetMeanPrice': 199.58,\n",
       " 'targetMedianPrice': 200.0,\n",
       " 'recommendationMean': 2.0,\n",
       " 'recommendationKey': 'buy',\n",
       " 'numberOfAnalystOpinions': 37,\n",
       " 'totalCash': 62482001920,\n",
       " 'totalCashPerShare': 3.996,\n",
       " 'ebitda': 123957002240,\n",
       " 'totalDebt': 109280002048,\n",
       " 'quickRatio': 0.814,\n",
       " 'currentRatio': 0.982,\n",
       " 'totalRevenue': 383932989440,\n",
       " 'debtToEquity': 181.305,\n",
       " 'revenuePerShare': 24.22,\n",
       " 'returnOnAssets': 0.20896,\n",
       " 'returnOnEquity': 1.60093,\n",
       " 'grossProfits': 170782000000,\n",
       " 'freeCashflow': 90680500224,\n",
       " 'operatingCashflow': 113071996928,\n",
       " 'earningsGrowth': 0.05,\n",
       " 'revenueGrowth': -0.014,\n",
       " 'grossMargins': 0.43449003,\n",
       " 'ebitdaMargins': 0.32286,\n",
       " 'operatingMargins': 0.29231,\n",
       " 'financialCurrency': 'USD',\n",
       " 'trailingPegRatio': 2.1803}"
      ]
     },
     "execution_count": 5,
     "metadata": {},
     "output_type": "execute_result"
    }
   ],
   "source": [
    "apple.info #type is dict"
   ]
  },
  {
   "cell_type": "markdown",
   "id": "7b49587f",
   "metadata": {},
   "source": [
    "Creating the info json file for the apple.info data"
   ]
  },
  {
   "cell_type": "code",
   "execution_count": 6,
   "id": "ee5c31ac",
   "metadata": {},
   "outputs": [],
   "source": [
    "import json\n",
    "\n",
    "data = json.dumps(apple.info) # convert dict to string\n",
    "\n",
    "with open('apple.json', 'w') as f:\n",
    "    f.write(data)"
   ]
  },
  {
   "cell_type": "code",
   "execution_count": 7,
   "id": "48dffdbd",
   "metadata": {},
   "outputs": [
    {
     "data": {
      "text/plain": [
       "'United States'"
      ]
     },
     "execution_count": 7,
     "metadata": {},
     "output_type": "execute_result"
    }
   ],
   "source": [
    "# we can get country by: \n",
    "apple.info['country']"
   ]
  },
  {
   "cell_type": "markdown",
   "id": "56c8ed3a",
   "metadata": {},
   "source": [
    "### Extracting Share Price\n",
    "\n",
    "A share is the single smallest part of a company's stock that you can buy, the prices of these shares fluctuate over time. Using the history() method we can get the share price of the stock over a certain period of time. Using the period parameter we can set how far back from the present to get data. The options for period are 1 day (1d), 5d, 1 month (1mo) , 3mo, 6mo, 1 year (1y), 2y, 5y, 10y, ytd, and max."
   ]
  },
  {
   "cell_type": "code",
   "execution_count": 8,
   "id": "fec642d0",
   "metadata": {},
   "outputs": [],
   "source": [
    "apple_share_price_data = apple.history(period = 'max')"
   ]
  },
  {
   "cell_type": "markdown",
   "id": "47c3bade",
   "metadata": {},
   "source": [
    "The format that the data is returned in is a Pandas DataFrame. With the `Date` as the index the share `Open`, `High`, `Low`, `Close`, `Volume`, and `Stock Splits` are given for each day."
   ]
  },
  {
   "cell_type": "code",
   "execution_count": 9,
   "id": "1d0e2851",
   "metadata": {},
   "outputs": [
    {
     "data": {
      "text/html": [
       "<div>\n",
       "<style scoped>\n",
       "    .dataframe tbody tr th:only-of-type {\n",
       "        vertical-align: middle;\n",
       "    }\n",
       "\n",
       "    .dataframe tbody tr th {\n",
       "        vertical-align: top;\n",
       "    }\n",
       "\n",
       "    .dataframe thead th {\n",
       "        text-align: right;\n",
       "    }\n",
       "</style>\n",
       "<table border=\"1\" class=\"dataframe\">\n",
       "  <thead>\n",
       "    <tr style=\"text-align: right;\">\n",
       "      <th></th>\n",
       "      <th>Open</th>\n",
       "      <th>High</th>\n",
       "      <th>Low</th>\n",
       "      <th>Close</th>\n",
       "      <th>Volume</th>\n",
       "      <th>Dividends</th>\n",
       "      <th>Stock Splits</th>\n",
       "    </tr>\n",
       "    <tr>\n",
       "      <th>Date</th>\n",
       "      <th></th>\n",
       "      <th></th>\n",
       "      <th></th>\n",
       "      <th></th>\n",
       "      <th></th>\n",
       "      <th></th>\n",
       "      <th></th>\n",
       "    </tr>\n",
       "  </thead>\n",
       "  <tbody>\n",
       "    <tr>\n",
       "      <th>1980-12-12 00:00:00-05:00</th>\n",
       "      <td>0.099450</td>\n",
       "      <td>0.099882</td>\n",
       "      <td>0.099450</td>\n",
       "      <td>0.099450</td>\n",
       "      <td>469033600</td>\n",
       "      <td>0.0</td>\n",
       "      <td>0.0</td>\n",
       "    </tr>\n",
       "    <tr>\n",
       "      <th>1980-12-15 00:00:00-05:00</th>\n",
       "      <td>0.094693</td>\n",
       "      <td>0.094693</td>\n",
       "      <td>0.094261</td>\n",
       "      <td>0.094261</td>\n",
       "      <td>175884800</td>\n",
       "      <td>0.0</td>\n",
       "      <td>0.0</td>\n",
       "    </tr>\n",
       "    <tr>\n",
       "      <th>1980-12-16 00:00:00-05:00</th>\n",
       "      <td>0.087775</td>\n",
       "      <td>0.087775</td>\n",
       "      <td>0.087343</td>\n",
       "      <td>0.087343</td>\n",
       "      <td>105728000</td>\n",
       "      <td>0.0</td>\n",
       "      <td>0.0</td>\n",
       "    </tr>\n",
       "    <tr>\n",
       "      <th>1980-12-17 00:00:00-05:00</th>\n",
       "      <td>0.089504</td>\n",
       "      <td>0.089937</td>\n",
       "      <td>0.089504</td>\n",
       "      <td>0.089504</td>\n",
       "      <td>86441600</td>\n",
       "      <td>0.0</td>\n",
       "      <td>0.0</td>\n",
       "    </tr>\n",
       "    <tr>\n",
       "      <th>1980-12-18 00:00:00-05:00</th>\n",
       "      <td>0.092099</td>\n",
       "      <td>0.092532</td>\n",
       "      <td>0.092099</td>\n",
       "      <td>0.092099</td>\n",
       "      <td>73449600</td>\n",
       "      <td>0.0</td>\n",
       "      <td>0.0</td>\n",
       "    </tr>\n",
       "    <tr>\n",
       "      <th>1980-12-19 00:00:00-05:00</th>\n",
       "      <td>0.097720</td>\n",
       "      <td>0.098152</td>\n",
       "      <td>0.097720</td>\n",
       "      <td>0.097720</td>\n",
       "      <td>48630400</td>\n",
       "      <td>0.0</td>\n",
       "      <td>0.0</td>\n",
       "    </tr>\n",
       "    <tr>\n",
       "      <th>1980-12-22 00:00:00-05:00</th>\n",
       "      <td>0.102476</td>\n",
       "      <td>0.102909</td>\n",
       "      <td>0.102476</td>\n",
       "      <td>0.102476</td>\n",
       "      <td>37363200</td>\n",
       "      <td>0.0</td>\n",
       "      <td>0.0</td>\n",
       "    </tr>\n",
       "    <tr>\n",
       "      <th>1980-12-23 00:00:00-05:00</th>\n",
       "      <td>0.106800</td>\n",
       "      <td>0.107233</td>\n",
       "      <td>0.106800</td>\n",
       "      <td>0.106800</td>\n",
       "      <td>46950400</td>\n",
       "      <td>0.0</td>\n",
       "      <td>0.0</td>\n",
       "    </tr>\n",
       "    <tr>\n",
       "      <th>1980-12-24 00:00:00-05:00</th>\n",
       "      <td>0.112421</td>\n",
       "      <td>0.112854</td>\n",
       "      <td>0.112421</td>\n",
       "      <td>0.112421</td>\n",
       "      <td>48003200</td>\n",
       "      <td>0.0</td>\n",
       "      <td>0.0</td>\n",
       "    </tr>\n",
       "    <tr>\n",
       "      <th>1980-12-26 00:00:00-05:00</th>\n",
       "      <td>0.122799</td>\n",
       "      <td>0.123231</td>\n",
       "      <td>0.122799</td>\n",
       "      <td>0.122799</td>\n",
       "      <td>55574400</td>\n",
       "      <td>0.0</td>\n",
       "      <td>0.0</td>\n",
       "    </tr>\n",
       "  </tbody>\n",
       "</table>\n",
       "</div>"
      ],
      "text/plain": [
       "                               Open      High       Low     Close     Volume   \n",
       "Date                                                                           \n",
       "1980-12-12 00:00:00-05:00  0.099450  0.099882  0.099450  0.099450  469033600  \\\n",
       "1980-12-15 00:00:00-05:00  0.094693  0.094693  0.094261  0.094261  175884800   \n",
       "1980-12-16 00:00:00-05:00  0.087775  0.087775  0.087343  0.087343  105728000   \n",
       "1980-12-17 00:00:00-05:00  0.089504  0.089937  0.089504  0.089504   86441600   \n",
       "1980-12-18 00:00:00-05:00  0.092099  0.092532  0.092099  0.092099   73449600   \n",
       "1980-12-19 00:00:00-05:00  0.097720  0.098152  0.097720  0.097720   48630400   \n",
       "1980-12-22 00:00:00-05:00  0.102476  0.102909  0.102476  0.102476   37363200   \n",
       "1980-12-23 00:00:00-05:00  0.106800  0.107233  0.106800  0.106800   46950400   \n",
       "1980-12-24 00:00:00-05:00  0.112421  0.112854  0.112421  0.112421   48003200   \n",
       "1980-12-26 00:00:00-05:00  0.122799  0.123231  0.122799  0.122799   55574400   \n",
       "\n",
       "                           Dividends  Stock Splits  \n",
       "Date                                                \n",
       "1980-12-12 00:00:00-05:00        0.0           0.0  \n",
       "1980-12-15 00:00:00-05:00        0.0           0.0  \n",
       "1980-12-16 00:00:00-05:00        0.0           0.0  \n",
       "1980-12-17 00:00:00-05:00        0.0           0.0  \n",
       "1980-12-18 00:00:00-05:00        0.0           0.0  \n",
       "1980-12-19 00:00:00-05:00        0.0           0.0  \n",
       "1980-12-22 00:00:00-05:00        0.0           0.0  \n",
       "1980-12-23 00:00:00-05:00        0.0           0.0  \n",
       "1980-12-24 00:00:00-05:00        0.0           0.0  \n",
       "1980-12-26 00:00:00-05:00        0.0           0.0  "
      ]
     },
     "execution_count": 9,
     "metadata": {},
     "output_type": "execute_result"
    }
   ],
   "source": [
    "apple_share_price_data.head(10)"
   ]
  },
  {
   "cell_type": "markdown",
   "id": "d9d4cff7",
   "metadata": {},
   "source": [
    "We can reset the index of the DataFrame with the `reset_index` function. We also set the `inplace` paramter to `True` so the change takes place to the DataFrame itself."
   ]
  },
  {
   "cell_type": "code",
   "execution_count": 10,
   "id": "a6d695c3",
   "metadata": {},
   "outputs": [],
   "source": [
    "apple_share_price_data.reset_index(inplace=True)"
   ]
  },
  {
   "cell_type": "code",
   "execution_count": 11,
   "id": "a89bd7de",
   "metadata": {},
   "outputs": [
    {
     "data": {
      "text/html": [
       "<div>\n",
       "<style scoped>\n",
       "    .dataframe tbody tr th:only-of-type {\n",
       "        vertical-align: middle;\n",
       "    }\n",
       "\n",
       "    .dataframe tbody tr th {\n",
       "        vertical-align: top;\n",
       "    }\n",
       "\n",
       "    .dataframe thead th {\n",
       "        text-align: right;\n",
       "    }\n",
       "</style>\n",
       "<table border=\"1\" class=\"dataframe\">\n",
       "  <thead>\n",
       "    <tr style=\"text-align: right;\">\n",
       "      <th></th>\n",
       "      <th>Date</th>\n",
       "      <th>Open</th>\n",
       "      <th>High</th>\n",
       "      <th>Low</th>\n",
       "      <th>Close</th>\n",
       "      <th>Volume</th>\n",
       "      <th>Dividends</th>\n",
       "      <th>Stock Splits</th>\n",
       "    </tr>\n",
       "  </thead>\n",
       "  <tbody>\n",
       "    <tr>\n",
       "      <th>0</th>\n",
       "      <td>1980-12-12 00:00:00-05:00</td>\n",
       "      <td>0.099450</td>\n",
       "      <td>0.099882</td>\n",
       "      <td>0.099450</td>\n",
       "      <td>0.099450</td>\n",
       "      <td>469033600</td>\n",
       "      <td>0.0</td>\n",
       "      <td>0.0</td>\n",
       "    </tr>\n",
       "    <tr>\n",
       "      <th>1</th>\n",
       "      <td>1980-12-15 00:00:00-05:00</td>\n",
       "      <td>0.094693</td>\n",
       "      <td>0.094693</td>\n",
       "      <td>0.094261</td>\n",
       "      <td>0.094261</td>\n",
       "      <td>175884800</td>\n",
       "      <td>0.0</td>\n",
       "      <td>0.0</td>\n",
       "    </tr>\n",
       "    <tr>\n",
       "      <th>2</th>\n",
       "      <td>1980-12-16 00:00:00-05:00</td>\n",
       "      <td>0.087775</td>\n",
       "      <td>0.087775</td>\n",
       "      <td>0.087343</td>\n",
       "      <td>0.087343</td>\n",
       "      <td>105728000</td>\n",
       "      <td>0.0</td>\n",
       "      <td>0.0</td>\n",
       "    </tr>\n",
       "    <tr>\n",
       "      <th>3</th>\n",
       "      <td>1980-12-17 00:00:00-05:00</td>\n",
       "      <td>0.089504</td>\n",
       "      <td>0.089937</td>\n",
       "      <td>0.089504</td>\n",
       "      <td>0.089504</td>\n",
       "      <td>86441600</td>\n",
       "      <td>0.0</td>\n",
       "      <td>0.0</td>\n",
       "    </tr>\n",
       "    <tr>\n",
       "      <th>4</th>\n",
       "      <td>1980-12-18 00:00:00-05:00</td>\n",
       "      <td>0.092099</td>\n",
       "      <td>0.092532</td>\n",
       "      <td>0.092099</td>\n",
       "      <td>0.092099</td>\n",
       "      <td>73449600</td>\n",
       "      <td>0.0</td>\n",
       "      <td>0.0</td>\n",
       "    </tr>\n",
       "  </tbody>\n",
       "</table>\n",
       "</div>"
      ],
      "text/plain": [
       "                       Date      Open      High       Low     Close   \n",
       "0 1980-12-12 00:00:00-05:00  0.099450  0.099882  0.099450  0.099450  \\\n",
       "1 1980-12-15 00:00:00-05:00  0.094693  0.094693  0.094261  0.094261   \n",
       "2 1980-12-16 00:00:00-05:00  0.087775  0.087775  0.087343  0.087343   \n",
       "3 1980-12-17 00:00:00-05:00  0.089504  0.089937  0.089504  0.089504   \n",
       "4 1980-12-18 00:00:00-05:00  0.092099  0.092532  0.092099  0.092099   \n",
       "\n",
       "      Volume  Dividends  Stock Splits  \n",
       "0  469033600        0.0           0.0  \n",
       "1  175884800        0.0           0.0  \n",
       "2  105728000        0.0           0.0  \n",
       "3   86441600        0.0           0.0  \n",
       "4   73449600        0.0           0.0  "
      ]
     },
     "execution_count": 11,
     "metadata": {},
     "output_type": "execute_result"
    }
   ],
   "source": [
    "apple_share_price_data.head()"
   ]
  },
  {
   "cell_type": "markdown",
   "id": "f34e923f",
   "metadata": {},
   "source": [
    "We can plot the `Open` price against the `Date`:"
   ]
  },
  {
   "cell_type": "code",
   "execution_count": 12,
   "id": "8696f418",
   "metadata": {},
   "outputs": [
    {
     "data": {
      "text/plain": [
       "<AxesSubplot: xlabel='Date'>"
      ]
     },
     "execution_count": 12,
     "metadata": {},
     "output_type": "execute_result"
    },
    {
     "data": {
      "image/png": "[encoded data removed]",
      "text/plain": [
       "<Figure size 640x480 with 1 Axes>"
      ]
     },
     "metadata": {},
     "output_type": "display_data"
    }
   ],
   "source": [
    "apple_share_price_data.plot(x=\"Date\", y= \"Open\")"
   ]
  },
  {
   "cell_type": "markdown",
   "id": "609bd723",
   "metadata": {},
   "source": [
    "### Extracting Dividends"
   ]
  },
  {
   "cell_type": "markdown",
   "id": "13170b11",
   "metadata": {},
   "source": [
    "Dividends are the distribution of a companys profits to shareholders. In this case they are defined as an amount of money returned per share an investor owns. Using the variable `dividends` we can get a dataframe of the data. The period of the data is given by the period defined in the 'history` function.\n"
   ]
  },
  {
   "cell_type": "code",
   "execution_count": 13,
   "id": "9b1f161e",
   "metadata": {},
   "outputs": [
    {
     "data": {
      "text/plain": [
       "Date\n",
       "1987-05-11 00:00:00-04:00    0.000536\n",
       "1987-08-10 00:00:00-04:00    0.000536\n",
       "1987-11-17 00:00:00-05:00    0.000714\n",
       "1988-02-12 00:00:00-05:00    0.000714\n",
       "1988-05-16 00:00:00-04:00    0.000714\n",
       "                               ...   \n",
       "2022-08-05 00:00:00-04:00    0.230000\n",
       "2022-11-04 00:00:00-04:00    0.230000\n",
       "2023-02-10 00:00:00-05:00    0.230000\n",
       "2023-05-12 00:00:00-04:00    0.240000\n",
       "2023-08-11 00:00:00-04:00    0.240000\n",
       "Name: Dividends, Length: 80, dtype: float64"
      ]
     },
     "execution_count": 13,
     "metadata": {},
     "output_type": "execute_result"
    }
   ],
   "source": [
    "apple.dividends"
   ]
  },
  {
   "cell_type": "markdown",
   "id": "a5a051a2",
   "metadata": {},
   "source": [
    "we can plot the dividends overtime:"
   ]
  },
  {
   "cell_type": "code",
   "execution_count": null,
   "id": "b2020b7c",
   "metadata": {},
   "outputs": [],
   "source": []
  },
  {
   "cell_type": "code",
   "execution_count": 14,
   "id": "a396a459",
   "metadata": {},
   "outputs": [
    {
     "data": {
      "text/plain": [
       "<AxesSubplot: xlabel='Date'>"
      ]
     },
     "execution_count": 14,
     "metadata": {},
     "output_type": "execute_result"
    },
    {
     "data": {
      "image/png": "[encoded data removed]",
      "text/plain": [
       "<Figure size 640x480 with 1 Axes>"
      ]
     },
     "metadata": {},
     "output_type": "display_data"
    }
   ],
   "source": [
    "apple.dividends.plot()"
   ]
  },
  {
   "cell_type": "markdown",
   "id": "8d711fd2",
   "metadata": {},
   "source": [
    "### Exercise"
   ]
  },
  {
   "cell_type": "code",
   "execution_count": 15,
   "id": "25c35d8c",
   "metadata": {},
   "outputs": [],
   "source": [
    "amd = yf.Ticker('AMD') # for AMD -Tinker symbol for Advance Micro Devices"
   ]
  },
  {
   "cell_type": "code",
   "execution_count": 16,
   "id": "6a52d4b5",
   "metadata": {},
   "outputs": [],
   "source": [
    "amd_info = amd.info"
   ]
  },
  {
   "cell_type": "code",
   "execution_count": 18,
   "id": "ad581884",
   "metadata": {},
   "outputs": [],
   "source": [
    "import json\n",
    "amd_info_data = json.dumps(amd_info)"
   ]
  },
  {
   "cell_type": "code",
   "execution_count": 19,
   "id": "8e0b8a53",
   "metadata": {},
   "outputs": [],
   "source": [
    "with open('amd.json' , 'w') as f:\n",
    "    f.write(amd_info_data)"
   ]
  },
  {
   "cell_type": "code",
   "execution_count": 21,
   "id": "9fe67d9c",
   "metadata": {},
   "outputs": [
    {
     "data": {
      "text/plain": [
       "'United States'"
      ]
     },
     "execution_count": 21,
     "metadata": {},
     "output_type": "execute_result"
    }
   ],
   "source": [
    "amd_info['country']"
   ]
  },
  {
   "cell_type": "code",
   "execution_count": 28,
   "id": "078da998",
   "metadata": {},
   "outputs": [
    {
     "data": {
      "text/plain": [
       "'Technology'"
      ]
     },
     "execution_count": 28,
     "metadata": {},
     "output_type": "execute_result"
    }
   ],
   "source": [
    "amd_info['sector']"
   ]
  },
  {
   "cell_type": "code",
   "execution_count": 23,
   "id": "8960feb9",
   "metadata": {},
   "outputs": [],
   "source": [
    "amd_df = amd.history(period = 'max')"
   ]
  },
  {
   "cell_type": "code",
   "execution_count": 25,
   "id": "0a81434b",
   "metadata": {},
   "outputs": [],
   "source": [
    "amd_df.reset_index(inplace = True)"
   ]
  },
  {
   "cell_type": "code",
   "execution_count": 27,
   "id": "ecbbcfc8",
   "metadata": {},
   "outputs": [
    {
     "data": {
      "text/html": [
       "<div>\n",
       "<style scoped>\n",
       "    .dataframe tbody tr th:only-of-type {\n",
       "        vertical-align: middle;\n",
       "    }\n",
       "\n",
       "    .dataframe tbody tr th {\n",
       "        vertical-align: top;\n",
       "    }\n",
       "\n",
       "    .dataframe thead th {\n",
       "        text-align: right;\n",
       "    }\n",
       "</style>\n",
       "<table border=\"1\" class=\"dataframe\">\n",
       "  <thead>\n",
       "    <tr style=\"text-align: right;\">\n",
       "      <th></th>\n",
       "      <th>Date</th>\n",
       "      <th>Open</th>\n",
       "      <th>High</th>\n",
       "      <th>Low</th>\n",
       "      <th>Close</th>\n",
       "      <th>Volume</th>\n",
       "      <th>Dividends</th>\n",
       "      <th>Stock Splits</th>\n",
       "    </tr>\n",
       "  </thead>\n",
       "  <tbody>\n",
       "    <tr>\n",
       "      <th>0</th>\n",
       "      <td>1980-03-17 00:00:00-05:00</td>\n",
       "      <td>0.0</td>\n",
       "      <td>3.302083</td>\n",
       "      <td>3.125000</td>\n",
       "      <td>3.145833</td>\n",
       "      <td>219600</td>\n",
       "      <td>0.0</td>\n",
       "      <td>0.0</td>\n",
       "    </tr>\n",
       "    <tr>\n",
       "      <th>1</th>\n",
       "      <td>1980-03-18 00:00:00-05:00</td>\n",
       "      <td>0.0</td>\n",
       "      <td>3.125000</td>\n",
       "      <td>2.937500</td>\n",
       "      <td>3.031250</td>\n",
       "      <td>727200</td>\n",
       "      <td>0.0</td>\n",
       "      <td>0.0</td>\n",
       "    </tr>\n",
       "    <tr>\n",
       "      <th>2</th>\n",
       "      <td>1980-03-19 00:00:00-05:00</td>\n",
       "      <td>0.0</td>\n",
       "      <td>3.083333</td>\n",
       "      <td>3.020833</td>\n",
       "      <td>3.041667</td>\n",
       "      <td>295200</td>\n",
       "      <td>0.0</td>\n",
       "      <td>0.0</td>\n",
       "    </tr>\n",
       "    <tr>\n",
       "      <th>3</th>\n",
       "      <td>1980-03-20 00:00:00-05:00</td>\n",
       "      <td>0.0</td>\n",
       "      <td>3.062500</td>\n",
       "      <td>3.010417</td>\n",
       "      <td>3.010417</td>\n",
       "      <td>159600</td>\n",
       "      <td>0.0</td>\n",
       "      <td>0.0</td>\n",
       "    </tr>\n",
       "    <tr>\n",
       "      <th>4</th>\n",
       "      <td>1980-03-21 00:00:00-05:00</td>\n",
       "      <td>0.0</td>\n",
       "      <td>3.020833</td>\n",
       "      <td>2.906250</td>\n",
       "      <td>2.916667</td>\n",
       "      <td>130800</td>\n",
       "      <td>0.0</td>\n",
       "      <td>0.0</td>\n",
       "    </tr>\n",
       "  </tbody>\n",
       "</table>\n",
       "</div>"
      ],
      "text/plain": [
       "                       Date  Open      High       Low     Close  Volume   \n",
       "0 1980-03-17 00:00:00-05:00   0.0  3.302083  3.125000  3.145833  219600  \\\n",
       "1 1980-03-18 00:00:00-05:00   0.0  3.125000  2.937500  3.031250  727200   \n",
       "2 1980-03-19 00:00:00-05:00   0.0  3.083333  3.020833  3.041667  295200   \n",
       "3 1980-03-20 00:00:00-05:00   0.0  3.062500  3.010417  3.010417  159600   \n",
       "4 1980-03-21 00:00:00-05:00   0.0  3.020833  2.906250  2.916667  130800   \n",
       "\n",
       "   Dividends  Stock Splits  \n",
       "0        0.0           0.0  \n",
       "1        0.0           0.0  \n",
       "2        0.0           0.0  \n",
       "3        0.0           0.0  \n",
       "4        0.0           0.0  "
      ]
     },
     "execution_count": 27,
     "metadata": {},
     "output_type": "execute_result"
    }
   ],
   "source": [
    "amd_df.head()"
   ]
  },
  {
   "cell_type": "code",
   "execution_count": 26,
   "id": "1d0f9632",
   "metadata": {},
   "outputs": [
    {
     "data": {
      "text/html": [
       "<div>\n",
       "<style scoped>\n",
       "    .dataframe tbody tr th:only-of-type {\n",
       "        vertical-align: middle;\n",
       "    }\n",
       "\n",
       "    .dataframe tbody tr th {\n",
       "        vertical-align: top;\n",
       "    }\n",
       "\n",
       "    .dataframe thead th {\n",
       "        text-align: right;\n",
       "    }\n",
       "</style>\n",
       "<table border=\"1\" class=\"dataframe\">\n",
       "  <thead>\n",
       "    <tr style=\"text-align: right;\">\n",
       "      <th></th>\n",
       "      <th>Volume</th>\n",
       "    </tr>\n",
       "  </thead>\n",
       "  <tbody>\n",
       "    <tr>\n",
       "      <th>0</th>\n",
       "      <td>219600</td>\n",
       "    </tr>\n",
       "  </tbody>\n",
       "</table>\n",
       "</div>"
      ],
      "text/plain": [
       "   Volume\n",
       "0  219600"
      ]
     },
     "execution_count": 26,
     "metadata": {},
     "output_type": "execute_result"
    }
   ],
   "source": [
    "amd_df.loc[[0] , ['Volume']] # volume of AMD traded on the first day (first row , volume col)"
   ]
  },
  {
   "cell_type": "code",
   "execution_count": null,
   "id": "1542cdf4",
   "metadata": {},
   "outputs": [],
   "source": []
  }
 ],
 "metadata": {
  "kernelspec": {
   "display_name": "Python 3 (ipykernel)",
   "language": "python",
   "name": "python3"
  },
  "language_info": {
   "codemirror_mode": {
    "name": "ipython",
    "version": 3
   },
   "file_extension": ".py",
   "mimetype": "text/x-python",
   "name": "python",
   "nbconvert_exporter": "python",
   "pygments_lexer": "ipython3",
   "version": "3.11.0"
  }
 },
 "nbformat": 4,
 "nbformat_minor": 5
}
