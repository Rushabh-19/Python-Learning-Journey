{
 "cells": [
  {
   "cell_type": "code",
   "execution_count": 1,
   "id": "e4109b60",
   "metadata": {},
   "outputs": [
    {
     "name": "stdout",
     "output_type": "stream",
     "text": [
      "In Employee ******* __name__:  employee\n",
      "In Main ********* __name__:  __main__\n",
      "Name: Denver\n",
      "Department: HR\n",
      "Salary: 67000\n",
      "Organization: Skillsoft\n",
      "Name: Jessica\n",
      "Department: Sales\n",
      "Salary: 69000\n",
      "Organization: Skillsoft\n"
     ]
    }
   ],
   "source": [
    "!python !python C:\\Users\\r.girish.parmar\\Python3Anaconda3\\creating_python_module_demo\\Practical4\\main.py\n",
    "    #python main.py"
   ]
  },
  {
   "cell_type": "code",
   "execution_count": null,
   "id": "b1cec35d",
   "metadata": {},
   "outputs": [],
   "source": []
  },
  {
   "cell_type": "code",
   "execution_count": 2,
   "id": "e96acc1d",
   "metadata": {},
   "outputs": [
    {
     "name": "stdout",
     "output_type": "stream",
     "text": [
      "In Employee ******* __name__:  __main__\n"
     ]
    }
   ],
   "source": [
    "!python C:\\Users\\r.girish.parmar\\Python3Anaconda3\\creating_python_module_demo\\Practical4\\employee.py\n",
    "    # python employee.py"
   ]
  },
  {
   "cell_type": "code",
   "execution_count": null,
   "id": "5b63dc0a",
   "metadata": {},
   "outputs": [],
   "source": []
  }
 ],
 "metadata": {
  "kernelspec": {
   "display_name": "Python 3 (ipykernel)",
   "language": "python",
   "name": "python3"
  },
  "language_info": {
   "codemirror_mode": {
    "name": "ipython",
    "version": 3
   },
   "file_extension": ".py",
   "mimetype": "text/x-python",
   "name": "python",
   "nbconvert_exporter": "python",
   "pygments_lexer": "ipython3",
   "version": "3.9.13"
  }
 },
 "nbformat": 4,
 "nbformat_minor": 5
}
