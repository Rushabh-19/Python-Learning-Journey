{
 "cells": [
  {
   "cell_type": "markdown",
   "id": "eac2f751-6ba0-403f-8f26-0b6705f61ff8",
   "metadata": {},
   "source": [
    "Geocode API\n",
    "==="
   ]
  },
  {
   "cell_type": "code",
   "execution_count": 3,
   "id": "fb1f2dfd-3645-4ede-aab0-c4f411cd8cb4",
   "metadata": {},
   "outputs": [
    {
     "name": "stdin",
     "output_type": "stream",
     "text": [
      "Enter location:  Ann Arbour, MI\n"
     ]
    },
    {
     "name": "stdout",
     "output_type": "stream",
     "text": [
      "Retrieving http://maps.googleapis.com/maps/api/geocode/json?address=Ann+Arbour%2C+MI\n",
      "Retrieved 237 characters\n",
      "=== Failure To Retrieve ===\n",
      "{\n",
      "   \"error_message\" : \"You must use an API key to authenticate each request to Google Maps Platform APIs. For additional information, please refer to http://g.co/dev/maps-no-account\",\n",
      "   \"results\" : [],\n",
      "   \"status\" : \"REQUEST_DENIED\"\n",
      "}\n",
      "\n"
     ]
    },
    {
     "name": "stdin",
     "output_type": "stream",
     "text": [
      "Enter location:  Ann Arbour, MI\n"
     ]
    },
    {
     "name": "stdout",
     "output_type": "stream",
     "text": [
      "Retrieving http://maps.googleapis.com/maps/api/geocode/json?address=Ann+Arbour%2C+MI\n",
      "Retrieved 237 characters\n",
      "=== Failure To Retrieve ===\n",
      "{\n",
      "   \"error_message\" : \"You must use an API key to authenticate each request to Google Maps Platform APIs. For additional information, please refer to http://g.co/dev/maps-no-account\",\n",
      "   \"results\" : [],\n",
      "   \"status\" : \"REQUEST_DENIED\"\n",
      "}\n",
      "\n"
     ]
    },
    {
     "name": "stdin",
     "output_type": "stream",
     "text": [
      "Enter location:  \n"
     ]
    }
   ],
   "source": [
    "import urllib.request, urllib.parse, urllib.error\n",
    "import json\n",
    "\n",
    "#note that google is continously increasing requiring keys\n",
    "#for this APIs\n",
    "serviceurl = 'http://maps.googleapis.com/maps/api/geocode/json?'\n",
    "\n",
    "while True:\n",
    "    address = input ('Enter location: ') #Ann Arbour, MI\n",
    "    if len(address) < 1: break\n",
    "    \n",
    "    url = serviceurl + urllib.parse.urlencode(\n",
    "        {'address' : address})\n",
    "    \n",
    "    print('Retrieving', url)\n",
    "    uh = urllib.request.urlopen(url)\n",
    "    data = uh.read().decode()\n",
    "    print('Retrieved', len(data), 'characters')\n",
    "    \n",
    "    try:\n",
    "        js = json.load(data)\n",
    "    except:\n",
    "        js = None\n",
    "        \n",
    "    if not js or 'status' not in js or js['start'] != 'OK':\n",
    "        print('=== Failure To Retrieve ===')\n",
    "        print(data)\n",
    "        continue\n",
    "    \n",
    "    print(json.dumps(js,indent=4))\n",
    "    \n",
    "    lat = js[\"results\"][0][\"geometry\"][\"location\"][\"lat\"]\n",
    "    lng = js[\"results\"][0][\"geometry\"][\"location\"][\"lng\"]\n",
    "    print('lat', lat , 'lng', lng)\n",
    "    location = js[\"results\"][0][\"formatted_address\"]\n",
    "    print('location:',location)"
   ]
  },
  {
   "cell_type": "code",
   "execution_count": null,
   "id": "bcc5ad22-6828-4b01-9373-5feecb2bd47d",
   "metadata": {},
   "outputs": [],
   "source": []
  },
  {
   "cell_type": "code",
   "execution_count": null,
   "id": "5818ac99-d9e1-4284-9ebb-c45f311ac420",
   "metadata": {},
   "outputs": [],
   "source": []
  },
  {
   "cell_type": "markdown",
   "id": "4404d2a6-29f5-4d2e-a79d-90d9434c68e9",
   "metadata": {},
   "source": [
    "Twitter API\n",
    "==="
   ]
  },
  {
   "cell_type": "code",
   "execution_count": null,
   "id": "864fabbb-d542-431b-a69e-e164710bb917",
   "metadata": {},
   "outputs": [],
   "source": []
  }
 ],
 "metadata": {
  "kernelspec": {
   "display_name": "Python 3 (ipykernel)",
   "language": "python",
   "name": "python3"
  },
  "language_info": {
   "codemirror_mode": {
    "name": "ipython",
    "version": 3
   },
   "file_extension": ".py",
   "mimetype": "text/x-python",
   "name": "python",
   "nbconvert_exporter": "python",
   "pygments_lexer": "ipython3",
   "version": "3.11.5"
  }
 },
 "nbformat": 4,
 "nbformat_minor": 5
}
