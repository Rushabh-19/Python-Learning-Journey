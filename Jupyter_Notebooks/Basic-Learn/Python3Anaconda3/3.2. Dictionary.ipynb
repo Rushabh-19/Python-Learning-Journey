{
 "cells": [
  {
   "cell_type": "markdown",
   "id": "855333b9",
   "metadata": {},
   "source": [
    "<center><h1>Dictionaries</h1></center>\n",
    "<li>Very powerful type.</li>\n",
    "<li>Closly related to the Sets</li>\n",
    "<li>Second most important type after List</li>\n",
    "<li>associative Data Types</li>\n",
    "<li>used in order to map from keys to values</li>\n",
    "<li>Dictionaries are analogues to maps in JAVA</li> \n",
    "<h6> Syntax </h6><br>\n",
    "var_name = { key1:value1, \n",
    "            key2:value2,\n",
    "            ..., \n",
    "            keyN:valueN }\n",
    "<br><br>\n",
    "<li>Keys must be unique.</li>\n",
    "<li>No duplicates are allowed. </li>\n",
    "<li>can be of any Types</li>"
   ]
  },
  {
   "cell_type": "code",
   "execution_count": 1,
   "id": "d7a8b606",
   "metadata": {},
   "outputs": [
    {
     "data": {
      "text/plain": [
       "{'Alex': 4.5, 'Mary': 4.8, 'Jim': 3}"
      ]
     },
     "execution_count": 1,
     "metadata": {},
     "output_type": "execute_result"
    }
   ],
   "source": [
    "interview_scores = {\"Alex\":4.5, \"Mary\":4.8, \"Jim\":3}\n",
    "interview_scores"
   ]
  },
  {
   "cell_type": "code",
   "execution_count": 2,
   "id": "1d8d43b2",
   "metadata": {},
   "outputs": [
    {
     "data": {
      "text/plain": [
       "dict"
      ]
     },
     "execution_count": 2,
     "metadata": {},
     "output_type": "execute_result"
    }
   ],
   "source": [
    "type(interview_scores)"
   ]
  },
  {
   "cell_type": "code",
   "execution_count": 5,
   "id": "d286e37e",
   "metadata": {},
   "outputs": [
    {
     "data": {
      "text/plain": [
       "{1001: 'Grey House', 1002: 'James Wilson', 1003: 'Lias Cuddy'}"
      ]
     },
     "execution_count": 5,
     "metadata": {},
     "output_type": "execute_result"
    }
   ],
   "source": [
    "employees_map = {1001: \"Grey House\", 1002: \"James Wilson\", 1003: \"Lias Cuddy\"}\n",
    "employees_map"
   ]
  },
  {
   "cell_type": "markdown",
   "id": "d283a6b9",
   "metadata": {},
   "source": [
    "this time keys are int and values are strings seperated by comas(,)"
   ]
  },
  {
   "cell_type": "code",
   "execution_count": 6,
   "id": "07c116d5",
   "metadata": {},
   "outputs": [
    {
     "data": {
      "text/plain": [
       "dict"
      ]
     },
     "execution_count": 6,
     "metadata": {},
     "output_type": "execute_result"
    }
   ],
   "source": [
    "type(employees_map)"
   ]
  },
  {
   "cell_type": "code",
   "execution_count": null,
   "id": "c846b399",
   "metadata": {},
   "outputs": [],
   "source": []
  },
  {
   "cell_type": "code",
   "execution_count": null,
   "id": "7803b98e",
   "metadata": {},
   "outputs": [],
   "source": []
  },
  {
   "cell_type": "code",
   "execution_count": 2,
   "id": "feaa666b",
   "metadata": {},
   "outputs": [
    {
     "data": {
      "text/plain": [
       "{1001: 'Grey House', 1002: 'James Wilson', 1003: 'Lias Cuddy'}"
      ]
     },
     "execution_count": 2,
     "metadata": {},
     "output_type": "execute_result"
    }
   ],
   "source": [
    "employees_map_with_int_key = {1001: \"Grey House\", 1002: \"James Wilson\", 1003: \"Lias Cuddy\"}\n",
    "employees_map_with_int_key"
   ]
  },
  {
   "cell_type": "code",
   "execution_count": 4,
   "id": "bedbd0fa",
   "metadata": {},
   "outputs": [
    {
     "data": {
      "text/plain": [
       "{1001: 'White House', 1002: 'James Wilson', 1003: 'Lias Cuddy'}"
      ]
     },
     "execution_count": 4,
     "metadata": {},
     "output_type": "execute_result"
    }
   ],
   "source": [
    "employees_map_with_int_key[1001] = \"White House\"\n",
    "employees_map_with_int_key"
   ]
  },
  {
   "cell_type": "code",
   "execution_count": 5,
   "id": "63e093f5",
   "metadata": {},
   "outputs": [
    {
     "data": {
      "text/plain": [
       "'James Wilson'"
      ]
     },
     "execution_count": 5,
     "metadata": {},
     "output_type": "execute_result"
    }
   ],
   "source": [
    "employees_map_with_int_key.pop(1002)"
   ]
  },
  {
   "cell_type": "code",
   "execution_count": 6,
   "id": "92f51c51",
   "metadata": {},
   "outputs": [
    {
     "data": {
      "text/plain": [
       "{1001: 'White House', 1003: 'Lias Cuddy'}"
      ]
     },
     "execution_count": 6,
     "metadata": {},
     "output_type": "execute_result"
    }
   ],
   "source": [
    "employees_map_with_int_key"
   ]
  },
  {
   "cell_type": "code",
   "execution_count": null,
   "id": "80ba3194",
   "metadata": {},
   "outputs": [],
   "source": []
  },
  {
   "cell_type": "code",
   "execution_count": null,
   "id": "ab7781da",
   "metadata": {},
   "outputs": [],
   "source": []
  },
  {
   "cell_type": "code",
   "execution_count": 7,
   "id": "8461aa5c",
   "metadata": {},
   "outputs": [],
   "source": [
    "simple_dict = {\"Mark\": 10 , \"Peper\": 20 , \"John\": 30 , \"Lisa\": 40}"
   ]
  },
  {
   "cell_type": "code",
   "execution_count": 8,
   "id": "f68da340",
   "metadata": {},
   "outputs": [
    {
     "data": {
      "text/plain": [
       "{'Mark': 10, 'Peper': 20, 'John': 30, 'Lisa': 40}"
      ]
     },
     "execution_count": 8,
     "metadata": {},
     "output_type": "execute_result"
    }
   ],
   "source": [
    "simple_dict"
   ]
  },
  {
   "cell_type": "code",
   "execution_count": 10,
   "id": "46bea06d",
   "metadata": {},
   "outputs": [
    {
     "data": {
      "text/plain": [
       "dict_keys(['Mark', 'Peper', 'John', 'Lisa'])"
      ]
     },
     "execution_count": 10,
     "metadata": {},
     "output_type": "execute_result"
    }
   ],
   "source": [
    "simple_dict.keys()"
   ]
  },
  {
   "cell_type": "code",
   "execution_count": 11,
   "id": "3d14616b",
   "metadata": {},
   "outputs": [
    {
     "data": {
      "text/plain": [
       "dict_values([10, 20, 30, 40])"
      ]
     },
     "execution_count": 11,
     "metadata": {},
     "output_type": "execute_result"
    }
   ],
   "source": [
    "simple_dict.values()"
   ]
  },
  {
   "cell_type": "code",
   "execution_count": 12,
   "id": "c20beb80",
   "metadata": {},
   "outputs": [
    {
     "data": {
      "text/plain": [
       "dict_items([('Mark', 10), ('Peper', 20), ('John', 30), ('Lisa', 40)])"
      ]
     },
     "execution_count": 12,
     "metadata": {},
     "output_type": "execute_result"
    }
   ],
   "source": [
    "simple_dict.items()"
   ]
  },
  {
   "cell_type": "markdown",
   "id": "2ffc949f",
   "metadata": {},
   "source": [
    "contains list of tuples with values as of keys and values in dictionary"
   ]
  },
  {
   "cell_type": "code",
   "execution_count": 13,
   "id": "b03452d8",
   "metadata": {},
   "outputs": [
    {
     "data": {
      "text/plain": [
       "True"
      ]
     },
     "execution_count": 13,
     "metadata": {},
     "output_type": "execute_result"
    }
   ],
   "source": [
    "'Mark' in simple_dict.keys()"
   ]
  },
  {
   "cell_type": "code",
   "execution_count": 14,
   "id": "97434521",
   "metadata": {},
   "outputs": [
    {
     "data": {
      "text/plain": [
       "False"
      ]
     },
     "execution_count": 14,
     "metadata": {},
     "output_type": "execute_result"
    }
   ],
   "source": [
    "'Cici' in simple_dict.keys()"
   ]
  },
  {
   "cell_type": "code",
   "execution_count": 15,
   "id": "f77447b2",
   "metadata": {},
   "outputs": [
    {
     "data": {
      "text/plain": [
       "True"
      ]
     },
     "execution_count": 15,
     "metadata": {},
     "output_type": "execute_result"
    }
   ],
   "source": [
    "'Cici' not in simple_dict.keys()"
   ]
  },
  {
   "cell_type": "code",
   "execution_count": 16,
   "id": "562b2d3b",
   "metadata": {},
   "outputs": [
    {
     "data": {
      "text/plain": [
       "True"
      ]
     },
     "execution_count": 16,
     "metadata": {},
     "output_type": "execute_result"
    }
   ],
   "source": [
    "10 in simple_dict.values() "
   ]
  },
  {
   "cell_type": "code",
   "execution_count": 17,
   "id": "997b7eee",
   "metadata": {},
   "outputs": [
    {
     "data": {
      "text/plain": [
       "True"
      ]
     },
     "execution_count": 17,
     "metadata": {},
     "output_type": "execute_result"
    }
   ],
   "source": [
    "50 not in simple_dict.values() "
   ]
  },
  {
   "cell_type": "code",
   "execution_count": 20,
   "id": "5e114a14",
   "metadata": {},
   "outputs": [
    {
     "data": {
      "text/plain": [
       "True"
      ]
     },
     "execution_count": 20,
     "metadata": {},
     "output_type": "execute_result"
    }
   ],
   "source": [
    "('John', 30) in simple_dict.items()"
   ]
  },
  {
   "cell_type": "code",
   "execution_count": 21,
   "id": "4a66e2f0",
   "metadata": {},
   "outputs": [
    {
     "data": {
      "text/plain": [
       "False"
      ]
     },
     "execution_count": 21,
     "metadata": {},
     "output_type": "execute_result"
    }
   ],
   "source": [
    "('John', 40) in simple_dict.items()"
   ]
  },
  {
   "cell_type": "code",
   "execution_count": null,
   "id": "aba20f41",
   "metadata": {},
   "outputs": [],
   "source": []
  },
  {
   "cell_type": "code",
   "execution_count": 22,
   "id": "8604a54b",
   "metadata": {},
   "outputs": [
    {
     "data": {
      "text/plain": [
       "{False: 'Hello', 'hi': [1, 2, 3], 'Good Morning': True}"
      ]
     },
     "execution_count": 22,
     "metadata": {},
     "output_type": "execute_result"
    }
   ],
   "source": [
    "mixed_dict = {\n",
    "    False: \"Hello\",\n",
    "    \"hi\": [1,2,3],\n",
    "    \"Good Morning\": True\n",
    "}\n",
    "mixed_dict"
   ]
  },
  {
   "cell_type": "markdown",
   "id": "c57cbb7d",
   "metadata": {},
   "source": [
    "in Dictionaries, Note: \n",
    "+ List cant be Keys\n",
    "    + List are mutable \n",
    "    + Not Hashable\n",
    "+ List can be Values"
   ]
  },
  {
   "cell_type": "code",
   "execution_count": 24,
   "id": "fbe2bf65",
   "metadata": {},
   "outputs": [
    {
     "data": {
      "text/plain": [
       "'Hello'"
      ]
     },
     "execution_count": 24,
     "metadata": {},
     "output_type": "execute_result"
    }
   ],
   "source": [
    "mixed_dict[False]"
   ]
  },
  {
   "cell_type": "code",
   "execution_count": 28,
   "id": "f74f6091",
   "metadata": {},
   "outputs": [
    {
     "data": {
      "text/plain": [
       "[1, 2, 3]"
      ]
     },
     "execution_count": 28,
     "metadata": {},
     "output_type": "execute_result"
    }
   ],
   "source": [
    "mixed_dict['hi']"
   ]
  },
  {
   "cell_type": "code",
   "execution_count": 29,
   "id": "1896650c",
   "metadata": {},
   "outputs": [
    {
     "data": {
      "text/plain": [
       "2"
      ]
     },
     "execution_count": 29,
     "metadata": {},
     "output_type": "execute_result"
    }
   ],
   "source": [
    "mixed_dict['hi'][1]"
   ]
  },
  {
   "cell_type": "code",
   "execution_count": 30,
   "id": "755dfe2c",
   "metadata": {},
   "outputs": [
    {
     "data": {
      "text/plain": [
       "3"
      ]
     },
     "execution_count": 30,
     "metadata": {},
     "output_type": "execute_result"
    }
   ],
   "source": [
    "mixed_dict['hi'][2]"
   ]
  },
  {
   "cell_type": "code",
   "execution_count": 31,
   "id": "db1542dc",
   "metadata": {},
   "outputs": [
    {
     "data": {
      "text/plain": [
       "3"
      ]
     },
     "execution_count": 31,
     "metadata": {},
     "output_type": "execute_result"
    }
   ],
   "source": [
    "len(mixed_dict['hi'])"
   ]
  },
  {
   "cell_type": "code",
   "execution_count": 32,
   "id": "83d29239",
   "metadata": {},
   "outputs": [
    {
     "data": {
      "text/plain": [
       "list"
      ]
     },
     "execution_count": 32,
     "metadata": {},
     "output_type": "execute_result"
    }
   ],
   "source": [
    "type(mixed_dict['hi'])"
   ]
  },
  {
   "cell_type": "code",
   "execution_count": 34,
   "id": "0e2b05d9",
   "metadata": {},
   "outputs": [
    {
     "data": {
      "text/plain": [
       "{}"
      ]
     },
     "execution_count": 34,
     "metadata": {},
     "output_type": "execute_result"
    }
   ],
   "source": [
    "calories = {}\n",
    "calories"
   ]
  },
  {
   "cell_type": "code",
   "execution_count": 35,
   "id": "3fe774c0",
   "metadata": {},
   "outputs": [],
   "source": [
    "calories['Burger'] = 500\n",
    "calories['Fries'] = 200\n",
    "calories['Shake'] = 400"
   ]
  },
  {
   "cell_type": "code",
   "execution_count": 36,
   "id": "f29d37f7",
   "metadata": {},
   "outputs": [
    {
     "data": {
      "text/plain": [
       "{'Burger': 500, 'Fries': 200, 'Shake': 400}"
      ]
     },
     "execution_count": 36,
     "metadata": {},
     "output_type": "execute_result"
    }
   ],
   "source": [
    "calories"
   ]
  },
  {
   "cell_type": "code",
   "execution_count": 38,
   "id": "de70eabe",
   "metadata": {},
   "outputs": [
    {
     "data": {
      "text/plain": [
       "{'Burger': 550, 'Fries': 200, 'Shake': 400}"
      ]
     },
     "execution_count": 38,
     "metadata": {},
     "output_type": "execute_result"
    }
   ],
   "source": [
    "calories['Burger'] = 550\n",
    "calories"
   ]
  },
  {
   "cell_type": "code",
   "execution_count": 39,
   "id": "bb577f51",
   "metadata": {},
   "outputs": [
    {
     "data": {
      "text/plain": [
       "{'Shake': 700, 'Juice': 200}"
      ]
     },
     "execution_count": 39,
     "metadata": {},
     "output_type": "execute_result"
    }
   ],
   "source": [
    "updated_calories = {'Shake': 700, 'Juice': 200}\n",
    "updated_calories"
   ]
  },
  {
   "cell_type": "code",
   "execution_count": 41,
   "id": "9373b733",
   "metadata": {},
   "outputs": [
    {
     "data": {
      "text/plain": [
       "{'Burger': 550, 'Fries': 200, 'Shake': 700, 'Juice': 200}"
      ]
     },
     "execution_count": 41,
     "metadata": {},
     "output_type": "execute_result"
    }
   ],
   "source": [
    "calories.update(updated_calories)\n",
    "calories"
   ]
  },
  {
   "cell_type": "markdown",
   "id": "79e43e55",
   "metadata": {},
   "source": [
    ".update will update multiple key-values at the same time, if the Key not present there then new key will be created..."
   ]
  },
  {
   "cell_type": "code",
   "execution_count": 43,
   "id": "566cc679",
   "metadata": {},
   "outputs": [],
   "source": [
    "calories.update({\n",
    "    'Pizza':500\n",
    "})"
   ]
  },
  {
   "cell_type": "code",
   "execution_count": 44,
   "id": "57828777",
   "metadata": {},
   "outputs": [
    {
     "data": {
      "text/plain": [
       "{'Burger': 550, 'Fries': 200, 'Shake': 700, 'Juice': 200, 'Pizza': 500}"
      ]
     },
     "execution_count": 44,
     "metadata": {},
     "output_type": "execute_result"
    }
   ],
   "source": [
    "calories"
   ]
  },
  {
   "cell_type": "code",
   "execution_count": null,
   "id": "2584da0c",
   "metadata": {},
   "outputs": [],
   "source": []
  },
  {
   "cell_type": "code",
   "execution_count": null,
   "id": "244506b9",
   "metadata": {},
   "outputs": [],
   "source": []
  },
  {
   "cell_type": "code",
   "execution_count": null,
   "id": "3f1b4d9b",
   "metadata": {},
   "outputs": [],
   "source": []
  },
  {
   "cell_type": "markdown",
   "id": "30e4cee5",
   "metadata": {},
   "source": [
    "## Copy Operator in Dictionaries"
   ]
  },
  {
   "cell_type": "markdown",
   "id": "80bfb406",
   "metadata": {},
   "source": [
    "##### Shallow Copy"
   ]
  },
  {
   "cell_type": "code",
   "execution_count": 1,
   "id": "576f7cf7",
   "metadata": {},
   "outputs": [
    {
     "data": {
      "text/plain": [
       "{1001: 'python', 1002: ['java', 'c#'], 1003: 'javascript', 1004: 'golang'}"
      ]
     },
     "execution_count": 1,
     "metadata": {},
     "output_type": "execute_result"
    }
   ],
   "source": [
    "project_language = {\n",
    "    1001 : 'python',\n",
    "    1002 : ['java', 'c#'],\n",
    "    1003 : 'javascript',\n",
    "    1004 : 'golang'\n",
    "}\n",
    "project_language"
   ]
  },
  {
   "cell_type": "code",
   "execution_count": 2,
   "id": "14ffd00a",
   "metadata": {},
   "outputs": [
    {
     "name": "stdout",
     "output_type": "stream",
     "text": [
      "Original: {1001: 'python', 1002: ['java', 'c#'], 1003: 'javascript', 1004: 'golang'}\n",
      "Modified: {1001: 'python', 1002: ['java', 'c#'], 1003: 'javascript', 1004: 'golang'}\n"
     ]
    }
   ],
   "source": [
    "project_language_copy = project_language\n",
    "\n",
    "print('Original:', project_language)\n",
    "print('Modified:', project_language_copy)"
   ]
  },
  {
   "cell_type": "code",
   "execution_count": 3,
   "id": "d1a350c5",
   "metadata": {},
   "outputs": [
    {
     "name": "stdout",
     "output_type": "stream",
     "text": [
      "Original: {1001: 'python', 1002: ['java', 'c#'], 1003: 'javascript', 1004: 'c#'}\n",
      "Modified: {1001: 'python', 1002: ['java', 'c#'], 1003: 'javascript', 1004: 'c#'}\n"
     ]
    }
   ],
   "source": [
    "project_language_copy[1004] = 'c#'\n",
    "\n",
    "print('Original:', project_language)\n",
    "print('Modified:', project_language_copy)"
   ]
  },
  {
   "cell_type": "markdown",
   "id": "ddde283c",
   "metadata": {},
   "source": [
    "as we can see that copy made using assignment operator will be just alias not a new copy. So changing the copy will also reflect in the main too."
   ]
  },
  {
   "cell_type": "markdown",
   "id": "4d26acca",
   "metadata": {},
   "source": [
    "##### Deep Copy"
   ]
  },
  {
   "cell_type": "markdown",
   "id": "243997b5",
   "metadata": {},
   "source": [
    "using .copy() method"
   ]
  },
  {
   "cell_type": "code",
   "execution_count": 4,
   "id": "cba8393a",
   "metadata": {},
   "outputs": [
    {
     "data": {
      "text/plain": [
       "{1001: 'python', 1002: ['java', 'c#'], 1003: 'javascript', 1004: 'golang'}"
      ]
     },
     "execution_count": 4,
     "metadata": {},
     "output_type": "execute_result"
    }
   ],
   "source": [
    "project_language = {\n",
    "    1001 : 'python',\n",
    "    1002 : ['java', 'c#'],\n",
    "    1003 : 'javascript',\n",
    "    1004 : 'golang'\n",
    "}\n",
    "project_language"
   ]
  },
  {
   "cell_type": "code",
   "execution_count": 5,
   "id": "124bb1b7",
   "metadata": {},
   "outputs": [
    {
     "name": "stdout",
     "output_type": "stream",
     "text": [
      "Original: {1001: 'python', 1002: ['java', 'c#'], 1003: 'javascript', 1004: 'golang'}\n",
      "Modified: {1001: 'python', 1002: ['java', 'c#'], 1003: 'javascript', 1004: 'golang'}\n"
     ]
    }
   ],
   "source": [
    "project_language_copy = project_language.copy()\n",
    "\n",
    "print('Original:', project_language)\n",
    "print('Modified:', project_language_copy)"
   ]
  },
  {
   "cell_type": "code",
   "execution_count": 6,
   "id": "898cd574",
   "metadata": {},
   "outputs": [
    {
     "name": "stdout",
     "output_type": "stream",
     "text": [
      "Original: {1001: 'python', 1002: ['java', 'c#'], 1003: 'javascript', 1004: 'golang'}\n",
      "Modified: {1001: 'python', 1002: ['java', 'c#'], 1003: 'javascript', 1004: 'c#'}\n"
     ]
    }
   ],
   "source": [
    "project_language_copy[1004] = 'c#'\n",
    "\n",
    "print('Original:', project_language)\n",
    "print('Modified:', project_language_copy)"
   ]
  },
  {
   "cell_type": "code",
   "execution_count": null,
   "id": "aa9ced87",
   "metadata": {},
   "outputs": [],
   "source": []
  },
  {
   "cell_type": "code",
   "execution_count": 7,
   "id": "26623849",
   "metadata": {},
   "outputs": [
    {
     "name": "stdout",
     "output_type": "stream",
     "text": [
      "Original: {1001: 'python', 1002: ['java', 'Scala'], 1003: 'javascript', 1004: 'golang'}\n",
      "Modified: {1001: 'python', 1002: ['java', 'Scala'], 1003: 'javascript', 1004: 'c#'}\n"
     ]
    }
   ],
   "source": [
    "project_language_copy[1002][1] = 'Scala'\n",
    "\n",
    "print('Original:', project_language)\n",
    "print('Modified:', project_language_copy)"
   ]
  },
  {
   "cell_type": "markdown",
   "id": "d9da835a",
   "metadata": {},
   "source": [
    "as we can see that, using .copy() method is the copy made is not perfect Deep Copy. It make a single layer Deep Copy so the changes made in the sub-lists will also reflect in the sub-lists of the main dictionary."
   ]
  },
  {
   "cell_type": "markdown",
   "id": "2b19870a",
   "metadata": {},
   "source": [
    "to make perfect Deep Copy we will using deepcopy method from library named 'copy'"
   ]
  },
  {
   "cell_type": "code",
   "execution_count": 8,
   "id": "60dc70a7",
   "metadata": {},
   "outputs": [],
   "source": [
    "from copy import deepcopy"
   ]
  },
  {
   "cell_type": "code",
   "execution_count": 9,
   "id": "347a13c1",
   "metadata": {},
   "outputs": [
    {
     "data": {
      "text/plain": [
       "{1001: 'python', 1002: ['java', 'c#'], 1003: 'javascript', 1004: 'golang'}"
      ]
     },
     "execution_count": 9,
     "metadata": {},
     "output_type": "execute_result"
    }
   ],
   "source": [
    "project_language = {\n",
    "    1001 : 'python',\n",
    "    1002 : ['java', 'c#'],\n",
    "    1003 : 'javascript',\n",
    "    1004 : 'golang'\n",
    "}\n",
    "project_language"
   ]
  },
  {
   "cell_type": "code",
   "execution_count": 10,
   "id": "955152c6",
   "metadata": {},
   "outputs": [
    {
     "name": "stdout",
     "output_type": "stream",
     "text": [
      "Original: {1001: 'python', 1002: ['java', 'c#'], 1003: 'javascript', 1004: 'golang'}\n",
      "Modified: {1001: 'python', 1002: ['java', 'c#'], 1003: 'javascript', 1004: 'golang'}\n"
     ]
    }
   ],
   "source": [
    "project_language_copy = deepcopy(project_language)\n",
    "\n",
    "print('Original:', project_language)\n",
    "print('Modified:', project_language_copy)"
   ]
  },
  {
   "cell_type": "code",
   "execution_count": 11,
   "id": "6a566b6b",
   "metadata": {},
   "outputs": [
    {
     "name": "stdout",
     "output_type": "stream",
     "text": [
      "Original: {1001: 'python', 1002: ['java', 'c#'], 1003: 'javascript', 1004: 'golang'}\n",
      "Modified: {1001: 'python', 1002: ['java', 'Scala'], 1003: 'javascript', 1004: 'golang'}\n"
     ]
    }
   ],
   "source": [
    "project_language_copy[1002][1] = 'Scala'\n",
    "\n",
    "print('Original:', project_language)\n",
    "print('Modified:', project_language_copy)"
   ]
  },
  {
   "cell_type": "code",
   "execution_count": 12,
   "id": "4d905e05",
   "metadata": {},
   "outputs": [
    {
     "name": "stdout",
     "output_type": "stream",
     "text": [
      "Original: {1001: 'python', 1002: ['java', 'c#'], 1003: 'javascript', 1004: 'golang'}\n",
      "Modified: {1001: 'python', 1002: ['java', 'Scala'], 1003: 'javascript', 1004: 'c#'}\n"
     ]
    }
   ],
   "source": [
    "project_language_copy[1004] = 'c#'\n",
    "\n",
    "print('Original:', project_language)\n",
    "print('Modified:', project_language_copy)"
   ]
  },
  {
   "cell_type": "code",
   "execution_count": null,
   "id": "b99f5c14",
   "metadata": {},
   "outputs": [],
   "source": []
  }
 ],
 "metadata": {
  "kernelspec": {
   "display_name": "Python 3 (ipykernel)",
   "language": "python",
   "name": "python3"
  },
  "language_info": {
   "codemirror_mode": {
    "name": "ipython",
    "version": 3
   },
   "file_extension": ".py",
   "mimetype": "text/x-python",
   "name": "python",
   "nbconvert_exporter": "python",
   "pygments_lexer": "ipython3",
   "version": "3.9.13"
  }
 },
 "nbformat": 4,
 "nbformat_minor": 5
}
