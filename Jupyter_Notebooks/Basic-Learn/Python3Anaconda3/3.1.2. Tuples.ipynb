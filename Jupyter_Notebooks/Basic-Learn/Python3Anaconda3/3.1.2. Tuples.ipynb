{
 "cells": [
  {
   "cell_type": "markdown",
   "id": "6556d147",
   "metadata": {},
   "source": [
    "<center><h1>Tuple</h1></center>\n",
    "<li>enclosed in round brackets or parentheses.</li>\n",
    "<li>can hold different types of values</li>\n",
    "<li>Tuple are Immutableus, just as Strings.</li>\n",
    "<li>Individual values in the tuples are often refered as fields.</li>"
   ]
  },
  {
   "cell_type": "code",
   "execution_count": 1,
   "id": "b48ef41f",
   "metadata": {},
   "outputs": [],
   "source": [
    "tup = tuple()"
   ]
  },
  {
   "cell_type": "code",
   "execution_count": 3,
   "id": "f464c6da",
   "metadata": {},
   "outputs": [
    {
     "data": {
      "text/plain": [
       "()"
      ]
     },
     "execution_count": 3,
     "metadata": {},
     "output_type": "execute_result"
    }
   ],
   "source": [
    "tup"
   ]
  },
  {
   "cell_type": "code",
   "execution_count": 4,
   "id": "44d4adbf",
   "metadata": {},
   "outputs": [],
   "source": [
    "tup = (1 ,2 ,4 ,5 ,6)"
   ]
  },
  {
   "cell_type": "code",
   "execution_count": 5,
   "id": "5af105c9",
   "metadata": {},
   "outputs": [
    {
     "data": {
      "text/plain": [
       "(1, 2, 4, 5, 6)"
      ]
     },
     "execution_count": 5,
     "metadata": {},
     "output_type": "execute_result"
    }
   ],
   "source": [
    "tup"
   ]
  },
  {
   "cell_type": "code",
   "execution_count": 6,
   "id": "a0d1b440",
   "metadata": {},
   "outputs": [
    {
     "data": {
      "text/plain": [
       "4"
      ]
     },
     "execution_count": 6,
     "metadata": {},
     "output_type": "execute_result"
    }
   ],
   "source": [
    "tup[2]"
   ]
  },
  {
   "cell_type": "code",
   "execution_count": 7,
   "id": "79ffc17e",
   "metadata": {},
   "outputs": [
    {
     "ename": "IndexError",
     "evalue": "tuple index out of range",
     "output_type": "error",
     "traceback": [
      "\u001b[1;31m---------------------------------------------------------------------------\u001b[0m",
      "\u001b[1;31mIndexError\u001b[0m                                Traceback (most recent call last)",
      "\u001b[1;32m~\\AppData\\Local\\Temp\\ipykernel_4580\\3672751615.py\u001b[0m in \u001b[0;36m<module>\u001b[1;34m\u001b[0m\n\u001b[1;32m----> 1\u001b[1;33m \u001b[0mtup\u001b[0m\u001b[1;33m[\u001b[0m\u001b[1;36m5\u001b[0m\u001b[1;33m]\u001b[0m\u001b[1;33m\u001b[0m\u001b[1;33m\u001b[0m\u001b[0m\n\u001b[0m",
      "\u001b[1;31mIndexError\u001b[0m: tuple index out of range"
     ]
    }
   ],
   "source": [
    "tup[5]"
   ]
  },
  {
   "cell_type": "code",
   "execution_count": 8,
   "id": "1911daa9",
   "metadata": {},
   "outputs": [
    {
     "data": {
      "text/plain": [
       "6"
      ]
     },
     "execution_count": 8,
     "metadata": {},
     "output_type": "execute_result"
    }
   ],
   "source": [
    "tup[4]"
   ]
  },
  {
   "cell_type": "code",
   "execution_count": 9,
   "id": "808ff4ed",
   "metadata": {},
   "outputs": [
    {
     "ename": "TypeError",
     "evalue": "'tuple' object does not support item assignment",
     "output_type": "error",
     "traceback": [
      "\u001b[1;31m---------------------------------------------------------------------------\u001b[0m",
      "\u001b[1;31mTypeError\u001b[0m                                 Traceback (most recent call last)",
      "\u001b[1;32m~\\AppData\\Local\\Temp\\ipykernel_4580\\4174031330.py\u001b[0m in \u001b[0;36m<module>\u001b[1;34m\u001b[0m\n\u001b[1;32m----> 1\u001b[1;33m \u001b[0mtup\u001b[0m\u001b[1;33m[\u001b[0m\u001b[1;36m4\u001b[0m\u001b[1;33m]\u001b[0m \u001b[1;33m=\u001b[0m \u001b[1;36m11\u001b[0m\u001b[1;33m\u001b[0m\u001b[1;33m\u001b[0m\u001b[0m\n\u001b[0m",
      "\u001b[1;31mTypeError\u001b[0m: 'tuple' object does not support item assignment"
     ]
    }
   ],
   "source": [
    "tup[4] = 11"
   ]
  },
  {
   "cell_type": "code",
   "execution_count": 10,
   "id": "eaa7122c",
   "metadata": {},
   "outputs": [],
   "source": [
    "lst = [11,22,33,44,55]"
   ]
  },
  {
   "cell_type": "code",
   "execution_count": 11,
   "id": "7a7a1180",
   "metadata": {},
   "outputs": [],
   "source": [
    "newTuple = tuple()"
   ]
  },
  {
   "cell_type": "code",
   "execution_count": 12,
   "id": "008ebe3b",
   "metadata": {},
   "outputs": [
    {
     "data": {
      "text/plain": [
       "list"
      ]
     },
     "execution_count": 12,
     "metadata": {},
     "output_type": "execute_result"
    }
   ],
   "source": [
    "type(lst)"
   ]
  },
  {
   "cell_type": "code",
   "execution_count": 13,
   "id": "fc19f4df",
   "metadata": {},
   "outputs": [
    {
     "data": {
      "text/plain": [
       "tuple"
      ]
     },
     "execution_count": 13,
     "metadata": {},
     "output_type": "execute_result"
    }
   ],
   "source": [
    "type(newTuple)"
   ]
  },
  {
   "cell_type": "code",
   "execution_count": 14,
   "id": "39700148",
   "metadata": {},
   "outputs": [],
   "source": [
    "newTuple = tuple(lst)"
   ]
  },
  {
   "cell_type": "code",
   "execution_count": 15,
   "id": "1e3c8475",
   "metadata": {},
   "outputs": [
    {
     "data": {
      "text/plain": [
       "(11, 22, 33, 44, 55)"
      ]
     },
     "execution_count": 15,
     "metadata": {},
     "output_type": "execute_result"
    }
   ],
   "source": [
    "newTuple"
   ]
  },
  {
   "cell_type": "code",
   "execution_count": 21,
   "id": "e3ecd98d",
   "metadata": {},
   "outputs": [
    {
     "data": {
      "text/plain": [
       "3"
      ]
     },
     "execution_count": 21,
     "metadata": {},
     "output_type": "execute_result"
    }
   ],
   "source": [
    "newTuple.index(44)"
   ]
  },
  {
   "cell_type": "code",
   "execution_count": 25,
   "id": "8cf95612",
   "metadata": {},
   "outputs": [],
   "source": [
    "newTuple = (11,22,33,44,55,66,77,88,99,11,11)"
   ]
  },
  {
   "cell_type": "code",
   "execution_count": 26,
   "id": "c8388e8f",
   "metadata": {},
   "outputs": [
    {
     "data": {
      "text/plain": [
       "3"
      ]
     },
     "execution_count": 26,
     "metadata": {},
     "output_type": "execute_result"
    }
   ],
   "source": [
    "newTuple.count(11)"
   ]
  },
  {
   "cell_type": "code",
   "execution_count": null,
   "id": "ef443aba",
   "metadata": {},
   "outputs": [],
   "source": []
  },
  {
   "cell_type": "code",
   "execution_count": null,
   "id": "274a1858",
   "metadata": {},
   "outputs": [],
   "source": []
  },
  {
   "cell_type": "code",
   "execution_count": null,
   "id": "cdf8796b",
   "metadata": {},
   "outputs": [],
   "source": []
  },
  {
   "cell_type": "code",
   "execution_count": null,
   "id": "e1019eb3",
   "metadata": {},
   "outputs": [],
   "source": []
  },
  {
   "cell_type": "code",
   "execution_count": 27,
   "id": "6c8dd99f",
   "metadata": {},
   "outputs": [
    {
     "data": {
      "text/plain": [
       "['__add__',\n",
       " '__class__',\n",
       " '__class_getitem__',\n",
       " '__contains__',\n",
       " '__delattr__',\n",
       " '__dir__',\n",
       " '__doc__',\n",
       " '__eq__',\n",
       " '__format__',\n",
       " '__ge__',\n",
       " '__getattribute__',\n",
       " '__getitem__',\n",
       " '__getnewargs__',\n",
       " '__gt__',\n",
       " '__hash__',\n",
       " '__init__',\n",
       " '__init_subclass__',\n",
       " '__iter__',\n",
       " '__le__',\n",
       " '__len__',\n",
       " '__lt__',\n",
       " '__mul__',\n",
       " '__ne__',\n",
       " '__new__',\n",
       " '__reduce__',\n",
       " '__reduce_ex__',\n",
       " '__repr__',\n",
       " '__rmul__',\n",
       " '__setattr__',\n",
       " '__sizeof__',\n",
       " '__str__',\n",
       " '__subclasshook__',\n",
       " 'count',\n",
       " 'index']"
      ]
     },
     "execution_count": 27,
     "metadata": {},
     "output_type": "execute_result"
    }
   ],
   "source": [
    "dir(tuple())"
   ]
  },
  {
   "cell_type": "code",
   "execution_count": null,
   "id": "79b68d08",
   "metadata": {},
   "outputs": [],
   "source": []
  },
  {
   "cell_type": "code",
   "execution_count": null,
   "id": "efc79375",
   "metadata": {},
   "outputs": [],
   "source": []
  },
  {
   "cell_type": "markdown",
   "id": "2f68cc53",
   "metadata": {},
   "source": [
    "## Copy Operator in Tuples"
   ]
  },
  {
   "cell_type": "markdown",
   "id": "3fed9091",
   "metadata": {},
   "source": [
    "###### Shallow Copy"
   ]
  },
  {
   "cell_type": "code",
   "execution_count": 12,
   "id": "783e7b06",
   "metadata": {},
   "outputs": [
    {
     "data": {
      "text/plain": [
       "('vanilla', ['chocolate', 'vanilla'], 'strawberry', 'blueberry')"
      ]
     },
     "execution_count": 12,
     "metadata": {},
     "output_type": "execute_result"
    }
   ],
   "source": [
    "ice_cream_tuple =('vanilla', ['chocolate', 'vanilla'], 'strawberry', 'blueberry')\n",
    "ice_cream_tuple"
   ]
  },
  {
   "cell_type": "code",
   "execution_count": 13,
   "id": "063a46c6",
   "metadata": {},
   "outputs": [
    {
     "data": {
      "text/plain": [
       "('vanilla', ['chocolate', 'vanilla'], 'strawberry', 'blueberry')"
      ]
     },
     "execution_count": 13,
     "metadata": {},
     "output_type": "execute_result"
    }
   ],
   "source": [
    "ice_cream_tuple_copy = ice_cream_tuple\n",
    "ice_cream_tuple_copy"
   ]
  },
  {
   "cell_type": "code",
   "execution_count": 14,
   "id": "d42dff0e",
   "metadata": {},
   "outputs": [
    {
     "name": "stdout",
     "output_type": "stream",
     "text": [
      "Original: ('vanilla', ['chocolate', 'vanilla'], 'strawberry', 'blueberry')\n",
      "Modified: ('vanilla', ['chocolate', 'vanilla'], 'strawberry', 'blueberry')\n"
     ]
    }
   ],
   "source": [
    "print('Original:', ice_cream_tuple)\n",
    "print('Modified:', ice_cream_tuple_copy)"
   ]
  },
  {
   "cell_type": "code",
   "execution_count": 15,
   "id": "37e0b31b",
   "metadata": {},
   "outputs": [],
   "source": [
    "ice_cream_tuple_copy[1][0] = 'butterscotch'"
   ]
  },
  {
   "cell_type": "code",
   "execution_count": 16,
   "id": "06cd9409",
   "metadata": {},
   "outputs": [
    {
     "name": "stdout",
     "output_type": "stream",
     "text": [
      "Original: ('vanilla', ['butterscotch', 'vanilla'], 'strawberry', 'blueberry')\n",
      "Modified: ('vanilla', ['butterscotch', 'vanilla'], 'strawberry', 'blueberry')\n"
     ]
    }
   ],
   "source": [
    "print('Original:', ice_cream_tuple)\n",
    "print('Modified:', ice_cream_tuple_copy)"
   ]
  },
  {
   "cell_type": "markdown",
   "id": "f4527ace",
   "metadata": {},
   "source": [
    "as we can see that changing the copy will reflect on the main tuple too, this copy is called shallow tuple."
   ]
  },
  {
   "cell_type": "markdown",
   "id": "a7c42ccb",
   "metadata": {},
   "source": [
    "lets try the .copy() operator "
   ]
  },
  {
   "cell_type": "code",
   "execution_count": 17,
   "id": "e27524a4",
   "metadata": {},
   "outputs": [
    {
     "ename": "AttributeError",
     "evalue": "'tuple' object has no attribute 'copy'",
     "output_type": "error",
     "traceback": [
      "\u001b[1;31m---------------------------------------------------------------------------\u001b[0m",
      "\u001b[1;31mAttributeError\u001b[0m                            Traceback (most recent call last)",
      "\u001b[1;32m~\\AppData\\Local\\Temp\\ipykernel_10756\\4255407868.py\u001b[0m in \u001b[0;36m<module>\u001b[1;34m\u001b[0m\n\u001b[1;32m----> 1\u001b[1;33m \u001b[0mice_cream_tuple_copy\u001b[0m \u001b[1;33m=\u001b[0m \u001b[0mice_cream_tuple\u001b[0m\u001b[1;33m.\u001b[0m\u001b[0mcopy\u001b[0m\u001b[1;33m(\u001b[0m\u001b[1;33m)\u001b[0m\u001b[1;33m\u001b[0m\u001b[1;33m\u001b[0m\u001b[0m\n\u001b[0m",
      "\u001b[1;31mAttributeError\u001b[0m: 'tuple' object has no attribute 'copy'"
     ]
    }
   ],
   "source": [
    "ice_cream_tuple_copy = ice_cream_tuple.copy()"
   ]
  },
  {
   "cell_type": "markdown",
   "id": "a85d74a4",
   "metadata": {},
   "source": [
    "it gives us Traceback because Tuples are immutable and that is the reason it does not support the copy() method"
   ]
  },
  {
   "cell_type": "markdown",
   "id": "def36dba",
   "metadata": {},
   "source": [
    "So now the only option we are left with is the 'deepcopy'"
   ]
  },
  {
   "cell_type": "code",
   "execution_count": 25,
   "id": "1d645e83",
   "metadata": {},
   "outputs": [],
   "source": [
    "from copy import deepcopy"
   ]
  },
  {
   "cell_type": "code",
   "execution_count": 28,
   "id": "05c89bc4",
   "metadata": {},
   "outputs": [
    {
     "data": {
      "text/plain": [
       "('vanilla', ['chocolate', 'vanilla'], 'strawberry', 'blueberry')"
      ]
     },
     "execution_count": 28,
     "metadata": {},
     "output_type": "execute_result"
    }
   ],
   "source": [
    "ice_cream_tuple =('vanilla', ['chocolate', 'vanilla'], 'strawberry', 'blueberry')\n",
    "ice_cream_tuple"
   ]
  },
  {
   "cell_type": "code",
   "execution_count": 29,
   "id": "21a8c2a3",
   "metadata": {},
   "outputs": [],
   "source": [
    "ice_cream_tuple_copy = deepcopy(ice_cream_tuple)"
   ]
  },
  {
   "cell_type": "code",
   "execution_count": 30,
   "id": "1eb12e04",
   "metadata": {},
   "outputs": [
    {
     "name": "stdout",
     "output_type": "stream",
     "text": [
      "Original: ('vanilla', ['chocolate', 'vanilla'], 'strawberry', 'blueberry')\n",
      "Modified: ('vanilla', ['chocolate', 'vanilla'], 'strawberry', 'blueberry')\n"
     ]
    }
   ],
   "source": [
    "print('Original:', ice_cream_tuple)\n",
    "print('Modified:', ice_cream_tuple_copy)"
   ]
  },
  {
   "cell_type": "code",
   "execution_count": 31,
   "id": "3f532f9f",
   "metadata": {},
   "outputs": [],
   "source": [
    "ice_cream_tuple_copy[1][0] = 'butterscotch'"
   ]
  },
  {
   "cell_type": "code",
   "execution_count": 32,
   "id": "c287d7a8",
   "metadata": {},
   "outputs": [
    {
     "name": "stdout",
     "output_type": "stream",
     "text": [
      "Original: ('vanilla', ['chocolate', 'vanilla'], 'strawberry', 'blueberry')\n",
      "Modified: ('vanilla', ['butterscotch', 'vanilla'], 'strawberry', 'blueberry')\n"
     ]
    }
   ],
   "source": [
    "print('Original:', ice_cream_tuple)\n",
    "print('Modified:', ice_cream_tuple_copy)"
   ]
  },
  {
   "cell_type": "code",
   "execution_count": null,
   "id": "10b0108a",
   "metadata": {},
   "outputs": [],
   "source": []
  }
 ],
 "metadata": {
  "kernelspec": {
   "display_name": "Python 3 (ipykernel)",
   "language": "python",
   "name": "python3"
  },
  "language_info": {
   "codemirror_mode": {
    "name": "ipython",
    "version": 3
   },
   "file_extension": ".py",
   "mimetype": "text/x-python",
   "name": "python",
   "nbconvert_exporter": "python",
   "pygments_lexer": "ipython3",
   "version": "3.9.13"
  }
 },
 "nbformat": 4,
 "nbformat_minor": 5
}
