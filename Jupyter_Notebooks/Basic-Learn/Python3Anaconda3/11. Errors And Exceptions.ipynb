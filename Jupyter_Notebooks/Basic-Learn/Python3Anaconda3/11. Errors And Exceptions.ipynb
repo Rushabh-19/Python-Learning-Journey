{
 "cells": [
  {
   "cell_type": "code",
   "execution_count": 1,
   "id": "912bd5cc",
   "metadata": {},
   "outputs": [
    {
     "ename": "ZeroDivisionError",
     "evalue": "division by zero",
     "output_type": "error",
     "traceback": [
      "\u001b[1;31m---------------------------------------------------------------------------\u001b[0m",
      "\u001b[1;31mZeroDivisionError\u001b[0m                         Traceback (most recent call last)",
      "\u001b[1;32m~\\AppData\\Local\\Temp\\ipykernel_15308\\3627099327.py\u001b[0m in \u001b[0;36m<module>\u001b[1;34m\u001b[0m\n\u001b[1;32m----> 1\u001b[1;33m \u001b[1;36m2\u001b[0m\u001b[1;33m/\u001b[0m\u001b[1;36m0\u001b[0m\u001b[1;33m\u001b[0m\u001b[1;33m\u001b[0m\u001b[0m\n\u001b[0m",
      "\u001b[1;31mZeroDivisionError\u001b[0m: division by zero"
     ]
    }
   ],
   "source": [
    "2/0"
   ]
  },
  {
   "cell_type": "markdown",
   "id": "bc7b455a",
   "metadata": {},
   "source": [
    "here the name of the error is \"ZeroDivisionError\""
   ]
  },
  {
   "cell_type": "code",
   "execution_count": 2,
   "id": "36df4b7d",
   "metadata": {},
   "outputs": [
    {
     "ename": "TypeError",
     "evalue": "can only concatenate str (not \"int\") to str",
     "output_type": "error",
     "traceback": [
      "\u001b[1;31m---------------------------------------------------------------------------\u001b[0m",
      "\u001b[1;31mTypeError\u001b[0m                                 Traceback (most recent call last)",
      "\u001b[1;32m~\\AppData\\Local\\Temp\\ipykernel_15308\\2865427466.py\u001b[0m in \u001b[0;36m<module>\u001b[1;34m\u001b[0m\n\u001b[1;32m----> 1\u001b[1;33m \u001b[1;34m'hello'\u001b[0m \u001b[1;33m+\u001b[0m \u001b[1;36m2\u001b[0m\u001b[1;33m\u001b[0m\u001b[1;33m\u001b[0m\u001b[0m\n\u001b[0m",
      "\u001b[1;31mTypeError\u001b[0m: can only concatenate str (not \"int\") to str"
     ]
    }
   ],
   "source": [
    "'hello' + 2"
   ]
  },
  {
   "cell_type": "markdown",
   "id": "aa984f83",
   "metadata": {},
   "source": [
    "here the name of the error is \"TypeError\""
   ]
  },
  {
   "cell_type": "code",
   "execution_count": 3,
   "id": "0980b977",
   "metadata": {},
   "outputs": [
    {
     "ename": "NameError",
     "evalue": "name 'i' is not defined",
     "output_type": "error",
     "traceback": [
      "\u001b[1;31m---------------------------------------------------------------------------\u001b[0m",
      "\u001b[1;31mNameError\u001b[0m                                 Traceback (most recent call last)",
      "\u001b[1;32m~\\AppData\\Local\\Temp\\ipykernel_15308\\2142942594.py\u001b[0m in \u001b[0;36m<module>\u001b[1;34m\u001b[0m\n\u001b[1;32m----> 1\u001b[1;33m \u001b[0mi\u001b[0m \u001b[1;33m+\u001b[0m \u001b[1;36m2\u001b[0m\u001b[1;33m\u001b[0m\u001b[1;33m\u001b[0m\u001b[0m\n\u001b[0m",
      "\u001b[1;31mNameError\u001b[0m: name 'i' is not defined"
     ]
    }
   ],
   "source": [
    "i + 2"
   ]
  },
  {
   "cell_type": "markdown",
   "id": "88796137",
   "metadata": {},
   "source": [
    "here the name of the Error is \"NameError\""
   ]
  },
  {
   "cell_type": "code",
   "execution_count": null,
   "id": "75e76117",
   "metadata": {},
   "outputs": [],
   "source": []
  },
  {
   "cell_type": "code",
   "execution_count": 5,
   "id": "4bac2552",
   "metadata": {},
   "outputs": [
    {
     "name": "stdout",
     "output_type": "stream",
     "text": [
      "Please enter an integer: hello\n",
      "Oops, an error was thrown!\n",
      "Outside the try/except block\n"
     ]
    }
   ],
   "source": [
    "try:\n",
    "    user_input = input('Please enter an integer: ')\n",
    "    result = 100/int(user_input)\n",
    "    print('here is the result, 100 divided by the integer you entered is', result)\n",
    "\n",
    "except(ValueError):\n",
    "    print('Oops, an error was thrown!')\n",
    "\n",
    "print('Outside the try/except block')"
   ]
  },
  {
   "cell_type": "markdown",
   "id": "66f3bf6b",
   "metadata": {},
   "source": [
    "here only ValueError is catched, anyother error is not catched.\n",
    "- here there error metioned in the except blocks argurment is catched"
   ]
  },
  {
   "cell_type": "code",
   "execution_count": 6,
   "id": "fccbd218",
   "metadata": {},
   "outputs": [
    {
     "name": "stdout",
     "output_type": "stream",
     "text": [
      "Please enter an integer: 0\n",
      "Oops, an error was thrown!\n",
      "Outside the try/except block\n"
     ]
    }
   ],
   "source": [
    "try:\n",
    "    user_input = input('Please enter an integer: ')\n",
    "    result = 100/int(user_input)\n",
    "    print('here is the result, 100 divided by the integer you entered is', result)\n",
    "\n",
    "except(ZeroDivisionError):\n",
    "    print('Oops, an error was thrown!')\n",
    "\n",
    "print('Outside the try/except block')"
   ]
  },
  {
   "cell_type": "markdown",
   "id": "9110668a",
   "metadata": {},
   "source": [
    "we can pass multiple arguments in the Except block"
   ]
  },
  {
   "cell_type": "code",
   "execution_count": 8,
   "id": "e660d246",
   "metadata": {},
   "outputs": [
    {
     "name": "stdout",
     "output_type": "stream",
     "text": [
      "Please enter an integer: hi\n",
      "Oops, an error was thrown!\n",
      "Outside the try/except block\n"
     ]
    }
   ],
   "source": [
    "try:\n",
    "    user_input = input('Please enter an integer: ')\n",
    "    result = 100/int(user_input)\n",
    "    print('here is the result, 100 divided by the integer you entered is', result)\n",
    "\n",
    "except(ValueError, ZeroDivisionError):\n",
    "    print('Oops, an error was thrown!')\n",
    "\n",
    "print('Outside the try/except block')"
   ]
  },
  {
   "cell_type": "markdown",
   "id": "870ca155",
   "metadata": {},
   "source": [
    "we can add two individual except block for the same try block too."
   ]
  },
  {
   "cell_type": "code",
   "execution_count": 11,
   "id": "c3fceb02",
   "metadata": {},
   "outputs": [
    {
     "name": "stdout",
     "output_type": "stream",
     "text": [
      "Please enter an integer: string\n",
      "Oops, an error was thrown! invalid literal for int() with base 10: 'string'\n",
      "Error Type: <class 'ValueError'>\n",
      "Outside the try/except block\n"
     ]
    }
   ],
   "source": [
    "try:\n",
    "    user_input = input('Please enter an integer: ')\n",
    "    result = 100/int(user_input)\n",
    "    print('here is the result, 100 divided by the integer you entered is', result)\n",
    "\n",
    "except ValueError as ve:\n",
    "    print('Oops, an error was thrown!', ve)\n",
    "    print('Error Type:', type(ve))\n",
    "    \n",
    "except ZeroDivisionError as zde:\n",
    "    print('Oops, an error was thrown!', zde)\n",
    "    print('Error Type:', type(zde))\n",
    "\n",
    "print('Outside the try/except block')"
   ]
  },
  {
   "cell_type": "code",
   "execution_count": null,
   "id": "83777a4f",
   "metadata": {},
   "outputs": [],
   "source": []
  },
  {
   "cell_type": "code",
   "execution_count": null,
   "id": "997accd8",
   "metadata": {},
   "outputs": [],
   "source": []
  },
  {
   "cell_type": "code",
   "execution_count": 12,
   "id": "fbed3481",
   "metadata": {},
   "outputs": [
    {
     "data": {
      "text/plain": [
       "True"
      ]
     },
     "execution_count": 12,
     "metadata": {},
     "output_type": "execute_result"
    }
   ],
   "source": [
    "issubclass(ValueError , Exception) # check if ValueError Class inherits Exception Class"
   ]
  },
  {
   "cell_type": "code",
   "execution_count": 13,
   "id": "7f4dc373",
   "metadata": {},
   "outputs": [
    {
     "data": {
      "text/plain": [
       "True"
      ]
     },
     "execution_count": 13,
     "metadata": {},
     "output_type": "execute_result"
    }
   ],
   "source": [
    "issubclass(ZeroDivisionError , Exception)"
   ]
  },
  {
   "cell_type": "code",
   "execution_count": null,
   "id": "fb68fec3",
   "metadata": {},
   "outputs": [],
   "source": []
  },
  {
   "cell_type": "code",
   "execution_count": 16,
   "id": "39bf7518",
   "metadata": {},
   "outputs": [
    {
     "name": "stdout",
     "output_type": "stream",
     "text": [
      "Please enter an integer: this is a string\n",
      "Oops, an error was thrown!\n",
      "Outside the try/except block\n"
     ]
    }
   ],
   "source": [
    "try:\n",
    "    user_input = input('Please enter an integer: ')\n",
    "    result = 100/int(user_input)\n",
    "    print('here is the result, 100 divided by the integer you entered is', result)\n",
    "\n",
    "except(Exception):\n",
    "    print('Oops, an error was thrown!')\n",
    "\n",
    "print('Outside the try/except block')"
   ]
  },
  {
   "cell_type": "code",
   "execution_count": null,
   "id": "ca4ec453",
   "metadata": {},
   "outputs": [],
   "source": []
  },
  {
   "cell_type": "code",
   "execution_count": null,
   "id": "abc07df5",
   "metadata": {},
   "outputs": [],
   "source": []
  },
  {
   "cell_type": "code",
   "execution_count": 1,
   "id": "512a9368",
   "metadata": {},
   "outputs": [
    {
     "name": "stdout",
     "output_type": "stream",
     "text": [
      "Please enter an integer: 12\n",
      "Well this was unexcepted\n",
      "Outside the try/except block\n"
     ]
    }
   ],
   "source": [
    "try:\n",
    "    user_input = input('Please enter an integer: ')\n",
    "    #we've forgotten to convert string input to an integer\n",
    "    result = 100/user_input\n",
    "    print('here is the result, 100 divided by the integer you entered is', result)\n",
    "\n",
    "except ValueError as ve:\n",
    "    print('Oops, an error was thrown!', ve)\n",
    "    print('Error Type:', type(ve))\n",
    "    \n",
    "except ZeroDivisionError as zde:\n",
    "    print('Oops, an error was thrown!', zde)\n",
    "    print('Error Type:', type(zde))\n",
    "\n",
    "except:\n",
    "    print ('Well this was unexcepted')\n",
    "    \n",
    "print('Outside the try/except block')"
   ]
  },
  {
   "cell_type": "markdown",
   "id": "9e033b09",
   "metadata": {},
   "source": [
    "here,\n",
    "- 1st catches the Value Error.\n",
    "- 2nd catches the Zero division error.\n",
    "- 3rd catch block does not specify any type of error. It will deal with any type of error"
   ]
  },
  {
   "cell_type": "code",
   "execution_count": null,
   "id": "a9be6890",
   "metadata": {},
   "outputs": [],
   "source": []
  },
  {
   "cell_type": "code",
   "execution_count": null,
   "id": "e71b0808",
   "metadata": {},
   "outputs": [],
   "source": []
  },
  {
   "cell_type": "code",
   "execution_count": 2,
   "id": "3cfae24c",
   "metadata": {},
   "outputs": [
    {
     "name": "stdout",
     "output_type": "stream",
     "text": [
      "Please enter an integer: 5\n",
      "here is the result, 100 divided by the integer you entered is 20.0\n",
      "Successfully executed the code in the try block\n",
      "Outside the try/except block\n"
     ]
    }
   ],
   "source": [
    "try:\n",
    "    user_input = input('Please enter an integer: ')\n",
    "    result = 100/int(user_input)\n",
    "    print('here is the result, 100 divided by the integer you entered is', result)\n",
    "\n",
    "except ValueError as ve:\n",
    "    print('Oops, an error was thrown!', ve)\n",
    "    print('Error Type:', type(ve))\n",
    "    \n",
    "except ZeroDivisionError as zde:\n",
    "    print('Oops, an error was thrown!', zde)\n",
    "    print('Error Type:', type(zde))\n",
    "\n",
    "else:\n",
    "    #excuted only when the code in the try block does not result in an exception\n",
    "    print ('Successfully executed the code in the try block')\n",
    "    \n",
    "print('Outside the try/except block')"
   ]
  },
  {
   "cell_type": "markdown",
   "id": "0b8ab07f",
   "metadata": {},
   "source": []
  },
  {
   "cell_type": "code",
   "execution_count": null,
   "id": "49cba4e1",
   "metadata": {},
   "outputs": [],
   "source": []
  },
  {
   "cell_type": "markdown",
   "id": "78a60fd3",
   "metadata": {},
   "source": [
    "# Finally Block"
   ]
  },
  {
   "cell_type": "code",
   "execution_count": 3,
   "id": "56b62397",
   "metadata": {},
   "outputs": [
    {
     "name": "stdout",
     "output_type": "stream",
     "text": [
      "Exception: ('green', 'eegs', 'and', 'ham')\n",
      "Type: <class 'Exception'>\n",
      "Arguments: ('green', 'eegs', 'and', 'ham')\n"
     ]
    }
   ],
   "source": [
    "try:\n",
    "    raise Exception ('green' , 'eegs' , 'and' , 'ham')\n",
    "except Exception as exe:\n",
    "    \n",
    "    print ('Exception:',exe)\n",
    "    print ('Type:', type(exe))\n",
    "    print ('Arguments:',exe.args) \n",
    "    # exe.args --> returns tuple of all the arguments passed while raising the exception"
   ]
  },
  {
   "cell_type": "code",
   "execution_count": 4,
   "id": "cc512fc7",
   "metadata": {},
   "outputs": [
    {
     "name": "stdout",
     "output_type": "stream",
     "text": [
      "green eegs and ham\n"
     ]
    }
   ],
   "source": [
    "try:\n",
    "    raise Exception ('green' , 'eegs' , 'and' , 'ham')\n",
    "except Exception as exe:\n",
    "    \n",
    "    arg_1 , arg_2 , arg_3 , arg4 = exe.args #unpacking the arguments\n",
    "\n",
    "print (arg_1 , arg_2 , arg_3 , arg4)"
   ]
  },
  {
   "cell_type": "code",
   "execution_count": null,
   "id": "ce02af81",
   "metadata": {},
   "outputs": [],
   "source": []
  },
  {
   "cell_type": "markdown",
   "id": "151935a4",
   "metadata": {},
   "source": [
    "    Defining a function which raises many different kinds of exceptions."
   ]
  },
  {
   "cell_type": "code",
   "execution_count": 6,
   "id": "5a8dfdfb",
   "metadata": {},
   "outputs": [],
   "source": [
    "def exception_raising_fn(switch):\n",
    "    if switch == 1:\n",
    "        raise ValueError('Value specified was wrong')\n",
    "    elif switch == 2:\n",
    "        raise NameError('Identifier not defined in the local or global scope')\n",
    "    elif switch == 3:\n",
    "        #TypeError is the same as TypeError()\n",
    "        raise TypeError\n",
    "    else:\n",
    "        print ('Executed without exceptions')"
   ]
  },
  {
   "cell_type": "code",
   "execution_count": null,
   "id": "62fdb59b",
   "metadata": {},
   "outputs": [],
   "source": []
  },
  {
   "cell_type": "code",
   "execution_count": 12,
   "id": "0195632a",
   "metadata": {},
   "outputs": [
    {
     "name": "stdout",
     "output_type": "stream",
     "text": [
      "Executed without exceptions\n"
     ]
    }
   ],
   "source": [
    "try:\n",
    "    exception_raising_fn(4) # check output for all 1, 2, 3 arguments\n",
    "                            #also try numbers other 1 , 2, 3\n",
    "    \n",
    "except ValueError as ve:\n",
    "    print ('Oops value error was thrown!',ve)\n",
    "    print ('Error Type', type(ve))\n",
    "\n",
    "except NameError as ne:\n",
    "    print ('Oops name error was thrown!',ne)\n",
    "    print ('Error Type', type(ne))\n",
    "    \n",
    "except TypeError as te:\n",
    "    print ('Oops type error was thrown!',te)\n",
    "    print ('Error Type', type(te))"
   ]
  },
  {
   "cell_type": "markdown",
   "id": "8ef8407c",
   "metadata": {},
   "source": [
    "    now lets add a finally clause"
   ]
  },
  {
   "cell_type": "code",
   "execution_count": 14,
   "id": "970969bb",
   "metadata": {},
   "outputs": [
    {
     "name": "stdout",
     "output_type": "stream",
     "text": [
      "Oops name error was thrown! Identifier not defined in the local or global scope\n",
      "Error Type <class 'NameError'>\n",
      "Always executed. This is where you will write clean up code\n"
     ]
    }
   ],
   "source": [
    "try:\n",
    "    exception_raising_fn(2) # check output for all 1, 2, 3 arguments\n",
    "                            #also try numbers other 1 , 2, 3\n",
    "    \n",
    "except ValueError as ve:\n",
    "    print ('Oops value error was thrown!',ve)\n",
    "    print ('Error Type', type(ve))\n",
    "\n",
    "except NameError as ne:\n",
    "    print ('Oops name error was thrown!',ne)\n",
    "    print ('Error Type', type(ne))\n",
    "    \n",
    "except TypeError as te:\n",
    "    print ('Oops type error was thrown!',te)\n",
    "    print ('Error Type', type(te))\n",
    "    \n",
    "finally: #always going to be executed\n",
    "    print (\"Always executed. This is where you will write clean up code\")"
   ]
  },
  {
   "cell_type": "code",
   "execution_count": null,
   "id": "2c89a7d3",
   "metadata": {},
   "outputs": [],
   "source": []
  }
 ],
 "metadata": {
  "kernelspec": {
   "display_name": "Python 3 (ipykernel)",
   "language": "python",
   "name": "python3"
  },
  "language_info": {
   "codemirror_mode": {
    "name": "ipython",
    "version": 3
   },
   "file_extension": ".py",
   "mimetype": "text/x-python",
   "name": "python",
   "nbconvert_exporter": "python",
   "pygments_lexer": "ipython3",
   "version": "3.9.13"
  }
 },
 "nbformat": 4,
 "nbformat_minor": 5
}
