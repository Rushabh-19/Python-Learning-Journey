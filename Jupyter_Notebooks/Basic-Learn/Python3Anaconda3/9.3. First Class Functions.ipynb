{
 "cells": [
  {
   "cell_type": "markdown",
   "id": "6ee72fb4",
   "metadata": {},
   "source": [
    "    Properties of first Class Function:\n",
    "    1. function can indeed be assigned to Variable.\n",
    "    2. one function can be passed in as input argument of another.\n",
    "    3. one function can return another function as its return value.\n",
    "    4. a Dictionary can have a function as its value."
   ]
  },
  {
   "cell_type": "code",
   "execution_count": null,
   "id": "98279f97",
   "metadata": {},
   "outputs": [],
   "source": []
  },
  {
   "cell_type": "code",
   "execution_count": 1,
   "id": "b5d90388",
   "metadata": {},
   "outputs": [],
   "source": [
    "def say_hello(name):\n",
    "    return f'Hello {name}!'"
   ]
  },
  {
   "cell_type": "code",
   "execution_count": 2,
   "id": "dff09619",
   "metadata": {},
   "outputs": [
    {
     "data": {
      "text/plain": [
       "'Hello Ken!'"
      ]
     },
     "execution_count": 2,
     "metadata": {},
     "output_type": "execute_result"
    }
   ],
   "source": [
    "say_hello('Ken')"
   ]
  },
  {
   "cell_type": "markdown",
   "id": "688a13db",
   "metadata": {},
   "source": [
    "in Python literally everything is an Object."
   ]
  },
  {
   "cell_type": "markdown",
   "id": "82e309bf",
   "metadata": {},
   "source": [
    "lets examine this 'say_hello()' function "
   ]
  },
  {
   "cell_type": "code",
   "execution_count": 5,
   "id": "3090dddc",
   "metadata": {},
   "outputs": [
    {
     "data": {
      "text/plain": [
       "<function __main__.say_hello(name)>"
      ]
     },
     "execution_count": 5,
     "metadata": {},
     "output_type": "execute_result"
    }
   ],
   "source": [
    "say_hello"
   ]
  },
  {
   "cell_type": "markdown",
   "id": "a6d8decf",
   "metadata": {},
   "source": [
    "its can see that it shows up as an object of type function.\n",
    "+ the name of the function is say_hello.\n",
    "+ preceded by Dunder main Dunder ( __ --> Dunder) i.e. __main__\n",
    "    + incdicates module in which the function is defined \n",
    "+ we can also see that there is one input argument i.e. name, \n",
    "+ all of this is enclosed within angle brackets. \n",
    "+ these are the string representation of the function.\n",
    "note that, we have not included the parenthesis because we want to examine the function"
   ]
  },
  {
   "cell_type": "code",
   "execution_count": 6,
   "id": "68e4a911",
   "metadata": {},
   "outputs": [],
   "source": [
    "great_hello = say_hello"
   ]
  },
  {
   "cell_type": "code",
   "execution_count": 7,
   "id": "f918cba0",
   "metadata": {},
   "outputs": [
    {
     "data": {
      "text/plain": [
       "<function __main__.say_hello(name)>"
      ]
     },
     "execution_count": 7,
     "metadata": {},
     "output_type": "execute_result"
    }
   ],
   "source": [
    "great_hello"
   ]
  },
  {
   "cell_type": "markdown",
   "id": "238ec7cc",
   "metadata": {},
   "source": [
    "we have assigned the say_hello to great_hello. Note that: \n",
    "+ we have not included parenthesis.\n",
    "+ as we examine great_hello, it is exactly same as the content of say_hello"
   ]
  },
  {
   "cell_type": "code",
   "execution_count": 8,
   "id": "8ee4f83c",
   "metadata": {},
   "outputs": [
    {
     "data": {
      "text/plain": [
       "'Hello Claudia!'"
      ]
     },
     "execution_count": 8,
     "metadata": {},
     "output_type": "execute_result"
    }
   ],
   "source": [
    "great_hello('Claudia')"
   ]
  },
  {
   "cell_type": "markdown",
   "id": "7713fe6b",
   "metadata": {},
   "source": [
    "    proved the first of the four property that function can indeed be assigned to variable.\n",
    "    and those variable then become callable, just like the original funciton."
   ]
  },
  {
   "cell_type": "code",
   "execution_count": null,
   "id": "918aa6da",
   "metadata": {},
   "outputs": [],
   "source": []
  },
  {
   "cell_type": "code",
   "execution_count": 9,
   "id": "02fe96af",
   "metadata": {},
   "outputs": [],
   "source": [
    "def square (num):\n",
    "    return num*num\n",
    "def cube (num):\n",
    "    return num*num*num\n",
    "def raise_to_four (num):\n",
    "    return num ** 4\n",
    "def raise_to_n(num , p):\n",
    "    return num ** p"
   ]
  },
  {
   "cell_type": "code",
   "execution_count": 10,
   "id": "84cc0148",
   "metadata": {},
   "outputs": [],
   "source": [
    "def calculate (number , func):\n",
    "    return func(number)"
   ]
  },
  {
   "cell_type": "code",
   "execution_count": 11,
   "id": "e2f48414",
   "metadata": {},
   "outputs": [
    {
     "data": {
      "text/plain": [
       "100"
      ]
     },
     "execution_count": 11,
     "metadata": {},
     "output_type": "execute_result"
    }
   ],
   "source": [
    "calculate(10 , square)"
   ]
  },
  {
   "cell_type": "code",
   "execution_count": 12,
   "id": "c31f7624",
   "metadata": {},
   "outputs": [
    {
     "data": {
      "text/plain": [
       "1000"
      ]
     },
     "execution_count": 12,
     "metadata": {},
     "output_type": "execute_result"
    }
   ],
   "source": [
    "calculate(10 , cube)"
   ]
  },
  {
   "cell_type": "code",
   "execution_count": 13,
   "id": "08c3f7a2",
   "metadata": {},
   "outputs": [
    {
     "data": {
      "text/plain": [
       "10000"
      ]
     },
     "execution_count": 13,
     "metadata": {},
     "output_type": "execute_result"
    }
   ],
   "source": [
    "calculate(10 , raise_to_four)"
   ]
  },
  {
   "cell_type": "markdown",
   "id": "095dab17",
   "metadata": {},
   "source": [
    "we proved the 2nd property of first class function that a function can be passed as input argunment of another."
   ]
  },
  {
   "cell_type": "code",
   "execution_count": null,
   "id": "33f1362e",
   "metadata": {},
   "outputs": [],
   "source": []
  },
  {
   "cell_type": "markdown",
   "id": "c9faa1b5",
   "metadata": {},
   "source": [
    "let try the raise_to_n funciton"
   ]
  },
  {
   "cell_type": "code",
   "execution_count": 14,
   "id": "e45ba48b",
   "metadata": {},
   "outputs": [
    {
     "ename": "TypeError",
     "evalue": "raise_to_n() missing 1 required positional argument: 'p'",
     "output_type": "error",
     "traceback": [
      "\u001b[1;31m---------------------------------------------------------------------------\u001b[0m",
      "\u001b[1;31mTypeError\u001b[0m                                 Traceback (most recent call last)",
      "\u001b[1;32m~\\AppData\\Local\\Temp\\ipykernel_16836\\38518014.py\u001b[0m in \u001b[0;36m<module>\u001b[1;34m\u001b[0m\n\u001b[1;32m----> 1\u001b[1;33m \u001b[0mcalculate\u001b[0m\u001b[1;33m(\u001b[0m\u001b[1;36m10\u001b[0m \u001b[1;33m,\u001b[0m \u001b[0mraise_to_n\u001b[0m\u001b[1;33m)\u001b[0m\u001b[1;33m\u001b[0m\u001b[1;33m\u001b[0m\u001b[0m\n\u001b[0m",
      "\u001b[1;32m~\\AppData\\Local\\Temp\\ipykernel_16836\\2298883268.py\u001b[0m in \u001b[0;36mcalculate\u001b[1;34m(number, func)\u001b[0m\n\u001b[0;32m      1\u001b[0m \u001b[1;32mdef\u001b[0m \u001b[0mcalculate\u001b[0m \u001b[1;33m(\u001b[0m\u001b[0mnumber\u001b[0m \u001b[1;33m,\u001b[0m \u001b[0mfunc\u001b[0m\u001b[1;33m)\u001b[0m\u001b[1;33m:\u001b[0m\u001b[1;33m\u001b[0m\u001b[1;33m\u001b[0m\u001b[0m\n\u001b[1;32m----> 2\u001b[1;33m     \u001b[1;32mreturn\u001b[0m \u001b[0mfunc\u001b[0m\u001b[1;33m(\u001b[0m\u001b[0mnumber\u001b[0m\u001b[1;33m)\u001b[0m\u001b[1;33m\u001b[0m\u001b[1;33m\u001b[0m\u001b[0m\n\u001b[0m",
      "\u001b[1;31mTypeError\u001b[0m: raise_to_n() missing 1 required positional argument: 'p'"
     ]
    }
   ],
   "source": [
    "calculate(10 , raise_to_n)"
   ]
  },
  {
   "cell_type": "markdown",
   "id": "78428d1c",
   "metadata": {},
   "source": [
    "as we can see that it raised an error as the raise_to_n function have 2 arguments."
   ]
  },
  {
   "cell_type": "markdown",
   "id": "08ada70b",
   "metadata": {},
   "source": [
    "we will use the star args type of input arguments(varargs function) that we studied earlier."
   ]
  },
  {
   "cell_type": "code",
   "execution_count": 15,
   "id": "32c1dbe7",
   "metadata": {},
   "outputs": [],
   "source": [
    "def calculate (*args , func):\n",
    "    return func(*args)"
   ]
  },
  {
   "cell_type": "code",
   "execution_count": 19,
   "id": "190c29f2",
   "metadata": {},
   "outputs": [
    {
     "data": {
      "text/plain": [
       "100"
      ]
     },
     "execution_count": 19,
     "metadata": {},
     "output_type": "execute_result"
    }
   ],
   "source": [
    "calculate (10 , func = square)"
   ]
  },
  {
   "cell_type": "code",
   "execution_count": 20,
   "id": "71bde66f",
   "metadata": {},
   "outputs": [
    {
     "data": {
      "text/plain": [
       "8"
      ]
     },
     "execution_count": 20,
     "metadata": {},
     "output_type": "execute_result"
    }
   ],
   "source": [
    "calculate (2 , func = cube)"
   ]
  },
  {
   "cell_type": "code",
   "execution_count": 21,
   "id": "43125811",
   "metadata": {},
   "outputs": [
    {
     "data": {
      "text/plain": [
       "16"
      ]
     },
     "execution_count": 21,
     "metadata": {},
     "output_type": "execute_result"
    }
   ],
   "source": [
    "calculate (2 , func = raise_to_four)"
   ]
  },
  {
   "cell_type": "code",
   "execution_count": 23,
   "id": "8c72cd69",
   "metadata": {},
   "outputs": [
    {
     "data": {
      "text/plain": [
       "32"
      ]
     },
     "execution_count": 23,
     "metadata": {},
     "output_type": "execute_result"
    }
   ],
   "source": [
    "calculate (2 , 5, func = raise_to_n)"
   ]
  },
  {
   "cell_type": "markdown",
   "id": "2b561022",
   "metadata": {},
   "source": [
    "    def calculate (*args , func):\n",
    "        return func(*args)\n",
    "+ here 2 , 5 are packed into tuple and then passed to the function --> raise_to_n\n",
    "please note that: \n",
    "+ in line 1: *args are packed\n",
    "+ in line 2: we have unpacked and then passed it to the func() function.\n",
    "    + so now 2, 5 are individual values that are passed to raise_to_n function"
   ]
  },
  {
   "cell_type": "code",
   "execution_count": null,
   "id": "4b4423a0",
   "metadata": {},
   "outputs": [],
   "source": []
  },
  {
   "cell_type": "code",
   "execution_count": null,
   "id": "f19af28d",
   "metadata": {},
   "outputs": [],
   "source": []
  },
  {
   "cell_type": "code",
   "execution_count": 47,
   "id": "603e15e3",
   "metadata": {},
   "outputs": [],
   "source": [
    "def square (number):\n",
    "    return number ** 2\n",
    "def cube (number):\n",
    "    return number ** 3\n",
    "def square_root (number):\n",
    "    return number ** (1/2)\n",
    "def cube_root (number):\n",
    "    return number ** (1/3)\n",
    "def raise_to_n (number , n):\n",
    "    return number ** n"
   ]
  },
  {
   "cell_type": "code",
   "execution_count": 48,
   "id": "705a8e63",
   "metadata": {},
   "outputs": [],
   "source": [
    "def get_function(computation = 'square'):\n",
    "    if computation == 'square':\n",
    "        return square\n",
    "    elif computation == 'cube':\n",
    "        return cube\n",
    "    elif computation == 'square_root':\n",
    "        return square_root\n",
    "    elif computation == 'cube_root':\n",
    "        return cube_root"
   ]
  },
  {
   "cell_type": "code",
   "execution_count": null,
   "id": "61eb9af5",
   "metadata": {},
   "outputs": [],
   "source": []
  },
  {
   "cell_type": "code",
   "execution_count": 49,
   "id": "630a3755",
   "metadata": {},
   "outputs": [
    {
     "data": {
      "text/plain": [
       "<function __main__.square(number)>"
      ]
     },
     "execution_count": 49,
     "metadata": {},
     "output_type": "execute_result"
    }
   ],
   "source": [
    "fn = get_function()\n",
    "fn"
   ]
  },
  {
   "cell_type": "markdown",
   "id": "0346a759",
   "metadata": {},
   "source": [
    "+ here we have not passed any arg in the get_function so as the defintion of the get_function, square function is returned and is stored to the variable named fn.\n",
    "so now fn is a function with defination of square function.\n",
    "+ we can the details of eximation of the fn function."
   ]
  },
  {
   "cell_type": "code",
   "execution_count": 50,
   "id": "993bf7f0",
   "metadata": {},
   "outputs": [
    {
     "data": {
      "text/plain": [
       "<function __main__.square(number)>"
      ]
     },
     "execution_count": 50,
     "metadata": {},
     "output_type": "execute_result"
    }
   ],
   "source": [
    "fn"
   ]
  },
  {
   "cell_type": "code",
   "execution_count": 51,
   "id": "d666be98",
   "metadata": {},
   "outputs": [
    {
     "data": {
      "text/plain": [
       "<function __main__.square(number)>"
      ]
     },
     "execution_count": 51,
     "metadata": {},
     "output_type": "execute_result"
    }
   ],
   "source": [
    "square"
   ]
  },
  {
   "cell_type": "code",
   "execution_count": 52,
   "id": "f3f457dc",
   "metadata": {},
   "outputs": [
    {
     "data": {
      "text/plain": [
       "100"
      ]
     },
     "execution_count": 52,
     "metadata": {},
     "output_type": "execute_result"
    }
   ],
   "source": [
    "fn(10)"
   ]
  },
  {
   "cell_type": "code",
   "execution_count": 53,
   "id": "63ce6fb9",
   "metadata": {},
   "outputs": [
    {
     "data": {
      "text/plain": [
       "25"
      ]
     },
     "execution_count": 53,
     "metadata": {},
     "output_type": "execute_result"
    }
   ],
   "source": [
    "fn(5)"
   ]
  },
  {
   "cell_type": "markdown",
   "id": "cb253e44",
   "metadata": {},
   "source": [
    "we proved the 3rd property of the Class Function i.e. a function can return another function as the return value of the function."
   ]
  },
  {
   "cell_type": "code",
   "execution_count": null,
   "id": "fc98efbc",
   "metadata": {},
   "outputs": [],
   "source": []
  },
  {
   "cell_type": "code",
   "execution_count": 54,
   "id": "74d562dd",
   "metadata": {},
   "outputs": [
    {
     "data": {
      "text/plain": [
       "<function __main__.cube(number)>"
      ]
     },
     "execution_count": 54,
     "metadata": {},
     "output_type": "execute_result"
    }
   ],
   "source": [
    "fn = get_function('cube')\n",
    "fn"
   ]
  },
  {
   "cell_type": "code",
   "execution_count": 55,
   "id": "ebb16475",
   "metadata": {},
   "outputs": [
    {
     "data": {
      "text/plain": [
       "125"
      ]
     },
     "execution_count": 55,
     "metadata": {},
     "output_type": "execute_result"
    }
   ],
   "source": [
    "fn(5)"
   ]
  },
  {
   "cell_type": "code",
   "execution_count": 56,
   "id": "ac33a5ec",
   "metadata": {},
   "outputs": [
    {
     "data": {
      "text/plain": [
       "1000"
      ]
     },
     "execution_count": 56,
     "metadata": {},
     "output_type": "execute_result"
    }
   ],
   "source": [
    "fn(10)"
   ]
  },
  {
   "cell_type": "code",
   "execution_count": 57,
   "id": "50bb36d8",
   "metadata": {},
   "outputs": [
    {
     "data": {
      "text/plain": [
       "<function __main__.cube_root(number)>"
      ]
     },
     "execution_count": 57,
     "metadata": {},
     "output_type": "execute_result"
    }
   ],
   "source": [
    "fn = get_function('cube_root')\n",
    "fn"
   ]
  },
  {
   "cell_type": "code",
   "execution_count": 58,
   "id": "598cc0a3",
   "metadata": {},
   "outputs": [
    {
     "data": {
      "text/plain": [
       "5.0"
      ]
     },
     "execution_count": 58,
     "metadata": {},
     "output_type": "execute_result"
    }
   ],
   "source": [
    "fn (125)"
   ]
  },
  {
   "cell_type": "code",
   "execution_count": 59,
   "id": "0e13b713",
   "metadata": {},
   "outputs": [
    {
     "data": {
      "text/plain": [
       "9.999999999999998"
      ]
     },
     "execution_count": 59,
     "metadata": {},
     "output_type": "execute_result"
    }
   ],
   "source": [
    "fn (1000)"
   ]
  },
  {
   "cell_type": "code",
   "execution_count": null,
   "id": "63b8a411",
   "metadata": {},
   "outputs": [],
   "source": []
  },
  {
   "cell_type": "code",
   "execution_count": null,
   "id": "5dfec47d",
   "metadata": {},
   "outputs": [],
   "source": []
  },
  {
   "cell_type": "code",
   "execution_count": 60,
   "id": "59b08c5b",
   "metadata": {},
   "outputs": [],
   "source": [
    "dictionary_opertion = {\n",
    "    'square' : square,\n",
    "    'square_root': square_root,\n",
    "    'cube' : cube,\n",
    "    'cube_root' : cube_root,\n",
    "    'raise_to_n' : raise_to_n\n",
    "}"
   ]
  },
  {
   "cell_type": "code",
   "execution_count": 61,
   "id": "691bbc36",
   "metadata": {},
   "outputs": [
    {
     "data": {
      "text/plain": [
       "<function __main__.raise_to_n(number, n)>"
      ]
     },
     "execution_count": 61,
     "metadata": {},
     "output_type": "execute_result"
    }
   ],
   "source": [
    "dictionary_opertion['raise_to_n']"
   ]
  },
  {
   "cell_type": "markdown",
   "id": "d6d315e9",
   "metadata": {},
   "source": [
    "+ we have printed the value of the key 'raise_to_n' which is a function as we can see.\n",
    "+ we got raise_to_n function which takes 2 imput arguments ; number , n."
   ]
  },
  {
   "cell_type": "markdown",
   "id": "87e2a56f",
   "metadata": {},
   "source": [
    "to prove to 4th property of first Class funciton. lets invoke this function in the following manner."
   ]
  },
  {
   "cell_type": "code",
   "execution_count": 63,
   "id": "c42c22bb",
   "metadata": {},
   "outputs": [
    {
     "data": {
      "text/plain": [
       "729"
      ]
     },
     "execution_count": 63,
     "metadata": {},
     "output_type": "execute_result"
    }
   ],
   "source": [
    "dictionary_opertion['raise_to_n'](9,3)"
   ]
  },
  {
   "cell_type": "markdown",
   "id": "d67bef1b",
   "metadata": {},
   "source": [
    "with this we have proved the 4th property of the first class functions i.e. a dictionary can have function as its value."
   ]
  },
  {
   "cell_type": "code",
   "execution_count": null,
   "id": "49d60be3",
   "metadata": {},
   "outputs": [],
   "source": []
  }
 ],
 "metadata": {
  "kernelspec": {
   "display_name": "Python 3 (ipykernel)",
   "language": "python",
   "name": "python3"
  },
  "language_info": {
   "codemirror_mode": {
    "name": "ipython",
    "version": 3
   },
   "file_extension": ".py",
   "mimetype": "text/x-python",
   "name": "python",
   "nbconvert_exporter": "python",
   "pygments_lexer": "ipython3",
   "version": "3.9.13"
  }
 },
 "nbformat": 4,
 "nbformat_minor": 5
}
