{
 "cells": [
  {
   "cell_type": "code",
   "execution_count": 2,
   "id": "a9a92bba",
   "metadata": {},
   "outputs": [
    {
     "data": {
      "text/plain": [
       "[100, 200, 300, 400, 500, 600]"
      ]
     },
     "execution_count": 2,
     "metadata": {},
     "output_type": "execute_result"
    }
   ],
   "source": [
    "numbers = [100,200,300,400,500,600]\n",
    "numbers"
   ]
  },
  {
   "cell_type": "code",
   "execution_count": 4,
   "id": "3462127a",
   "metadata": {},
   "outputs": [
    {
     "data": {
      "text/plain": [
       "[100, 200, 300, 400, 500, 600]"
      ]
     },
     "execution_count": 4,
     "metadata": {},
     "output_type": "execute_result"
    }
   ],
   "source": [
    "numbers_copy = []\n",
    "for num in numbers:\n",
    "    numbers_copy.append(num)\n",
    "numbers_copy"
   ]
  },
  {
   "cell_type": "code",
   "execution_count": 7,
   "id": "60541206",
   "metadata": {},
   "outputs": [
    {
     "data": {
      "text/plain": [
       "[600, 600, 600, 600, 600, 600]"
      ]
     },
     "execution_count": 7,
     "metadata": {},
     "output_type": "execute_result"
    }
   ],
   "source": [
    "numbers_copy_using_comprehension = [num for number in numbers]\n",
    "numbers_copy_using_comprehension"
   ]
  },
  {
   "cell_type": "markdown",
   "id": "3bca7114",
   "metadata": {},
   "source": [
    "+ num: variable before 'for' is the return value from the list comprehension expression\n",
    "+ number: Loop Variable for iterating over iterable\n",
    "+ numbers: Iterable"
   ]
  },
  {
   "cell_type": "code",
   "execution_count": 8,
   "id": "2645d6e7",
   "metadata": {},
   "outputs": [
    {
     "data": {
      "text/plain": [
       "[10000, 40000, 90000, 160000, 250000, 360000]"
      ]
     },
     "execution_count": 8,
     "metadata": {},
     "output_type": "execute_result"
    }
   ],
   "source": [
    "numbers_square = [n*n for n in numbers]\n",
    "numbers_square"
   ]
  },
  {
   "cell_type": "code",
   "execution_count": 9,
   "id": "20bac8a1",
   "metadata": {},
   "outputs": [
    {
     "data": {
      "text/plain": [
       "[10.0, 20.0, 30.0, 40.0, 50.0, 60.0]"
      ]
     },
     "execution_count": 9,
     "metadata": {},
     "output_type": "execute_result"
    }
   ],
   "source": [
    "numbers_divided_by_10 = [n/10 for n in numbers]\n",
    "numbers_divided_by_10"
   ]
  },
  {
   "cell_type": "code",
   "execution_count": null,
   "id": "7c7812f9",
   "metadata": {},
   "outputs": [],
   "source": []
  },
  {
   "cell_type": "code",
   "execution_count": 10,
   "id": "d26a62b7",
   "metadata": {},
   "outputs": [
    {
     "data": {
      "text/plain": [
       "range(2, 10)"
      ]
     },
     "execution_count": 10,
     "metadata": {},
     "output_type": "execute_result"
    }
   ],
   "source": [
    "my_num = range(2,10)\n",
    "my_num"
   ]
  },
  {
   "cell_type": "code",
   "execution_count": 11,
   "id": "7a84483a",
   "metadata": {},
   "outputs": [
    {
     "data": {
      "text/plain": [
       "[4, 27, 256, 3125, 46656, 823543, 16777216, 387420489]"
      ]
     },
     "execution_count": 11,
     "metadata": {},
     "output_type": "execute_result"
    }
   ],
   "source": [
    "[n**n for n in my_num]"
   ]
  },
  {
   "cell_type": "code",
   "execution_count": 12,
   "id": "c8f4806a",
   "metadata": {},
   "outputs": [
    {
     "data": {
      "text/plain": [
       "['to', 'be', 'or', 'not', 'to', 'be', 'that', 'is', 'the', 'question']"
      ]
     },
     "execution_count": 12,
     "metadata": {},
     "output_type": "execute_result"
    }
   ],
   "source": [
    "list_of_words = ['to' , 'be' , 'or' , 'not' , 'to' , 'be' , 'that' , 'is' , 'the' , 'question']\n",
    "list_of_words"
   ]
  },
  {
   "cell_type": "code",
   "execution_count": 13,
   "id": "86e0f302",
   "metadata": {},
   "outputs": [
    {
     "data": {
      "text/plain": [
       "['TO', 'BE', 'OR', 'NOT', 'TO', 'BE', 'THAT', 'IS', 'THE', 'QUESTION']"
      ]
     },
     "execution_count": 13,
     "metadata": {},
     "output_type": "execute_result"
    }
   ],
   "source": [
    "uppercase_list = [word.upper() for word in list_of_words]\n",
    "uppercase_list"
   ]
  },
  {
   "cell_type": "code",
   "execution_count": 14,
   "id": "2af38a60",
   "metadata": {},
   "outputs": [
    {
     "data": {
      "text/plain": [
       "['to', 'be', 'or', 'no', 'to', 'be', 'th', 'is', 'th', 'qu']"
      ]
     },
     "execution_count": 14,
     "metadata": {},
     "output_type": "execute_result"
    }
   ],
   "source": [
    "first_two_litters_list = [words[0:2] for words in list_of_words]\n",
    "first_two_litters_list"
   ]
  },
  {
   "cell_type": "code",
   "execution_count": null,
   "id": "c2a20390",
   "metadata": {},
   "outputs": [],
   "source": []
  },
  {
   "cell_type": "code",
   "execution_count": null,
   "id": "9e49b86e",
   "metadata": {},
   "outputs": [],
   "source": []
  },
  {
   "cell_type": "code",
   "execution_count": null,
   "id": "65a504c0",
   "metadata": {},
   "outputs": [],
   "source": []
  },
  {
   "cell_type": "code",
   "execution_count": 15,
   "id": "3f299074",
   "metadata": {},
   "outputs": [
    {
     "data": {
      "text/plain": [
       "[0, 4, 16, 36, 64, 100, 144, 196, 256, 324]"
      ]
     },
     "execution_count": 15,
     "metadata": {},
     "output_type": "execute_result"
    }
   ],
   "source": [
    "[x*x for x in range(20) if x % 2 == 0]"
   ]
  },
  {
   "cell_type": "markdown",
   "id": "417f0d53",
   "metadata": {},
   "source": [
    "+ expression\n",
    "+ for Loop\n",
    "+ if condition; if True run the expression"
   ]
  },
  {
   "cell_type": "code",
   "execution_count": 16,
   "id": "d6c11d2e",
   "metadata": {},
   "outputs": [
    {
     "data": {
      "text/plain": [
       "[0, 13, 26, 39, 52, 65, 78, 91, 104, 117, 130, 143, 156, 169, 182, 195]"
      ]
     },
     "execution_count": 16,
     "metadata": {},
     "output_type": "execute_result"
    }
   ],
   "source": [
    "multiples_13 = [i for i in range(200) if i % 13 == 0]\n",
    "multiples_13"
   ]
  },
  {
   "cell_type": "code",
   "execution_count": 17,
   "id": "f56576ac",
   "metadata": {},
   "outputs": [
    {
     "data": {
      "text/plain": [
       "['H', 'r', 'r', 'y', ' ', 'P', 't', 't', 'r']"
      ]
     },
     "execution_count": 17,
     "metadata": {},
     "output_type": "execute_result"
    }
   ],
   "source": [
    "[i for i in 'Harry Potter' if i.upper() not in ['A' , 'E' , 'I' , 'O' , 'U']]"
   ]
  },
  {
   "cell_type": "code",
   "execution_count": 18,
   "id": "67a98387",
   "metadata": {},
   "outputs": [
    {
     "data": {
      "text/plain": [
       "['a', 'o', 'e']"
      ]
     },
     "execution_count": 18,
     "metadata": {},
     "output_type": "execute_result"
    }
   ],
   "source": [
    "[i for i in 'Harry Potter' if i.upper() in ['A' , 'E' , 'I' , 'O' , 'U']]"
   ]
  },
  {
   "cell_type": "code",
   "execution_count": 21,
   "id": "af666939",
   "metadata": {},
   "outputs": [
    {
     "data": {
      "text/plain": [
       "[('Red', 'Square'),\n",
       " ('Blue', 'Square'),\n",
       " ('Green', 'Square'),\n",
       " ('Red', 'Circle'),\n",
       " ('Blue', 'Circle'),\n",
       " ('Green', 'Circle'),\n",
       " ('Red', 'Triangle'),\n",
       " ('Blue', 'Triangle'),\n",
       " ('Green', 'Triangle')]"
      ]
     },
     "execution_count": 21,
     "metadata": {},
     "output_type": "execute_result"
    }
   ],
   "source": [
    "shapes = ['Square' , 'Circle' , 'Triangle']\n",
    "colors = ['Red' , 'Blue' , 'Green']\n",
    "\n",
    "combined = [(c,s) for s in shapes for c in colors]\n",
    "combined"
   ]
  },
  {
   "cell_type": "markdown",
   "id": "a25b159f",
   "metadata": {},
   "source": [
    "this is an example of nested loops\n",
    "+ expression\n",
    "+ for loop\n",
    "+ nested For Loop"
   ]
  },
  {
   "cell_type": "code",
   "execution_count": 22,
   "id": "d9c6038f",
   "metadata": {},
   "outputs": [
    {
     "data": {
      "text/plain": [
       "[0, 91, 182]"
      ]
     },
     "execution_count": 22,
     "metadata": {},
     "output_type": "execute_result"
    }
   ],
   "source": [
    "number_list = [number for number in range(200) if number % 7 == 0 if number % 13 == 0]\n",
    "number_list"
   ]
  },
  {
   "cell_type": "markdown",
   "id": "425bf059",
   "metadata": {},
   "source": [
    "this is am example of Nested IF \n",
    "+ expression\n",
    "+ For Loop\n",
    "+ If condition 1\n",
    "+ If condition 2\n",
    "    + note that condition 1 and 2 are 'Logical AND'"
   ]
  },
  {
   "cell_type": "code",
   "execution_count": 24,
   "id": "8c4af119",
   "metadata": {},
   "outputs": [
    {
     "data": {
      "text/plain": [
       "[(0, 'Even'),\n",
       " (1, 'Odd'),\n",
       " (2, 'Even'),\n",
       " (3, 'Odd'),\n",
       " (4, 'Even'),\n",
       " (5, 'Odd'),\n",
       " (6, 'Even'),\n",
       " (7, 'Odd')]"
      ]
     },
     "execution_count": 24,
     "metadata": {},
     "output_type": "execute_result"
    }
   ],
   "source": [
    "num = [(i,'Even') if i % 2 == 0 else (i,'Odd') for i in range(8)]\n",
    "num"
   ]
  },
  {
   "cell_type": "markdown",
   "id": "e35570ae",
   "metadata": {},
   "source": [
    "This is an Example where there is If in the Expression\n",
    "+ Expression ; [(i,'Even') if i%2==0 else (i,'Odd')]\n",
    "    + means i = Even, Expression = (i,'Even')\n",
    "    + i = Odd, Expression = (i,'Odd')\n",
    "+ For Loop"
   ]
  },
  {
   "cell_type": "code",
   "execution_count": null,
   "id": "f01c7f5a",
   "metadata": {},
   "outputs": [],
   "source": []
  },
  {
   "cell_type": "code",
   "execution_count": null,
   "id": "a39642e0",
   "metadata": {},
   "outputs": [],
   "source": []
  },
  {
   "cell_type": "code",
   "execution_count": null,
   "id": "16bf6327",
   "metadata": {},
   "outputs": [],
   "source": []
  },
  {
   "cell_type": "markdown",
   "id": "994e5a8a",
   "metadata": {},
   "source": [
    "## Generators"
   ]
  },
  {
   "cell_type": "code",
   "execution_count": 26,
   "id": "e032f26b",
   "metadata": {},
   "outputs": [
    {
     "name": "stdout",
     "output_type": "stream",
     "text": [
      "<generator object <genexpr> at 0x0000027B2745D9E0>\n"
     ]
    }
   ],
   "source": [
    "input_list = [1,2,3,4,5,6,7]\n",
    "output_generator = (x * x for x in input_list)\n",
    "print(output_generator)"
   ]
  },
  {
   "cell_type": "code",
   "execution_count": 27,
   "id": "84f84a8b",
   "metadata": {},
   "outputs": [
    {
     "data": {
      "text/plain": [
       "generator"
      ]
     },
     "execution_count": 27,
     "metadata": {},
     "output_type": "execute_result"
    }
   ],
   "source": [
    "type(output_generator)"
   ]
  },
  {
   "cell_type": "markdown",
   "id": "00ec0c31",
   "metadata": {},
   "source": [
    "+ it have a memory location\n",
    "+ more memory efficient form of same information than the list comprehension\n",
    "+ generator objects are stateful\n",
    "+ generator objects are Iterable"
   ]
  },
  {
   "cell_type": "code",
   "execution_count": 28,
   "id": "1d82f767",
   "metadata": {},
   "outputs": [
    {
     "data": {
      "text/plain": [
       "[1, 4, 9, 16, 25, 36, 49]"
      ]
     },
     "execution_count": 28,
     "metadata": {},
     "output_type": "execute_result"
    }
   ],
   "source": [
    "list_from_generator = list(output_generator)\n",
    "list_from_generator"
   ]
  },
  {
   "cell_type": "code",
   "execution_count": 29,
   "id": "d633e326",
   "metadata": {},
   "outputs": [
    {
     "data": {
      "text/plain": [
       "[]"
      ]
     },
     "execution_count": 29,
     "metadata": {},
     "output_type": "execute_result"
    }
   ],
   "source": [
    "another_list_from_generator = list (output_generator)\n",
    "another_list_from_generator"
   ]
  },
  {
   "cell_type": "markdown",
   "id": "54c5f4bc",
   "metadata": {},
   "source": [
    "this is because generator objects are stateful.\n",
    "output_generator are exosted when we created the first list i.e. list_from_generator "
   ]
  },
  {
   "cell_type": "code",
   "execution_count": 30,
   "id": "51ad309b",
   "metadata": {},
   "outputs": [
    {
     "data": {
      "text/plain": [
       "<generator object <genexpr> at 0x0000027B2745DCF0>"
      ]
     },
     "execution_count": 30,
     "metadata": {},
     "output_type": "execute_result"
    }
   ],
   "source": [
    "list_of_words = ['Harry' , 'Potter' , 'and' , 'the' , 'Chamber' , 'of' , 'Secrets']\n",
    "uppercase_generator = (x.upper() for x in list_of_words)\n",
    "uppercase_generator"
   ]
  },
  {
   "cell_type": "code",
   "execution_count": 34,
   "id": "e20736fb",
   "metadata": {},
   "outputs": [
    {
     "name": "stdout",
     "output_type": "stream",
     "text": [
      "HARRY\n",
      "POTTER\n",
      "AND\n",
      "THE\n",
      "CHAMBER\n",
      "OF\n",
      "SECRETS\n"
     ]
    }
   ],
   "source": [
    "for word in uppercase_generator:\n",
    "    print(word)"
   ]
  },
  {
   "cell_type": "code",
   "execution_count": 38,
   "id": "3e8b6cb7",
   "metadata": {},
   "outputs": [
    {
     "name": "stdout",
     "output_type": "stream",
     "text": [
      "Please enter a sentence: to be or to not be is the question\n"
     ]
    },
    {
     "data": {
      "text/plain": [
       "['to', 'be', 'or', 'to', 'not', 'be', 'is', 'the', 'question']"
      ]
     },
     "execution_count": 38,
     "metadata": {},
     "output_type": "execute_result"
    }
   ],
   "source": [
    "sentence = input('Please enter a sentence: ')\n",
    "\n",
    "words = sentence.split()\n",
    "words"
   ]
  },
  {
   "cell_type": "code",
   "execution_count": 39,
   "id": "db1bfd43",
   "metadata": {},
   "outputs": [
    {
     "data": {
      "text/plain": [
       "{'be', 'is', 'not', 'or', 'question', 'the', 'to'}"
      ]
     },
     "execution_count": 39,
     "metadata": {},
     "output_type": "execute_result"
    }
   ],
   "source": [
    "unique_words = {w for w in words }\n",
    "unique_words"
   ]
  },
  {
   "cell_type": "code",
   "execution_count": null,
   "id": "0a7532e9",
   "metadata": {},
   "outputs": [],
   "source": []
  },
  {
   "cell_type": "code",
   "execution_count": 43,
   "id": "4c94d0ba",
   "metadata": {},
   "outputs": [
    {
     "data": {
      "text/plain": [
       "{34000: 'Alice', 23000: 'Bob', 28000: 'Charles'}"
      ]
     },
     "execution_count": 43,
     "metadata": {},
     "output_type": "execute_result"
    }
   ],
   "source": [
    "original = {\"Alice\" : 34000 , \"Bob\" : 23000 , \"Charles\" : 28000}\n",
    "flipped = {value : key for key , value in original.items()}\n",
    "flipped"
   ]
  },
  {
   "cell_type": "code",
   "execution_count": null,
   "id": "a625c748",
   "metadata": {},
   "outputs": [],
   "source": []
  }
 ],
 "metadata": {
  "kernelspec": {
   "display_name": "Python 3 (ipykernel)",
   "language": "python",
   "name": "python3"
  },
  "language_info": {
   "codemirror_mode": {
    "name": "ipython",
    "version": 3
   },
   "file_extension": ".py",
   "mimetype": "text/x-python",
   "name": "python",
   "nbconvert_exporter": "python",
   "pygments_lexer": "ipython3",
   "version": "3.9.13"
  }
 },
 "nbformat": 4,
 "nbformat_minor": 5
}
