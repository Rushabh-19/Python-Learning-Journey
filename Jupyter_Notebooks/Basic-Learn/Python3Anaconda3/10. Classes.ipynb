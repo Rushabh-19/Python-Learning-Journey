{
 "cells": [
  {
   "cell_type": "code",
   "execution_count": 1,
   "id": "11dfc3c8",
   "metadata": {},
   "outputs": [],
   "source": [
    "class Dog:\n",
    "    pass"
   ]
  },
  {
   "cell_type": "code",
   "execution_count": 2,
   "id": "fb7e2e4b",
   "metadata": {},
   "outputs": [
    {
     "data": {
      "text/plain": [
       "type"
      ]
     },
     "execution_count": 2,
     "metadata": {},
     "output_type": "execute_result"
    }
   ],
   "source": [
    "type (Dog)"
   ]
  },
  {
   "cell_type": "markdown",
   "id": "9cdbdd10",
   "metadata": {},
   "source": [
    "as we can see that the type of dog is 'type' is because 'dog' is a type, its a class type"
   ]
  },
  {
   "cell_type": "code",
   "execution_count": 3,
   "id": "76eae322",
   "metadata": {},
   "outputs": [],
   "source": [
    "dog_1 = Dog()  #creating instance of class dog"
   ]
  },
  {
   "cell_type": "code",
   "execution_count": 4,
   "id": "6d66e195",
   "metadata": {},
   "outputs": [],
   "source": [
    "dog_2 = Dog()"
   ]
  },
  {
   "cell_type": "code",
   "execution_count": null,
   "id": "81aaaff0",
   "metadata": {},
   "outputs": [],
   "source": []
  },
  {
   "cell_type": "code",
   "execution_count": 5,
   "id": "5785f4e8",
   "metadata": {},
   "outputs": [
    {
     "data": {
      "text/plain": [
       "<__main__.Dog at 0x14246f10f70>"
      ]
     },
     "execution_count": 5,
     "metadata": {},
     "output_type": "execute_result"
    }
   ],
   "source": [
    "dog_1"
   ]
  },
  {
   "cell_type": "code",
   "execution_count": 6,
   "id": "7a7a6dd4",
   "metadata": {},
   "outputs": [
    {
     "data": {
      "text/plain": [
       "<__main__.Dog at 0x14246f10b80>"
      ]
     },
     "execution_count": 6,
     "metadata": {},
     "output_type": "execute_result"
    }
   ],
   "source": [
    "dog_2"
   ]
  },
  {
   "cell_type": "code",
   "execution_count": null,
   "id": "bcc5efea",
   "metadata": {},
   "outputs": [],
   "source": []
  },
  {
   "cell_type": "code",
   "execution_count": 7,
   "id": "5052212f",
   "metadata": {},
   "outputs": [
    {
     "data": {
      "text/plain": [
       "True"
      ]
     },
     "execution_count": 7,
     "metadata": {},
     "output_type": "execute_result"
    }
   ],
   "source": [
    "isinstance(dog_1 , Dog) #will check if dog1 is an instance of dog"
   ]
  },
  {
   "cell_type": "code",
   "execution_count": 8,
   "id": "06e66ba3",
   "metadata": {},
   "outputs": [
    {
     "data": {
      "text/plain": [
       "True"
      ]
     },
     "execution_count": 8,
     "metadata": {},
     "output_type": "execute_result"
    }
   ],
   "source": [
    "isinstance(dog_2 , Dog)"
   ]
  },
  {
   "cell_type": "code",
   "execution_count": 9,
   "id": "35617d26",
   "metadata": {},
   "outputs": [
    {
     "data": {
      "text/plain": [
       "__main__.Dog"
      ]
     },
     "execution_count": 9,
     "metadata": {},
     "output_type": "execute_result"
    }
   ],
   "source": [
    "type(dog_1)"
   ]
  },
  {
   "cell_type": "code",
   "execution_count": 10,
   "id": "5df31be1",
   "metadata": {},
   "outputs": [
    {
     "data": {
      "text/plain": [
       "__main__.Dog"
      ]
     },
     "execution_count": 10,
     "metadata": {},
     "output_type": "execute_result"
    }
   ],
   "source": [
    "type(dog_2)"
   ]
  },
  {
   "cell_type": "markdown",
   "id": "292e819e",
   "metadata": {},
   "source": [
    "here both dog_1 and dog_2 are of same type i.e. dunder main dunder. __-> dunder"
   ]
  },
  {
   "cell_type": "markdown",
   "id": "5027919b",
   "metadata": {},
   "source": [
    "    __main__.Dog --> dunder main dunder\n",
    "+ __ main __ : it is defined in module dunder main dunder.\n",
    "+ Dog: mean that its an object of class dog.\n",
    "    "
   ]
  },
  {
   "cell_type": "markdown",
   "id": "e48a1ce6",
   "metadata": {},
   "source": [
    "    overall means that dog_1 and dog_2 are objects of class dog which are defined in module dunder main dunder"
   ]
  },
  {
   "cell_type": "code",
   "execution_count": null,
   "id": "e961b8fe",
   "metadata": {},
   "outputs": [],
   "source": [
    "   "
   ]
  },
  {
   "cell_type": "code",
   "execution_count": null,
   "id": "bc0ee652",
   "metadata": {},
   "outputs": [],
   "source": []
  },
  {
   "cell_type": "code",
   "execution_count": 11,
   "id": "21f817cb",
   "metadata": {},
   "outputs": [],
   "source": [
    "dog_1.kind = \"Dachshund\"\n",
    "dog_1.life_expentancy = \"12 - 16 years\""
   ]
  },
  {
   "cell_type": "code",
   "execution_count": 12,
   "id": "ad03675f",
   "metadata": {},
   "outputs": [],
   "source": [
    "dog_2.kind = \"Labrador Retriever\""
   ]
  },
  {
   "cell_type": "code",
   "execution_count": null,
   "id": "2eb30ccb",
   "metadata": {},
   "outputs": [],
   "source": []
  },
  {
   "cell_type": "code",
   "execution_count": 13,
   "id": "8fee2317",
   "metadata": {},
   "outputs": [
    {
     "data": {
      "text/plain": [
       "['__class__',\n",
       " '__delattr__',\n",
       " '__dict__',\n",
       " '__dir__',\n",
       " '__doc__',\n",
       " '__eq__',\n",
       " '__format__',\n",
       " '__ge__',\n",
       " '__getattribute__',\n",
       " '__gt__',\n",
       " '__hash__',\n",
       " '__init__',\n",
       " '__init_subclass__',\n",
       " '__le__',\n",
       " '__lt__',\n",
       " '__module__',\n",
       " '__ne__',\n",
       " '__new__',\n",
       " '__reduce__',\n",
       " '__reduce_ex__',\n",
       " '__repr__',\n",
       " '__setattr__',\n",
       " '__sizeof__',\n",
       " '__str__',\n",
       " '__subclasshook__',\n",
       " '__weakref__',\n",
       " 'kind',\n",
       " 'life_expentancy']"
      ]
     },
     "execution_count": 13,
     "metadata": {},
     "output_type": "execute_result"
    }
   ],
   "source": [
    "dir(dog_1)"
   ]
  },
  {
   "cell_type": "code",
   "execution_count": 14,
   "id": "125fbcdc",
   "metadata": {},
   "outputs": [
    {
     "data": {
      "text/plain": [
       "['__class__',\n",
       " '__delattr__',\n",
       " '__dict__',\n",
       " '__dir__',\n",
       " '__doc__',\n",
       " '__eq__',\n",
       " '__format__',\n",
       " '__ge__',\n",
       " '__getattribute__',\n",
       " '__gt__',\n",
       " '__hash__',\n",
       " '__init__',\n",
       " '__init_subclass__',\n",
       " '__le__',\n",
       " '__lt__',\n",
       " '__module__',\n",
       " '__ne__',\n",
       " '__new__',\n",
       " '__reduce__',\n",
       " '__reduce_ex__',\n",
       " '__repr__',\n",
       " '__setattr__',\n",
       " '__sizeof__',\n",
       " '__str__',\n",
       " '__subclasshook__',\n",
       " '__weakref__',\n",
       " 'kind']"
      ]
     },
     "execution_count": 14,
     "metadata": {},
     "output_type": "execute_result"
    }
   ],
   "source": [
    "dir(dog_2)"
   ]
  },
  {
   "cell_type": "markdown",
   "id": "b8d99238",
   "metadata": {},
   "source": [
    "+ the new custom methods are now added to the list of both objects\n",
    "+ also note that both have different number of method:\n",
    "    + in dog_1 there are 2 custom methods added by user; kind, life_expentency\n",
    "    + in dog_2 there is 1 custom method added by user; kind"
   ]
  },
  {
   "cell_type": "markdown",
   "id": "4cbc314e",
   "metadata": {},
   "source": [
    "    lets redefine our Dog Class"
   ]
  },
  {
   "cell_type": "code",
   "execution_count": 15,
   "id": "fb0ea796",
   "metadata": {},
   "outputs": [],
   "source": [
    "class Dog:\n",
    "    \n",
    "    kind = \"\"\n",
    "    age = 0\n",
    "    name = \"\"\n",
    "    vaccinated = False"
   ]
  },
  {
   "cell_type": "markdown",
   "id": "01438bea",
   "metadata": {},
   "source": [
    "Even though these variables look like they are object variables, these are actually class variables. So they are akin to statics and are going to be shared by all instances of that class."
   ]
  },
  {
   "cell_type": "code",
   "execution_count": 16,
   "id": "dd97eeb6",
   "metadata": {},
   "outputs": [
    {
     "data": {
      "text/plain": [
       "('', 0, '', False)"
      ]
     },
     "execution_count": 16,
     "metadata": {},
     "output_type": "execute_result"
    }
   ],
   "source": [
    "dog_1 = Dog()\n",
    "dog_1.kind, dog_1.age, dog_1.name, dog_1.vaccinated"
   ]
  },
  {
   "cell_type": "markdown",
   "id": "8ff1e47b",
   "metadata": {},
   "source": [
    "this properties are not read-only, we can modify specific instance."
   ]
  },
  {
   "cell_type": "code",
   "execution_count": 18,
   "id": "f75944fd",
   "metadata": {},
   "outputs": [
    {
     "data": {
      "text/plain": [
       "('Golden Retriever', 5, 'Fido', True)"
      ]
     },
     "execution_count": 18,
     "metadata": {},
     "output_type": "execute_result"
    }
   ],
   "source": [
    "dog_1.kind = \"Golden Retriever\" \n",
    "dog_1.age = 5 \n",
    "dog_1.name = \"Fido\" \n",
    "dog_1.vaccinated = True\n",
    "\n",
    "dog_1.kind, dog_1.age, dog_1.name, dog_1.vaccinated"
   ]
  },
  {
   "cell_type": "code",
   "execution_count": 19,
   "id": "971d9364",
   "metadata": {},
   "outputs": [
    {
     "data": {
      "text/plain": [
       "('', 0, '', False)"
      ]
     },
     "execution_count": 19,
     "metadata": {},
     "output_type": "execute_result"
    }
   ],
   "source": [
    "dog_2 = Dog()\n",
    "dog_2.kind, dog_2.age, dog_2.name, dog_2.vaccinated"
   ]
  },
  {
   "cell_type": "markdown",
   "id": "ffffd376",
   "metadata": {},
   "source": [
    "+ as we can see that dog_1 and dog_2 had same default values when we instantiated both objects.\n",
    "+ but as we have redefined the instances of dog_1, dog_2's instances are not affected\n",
    "    + this is because python have created 2 difference copy of instaces for both objects.\n",
    "+ at first by default instances will have default values associated with the Class."
   ]
  },
  {
   "cell_type": "markdown",
   "id": "21cca7c7",
   "metadata": {},
   "source": [
    "    the bottom line is that: every instance can define its own properties. Those properties are going to be specific to that perticular instance unless they were specified to be instacnce variables. That is, unless they were created inside the class using the 'self' notation."
   ]
  },
  {
   "cell_type": "code",
   "execution_count": null,
   "id": "b5c16b6c",
   "metadata": {},
   "outputs": [],
   "source": []
  },
  {
   "cell_type": "code",
   "execution_count": null,
   "id": "0f851395",
   "metadata": {},
   "outputs": [],
   "source": []
  },
  {
   "cell_type": "markdown",
   "id": "b1cbe3ea",
   "metadata": {},
   "source": [
    "# __ init __ \n",
    "+ this is similar to constructor in Java.\n",
    "+ used for initilisation of objects."
   ]
  },
  {
   "cell_type": "code",
   "execution_count": 23,
   "id": "b356245f",
   "metadata": {},
   "outputs": [],
   "source": [
    "class Dog:\n",
    "    def __init__(self):\n",
    "        print('Instance initialized')"
   ]
  },
  {
   "cell_type": "markdown",
   "id": "17da7c30",
   "metadata": {},
   "source": [
    "    self : is a refrence to the current object. we are using it to set instance variables on this particular object."
   ]
  },
  {
   "cell_type": "code",
   "execution_count": 24,
   "id": "f9b06d02",
   "metadata": {},
   "outputs": [
    {
     "name": "stdout",
     "output_type": "stream",
     "text": [
      "Instance initialized\n"
     ]
    }
   ],
   "source": [
    "dog_1 = Dog()"
   ]
  },
  {
   "cell_type": "code",
   "execution_count": 25,
   "id": "928beb20",
   "metadata": {},
   "outputs": [
    {
     "name": "stdout",
     "output_type": "stream",
     "text": [
      "Instance initialized\n"
     ]
    }
   ],
   "source": [
    "dog_2 = Dog()"
   ]
  },
  {
   "cell_type": "markdown",
   "id": "2e28ade7",
   "metadata": {},
   "source": [
    "as we can see that init method was executed under the hood."
   ]
  },
  {
   "cell_type": "markdown",
   "id": "0c12837e",
   "metadata": {},
   "source": [
    "let redefine the class and this time lets not include the self intentionally to see the Output"
   ]
  },
  {
   "cell_type": "code",
   "execution_count": 26,
   "id": "9915feba",
   "metadata": {},
   "outputs": [],
   "source": [
    "class Dog:\n",
    "    def __init__():\n",
    "        print('Instance initialized')"
   ]
  },
  {
   "cell_type": "code",
   "execution_count": 27,
   "id": "60ac460a",
   "metadata": {},
   "outputs": [
    {
     "ename": "TypeError",
     "evalue": "__init__() takes 0 positional arguments but 1 was given",
     "output_type": "error",
     "traceback": [
      "\u001b[1;31m---------------------------------------------------------------------------\u001b[0m",
      "\u001b[1;31mTypeError\u001b[0m                                 Traceback (most recent call last)",
      "\u001b[1;32m~\\AppData\\Local\\Temp\\ipykernel_8584\\1521582459.py\u001b[0m in \u001b[0;36m<module>\u001b[1;34m\u001b[0m\n\u001b[1;32m----> 1\u001b[1;33m \u001b[0mdog_1\u001b[0m \u001b[1;33m=\u001b[0m \u001b[0mDog\u001b[0m\u001b[1;33m(\u001b[0m\u001b[1;33m)\u001b[0m\u001b[1;33m\u001b[0m\u001b[1;33m\u001b[0m\u001b[0m\n\u001b[0m",
      "\u001b[1;31mTypeError\u001b[0m: __init__() takes 0 positional arguments but 1 was given"
     ]
    }
   ],
   "source": [
    " dog_1 = Dog()"
   ]
  },
  {
   "cell_type": "markdown",
   "id": "51f318ca",
   "metadata": {},
   "source": [
    "+ we omited the self argument while defining the init method.However, Python did not realize this, and passed in the value implicitly as it always does, and that's what led to this error.\n",
    "    + No positional arguments were expected but one was passed in.\n",
    "+ this proves that Python takes the responsibility of passing in the correct value for the self variable."
   ]
  },
  {
   "cell_type": "code",
   "execution_count": null,
   "id": "fdd918a0",
   "metadata": {},
   "outputs": [],
   "source": []
  },
  {
   "cell_type": "markdown",
   "id": "51159ba6",
   "metadata": {},
   "source": [
    "Let's reintroduce that particular variable, but this time we are going to give it a different name. We've called it variable_for_self_can_have_any_name."
   ]
  },
  {
   "cell_type": "code",
   "execution_count": 28,
   "id": "b509cbc2",
   "metadata": {},
   "outputs": [],
   "source": [
    "class Dog:\n",
    "    #the standard is to use self so it's not confusing for others reading your code\n",
    "    def __init__(variable_for_self_can_have_any_name):\n",
    "        print ('Instance initialized')"
   ]
  },
  {
   "cell_type": "code",
   "execution_count": 29,
   "id": "30ca5e26",
   "metadata": {},
   "outputs": [
    {
     "name": "stdout",
     "output_type": "stream",
     "text": [
      "Instance initialized\n"
     ]
    }
   ],
   "source": [
    "dog_1 = Dog()"
   ]
  },
  {
   "cell_type": "code",
   "execution_count": null,
   "id": "534efd7a",
   "metadata": {},
   "outputs": [],
   "source": []
  },
  {
   "cell_type": "markdown",
   "id": "e086d531",
   "metadata": {},
   "source": [
    "Now that we've understood how the self argument works, we're ready to define some legitimate instance variables."
   ]
  },
  {
   "cell_type": "code",
   "execution_count": 30,
   "id": "bebf9af2",
   "metadata": {},
   "outputs": [],
   "source": [
    "class Dog:\n",
    "    def __init__(self,kind,age,name,vaccinated=False):\n",
    "        \n",
    "        self.kind = kind\n",
    "        self.age = age\n",
    "        self.name = name\n",
    "        self.vaccinated = vaccinated\n",
    "        \n",
    "        print ('Instance initialized')"
   ]
  },
  {
   "cell_type": "code",
   "execution_count": 31,
   "id": "f4ab2c8d",
   "metadata": {},
   "outputs": [
    {
     "ename": "TypeError",
     "evalue": "__init__() missing 3 required positional arguments: 'kind', 'age', and 'name'",
     "output_type": "error",
     "traceback": [
      "\u001b[1;31m---------------------------------------------------------------------------\u001b[0m",
      "\u001b[1;31mTypeError\u001b[0m                                 Traceback (most recent call last)",
      "\u001b[1;32m~\\AppData\\Local\\Temp\\ipykernel_8584\\3597765254.py\u001b[0m in \u001b[0;36m<module>\u001b[1;34m\u001b[0m\n\u001b[1;32m----> 1\u001b[1;33m \u001b[0mdog_1\u001b[0m \u001b[1;33m=\u001b[0m \u001b[0mDog\u001b[0m\u001b[1;33m(\u001b[0m\u001b[1;33m)\u001b[0m\u001b[1;33m\u001b[0m\u001b[1;33m\u001b[0m\u001b[0m\n\u001b[0m",
      "\u001b[1;31mTypeError\u001b[0m: __init__() missing 3 required positional arguments: 'kind', 'age', and 'name'"
     ]
    }
   ],
   "source": [
    "dog_1 = Dog()"
   ]
  },
  {
   "cell_type": "code",
   "execution_count": 32,
   "id": "04bbb09c",
   "metadata": {},
   "outputs": [
    {
     "name": "stdout",
     "output_type": "stream",
     "text": [
      "Instance initialized\n"
     ]
    }
   ],
   "source": [
    "dog_1 = Dog(\"Dalmatian\" , 3 , \"Rover\" , True)"
   ]
  },
  {
   "cell_type": "code",
   "execution_count": 33,
   "id": "bced449f",
   "metadata": {},
   "outputs": [
    {
     "data": {
      "text/plain": [
       "('Dalmatian', 3, 'Rover', True)"
      ]
     },
     "execution_count": 33,
     "metadata": {},
     "output_type": "execute_result"
    }
   ],
   "source": [
    "dog_1.kind, dog_1.age , dog_1.name, dog_1.vaccinated"
   ]
  },
  {
   "cell_type": "code",
   "execution_count": null,
   "id": "6688a56d",
   "metadata": {},
   "outputs": [],
   "source": []
  },
  {
   "cell_type": "code",
   "execution_count": 36,
   "id": "aa965f2b",
   "metadata": {},
   "outputs": [
    {
     "data": {
      "text/plain": [
       "{'kind': 'Dalmatian', 'age': 3, 'name': 'Rover', 'vaccinated': True}"
      ]
     },
     "execution_count": 36,
     "metadata": {},
     "output_type": "execute_result"
    }
   ],
   "source": [
    "dog_1.__dict__   \n",
    "#__dict__ : dunder dict dunder : contains all of the instance variables associated with this particular object."
   ]
  },
  {
   "cell_type": "code",
   "execution_count": 37,
   "id": "cae87042",
   "metadata": {},
   "outputs": [
    {
     "name": "stdout",
     "output_type": "stream",
     "text": [
      "Instance initialized\n"
     ]
    },
    {
     "data": {
      "text/plain": [
       "{'kind': 'German Shepherd', 'age': 4, 'name': 'Joy', 'vaccinated': False}"
      ]
     },
     "execution_count": 37,
     "metadata": {},
     "output_type": "execute_result"
    }
   ],
   "source": [
    "dog_2 = Dog(name = 'Joy' , kind = 'German Shepherd' , age = 4)\n",
    "dog_2.__dict__"
   ]
  },
  {
   "cell_type": "code",
   "execution_count": null,
   "id": "54b292e9",
   "metadata": {},
   "outputs": [],
   "source": []
  },
  {
   "cell_type": "code",
   "execution_count": null,
   "id": "886951a1",
   "metadata": {},
   "outputs": [],
   "source": []
  },
  {
   "cell_type": "code",
   "execution_count": 44,
   "id": "2ecddceb",
   "metadata": {},
   "outputs": [],
   "source": [
    "class Dog:\n",
    "    \n",
    "    def __init__(self,kind,age,name,vaccinated=False):\n",
    "        \n",
    "        self.kind = kind\n",
    "        self.age = age\n",
    "        self.name = name\n",
    "        self.vaccinated = vaccinated\n",
    "        \n",
    "        print ('Instance initialized')\n",
    "    \n",
    "    def get_details(self):\n",
    "        return f'Name: {self.name}, Kind: {self.kind} , Age: {self.age}'"
   ]
  },
  {
   "cell_type": "code",
   "execution_count": 45,
   "id": "9d0c4659",
   "metadata": {},
   "outputs": [
    {
     "name": "stdout",
     "output_type": "stream",
     "text": [
      "Instance initialized\n"
     ]
    },
    {
     "data": {
      "text/plain": [
       "'Name: Joy, Kind: German Shepherd , Age: 4'"
      ]
     },
     "execution_count": 45,
     "metadata": {},
     "output_type": "execute_result"
    }
   ],
   "source": [
    "dog_2 = Dog(name = 'Joy' , kind = 'German Shepherd' , age = 4 , vaccinated=True)\n",
    "dog_2.get_details()"
   ]
  },
  {
   "cell_type": "code",
   "execution_count": null,
   "id": "2446dc5d",
   "metadata": {},
   "outputs": [],
   "source": []
  },
  {
   "cell_type": "code",
   "execution_count": null,
   "id": "0b96302c",
   "metadata": {},
   "outputs": [],
   "source": []
  },
  {
   "cell_type": "markdown",
   "id": "13e39ac9",
   "metadata": {},
   "source": [
    "    lets fully flesh out the defination of the Dog class"
   ]
  },
  {
   "cell_type": "code",
   "execution_count": 46,
   "id": "4426dd6f",
   "metadata": {},
   "outputs": [],
   "source": [
    "class Dog:\n",
    "    \n",
    "    def __init__(self,kind,age,name,vaccinated=False):\n",
    "        \n",
    "        self.kind = kind\n",
    "        self.age = age\n",
    "        self.name = name\n",
    "        self.vaccinated = vaccinated\n",
    "        \n",
    "        print ('Instance initialized')\n",
    "    \n",
    "    #Getter\n",
    "    def get_kind(self):\n",
    "        return self.kind\n",
    "    \n",
    "    #Setter\n",
    "    def set_kind(self , kind):\n",
    "        self.kind = kind\n",
    "    \n",
    "    #Getter\n",
    "    def get_age(self):\n",
    "        return self.age\n",
    "    \n",
    "    #Setter\n",
    "    def set_age(self , age):\n",
    "        self.age = age\n",
    "    \n",
    "    #Getter\n",
    "    def get_name(self):\n",
    "        return self.name\n",
    "    \n",
    "    #Setter\n",
    "    def set_name(self , name):\n",
    "        self.name = name\n",
    "    \n",
    "    #Getter\n",
    "    def get_vaccinated(self):\n",
    "        return self.vaccinated\n",
    "    \n",
    "    #Setter\n",
    "    def set_vaccinated(self , vaccinated):\n",
    "        self.vaccinated = vaccinated\n",
    "    \n",
    "    def get_details(self):\n",
    "        return f'Name: {self.name}, Kind: {self.kind} , Age: {self.age}'"
   ]
  },
  {
   "cell_type": "code",
   "execution_count": 47,
   "id": "2ae7be72",
   "metadata": {},
   "outputs": [
    {
     "name": "stdout",
     "output_type": "stream",
     "text": [
      "Instance initialized\n"
     ]
    },
    {
     "data": {
      "text/plain": [
       "'Name: Rover, Kind: Dalmation , Age: 3'"
      ]
     },
     "execution_count": 47,
     "metadata": {},
     "output_type": "execute_result"
    }
   ],
   "source": [
    "dog_1 = Dog('Dalmation' , 3 , 'Rover' , True)\n",
    "dog_1.get_details()"
   ]
  },
  {
   "cell_type": "code",
   "execution_count": null,
   "id": "2afe28c4",
   "metadata": {},
   "outputs": [],
   "source": []
  },
  {
   "cell_type": "code",
   "execution_count": 48,
   "id": "a3c01d3e",
   "metadata": {},
   "outputs": [
    {
     "data": {
      "text/plain": [
       "'Name: Rover, Kind: Dalmation , Age: 3'"
      ]
     },
     "execution_count": 48,
     "metadata": {},
     "output_type": "execute_result"
    }
   ],
   "source": [
    "Dog.get_details(dog_1)"
   ]
  },
  {
   "cell_type": "markdown",
   "id": "ec54d054",
   "metadata": {},
   "source": [
    "in Python, \n",
    "+ you can always invoke an instance method by accessing it via the class provided you pass in a valid instance of that class because that's going to be treated as the self input argument. \n",
    "    + In all of our previous experiments, Python was passing in the self input argument for us, but here we've done this explicitly by passing in dog_1."
   ]
  },
  {
   "cell_type": "code",
   "execution_count": 49,
   "id": "b1114088",
   "metadata": {},
   "outputs": [
    {
     "ename": "TypeError",
     "evalue": "get_details() missing 1 required positional argument: 'self'",
     "output_type": "error",
     "traceback": [
      "\u001b[1;31m---------------------------------------------------------------------------\u001b[0m",
      "\u001b[1;31mTypeError\u001b[0m                                 Traceback (most recent call last)",
      "\u001b[1;32m~\\AppData\\Local\\Temp\\ipykernel_8584\\137076759.py\u001b[0m in \u001b[0;36m<module>\u001b[1;34m\u001b[0m\n\u001b[1;32m----> 1\u001b[1;33m \u001b[0mDog\u001b[0m\u001b[1;33m.\u001b[0m\u001b[0mget_details\u001b[0m\u001b[1;33m(\u001b[0m\u001b[1;33m)\u001b[0m\u001b[1;33m\u001b[0m\u001b[1;33m\u001b[0m\u001b[0m\n\u001b[0m",
      "\u001b[1;31mTypeError\u001b[0m: get_details() missing 1 required positional argument: 'self'"
     ]
    }
   ],
   "source": [
    "Dog.get_details()"
   ]
  },
  {
   "cell_type": "code",
   "execution_count": null,
   "id": "1de5e8e3",
   "metadata": {},
   "outputs": [],
   "source": []
  },
  {
   "cell_type": "code",
   "execution_count": 51,
   "id": "018000ab",
   "metadata": {},
   "outputs": [
    {
     "data": {
      "text/plain": [
       "'Name: Rover, Kind: Dalmation , Age: 5'"
      ]
     },
     "execution_count": 51,
     "metadata": {},
     "output_type": "execute_result"
    }
   ],
   "source": [
    "dog_1.set_age(5)\n",
    "dog_1.get_details()"
   ]
  }
 ],
 "metadata": {
  "kernelspec": {
   "display_name": "Python 3 (ipykernel)",
   "language": "python",
   "name": "python3"
  },
  "language_info": {
   "codemirror_mode": {
    "name": "ipython",
    "version": 3
   },
   "file_extension": ".py",
   "mimetype": "text/x-python",
   "name": "python",
   "nbconvert_exporter": "python",
   "pygments_lexer": "ipython3",
   "version": "3.9.13"
  }
 },
 "nbformat": 4,
 "nbformat_minor": 5
}
