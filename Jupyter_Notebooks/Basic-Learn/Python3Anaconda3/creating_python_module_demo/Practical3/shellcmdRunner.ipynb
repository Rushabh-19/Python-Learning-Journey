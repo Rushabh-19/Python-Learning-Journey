{
 "cells": [
  {
   "cell_type": "code",
   "execution_count": 1,
   "id": "fa277845",
   "metadata": {},
   "outputs": [
    {
     "name": "stdout",
     "output_type": "stream",
     "text": [
      "********* __main__\n",
      "Name: Denver\n",
      "Department: HR\n",
      "Salary: 67000\n",
      "Organization: Skillsoft\n"
     ]
    }
   ],
   "source": [
    "!python C:\\Users\\r.girish.parmar\\Python3Anaconda3\\creating_python_module_demo\\Practical3\\main.py\n",
    "    #python main.py"
   ]
  },
  {
   "cell_type": "code",
   "execution_count": null,
   "id": "513af7a0",
   "metadata": {},
   "outputs": [],
   "source": []
  }
 ],
 "metadata": {
  "kernelspec": {
   "display_name": "Python 3 (ipykernel)",
   "language": "python",
   "name": "python3"
  },
  "language_info": {
   "codemirror_mode": {
    "name": "ipython",
    "version": 3
   },
   "file_extension": ".py",
   "mimetype": "text/x-python",
   "name": "python",
   "nbconvert_exporter": "python",
   "pygments_lexer": "ipython3",
   "version": "3.9.13"
  }
 },
 "nbformat": 4,
 "nbformat_minor": 5
}
