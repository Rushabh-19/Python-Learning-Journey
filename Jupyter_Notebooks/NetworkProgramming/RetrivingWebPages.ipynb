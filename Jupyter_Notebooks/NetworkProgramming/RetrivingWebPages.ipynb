{
 "cells": [
  {
   "cell_type": "markdown",
   "id": "338a7ebd-2b82-421b-93db-1c75f520f824",
   "metadata": {},
   "source": [
    "Using urllib Library\n",
    "===\n",
    "\n",
    "since HTTP is so common, we have a library that does all socket work for us and makes web pages look like file."
   ]
  },
  {
   "cell_type": "code",
   "execution_count": null,
   "id": "ccf25645-d81a-445a-9a81-6589c62e3293",
   "metadata": {},
   "outputs": [],
   "source": []
  },
  {
   "cell_type": "code",
   "execution_count": 1,
   "id": "0b61726d-b275-4884-aa9b-3d0987c2ecb4",
   "metadata": {},
   "outputs": [
    {
     "name": "stdout",
     "output_type": "stream",
     "text": [
      "But soft what light through yonder window breaks\n",
      "It is the east and Juliet is the sun\n",
      "Arise fair sun and kill the envious moon\n",
      "Who is already sick and pale with grief\n"
     ]
    }
   ],
   "source": [
    "import urllib.request , urllib.parse , urllib.error\n",
    "\n",
    "fhandle = urllib.request.urlopen('http://data.pr4e.org/romeo.txt')\n",
    "for lines in fhandle:\n",
    "    print (lines.decode().strip())"
   ]
  },
  {
   "cell_type": "code",
   "execution_count": null,
   "id": "afe4a7a5-3dae-4056-9d62-e8b476feda98",
   "metadata": {},
   "outputs": [],
   "source": []
  },
  {
   "cell_type": "code",
   "execution_count": null,
   "id": "f6a15dbe-e7a0-454d-93a6-ba08b279f8e4",
   "metadata": {},
   "outputs": [],
   "source": []
  },
  {
   "cell_type": "code",
   "execution_count": 2,
   "id": "cbaa4fa8-0666-4ed5-bb29-d1ee7985cbb1",
   "metadata": {},
   "outputs": [
    {
     "name": "stdout",
     "output_type": "stream",
     "text": [
      "{'But': 1, 'soft': 1, 'what': 1, 'light': 1, 'through': 1, 'yonder': 1, 'window': 1, 'breaks': 1, 'It': 1, 'is': 3, 'the': 3, 'east': 1, 'and': 3, 'Juliet': 1, 'sun': 2, 'Arise': 1, 'fair': 1, 'kill': 1, 'envious': 1, 'moon': 1, 'Who': 1, 'already': 1, 'sick': 1, 'pale': 1, 'with': 1, 'grief': 1}\n"
     ]
    }
   ],
   "source": [
    "import urllib.request , urllib.parse , urllib.error\n",
    "\n",
    "fhandle = urllib.request.urlopen('http://data.pr4e.org/romeo.txt')\n",
    "\n",
    "count = dict()\n",
    "for lines in fhandle:\n",
    "    words = lines.decode().split()\n",
    "    for word in words:\n",
    "        count[word] = count.get(word , 0) + 1\n",
    "print (count)"
   ]
  },
  {
   "cell_type": "code",
   "execution_count": null,
   "id": "d9c35e5e-2bdf-4a48-b3cf-d60939eae9b2",
   "metadata": {},
   "outputs": [],
   "source": []
  },
  {
   "cell_type": "markdown",
   "id": "4adedd8e-6d0e-47a1-9eb6-894dc8d2ba94",
   "metadata": {},
   "source": [
    "Reading Web Pages\n",
    "---"
   ]
  },
  {
   "cell_type": "code",
   "execution_count": 3,
   "id": "52c98e77-c7d5-4a2a-a91c-746e7311a999",
   "metadata": {},
   "outputs": [
    {
     "name": "stdout",
     "output_type": "stream",
     "text": [
      "<h1>The Second Page</h1>\n",
      "<p>\n",
      "If you like, you can switch back to the\n",
      "<a href=\"page1.htm\">\n",
      "First Page</a>.\n",
      "</p>\n"
     ]
    }
   ],
   "source": [
    "import urllib.request , urllib.parse , urllib.error\n",
    "\n",
    "fhandle = urllib.request.urlopen('http://www.dr-chuck.com/page2.html')\n",
    "for lines in fhandle:\n",
    "    print (lines.decode().strip())"
   ]
  },
  {
   "cell_type": "code",
   "execution_count": 4,
   "id": "8c2f6de9-65b9-4fbc-a56b-c467327269b9",
   "metadata": {},
   "outputs": [
    {
     "name": "stdout",
     "output_type": "stream",
     "text": [
      "<h1>The First Page</h1>\n",
      "<p>\n",
      "If you like, you can switch to the\n",
      "<a href=\"http://www.dr-chuck.com/page2.htm\">\n",
      "Second Page</a>.\n",
      "</p>\n"
     ]
    }
   ],
   "source": [
    "import urllib.request , urllib.parse , urllib.error\n",
    "\n",
    "fhandle = urllib.request.urlopen('http://www.dr-chuck.com/page1.html')\n",
    "for lines in fhandle:\n",
    "    print (lines.decode().strip())"
   ]
  },
  {
   "cell_type": "code",
   "execution_count": null,
   "id": "1ec48e96-8262-4ceb-a7fa-41aa737601ec",
   "metadata": {},
   "outputs": [],
   "source": []
  },
  {
   "cell_type": "code",
   "execution_count": null,
   "id": "6a4834e3-6a61-42ff-b274-ecf19383654e",
   "metadata": {},
   "outputs": [],
   "source": []
  }
 ],
 "metadata": {
  "kernelspec": {
   "display_name": "Python 3 (ipykernel)",
   "language": "python",
   "name": "python3"
  },
  "language_info": {
   "codemirror_mode": {
    "name": "ipython",
    "version": 3
   },
   "file_extension": ".py",
   "mimetype": "text/x-python",
   "name": "python",
   "nbconvert_exporter": "python",
   "pygments_lexer": "ipython3",
   "version": "3.11.5"
  }
 },
 "nbformat": 4,
 "nbformat_minor": 5
}
