{
 "cells": [
  {
   "cell_type": "markdown",
   "id": "21b70c93",
   "metadata": {},
   "source": [
    "<center><h1>Sets</h1></center>\n",
    "<li>curly Braces</li>\n",
    "<li>It is unordered and unIndexed</li>\n",
    "<li>dont have any duplicate items.</li>"
   ]
  },
  {
   "cell_type": "code",
   "execution_count": 1,
   "id": "b365a19a",
   "metadata": {},
   "outputs": [
    {
     "data": {
      "text/plain": [
       "['__and__',\n",
       " '__class__',\n",
       " '__class_getitem__',\n",
       " '__contains__',\n",
       " '__delattr__',\n",
       " '__dir__',\n",
       " '__doc__',\n",
       " '__eq__',\n",
       " '__format__',\n",
       " '__ge__',\n",
       " '__getattribute__',\n",
       " '__gt__',\n",
       " '__hash__',\n",
       " '__iand__',\n",
       " '__init__',\n",
       " '__init_subclass__',\n",
       " '__ior__',\n",
       " '__isub__',\n",
       " '__iter__',\n",
       " '__ixor__',\n",
       " '__le__',\n",
       " '__len__',\n",
       " '__lt__',\n",
       " '__ne__',\n",
       " '__new__',\n",
       " '__or__',\n",
       " '__rand__',\n",
       " '__reduce__',\n",
       " '__reduce_ex__',\n",
       " '__repr__',\n",
       " '__ror__',\n",
       " '__rsub__',\n",
       " '__rxor__',\n",
       " '__setattr__',\n",
       " '__sizeof__',\n",
       " '__str__',\n",
       " '__sub__',\n",
       " '__subclasshook__',\n",
       " '__xor__',\n",
       " 'add',\n",
       " 'clear',\n",
       " 'copy',\n",
       " 'difference',\n",
       " 'difference_update',\n",
       " 'discard',\n",
       " 'intersection',\n",
       " 'intersection_update',\n",
       " 'isdisjoint',\n",
       " 'issubset',\n",
       " 'issuperset',\n",
       " 'pop',\n",
       " 'remove',\n",
       " 'symmetric_difference',\n",
       " 'symmetric_difference_update',\n",
       " 'union',\n",
       " 'update']"
      ]
     },
     "execution_count": 1,
     "metadata": {},
     "output_type": "execute_result"
    }
   ],
   "source": [
    "dir(set())"
   ]
  },
  {
   "cell_type": "code",
   "execution_count": null,
   "id": "a6bace6d",
   "metadata": {},
   "outputs": [],
   "source": []
  },
  {
   "cell_type": "code",
   "execution_count": null,
   "id": "a179082b",
   "metadata": {},
   "outputs": [],
   "source": []
  },
  {
   "cell_type": "code",
   "execution_count": 2,
   "id": "0890ed77",
   "metadata": {},
   "outputs": [],
   "source": [
    "mySet = set()"
   ]
  },
  {
   "cell_type": "code",
   "execution_count": 3,
   "id": "79b02f26",
   "metadata": {},
   "outputs": [
    {
     "data": {
      "text/plain": [
       "set()"
      ]
     },
     "execution_count": 3,
     "metadata": {},
     "output_type": "execute_result"
    }
   ],
   "source": [
    "mySet"
   ]
  },
  {
   "cell_type": "code",
   "execution_count": 4,
   "id": "6410c146",
   "metadata": {},
   "outputs": [
    {
     "data": {
      "text/plain": [
       "{'elle', 'marry', 'nina', 'scott'}"
      ]
     },
     "execution_count": 4,
     "metadata": {},
     "output_type": "execute_result"
    }
   ],
   "source": [
    "names_set = {'marry' , 'nina' , 'elle' , 'scott'}\n",
    "names_set"
   ]
  },
  {
   "cell_type": "code",
   "execution_count": 5,
   "id": "136e73c0",
   "metadata": {},
   "outputs": [
    {
     "data": {
      "text/plain": [
       "set"
      ]
     },
     "execution_count": 5,
     "metadata": {},
     "output_type": "execute_result"
    }
   ],
   "source": [
    "type(names_set)"
   ]
  },
  {
   "cell_type": "code",
   "execution_count": 7,
   "id": "62eee977",
   "metadata": {},
   "outputs": [
    {
     "data": {
      "text/plain": [
       "{'elle', 'marry', 'nina', 'nora', 'scott'}"
      ]
     },
     "execution_count": 7,
     "metadata": {},
     "output_type": "execute_result"
    }
   ],
   "source": [
    "names_set = {'marry' , 'nora' , 'nina' , 'elle' , 'scott' , 'nora' , 'elle'}\n",
    "names_set"
   ]
  },
  {
   "cell_type": "code",
   "execution_count": 9,
   "id": "4ef6bb10",
   "metadata": {},
   "outputs": [
    {
     "data": {
      "text/plain": [
       "{10, 10.54, 'Alex', True}"
      ]
     },
     "execution_count": 9,
     "metadata": {},
     "output_type": "execute_result"
    }
   ],
   "source": [
    "mixed_set = {\"Alex\" , 10 , 10.54 , True}\n",
    "mixed_set"
   ]
  },
  {
   "cell_type": "code",
   "execution_count": 10,
   "id": "9eef7cfa",
   "metadata": {},
   "outputs": [
    {
     "data": {
      "text/plain": [
       "{(1, 2, 3), 10, 10.54, 'Alex', True}"
      ]
     },
     "execution_count": 10,
     "metadata": {},
     "output_type": "execute_result"
    }
   ],
   "source": [
    "another_mixed_set = {\"Alex\" , 10 , 10.54 , True , (1,2,3)}\n",
    "another_mixed_set"
   ]
  },
  {
   "cell_type": "markdown",
   "id": "a0f932ac",
   "metadata": {},
   "source": [
    "now lets used list instead of Tuple in the another_mixed_set"
   ]
  },
  {
   "cell_type": "code",
   "execution_count": 11,
   "id": "ab1585e7",
   "metadata": {
    "scrolled": true
   },
   "outputs": [
    {
     "ename": "TypeError",
     "evalue": "unhashable type: 'list'",
     "output_type": "error",
     "traceback": [
      "\u001b[1;31m---------------------------------------------------------------------------\u001b[0m",
      "\u001b[1;31mTypeError\u001b[0m                                 Traceback (most recent call last)",
      "\u001b[1;32m~\\AppData\\Local\\Temp\\ipykernel_11552\\3677488377.py\u001b[0m in \u001b[0;36m<module>\u001b[1;34m\u001b[0m\n\u001b[1;32m----> 1\u001b[1;33m \u001b[0mmixed_set\u001b[0m \u001b[1;33m=\u001b[0m \u001b[1;33m{\u001b[0m\u001b[1;34m\"Alex\"\u001b[0m \u001b[1;33m,\u001b[0m \u001b[1;36m10\u001b[0m \u001b[1;33m,\u001b[0m \u001b[1;36m10.54\u001b[0m \u001b[1;33m,\u001b[0m \u001b[1;32mTrue\u001b[0m \u001b[1;33m,\u001b[0m \u001b[1;33m[\u001b[0m\u001b[1;36m1\u001b[0m\u001b[1;33m,\u001b[0m\u001b[1;36m2\u001b[0m\u001b[1;33m,\u001b[0m\u001b[1;36m3\u001b[0m\u001b[1;33m]\u001b[0m\u001b[1;33m}\u001b[0m\u001b[1;33m\u001b[0m\u001b[1;33m\u001b[0m\u001b[0m\n\u001b[0m\u001b[0;32m      2\u001b[0m \u001b[0mmixed_set\u001b[0m\u001b[1;33m\u001b[0m\u001b[1;33m\u001b[0m\u001b[0m\n",
      "\u001b[1;31mTypeError\u001b[0m: unhashable type: 'list'"
     ]
    }
   ],
   "source": [
    "mixed_set = {\"Alex\" , 10 , 10.54 , True , [1,2,3]}\n",
    "mixed_set"
   ]
  },
  {
   "cell_type": "markdown",
   "id": "bfc789b9",
   "metadata": {},
   "source": [
    "1. The lesson from this little example is that in order for an element to be added to a list, that element has to be hashable.\n",
    "2. The set object is going to check for duplicates by comparing the hash values of different objects contained within.\n",
    "##### Why then is it that tuples can be contained within sets, and so are clearly hashable, while lists cannot?\n",
    "+ Tuples are immutable, lists are mutable. And the hash value of a mutable object can change while it's contained within the set. And this would lead to problems about consistency of the set. And that's why it's not okay to add a mutable object such as a list into a set."
   ]
  },
  {
   "cell_type": "code",
   "execution_count": null,
   "id": "cdcbceea",
   "metadata": {},
   "outputs": [],
   "source": []
  },
  {
   "cell_type": "code",
   "execution_count": null,
   "id": "57ce3801",
   "metadata": {},
   "outputs": [],
   "source": []
  },
  {
   "cell_type": "code",
   "execution_count": 21,
   "id": "cfb9202d",
   "metadata": {},
   "outputs": [
    {
     "data": {
      "text/plain": [
       "{'Apple', 'Asus', 'Dell', 'HP', 'Lenovo', 'MSI', 'Toshiba'}"
      ]
     },
     "execution_count": 21,
     "metadata": {},
     "output_type": "execute_result"
    }
   ],
   "source": [
    "laptop_set ={\"HP\", \"Apple\", \"Dell\", \"Asus\", \"Lenovo\", \"MSI\", \"Toshiba\"}\n",
    "laptop_set"
   ]
  },
  {
   "cell_type": "code",
   "execution_count": 22,
   "id": "c54876e2",
   "metadata": {},
   "outputs": [
    {
     "data": {
      "text/plain": [
       "{'Apple', 'Asus', 'Dell', 'Genpact', 'HP', 'Lenovo', 'MSI', 'Toshiba'}"
      ]
     },
     "execution_count": 22,
     "metadata": {},
     "output_type": "execute_result"
    }
   ],
   "source": [
    "laptop_set.add('Genpact')\n",
    "laptop_set"
   ]
  },
  {
   "cell_type": "code",
   "execution_count": 23,
   "id": "51e8e294",
   "metadata": {},
   "outputs": [
    {
     "data": {
      "text/plain": [
       "{'Apple', 'Asus', 'Dell', 'Genpact', 'HP', 'Lenovo', 'MSI', 'Toshiba'}"
      ]
     },
     "execution_count": 23,
     "metadata": {},
     "output_type": "execute_result"
    }
   ],
   "source": [
    "laptop_set.add('Apple')\n",
    "laptop_set"
   ]
  },
  {
   "cell_type": "markdown",
   "id": "58001083",
   "metadata": {},
   "source": [
    "as we can see that 'Apple' was already in the list so when we added it 2nd time, we didnt got any traceback but 2nd 'Apple' entry was not add because sets wont allow any duplicates "
   ]
  },
  {
   "cell_type": "code",
   "execution_count": 24,
   "id": "1a84206d",
   "metadata": {
    "scrolled": true
   },
   "outputs": [
    {
     "data": {
      "text/plain": [
       "{'Apple', 'Asus', 'Genpact', 'HP', 'Lenovo', 'MSI', 'Toshiba'}"
      ]
     },
     "execution_count": 24,
     "metadata": {},
     "output_type": "execute_result"
    }
   ],
   "source": [
    "laptop_set.discard('Dell')\n",
    "laptop_set"
   ]
  },
  {
   "cell_type": "code",
   "execution_count": 25,
   "id": "2719b5ff",
   "metadata": {},
   "outputs": [
    {
     "data": {
      "text/plain": [
       "{'Apple', 'Asus', 'Genpact', 'HP', 'MSI', 'Toshiba'}"
      ]
     },
     "execution_count": 25,
     "metadata": {},
     "output_type": "execute_result"
    }
   ],
   "source": [
    "laptop_set.remove('Lenovo')\n",
    "laptop_set"
   ]
  },
  {
   "cell_type": "code",
   "execution_count": 26,
   "id": "3f2a3776",
   "metadata": {},
   "outputs": [
    {
     "ename": "KeyError",
     "evalue": "'Lenovo'",
     "output_type": "error",
     "traceback": [
      "\u001b[1;31m---------------------------------------------------------------------------\u001b[0m",
      "\u001b[1;31mKeyError\u001b[0m                                  Traceback (most recent call last)",
      "\u001b[1;32m~\\AppData\\Local\\Temp\\ipykernel_11552\\833852092.py\u001b[0m in \u001b[0;36m<module>\u001b[1;34m\u001b[0m\n\u001b[1;32m----> 1\u001b[1;33m \u001b[0mlaptop_set\u001b[0m\u001b[1;33m.\u001b[0m\u001b[0mremove\u001b[0m\u001b[1;33m(\u001b[0m\u001b[1;34m'Lenovo'\u001b[0m\u001b[1;33m)\u001b[0m\u001b[1;33m\u001b[0m\u001b[1;33m\u001b[0m\u001b[0m\n\u001b[0m\u001b[0;32m      2\u001b[0m \u001b[0mlaptop_set\u001b[0m\u001b[1;33m\u001b[0m\u001b[1;33m\u001b[0m\u001b[0m\n",
      "\u001b[1;31mKeyError\u001b[0m: 'Lenovo'"
     ]
    }
   ],
   "source": [
    "laptop_set.remove('Lenovo')\n",
    "laptop_set"
   ]
  },
  {
   "cell_type": "code",
   "execution_count": 27,
   "id": "051e50e4",
   "metadata": {},
   "outputs": [
    {
     "data": {
      "text/plain": [
       "{'Apple', 'Asus', 'Genpact', 'HP', 'MSI', 'Toshiba'}"
      ]
     },
     "execution_count": 27,
     "metadata": {},
     "output_type": "execute_result"
    }
   ],
   "source": [
    "laptop_set.discard('Lenovo')\n",
    "laptop_set"
   ]
  },
  {
   "cell_type": "markdown",
   "id": "f5abb09a",
   "metadata": {},
   "source": [
    "here we can see that .discard() is forgiving when it comes to removing a non-existing element but .remove() gives a traceback when it comes to removing a non-existing element"
   ]
  },
  {
   "cell_type": "code",
   "execution_count": null,
   "id": "1a1c9f6f",
   "metadata": {},
   "outputs": [],
   "source": []
  },
  {
   "cell_type": "code",
   "execution_count": null,
   "id": "27dcba41",
   "metadata": {},
   "outputs": [],
   "source": []
  },
  {
   "cell_type": "markdown",
   "id": "6167bd61",
   "metadata": {},
   "source": [
    "### Sets Operations"
   ]
  },
  {
   "cell_type": "code",
   "execution_count": 1,
   "id": "b363e386",
   "metadata": {},
   "outputs": [],
   "source": [
    "student_set_1 = {\"Anita\", \"Emma\"}\n",
    "student_set_2 = {\"James\", \"Olivia\"}\n",
    "student_set_3 = {\"James\", \"Anita\"}"
   ]
  },
  {
   "cell_type": "code",
   "execution_count": 2,
   "id": "a7e3cd76",
   "metadata": {},
   "outputs": [
    {
     "data": {
      "text/plain": [
       "{'Anita', 'Emma', 'James', 'Olivia'}"
      ]
     },
     "execution_count": 2,
     "metadata": {},
     "output_type": "execute_result"
    }
   ],
   "source": [
    "student_set_1.union(student_set_2)"
   ]
  },
  {
   "cell_type": "markdown",
   "id": "d32491d4",
   "metadata": {},
   "source": [
    "###### A u B = A + B - (A n B)"
   ]
  },
  {
   "cell_type": "markdown",
   "id": "1985f459",
   "metadata": {},
   "source": [
    "###### A n B = common elements in both sets"
   ]
  },
  {
   "cell_type": "code",
   "execution_count": 3,
   "id": "84bcaed2",
   "metadata": {},
   "outputs": [
    {
     "data": {
      "text/plain": [
       "set()"
      ]
     },
     "execution_count": 3,
     "metadata": {},
     "output_type": "execute_result"
    }
   ],
   "source": [
    "student_set_1.intersection(student_set_2)"
   ]
  },
  {
   "cell_type": "code",
   "execution_count": 5,
   "id": "e3d11d5c",
   "metadata": {},
   "outputs": [
    {
     "data": {
      "text/plain": [
       "{'Anita'}"
      ]
     },
     "execution_count": 5,
     "metadata": {},
     "output_type": "execute_result"
    }
   ],
   "source": [
    "student_set_1.intersection(student_set_3)"
   ]
  },
  {
   "cell_type": "code",
   "execution_count": 6,
   "id": "4e7ff2de",
   "metadata": {},
   "outputs": [
    {
     "data": {
      "text/plain": [
       "{'James'}"
      ]
     },
     "execution_count": 6,
     "metadata": {},
     "output_type": "execute_result"
    }
   ],
   "source": [
    "student_set_2.intersection(student_set_3)"
   ]
  },
  {
   "cell_type": "code",
   "execution_count": 7,
   "id": "029676b4",
   "metadata": {},
   "outputs": [
    {
     "data": {
      "text/plain": [
       "{'Anita', 'Emma', 'James'}"
      ]
     },
     "execution_count": 7,
     "metadata": {},
     "output_type": "execute_result"
    }
   ],
   "source": [
    "student_set_1.union(student_set_3)"
   ]
  },
  {
   "cell_type": "code",
   "execution_count": null,
   "id": "84e69270",
   "metadata": {},
   "outputs": [],
   "source": []
  },
  {
   "cell_type": "code",
   "execution_count": 10,
   "id": "38fd6927",
   "metadata": {},
   "outputs": [
    {
     "data": {
      "text/plain": [
       "{'Emma'}"
      ]
     },
     "execution_count": 10,
     "metadata": {},
     "output_type": "execute_result"
    }
   ],
   "source": [
    "student_set_1.difference(student_set_3) #return elements that are present in set1(operand1) but not in set3(operand2)"
   ]
  },
  {
   "cell_type": "code",
   "execution_count": null,
   "id": "916ea602",
   "metadata": {},
   "outputs": [],
   "source": []
  },
  {
   "cell_type": "code",
   "execution_count": 12,
   "id": "0a239815",
   "metadata": {},
   "outputs": [
    {
     "data": {
      "text/plain": [
       "True"
      ]
     },
     "execution_count": 12,
     "metadata": {},
     "output_type": "execute_result"
    }
   ],
   "source": [
    "{1,2,3}.isdisjoint({4,5,6}) # returns true if nothing is common in both Operand Sets"
   ]
  },
  {
   "cell_type": "code",
   "execution_count": 15,
   "id": "d6e6a0f7",
   "metadata": {},
   "outputs": [
    {
     "data": {
      "text/plain": [
       "True"
      ]
     },
     "execution_count": 15,
     "metadata": {},
     "output_type": "execute_result"
    }
   ],
   "source": [
    "{10,20}.issubset({10,30,20}) # returns true if operand1 is a subset of operand2"
   ]
  },
  {
   "cell_type": "code",
   "execution_count": 17,
   "id": "7afe78b7",
   "metadata": {},
   "outputs": [
    {
     "data": {
      "text/plain": [
       "False"
      ]
     },
     "execution_count": 17,
     "metadata": {},
     "output_type": "execute_result"
    }
   ],
   "source": [
    "{10,20,30}.issubset({10,20})"
   ]
  },
  {
   "cell_type": "code",
   "execution_count": 18,
   "id": "0daa8ad7",
   "metadata": {},
   "outputs": [
    {
     "data": {
      "text/plain": [
       "True"
      ]
     },
     "execution_count": 18,
     "metadata": {},
     "output_type": "execute_result"
    }
   ],
   "source": [
    "{10,20,30}.issuperset({10,20})"
   ]
  },
  {
   "cell_type": "code",
   "execution_count": null,
   "id": "e8d50512",
   "metadata": {},
   "outputs": [],
   "source": []
  },
  {
   "cell_type": "markdown",
   "id": "65b3cf53",
   "metadata": {},
   "source": [
    "###### conversion of list and tuple to set\n",
    "we can identify set by:\n",
    "+ unique elements\n",
    "+ enclosed in curly braces"
   ]
  },
  {
   "cell_type": "code",
   "execution_count": 20,
   "id": "7790c618",
   "metadata": {},
   "outputs": [],
   "source": [
    "names_list = ['marry' , 'nora' , 'nina' , 'elle' , 'scott' , 'nora' , 'elle']\n",
    "names_tuple = ('marry' , 'nora' , 'nina' , 'elle' , 'scott' , 'nora' , 'elle')"
   ]
  },
  {
   "cell_type": "code",
   "execution_count": 23,
   "id": "7afcd037",
   "metadata": {},
   "outputs": [
    {
     "data": {
      "text/plain": [
       "{'elle', 'marry', 'nina', 'nora', 'scott'}"
      ]
     },
     "execution_count": 23,
     "metadata": {},
     "output_type": "execute_result"
    }
   ],
   "source": [
    "names_list_to_set = set(names_list)\n",
    "names_list_to_set"
   ]
  },
  {
   "cell_type": "code",
   "execution_count": 25,
   "id": "20cdc539",
   "metadata": {},
   "outputs": [
    {
     "data": {
      "text/plain": [
       "{'elle', 'marry', 'nina', 'nora', 'scott'}"
      ]
     },
     "execution_count": 25,
     "metadata": {},
     "output_type": "execute_result"
    }
   ],
   "source": [
    "names_tuple_to_set = set(names_tuple)\n",
    "names_tuple_to_set"
   ]
  },
  {
   "cell_type": "code",
   "execution_count": null,
   "id": "15ec4f1c",
   "metadata": {},
   "outputs": [],
   "source": []
  },
  {
   "cell_type": "code",
   "execution_count": null,
   "id": "3f072e58",
   "metadata": {},
   "outputs": [],
   "source": []
  },
  {
   "cell_type": "code",
   "execution_count": null,
   "id": "977b521a",
   "metadata": {},
   "outputs": [],
   "source": []
  },
  {
   "cell_type": "markdown",
   "id": "17437862",
   "metadata": {},
   "source": [
    "## Copy Operator in Sets"
   ]
  },
  {
   "cell_type": "markdown",
   "id": "5c5b4875",
   "metadata": {},
   "source": [
    "###### Shallow Copy"
   ]
  },
  {
   "cell_type": "code",
   "execution_count": 1,
   "id": "8730866c",
   "metadata": {},
   "outputs": [
    {
     "data": {
      "text/plain": [
       "{'blue', 'orange', 'pink', 'red', 'yellow'}"
      ]
     },
     "execution_count": 1,
     "metadata": {},
     "output_type": "execute_result"
    }
   ],
   "source": [
    "color_set = {'blue' , 'red' , 'yellow' , 'orange' , 'pink'}\n",
    "color_set"
   ]
  },
  {
   "cell_type": "code",
   "execution_count": 3,
   "id": "c6387c72",
   "metadata": {},
   "outputs": [
    {
     "name": "stdout",
     "output_type": "stream",
     "text": [
      "Original: {'orange', 'blue', 'yellow', 'pink', 'red'}\n",
      "Modified: {'orange', 'blue', 'yellow', 'pink', 'red'}\n"
     ]
    }
   ],
   "source": [
    "color_set_copy = color_set\n",
    "\n",
    "print('Original:', color_set)\n",
    "print('Modified:', color_set_copy)"
   ]
  },
  {
   "cell_type": "code",
   "execution_count": 4,
   "id": "19743c60",
   "metadata": {},
   "outputs": [
    {
     "name": "stdout",
     "output_type": "stream",
     "text": [
      "Original: {'orange', 'blue', 'yellow', 'pink'}\n",
      "Modified: {'orange', 'blue', 'yellow', 'pink'}\n"
     ]
    }
   ],
   "source": [
    "color_set_copy.remove('red')\n",
    "\n",
    "print('Original:', color_set)\n",
    "print('Modified:', color_set_copy)"
   ]
  },
  {
   "cell_type": "markdown",
   "id": "36ecbd1f",
   "metadata": {},
   "source": [
    "as we can see that it also removes the element from the main copy too."
   ]
  },
  {
   "cell_type": "markdown",
   "id": "040a8e33",
   "metadata": {},
   "source": [
    "###### Deep Copy"
   ]
  },
  {
   "cell_type": "markdown",
   "id": "7f0060b4",
   "metadata": {},
   "source": [
    "now lets use the .copy() operator"
   ]
  },
  {
   "cell_type": "code",
   "execution_count": 8,
   "id": "6001ece3",
   "metadata": {},
   "outputs": [
    {
     "data": {
      "text/plain": [
       "{'blue', 'orange', 'pink', 'red', 'yellow'}"
      ]
     },
     "execution_count": 8,
     "metadata": {},
     "output_type": "execute_result"
    }
   ],
   "source": [
    "color_set = {'blue' , 'red' , 'yellow' , 'orange' , 'pink'}\n",
    "color_set"
   ]
  },
  {
   "cell_type": "code",
   "execution_count": 9,
   "id": "6f0c57c6",
   "metadata": {},
   "outputs": [
    {
     "name": "stdout",
     "output_type": "stream",
     "text": [
      "Original: {'orange', 'blue', 'yellow', 'pink', 'red'}\n",
      "Modified: {'orange', 'blue', 'yellow', 'pink', 'red'}\n"
     ]
    }
   ],
   "source": [
    "color_set_copy = color_set.copy()\n",
    "\n",
    "print('Original:', color_set)\n",
    "print('Modified:', color_set_copy)"
   ]
  },
  {
   "cell_type": "code",
   "execution_count": 10,
   "id": "e454c326",
   "metadata": {},
   "outputs": [
    {
     "name": "stdout",
     "output_type": "stream",
     "text": [
      "Original: {'orange', 'blue', 'yellow', 'pink', 'red'}\n",
      "Modified: {'orange', 'blue', 'maganta', 'yellow', 'pink', 'red'}\n"
     ]
    }
   ],
   "source": [
    "color_set_copy.add('maganta')\n",
    "\n",
    "print('Original:', color_set)\n",
    "print('Modified:', color_set_copy)"
   ]
  },
  {
   "cell_type": "code",
   "execution_count": 11,
   "id": "8d010671",
   "metadata": {},
   "outputs": [
    {
     "ename": "TypeError",
     "evalue": "unhashable type: 'list'",
     "output_type": "error",
     "traceback": [
      "\u001b[1;31m---------------------------------------------------------------------------\u001b[0m",
      "\u001b[1;31mTypeError\u001b[0m                                 Traceback (most recent call last)",
      "\u001b[1;32m~\\AppData\\Local\\Temp\\ipykernel_21360\\4138956155.py\u001b[0m in \u001b[0;36m<module>\u001b[1;34m\u001b[0m\n\u001b[1;32m----> 1\u001b[1;33m \u001b[0mcolor_set\u001b[0m \u001b[1;33m=\u001b[0m \u001b[1;33m{\u001b[0m\u001b[1;34m'blue'\u001b[0m \u001b[1;33m,\u001b[0m \u001b[1;34m'red'\u001b[0m \u001b[1;33m,\u001b[0m \u001b[1;33m[\u001b[0m\u001b[1;34m'yellow'\u001b[0m \u001b[1;33m,\u001b[0m \u001b[1;34m'orange'\u001b[0m\u001b[1;33m]\u001b[0m \u001b[1;33m,\u001b[0m \u001b[1;34m'pink'\u001b[0m\u001b[1;33m}\u001b[0m\u001b[1;33m\u001b[0m\u001b[1;33m\u001b[0m\u001b[0m\n\u001b[0m",
      "\u001b[1;31mTypeError\u001b[0m: unhashable type: 'list'"
     ]
    }
   ],
   "source": [
    "color_set = {'blue' , 'red' , ['yellow' , 'orange'] , 'pink'}"
   ]
  },
  {
   "cell_type": "code",
   "execution_count": 12,
   "id": "b308c07b",
   "metadata": {},
   "outputs": [
    {
     "ename": "TypeError",
     "evalue": "unhashable type: 'set'",
     "output_type": "error",
     "traceback": [
      "\u001b[1;31m---------------------------------------------------------------------------\u001b[0m",
      "\u001b[1;31mTypeError\u001b[0m                                 Traceback (most recent call last)",
      "\u001b[1;32m~\\AppData\\Local\\Temp\\ipykernel_21360\\3195661698.py\u001b[0m in \u001b[0;36m<module>\u001b[1;34m\u001b[0m\n\u001b[1;32m----> 1\u001b[1;33m \u001b[0mcolor_set\u001b[0m \u001b[1;33m=\u001b[0m \u001b[1;33m{\u001b[0m\u001b[1;34m'blue'\u001b[0m \u001b[1;33m,\u001b[0m \u001b[1;34m'red'\u001b[0m \u001b[1;33m,\u001b[0m \u001b[1;33m{\u001b[0m\u001b[1;34m'yellow'\u001b[0m \u001b[1;33m,\u001b[0m \u001b[1;34m'orange'\u001b[0m\u001b[1;33m}\u001b[0m\u001b[1;33m,\u001b[0m \u001b[1;34m'pink'\u001b[0m\u001b[1;33m}\u001b[0m\u001b[1;33m\u001b[0m\u001b[1;33m\u001b[0m\u001b[0m\n\u001b[0m",
      "\u001b[1;31mTypeError\u001b[0m: unhashable type: 'set'"
     ]
    }
   ],
   "source": [
    "color_set = {'blue' , 'red' , {'yellow' , 'orange'}, 'pink'}"
   ]
  },
  {
   "cell_type": "code",
   "execution_count": 13,
   "id": "3285b145",
   "metadata": {},
   "outputs": [
    {
     "data": {
      "text/plain": [
       "{('yellow', 'orange'), 'blue', 'pink', 'red'}"
      ]
     },
     "execution_count": 13,
     "metadata": {},
     "output_type": "execute_result"
    }
   ],
   "source": [
    "color_set = {'blue' , 'red' , ('yellow' , 'orange') , 'pink'}\n",
    "color_set"
   ]
  },
  {
   "cell_type": "markdown",
   "id": "6b15662d",
   "metadata": {},
   "source": [
    "here as tuple are not mutable we cant edit the tuple from the set"
   ]
  },
  {
   "cell_type": "code",
   "execution_count": null,
   "id": "b8e5fa8b",
   "metadata": {},
   "outputs": [],
   "source": []
  }
 ],
 "metadata": {
  "kernelspec": {
   "display_name": "Python 3 (ipykernel)",
   "language": "python",
   "name": "python3"
  },
  "language_info": {
   "codemirror_mode": {
    "name": "ipython",
    "version": 3
   },
   "file_extension": ".py",
   "mimetype": "text/x-python",
   "name": "python",
   "nbconvert_exporter": "python",
   "pygments_lexer": "ipython3",
   "version": "3.9.13"
  }
 },
 "nbformat": 4,
 "nbformat_minor": 5
}
