{
 "cells": [
  {
   "cell_type": "markdown",
   "id": "6cb42edb",
   "metadata": {},
   "source": [
    "+ we had written a function which took in one argument, which was of type *args, and another argument which was an ordinary input argument. You can see this function called add_employees_to_department. The first input argument which is called employees has a star in front of it.The second one which is called department does not. We then saw that by invoking such a function, that second input argument effectively becomes keyword only.You can see that in the error message. There's no way to specify a value for the department in this example, except by invoking it in keyword-only fashion, and we then saw how to do that successfully. \n",
    "    + we've specified department equal to sales and the output is exactly what we wanted.\n",
    "+ However, at this point, we've still not accomplished one remaining task. We have not seen how to define a variable number of keyword-only arguments. \n",
    "+ If you stop to think about it, this is something that's not going to be supported by the *args format at all, because after all, all of the elements in that *args tuple are collectively treated as one input argument. So, we cannot specify their values using keywords. \n",
    "+ This requires the introduction of another Python construct, which you can now see on screen. This is the **kwargs construct."
   ]
  },
  {
   "cell_type": "code",
   "execution_count": null,
   "id": "6d9abbb2",
   "metadata": {},
   "outputs": [],
   "source": []
  },
  {
   "cell_type": "code",
   "execution_count": 1,
   "id": "013a34e7",
   "metadata": {},
   "outputs": [],
   "source": [
    "def add_employee_details(**kwargs):  #keyword arguments\n",
    "    print(type(kwargs))\n",
    "    print(kwargs)"
   ]
  },
  {
   "cell_type": "markdown",
   "id": "dcc8a8cf",
   "metadata": {},
   "source": [
    "+ Here we've defined a function called add_employee_details and it has one input argument called kwargs, K-W args, and this input argument is preceded by not one but two asterisks symbols. \n",
    "+ These two-star symbols are a form of the kwargs construct, and the KW here stands for keyword, and this is a way of specifying a variable number of keyword arguments. \n",
    "    + On a side note, this is typically how command line arguments are passed into a Python program."
   ]
  },
  {
   "cell_type": "code",
   "execution_count": 2,
   "id": "9ac1029d",
   "metadata": {},
   "outputs": [
    {
     "name": "stdout",
     "output_type": "stream",
     "text": [
      "<class 'dict'>\n",
      "{'name': 'anita', 'age': 34}\n"
     ]
    }
   ],
   "source": [
    "add_employee_details(name = 'anita' , age = 34)"
   ]
  },
  {
   "cell_type": "markdown",
   "id": "3d2a2dcf",
   "metadata": {},
   "source": [
    "+ we can see that the type of the kwargs input argument is a dictionary.\n",
    "    + We can see that from the class dict and the actual value of kwargs is a dictionary. \n",
    "+ There are two keys in this dictionary, name and age, and the corresponding values are Anita and 34. \n",
    "+ You can now see the close relationship between the *args and the **kwargs constructs."
   ]
  },
  {
   "cell_type": "markdown",
   "id": "9cccdad6",
   "metadata": {},
   "source": [
    "    When we invoke a function with a **kwargs input argument, we've got to specify it in keyword format. All of the names of those variables are going to be treated as keys in a dictionary, all the variable values are going to be treated as values in the dictionary and this is going to be packed up into a dictionary and passed in as the input argument."
   ]
  },
  {
   "cell_type": "markdown",
   "id": "170f5e79",
   "metadata": {},
   "source": [
    "With this context in mind, let's go back and redefine our employee_details_mapping dictionary. Then let's redefine add_employee_details."
   ]
  },
  {
   "cell_type": "code",
   "execution_count": null,
   "id": "953f5d96",
   "metadata": {},
   "outputs": [],
   "source": []
  },
  {
   "cell_type": "code",
   "execution_count": 3,
   "id": "16aa8052",
   "metadata": {},
   "outputs": [],
   "source": [
    "employee_details_mapping = {} #empty SET\n",
    "def add_employee_details(**employee_details):  # **employee_details --> returns: set \n",
    "    employee_details_mapping[employee_details['name']] = employee_details"
   ]
  },
  {
   "cell_type": "markdown",
   "id": "2749c6ee",
   "metadata": {},
   "source": [
    "+ here the key('name') of 'employee_details' set will be the key of the 'employee_details_mapping' set.\n",
    "+ as we know kwargs returns set; here 'employee_details' will be a set, this set will be stored as value of the 'employee_details_mapping' set."
   ]
  },
  {
   "cell_type": "code",
   "execution_count": null,
   "id": "9fe55c62",
   "metadata": {},
   "outputs": [],
   "source": []
  },
  {
   "cell_type": "code",
   "execution_count": 4,
   "id": "561269ef",
   "metadata": {},
   "outputs": [
    {
     "data": {
      "text/plain": [
       "{'anita': {'name': 'anita', 'age': 34}}"
      ]
     },
     "execution_count": 4,
     "metadata": {},
     "output_type": "execute_result"
    }
   ],
   "source": [
    "add_employee_details(name = 'anita' , age = 34)\n",
    "employee_details_mapping"
   ]
  },
  {
   "cell_type": "code",
   "execution_count": 5,
   "id": "9c2fb318",
   "metadata": {},
   "outputs": [
    {
     "data": {
      "text/plain": [
       "{'anita': {'name': 'anita', 'age': 34},\n",
       " 'ramon': {'name': 'ramon', 'age': 34, 'salary': 45000, 'department': 'HR'}}"
      ]
     },
     "execution_count": 5,
     "metadata": {},
     "output_type": "execute_result"
    }
   ],
   "source": [
    "add_employee_details(name = 'ramon' , age = 34 , salary = 45000 , department = 'HR')\n",
    "employee_details_mapping"
   ]
  },
  {
   "cell_type": "code",
   "execution_count": null,
   "id": "14cbbf16",
   "metadata": {},
   "outputs": [],
   "source": []
  },
  {
   "cell_type": "markdown",
   "id": "65b6ae95",
   "metadata": {},
   "source": [
    "We had seen in the previous demo that if we have a function with a *args input argument, then in order to pass in individual values from a list or a tuple, we have to unpack them. There's a similar idea in the case of a **kwargs input argument. Here on screen now, we already have a dictionary called nick_dict. This dictionary already has the key-value pairs corresponding to all of the attributes of the employee Nick. "
   ]
  },
  {
   "cell_type": "markdown",
   "id": "3adb5b9e",
   "metadata": {},
   "source": [
    "now lets pass a set as argument in the add_employee_details() function"
   ]
  },
  {
   "cell_type": "code",
   "execution_count": 6,
   "id": "c8f2f02c",
   "metadata": {},
   "outputs": [],
   "source": [
    "nick_dict = {\n",
    "    'name' : 'Nick' ,\n",
    "    'age' : 27,\n",
    "    'salary' : 40000,\n",
    "    'department' : 'operations'\n",
    "}"
   ]
  },
  {
   "cell_type": "code",
   "execution_count": 7,
   "id": "d3492259",
   "metadata": {},
   "outputs": [
    {
     "ename": "TypeError",
     "evalue": "add_employee_details() takes 0 positional arguments but 1 was given",
     "output_type": "error",
     "traceback": [
      "\u001b[1;31m---------------------------------------------------------------------------\u001b[0m",
      "\u001b[1;31mTypeError\u001b[0m                                 Traceback (most recent call last)",
      "\u001b[1;32m~\\AppData\\Local\\Temp\\ipykernel_14096\\547988545.py\u001b[0m in \u001b[0;36m<module>\u001b[1;34m\u001b[0m\n\u001b[1;32m----> 1\u001b[1;33m \u001b[0madd_employee_details\u001b[0m\u001b[1;33m(\u001b[0m\u001b[0mnick_dict\u001b[0m\u001b[1;33m)\u001b[0m\u001b[1;33m\u001b[0m\u001b[1;33m\u001b[0m\u001b[0m\n\u001b[0m\u001b[0;32m      2\u001b[0m \u001b[0memployee_details_mapping\u001b[0m\u001b[1;33m\u001b[0m\u001b[1;33m\u001b[0m\u001b[0m\n",
      "\u001b[1;31mTypeError\u001b[0m: add_employee_details() takes 0 positional arguments but 1 was given"
     ]
    }
   ],
   "source": [
    "add_employee_details(nick_dict)\n",
    "employee_details_mapping"
   ]
  },
  {
   "cell_type": "markdown",
   "id": "6e5f225e",
   "metadata": {},
   "source": [
    "+ that we have invoked add_employee_details, and we've directly passed in the nick_dict as the one input argument. However, this has resulted in the TypeError. The message tells us that add_employee_details takes 0 positional arguments but 1 was given. \n",
    "+ This also tells us that if you have an input argument which is of type **kwargs, you cannot invoke those arguments as positional arguments, you must specify their values only as keyword arguments."
   ]
  },
  {
   "cell_type": "markdown",
   "id": "4fa78677",
   "metadata": {},
   "source": [
    "+ Coming back to this specific problem we also have to unpack this dictionary before we invoke our function, and the syntax for unpacking is again the same as the syntax of packing."
   ]
  },
  {
   "cell_type": "code",
   "execution_count": 9,
   "id": "afb7e192",
   "metadata": {},
   "outputs": [
    {
     "data": {
      "text/plain": [
       "{'name': 'Nick', 'age': 27, 'salary': 40000, 'department': 'operations'}"
      ]
     },
     "execution_count": 9,
     "metadata": {},
     "output_type": "execute_result"
    }
   ],
   "source": [
    "nick_dict"
   ]
  },
  {
   "cell_type": "code",
   "execution_count": 10,
   "id": "8a8f170c",
   "metadata": {},
   "outputs": [
    {
     "data": {
      "text/plain": [
       "{'anita': {'name': 'anita', 'age': 34},\n",
       " 'ramon': {'name': 'ramon', 'age': 34, 'salary': 45000, 'department': 'HR'},\n",
       " 'Nick': {'name': 'Nick',\n",
       "  'age': 27,\n",
       "  'salary': 40000,\n",
       "  'department': 'operations'}}"
      ]
     },
     "execution_count": 10,
     "metadata": {},
     "output_type": "execute_result"
    }
   ],
   "source": [
    "add_employee_details(**nick_dict)\n",
    "employee_details_mapping"
   ]
  },
  {
   "cell_type": "markdown",
   "id": "b08983ac",
   "metadata": {},
   "source": [
    "+ We invoke add_employee_details and pack on two-star signs before passing in the dictionary.\n",
    "+ So, if you would like to pack a list or a tuple and send it into a *args input argument, you add on one asterisk. If you'd like to pack a dictionary and send it into a **kwargs input argument, you add two asterisks, and at this point when we hit Shift-Enter, there's no error.\n",
    "    + We can see that we do indeed have a dictionary in there for Nick and the corresponding value associated with the key Nick is the nick_dict that we just passed in. \n",
    "+ So again, if we'd like to specify a dictionary as the value for a **kwargs input argument, we have to unpack it using two-star marks."
   ]
  },
  {
   "cell_type": "code",
   "execution_count": null,
   "id": "ab1889ce",
   "metadata": {},
   "outputs": [],
   "source": []
  },
  {
   "cell_type": "code",
   "execution_count": null,
   "id": "ec3da46e",
   "metadata": {},
   "outputs": [],
   "source": []
  },
  {
   "cell_type": "markdown",
   "id": "f7aadcd7",
   "metadata": {},
   "source": [
    "    Let's round out this demo by understanding how we can implement a function which has two varargs inputs. The first of type *args, the second of type **kwargs."
   ]
  },
  {
   "cell_type": "code",
   "execution_count": 21,
   "id": "cae4b477",
   "metadata": {},
   "outputs": [],
   "source": [
    " def student_in_college(*student_names, **college_details): \n",
    "        print( \"student-- \") \n",
    "        for s in student_names: \n",
    "            print(student_names.index(s)+1 , s)\n",
    "        print() \n",
    "        print( \"College Details-- \")\n",
    "        for k , v in college_details.items():\n",
    "            print (f'{k} : {v}')"
   ]
  },
  {
   "cell_type": "markdown",
   "id": "aa8a9f52",
   "metadata": {},
   "source": [
    "here, \n",
    "+ first arg is varArg; we can add as many positional Arguments.\n",
    "+ second arg is kwArg; we can add as many keyword Argumnets \n",
    "note: \n",
    "+ if we are paasing list or tuple as postional arg in function, we will have to unpack it using one astrisk sign(*)\n",
    "    + eg. *lst_Student ; here lst_student is a list of students\n",
    "+ if we are passing set as keyword arg in function, will have to unpack it using two astrisk sign(**)\n",
    "    + eg. **college_details_set ; here college_details_set is a set with details of the college "
   ]
  },
  {
   "cell_type": "code",
   "execution_count": 22,
   "id": "24c0714d",
   "metadata": {},
   "outputs": [
    {
     "name": "stdout",
     "output_type": "stream",
     "text": [
      "student-- \n",
      "1 Alison\n",
      "2 Bob\n",
      "3 Charlie\n",
      "\n",
      "College Details-- \n",
      "name : Stanford\n",
      "city : Paio Aito\n"
     ]
    }
   ],
   "source": [
    "student_in_college ('Alison' , 'Bob' , 'Charlie' , name = \"Stanford\" , city = \"Paio Aito\")"
   ]
  },
  {
   "cell_type": "code",
   "execution_count": 24,
   "id": "d6dff98e",
   "metadata": {},
   "outputs": [],
   "source": [
    "lst_students = ['Alison' , 'Bob' , 'Charlie']\n",
    "college_details = {\n",
    "    'name' : \"Stanford\" , \n",
    "    'city' : \"Paio Aito\"\n",
    "}"
   ]
  },
  {
   "cell_type": "code",
   "execution_count": 26,
   "id": "f040fd55",
   "metadata": {},
   "outputs": [
    {
     "name": "stdout",
     "output_type": "stream",
     "text": [
      "student-- \n",
      "1 Alison\n",
      "2 Bob\n",
      "3 Charlie\n",
      "\n",
      "College Details-- \n",
      "name : Stanford\n",
      "city : Paio Aito\n"
     ]
    }
   ],
   "source": [
    "student_in_college(*lst_students , **college_details)  # here we are using unpacking method."
   ]
  },
  {
   "cell_type": "code",
   "execution_count": null,
   "id": "d1d97560",
   "metadata": {},
   "outputs": [],
   "source": []
  }
 ],
 "metadata": {
  "kernelspec": {
   "display_name": "Python 3 (ipykernel)",
   "language": "python",
   "name": "python3"
  },
  "language_info": {
   "codemirror_mode": {
    "name": "ipython",
    "version": 3
   },
   "file_extension": ".py",
   "mimetype": "text/x-python",
   "name": "python",
   "nbconvert_exporter": "python",
   "pygments_lexer": "ipython3",
   "version": "3.9.13"
  }
 },
 "nbformat": 4,
 "nbformat_minor": 5
}
