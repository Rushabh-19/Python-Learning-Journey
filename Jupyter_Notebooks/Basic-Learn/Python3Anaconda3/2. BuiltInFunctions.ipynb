{
 "cells": [
  {
   "cell_type": "markdown",
   "id": "a4414a40",
   "metadata": {},
   "source": [
    "<h1> Built-in Functions </h1>\n",
    "<ul>\n",
    "    <li>Do not need any additional statements to use</li>\n",
    "    <li>Defined in the Global Namespace</li>\n",
    "    <li>don't use variable name same as that of built-in functions</li>\n",
    "</ul>"
   ]
  },
  {
   "cell_type": "code",
   "execution_count": 1,
   "id": "6ba09adf",
   "metadata": {},
   "outputs": [
    {
     "data": {
      "text/plain": [
       "<function print>"
      ]
     },
     "execution_count": 1,
     "metadata": {},
     "output_type": "execute_result"
    }
   ],
   "source": [
    "print"
   ]
  },
  {
   "cell_type": "code",
   "execution_count": 10,
   "id": "58777bcd",
   "metadata": {},
   "outputs": [
    {
     "name": "stdout",
     "output_type": "stream",
     "text": [
      "\n"
     ]
    }
   ],
   "source": [
    "print()"
   ]
  },
  {
   "cell_type": "markdown",
   "id": "12c49765",
   "metadata": {},
   "source": [
    "here we invoked the functions with empty input arg."
   ]
  },
  {
   "cell_type": "code",
   "execution_count": 11,
   "id": "900e9781",
   "metadata": {
    "scrolled": true
   },
   "outputs": [
    {
     "name": "stdout",
     "output_type": "stream",
     "text": [
      "the final result is 4\n"
     ]
    }
   ],
   "source": [
    "result = 2 + 2\n",
    "print(\"the final result is\", result)"
   ]
  },
  {
   "cell_type": "code",
   "execution_count": 12,
   "id": "0edc6109",
   "metadata": {},
   "outputs": [
    {
     "name": "stdout",
     "output_type": "stream",
     "text": [
      "the final result is: 4\n"
     ]
    }
   ],
   "source": [
    "print (\"the final result is\", result, sep=\": \")\n"
   ]
  },
  {
   "cell_type": "markdown",
   "id": "1056f9f1",
   "metadata": {},
   "source": [
    "sep is a parameter for delimiting different inputs passed in"
   ]
  },
  {
   "cell_type": "code",
   "execution_count": 13,
   "id": "f715e713",
   "metadata": {},
   "outputs": [
    {
     "name": "stdout",
     "output_type": "stream",
     "text": [
      "the final result is: 4*"
     ]
    }
   ],
   "source": [
    "print (\"the final result is\", result, sep = \": \", end = \"*\")\n"
   ]
  },
  {
   "cell_type": "markdown",
   "id": "2769d9e4",
   "metadata": {},
   "source": [
    "end is a parameter for the ending of the print function output."
   ]
  },
  {
   "cell_type": "code",
   "execution_count": 14,
   "id": "213b96bf",
   "metadata": {},
   "outputs": [
    {
     "name": "stdout",
     "output_type": "stream",
     "text": [
      "The final result is 24\n"
     ]
    }
   ],
   "source": [
    "print (\"The final result is\", 4+20)"
   ]
  },
  {
   "cell_type": "code",
   "execution_count": 16,
   "id": "4095449b",
   "metadata": {},
   "outputs": [
    {
     "name": "stdout",
     "output_type": "stream",
     "text": [
      "The final result is 12.0\n"
     ]
    }
   ],
   "source": [
    "print (\"The final result is\", (4+20)/2 )"
   ]
  },
  {
   "cell_type": "code",
   "execution_count": 17,
   "id": "d8751d76",
   "metadata": {},
   "outputs": [
    {
     "data": {
      "text/plain": [
       "type"
      ]
     },
     "execution_count": 17,
     "metadata": {},
     "output_type": "execute_result"
    }
   ],
   "source": [
    "type"
   ]
  },
  {
   "cell_type": "code",
   "execution_count": 18,
   "id": "6878219e",
   "metadata": {},
   "outputs": [
    {
     "data": {
      "text/plain": [
       "str"
      ]
     },
     "execution_count": 18,
     "metadata": {},
     "output_type": "execute_result"
    }
   ],
   "source": [
    "type(\"This is a string\")"
   ]
  },
  {
   "cell_type": "markdown",
   "id": "ca4f6325",
   "metadata": {},
   "source": [
    "here we have invoked the type function using paranthesys '()'"
   ]
  },
  {
   "cell_type": "code",
   "execution_count": 19,
   "id": "c9fa9f2d",
   "metadata": {},
   "outputs": [
    {
     "data": {
      "text/plain": [
       "int"
      ]
     },
     "execution_count": 19,
     "metadata": {},
     "output_type": "execute_result"
    }
   ],
   "source": [
    "type(23)"
   ]
  },
  {
   "cell_type": "code",
   "execution_count": 20,
   "id": "1bebd8a8",
   "metadata": {},
   "outputs": [
    {
     "data": {
      "text/plain": [
       "float"
      ]
     },
     "execution_count": 20,
     "metadata": {},
     "output_type": "execute_result"
    }
   ],
   "source": [
    "type(23.3)"
   ]
  },
  {
   "cell_type": "code",
   "execution_count": 21,
   "id": "f225255a",
   "metadata": {},
   "outputs": [
    {
     "data": {
      "text/plain": [
       "bool"
      ]
     },
     "execution_count": 21,
     "metadata": {},
     "output_type": "execute_result"
    }
   ],
   "source": [
    "type(True)"
   ]
  },
  {
   "cell_type": "code",
   "execution_count": 22,
   "id": "01d4a527",
   "metadata": {},
   "outputs": [
    {
     "data": {
      "text/plain": [
       "<function len(obj, /)>"
      ]
     },
     "execution_count": 22,
     "metadata": {},
     "output_type": "execute_result"
    }
   ],
   "source": [
    "len"
   ]
  },
  {
   "cell_type": "markdown",
   "id": "badecaf5",
   "metadata": {},
   "source": [
    "len function will give us the length of the Obj.\n",
    "returns total number of characters"
   ]
  },
  {
   "cell_type": "code",
   "execution_count": 24,
   "id": "3d2c012a",
   "metadata": {},
   "outputs": [
    {
     "data": {
      "text/plain": [
       "33"
      ]
     },
     "execution_count": 24,
     "metadata": {},
     "output_type": "execute_result"
    }
   ],
   "source": [
    "len(\"Python is an interpreted language\")"
   ]
  },
  {
   "cell_type": "code",
   "execution_count": 25,
   "id": "a044b811",
   "metadata": {},
   "outputs": [
    {
     "data": {
      "text/plain": [
       "29"
      ]
     },
     "execution_count": 25,
     "metadata": {},
     "output_type": "execute_result"
    }
   ],
   "source": [
    "len(\"Python is an untyped language\")"
   ]
  },
  {
   "cell_type": "code",
   "execution_count": 26,
   "id": "b4b5ffb7",
   "metadata": {},
   "outputs": [
    {
     "data": {
      "text/plain": [
       "<function min>"
      ]
     },
     "execution_count": 26,
     "metadata": {},
     "output_type": "execute_result"
    }
   ],
   "source": [
    "min"
   ]
  },
  {
   "cell_type": "markdown",
   "id": "fed79b0c",
   "metadata": {},
   "source": [
    "min function will give us minimum value"
   ]
  },
  {
   "cell_type": "code",
   "execution_count": 27,
   "id": "53ade9db",
   "metadata": {},
   "outputs": [
    {
     "data": {
      "text/plain": [
       "-3.3"
      ]
     },
     "execution_count": 27,
     "metadata": {},
     "output_type": "execute_result"
    }
   ],
   "source": [
    "min(5.6, 2, 2.4, 1.2, -3.3)"
   ]
  },
  {
   "cell_type": "code",
   "execution_count": 28,
   "id": "27bc2404",
   "metadata": {},
   "outputs": [
    {
     "data": {
      "text/plain": [
       "<function max>"
      ]
     },
     "execution_count": 28,
     "metadata": {},
     "output_type": "execute_result"
    }
   ],
   "source": [
    "max"
   ]
  },
  {
   "cell_type": "markdown",
   "id": "9f6a2272",
   "metadata": {},
   "source": [
    "max function will give us the maximum value"
   ]
  },
  {
   "cell_type": "code",
   "execution_count": 29,
   "id": "560c5455",
   "metadata": {},
   "outputs": [
    {
     "data": {
      "text/plain": [
       "5.6"
      ]
     },
     "execution_count": 29,
     "metadata": {},
     "output_type": "execute_result"
    }
   ],
   "source": [
    "max(5.6, 2, 2.4, 1.2, -3.3)"
   ]
  },
  {
   "cell_type": "code",
   "execution_count": 30,
   "id": "1d352ccb",
   "metadata": {},
   "outputs": [
    {
     "data": {
      "text/plain": [
       "7"
      ]
     },
     "execution_count": 30,
     "metadata": {},
     "output_type": "execute_result"
    }
   ],
   "source": [
    "round(6.6)"
   ]
  },
  {
   "cell_type": "code",
   "execution_count": 31,
   "id": "8284007a",
   "metadata": {},
   "outputs": [
    {
     "data": {
      "text/plain": [
       "6"
      ]
     },
     "execution_count": 31,
     "metadata": {},
     "output_type": "execute_result"
    }
   ],
   "source": [
    "round(6.3)"
   ]
  },
  {
   "cell_type": "code",
   "execution_count": 32,
   "id": "b2719fbf",
   "metadata": {},
   "outputs": [
    {
     "data": {
      "text/plain": [
       "6"
      ]
     },
     "execution_count": 32,
     "metadata": {},
     "output_type": "execute_result"
    }
   ],
   "source": [
    "round(6.5)"
   ]
  },
  {
   "cell_type": "code",
   "execution_count": 33,
   "id": "782e8a8c",
   "metadata": {},
   "outputs": [
    {
     "data": {
      "text/plain": [
       "-6"
      ]
     },
     "execution_count": 33,
     "metadata": {},
     "output_type": "execute_result"
    }
   ],
   "source": [
    "round(-5.6)"
   ]
  },
  {
   "cell_type": "code",
   "execution_count": 34,
   "id": "29092568",
   "metadata": {},
   "outputs": [
    {
     "data": {
      "text/plain": [
       "-5"
      ]
     },
     "execution_count": 34,
     "metadata": {},
     "output_type": "execute_result"
    }
   ],
   "source": [
    "round(-5.4)"
   ]
  },
  {
   "cell_type": "code",
   "execution_count": 35,
   "id": "cdc19cb7",
   "metadata": {},
   "outputs": [
    {
     "data": {
      "text/plain": [
       "-6"
      ]
     },
     "execution_count": 35,
     "metadata": {},
     "output_type": "execute_result"
    }
   ],
   "source": [
    "round(-5.5)"
   ]
  },
  {
   "cell_type": "code",
   "execution_count": 36,
   "id": "d73c4a52",
   "metadata": {},
   "outputs": [
    {
     "data": {
      "text/plain": [
       "<function abs(x, /)>"
      ]
     },
     "execution_count": 36,
     "metadata": {},
     "output_type": "execute_result"
    }
   ],
   "source": [
    "abs"
   ]
  },
  {
   "cell_type": "markdown",
   "id": "ead70265",
   "metadata": {},
   "source": [
    "abs will return absolute value\n",
    "if arg is positive then output will same as of the arg\n",
    "else if arg is negative then output will be negate of that value. i.e. positive of the arg"
   ]
  },
  {
   "cell_type": "code",
   "execution_count": 38,
   "id": "029e4827",
   "metadata": {},
   "outputs": [
    {
     "data": {
      "text/plain": [
       "4.5"
      ]
     },
     "execution_count": 38,
     "metadata": {},
     "output_type": "execute_result"
    }
   ],
   "source": [
    "abs(4.5)"
   ]
  },
  {
   "cell_type": "code",
   "execution_count": 39,
   "id": "336338b5",
   "metadata": {},
   "outputs": [
    {
     "data": {
      "text/plain": [
       "4.5"
      ]
     },
     "execution_count": 39,
     "metadata": {},
     "output_type": "execute_result"
    }
   ],
   "source": [
    "abs(-4.5)"
   ]
  },
  {
   "cell_type": "code",
   "execution_count": 41,
   "id": "98ba4529",
   "metadata": {},
   "outputs": [
    {
     "data": {
      "text/plain": [
       "0"
      ]
     },
     "execution_count": 41,
     "metadata": {},
     "output_type": "execute_result"
    }
   ],
   "source": [
    "abs(0)"
   ]
  },
  {
   "cell_type": "markdown",
   "id": "66b32223",
   "metadata": {},
   "source": [
    "now come the input function which will get the input from the User"
   ]
  },
  {
   "cell_type": "code",
   "execution_count": 44,
   "id": "3978cac8",
   "metadata": {},
   "outputs": [
    {
     "name": "stdout",
     "output_type": "stream",
     "text": [
      "red\n"
     ]
    }
   ],
   "source": [
    "fav_color = input()"
   ]
  },
  {
   "cell_type": "markdown",
   "id": "c5898ddd",
   "metadata": {},
   "source": [
    "here we got the input 'red' from the used which is stored in the var fav_color"
   ]
  },
  {
   "cell_type": "code",
   "execution_count": 45,
   "id": "85932ba1",
   "metadata": {},
   "outputs": [
    {
     "data": {
      "text/plain": [
       "'red'"
      ]
     },
     "execution_count": 45,
     "metadata": {},
     "output_type": "execute_result"
    }
   ],
   "source": [
    "fav_color"
   ]
  },
  {
   "cell_type": "markdown",
   "id": "fffdf8fe",
   "metadata": {},
   "source": [
    "we can add prompt messages too in the input functions"
   ]
  },
  {
   "cell_type": "code",
   "execution_count": 46,
   "id": "c7166943",
   "metadata": {},
   "outputs": [
    {
     "name": "stdout",
     "output_type": "stream",
     "text": [
      "Please enter your favourite colour: violet\n"
     ]
    }
   ],
   "source": [
    "fav_color = input('Please enter your favourite colour: ')"
   ]
  },
  {
   "cell_type": "code",
   "execution_count": 48,
   "id": "b77648e2",
   "metadata": {},
   "outputs": [
    {
     "name": "stdout",
     "output_type": "stream",
     "text": [
      "users favourite color is : violet\n"
     ]
    }
   ],
   "source": [
    "print(\"users favourite color is \", fav_color, sep=\": \")"
   ]
  },
  {
   "cell_type": "markdown",
   "id": "86935420",
   "metadata": {},
   "source": [
    "the input data which is store will always be a string"
   ]
  },
  {
   "cell_type": "code",
   "execution_count": 49,
   "id": "8058641f",
   "metadata": {},
   "outputs": [
    {
     "data": {
      "text/plain": [
       "str"
      ]
     },
     "execution_count": 49,
     "metadata": {},
     "output_type": "execute_result"
    }
   ],
   "source": [
    "type(fav_color)"
   ]
  }
 ],
 "metadata": {
  "kernelspec": {
   "display_name": "Python 3 (ipykernel)",
   "language": "python",
   "name": "python3"
  },
  "language_info": {
   "codemirror_mode": {
    "name": "ipython",
    "version": 3
   },
   "file_extension": ".py",
   "mimetype": "text/x-python",
   "name": "python",
   "nbconvert_exporter": "python",
   "pygments_lexer": "ipython3",
   "version": "3.9.13"
  }
 },
 "nbformat": 4,
 "nbformat_minor": 5
}
